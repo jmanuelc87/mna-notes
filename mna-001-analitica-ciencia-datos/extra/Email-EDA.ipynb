{
 "cells": [
  {
   "cell_type": "code",
   "execution_count": 4,
   "metadata": {},
   "outputs": [
    {
     "name": "stdout",
     "output_type": "stream",
     "text": [
      "Requirement already satisfied: jupysql in c:\\users\\jmcar\\anaconda3\\lib\\site-packages (0.10.2)\n",
      "Requirement already satisfied: prettytable in c:\\users\\jmcar\\anaconda3\\lib\\site-packages (from jupysql) (3.9.0)\n",
      "Requirement already satisfied: ipython in c:\\users\\jmcar\\anaconda3\\lib\\site-packages (from jupysql) (8.12.0)\n",
      "Requirement already satisfied: sqlalchemy in c:\\users\\jmcar\\anaconda3\\lib\\site-packages (from jupysql) (1.4.49)\n",
      "Requirement already satisfied: sqlparse in c:\\users\\jmcar\\anaconda3\\lib\\site-packages (from jupysql) (0.4.4)\n",
      "Requirement already satisfied: ipython-genutils>=0.1.0 in c:\\users\\jmcar\\anaconda3\\lib\\site-packages (from jupysql) (0.2.0)\n",
      "Requirement already satisfied: jinja2 in c:\\users\\jmcar\\anaconda3\\lib\\site-packages (from jupysql) (3.1.2)\n",
      "Requirement already satisfied: sqlglot>=11.3.7 in c:\\users\\jmcar\\anaconda3\\lib\\site-packages (from jupysql) (18.8.0)\n",
      "Requirement already satisfied: ploomber-core>=0.2.7 in c:\\users\\jmcar\\anaconda3\\lib\\site-packages (from jupysql) (0.2.14)\n",
      "Requirement already satisfied: jupysql-plugin in c:\\users\\jmcar\\anaconda3\\lib\\site-packages (from jupysql) (0.2.5)\n",
      "Requirement already satisfied: click in c:\\users\\jmcar\\appdata\\roaming\\python\\python311\\site-packages (from ploomber-core>=0.2.7->jupysql) (8.1.7)\n",
      "Requirement already satisfied: pyyaml in c:\\users\\jmcar\\appdata\\roaming\\python\\python311\\site-packages (from ploomber-core>=0.2.7->jupysql) (6.0.1)\n",
      "Requirement already satisfied: posthog in c:\\users\\jmcar\\anaconda3\\lib\\site-packages (from ploomber-core>=0.2.7->jupysql) (3.0.2)\n",
      "Requirement already satisfied: backcall in c:\\users\\jmcar\\anaconda3\\lib\\site-packages (from ipython->jupysql) (0.2.0)\n",
      "Requirement already satisfied: decorator in c:\\users\\jmcar\\anaconda3\\lib\\site-packages (from ipython->jupysql) (5.1.1)\n",
      "Requirement already satisfied: jedi>=0.16 in c:\\users\\jmcar\\anaconda3\\lib\\site-packages (from ipython->jupysql) (0.18.1)\n",
      "Requirement already satisfied: matplotlib-inline in c:\\users\\jmcar\\anaconda3\\lib\\site-packages (from ipython->jupysql) (0.1.6)\n",
      "Requirement already satisfied: pickleshare in c:\\users\\jmcar\\anaconda3\\lib\\site-packages (from ipython->jupysql) (0.7.5)\n",
      "Requirement already satisfied: prompt-toolkit!=3.0.37,<3.1.0,>=3.0.30 in c:\\users\\jmcar\\anaconda3\\lib\\site-packages (from ipython->jupysql) (3.0.36)\n",
      "Requirement already satisfied: pygments>=2.4.0 in c:\\users\\jmcar\\anaconda3\\lib\\site-packages (from ipython->jupysql) (2.15.1)\n",
      "Requirement already satisfied: stack-data in c:\\users\\jmcar\\anaconda3\\lib\\site-packages (from ipython->jupysql) (0.2.0)\n",
      "Requirement already satisfied: traitlets>=5 in c:\\users\\jmcar\\anaconda3\\lib\\site-packages (from ipython->jupysql) (5.7.1)\n",
      "Requirement already satisfied: colorama in c:\\users\\jmcar\\anaconda3\\lib\\site-packages (from ipython->jupysql) (0.4.6)\n",
      "Requirement already satisfied: MarkupSafe>=2.0 in c:\\users\\jmcar\\anaconda3\\lib\\site-packages (from jinja2->jupysql) (2.1.1)\n",
      "Requirement already satisfied: wcwidth in c:\\users\\jmcar\\anaconda3\\lib\\site-packages (from prettytable->jupysql) (0.2.5)\n",
      "Requirement already satisfied: greenlet!=0.4.17 in c:\\users\\jmcar\\anaconda3\\lib\\site-packages (from sqlalchemy->jupysql) (2.0.1)\n",
      "Requirement already satisfied: parso<0.9.0,>=0.8.0 in c:\\users\\jmcar\\anaconda3\\lib\\site-packages (from jedi>=0.16->ipython->jupysql) (0.8.3)\n",
      "Requirement already satisfied: requests<3.0,>=2.7 in c:\\users\\jmcar\\anaconda3\\lib\\site-packages (from posthog->ploomber-core>=0.2.7->jupysql) (2.31.0)\n",
      "Requirement already satisfied: six>=1.5 in c:\\users\\jmcar\\anaconda3\\lib\\site-packages (from posthog->ploomber-core>=0.2.7->jupysql) (1.16.0)\n",
      "Requirement already satisfied: monotonic>=1.5 in c:\\users\\jmcar\\anaconda3\\lib\\site-packages (from posthog->ploomber-core>=0.2.7->jupysql) (1.6)\n",
      "Requirement already satisfied: backoff>=1.10.0 in c:\\users\\jmcar\\anaconda3\\lib\\site-packages (from posthog->ploomber-core>=0.2.7->jupysql) (2.2.1)\n",
      "Requirement already satisfied: python-dateutil>2.1 in c:\\users\\jmcar\\anaconda3\\lib\\site-packages (from posthog->ploomber-core>=0.2.7->jupysql) (2.8.2)\n",
      "Requirement already satisfied: executing in c:\\users\\jmcar\\anaconda3\\lib\\site-packages (from stack-data->ipython->jupysql) (0.8.3)\n",
      "Requirement already satisfied: asttokens in c:\\users\\jmcar\\anaconda3\\lib\\site-packages (from stack-data->ipython->jupysql) (2.0.5)\n",
      "Requirement already satisfied: pure-eval in c:\\users\\jmcar\\anaconda3\\lib\\site-packages (from stack-data->ipython->jupysql) (0.2.2)\n",
      "Requirement already satisfied: charset-normalizer<4,>=2 in c:\\users\\jmcar\\anaconda3\\lib\\site-packages (from requests<3.0,>=2.7->posthog->ploomber-core>=0.2.7->jupysql) (2.0.4)\n",
      "Requirement already satisfied: idna<4,>=2.5 in c:\\users\\jmcar\\anaconda3\\lib\\site-packages (from requests<3.0,>=2.7->posthog->ploomber-core>=0.2.7->jupysql) (3.4)\n",
      "Requirement already satisfied: urllib3<3,>=1.21.1 in c:\\users\\jmcar\\anaconda3\\lib\\site-packages (from requests<3.0,>=2.7->posthog->ploomber-core>=0.2.7->jupysql) (1.26.16)\n",
      "Requirement already satisfied: certifi>=2017.4.17 in c:\\users\\jmcar\\anaconda3\\lib\\site-packages (from requests<3.0,>=2.7->posthog->ploomber-core>=0.2.7->jupysql) (2023.7.22)\n",
      "Note: you may need to restart the kernel to use updated packages.\n",
      "Requirement already satisfied: mailbox in c:\\users\\jmcar\\anaconda3\\lib\\site-packages (0.4)\n",
      "Note: you may need to restart the kernel to use updated packages.\n"
     ]
    }
   ],
   "source": [
    "%pip install jupysql\n",
    "%pip install mailbox"
   ]
  },
  {
   "cell_type": "code",
   "execution_count": 5,
   "metadata": {},
   "outputs": [],
   "source": [
    "%config SqlMagic.autopandas = True\n",
    "%config SqlMagic.feedback = False\n",
    "%config SqlMagic.displaycon = False"
   ]
  },
  {
   "cell_type": "code",
   "execution_count": 6,
   "metadata": {},
   "outputs": [],
   "source": [
    "%load_ext sql"
   ]
  },
  {
   "cell_type": "code",
   "execution_count": 73,
   "metadata": {},
   "outputs": [],
   "source": [
    "import re\n",
    "import csv\n",
    "import duckdb\n",
    "import numpy as np\n",
    "import pandas as pd\n",
    "import matplotlib.pyplot as plt\n",
    "\n",
    "%sql duckdb:///../datasets/email.db"
   ]
  },
  {
   "cell_type": "code",
   "execution_count": 8,
   "metadata": {},
   "outputs": [],
   "source": [
    "import mailbox\n",
    "\n",
    "mboxfile = \"C:\\\\Users\\\\jmcar\\\\Downloads\\\\correos.mbox\"\n",
    "mbox = mailbox.mbox(mboxfile)"
   ]
  },
  {
   "cell_type": "code",
   "execution_count": 57,
   "metadata": {},
   "outputs": [
    {
     "name": "stdout",
     "output_type": "stream",
     "text": [
      "X-GM-THRID\n",
      "X-Gmail-Labels\n",
      "Delivered-To\n",
      "Received\n",
      "X-Received\n",
      "ARC-Seal\n",
      "ARC-Message-Signature\n",
      "ARC-Authentication-Results\n",
      "Return-Path\n",
      "Received\n",
      "Received-SPF\n",
      "Authentication-Results\n",
      "DKIM-Signature\n",
      "X-Google-DKIM-Signature\n",
      "X-Gm-Message-State\n",
      "X-Google-Smtp-Source\n",
      "MIME-Version\n",
      "X-Received\n",
      "Date\n",
      "Reply-To\n",
      "X-Google-Id\n",
      "Feedback-ID\n",
      "X-Notifications\n",
      "X-Notifications-Bounce-Info\n",
      "Message-ID\n",
      "Subject\n",
      "From\n",
      "To\n",
      "Content-Type\n"
     ]
    },
    {
     "data": {
      "text/plain": [
       "2291"
      ]
     },
     "execution_count": 57,
     "metadata": {},
     "output_type": "execute_result"
    }
   ],
   "source": [
    "for key in mbox[0].keys():\n",
    "    print(key)\n"
   ]
  },
  {
   "cell_type": "code",
   "execution_count": 20,
   "metadata": {},
   "outputs": [
    {
     "data": {
      "text/html": [
       "<div>\n",
       "<style scoped>\n",
       "    .dataframe tbody tr th:only-of-type {\n",
       "        vertical-align: middle;\n",
       "    }\n",
       "\n",
       "    .dataframe tbody tr th {\n",
       "        vertical-align: top;\n",
       "    }\n",
       "\n",
       "    .dataframe thead th {\n",
       "        text-align: right;\n",
       "    }\n",
       "</style>\n",
       "<table border=\"1\" class=\"dataframe\">\n",
       "  <thead>\n",
       "    <tr style=\"text-align: right;\">\n",
       "      <th></th>\n",
       "      <th>Count</th>\n",
       "    </tr>\n",
       "  </thead>\n",
       "  <tbody>\n",
       "  </tbody>\n",
       "</table>\n",
       "</div>"
      ],
      "text/plain": [
       "Empty DataFrame\n",
       "Columns: [Count]\n",
       "Index: []"
      ]
     },
     "execution_count": 20,
     "metadata": {},
     "output_type": "execute_result"
    }
   ],
   "source": [
    "%%sql\n",
    "create table if not exists mailbox (\n",
    "    subject text,\n",
    "    from_person text,\n",
    "    date text,\n",
    "    to_person text,\n",
    "    labels text,\n",
    "    gm_third text\n",
    ")"
   ]
  },
  {
   "cell_type": "code",
   "execution_count": 58,
   "metadata": {},
   "outputs": [
    {
     "data": {
      "text/html": [
       "<div>\n",
       "<style scoped>\n",
       "    .dataframe tbody tr th:only-of-type {\n",
       "        vertical-align: middle;\n",
       "    }\n",
       "\n",
       "    .dataframe tbody tr th {\n",
       "        vertical-align: top;\n",
       "    }\n",
       "\n",
       "    .dataframe thead th {\n",
       "        text-align: right;\n",
       "    }\n",
       "</style>\n",
       "<table border=\"1\" class=\"dataframe\">\n",
       "  <thead>\n",
       "    <tr style=\"text-align: right;\">\n",
       "      <th></th>\n",
       "      <th>Count</th>\n",
       "    </tr>\n",
       "  </thead>\n",
       "  <tbody>\n",
       "    <tr>\n",
       "      <th>0</th>\n",
       "      <td>6586</td>\n",
       "    </tr>\n",
       "  </tbody>\n",
       "</table>\n",
       "</div>"
      ],
      "text/plain": [
       "   Count\n",
       "0   6586"
      ]
     },
     "execution_count": 58,
     "metadata": {},
     "output_type": "execute_result"
    }
   ],
   "source": [
    "%%sql\n",
    "\n",
    "truncate mailbox"
   ]
  },
  {
   "cell_type": "code",
   "execution_count": 60,
   "metadata": {},
   "outputs": [],
   "source": [
    "con = duckdb.connect('../datasets/email.db')\n",
    "\n",
    "for (key, message) in mbox.items():\n",
    "    # print(type(message['subject']), type(message['from']), type(message['date']), type(message['to']), type(message['X-Gmail-Labels']), type(message['X-GM-THRID']))\n",
    "    con.execute(\"insert into mailbox values (?, ?, ?, ?, ?, ?)\", [message['subject'].__str__(), message['from'], message['date'], message['to'], message['X-Gmail-Labels'], message['X-GM-THRID']])\n"
   ]
  },
  {
   "cell_type": "code",
   "execution_count": 61,
   "metadata": {},
   "outputs": [
    {
     "data": {
      "text/html": [
       "<div>\n",
       "<style scoped>\n",
       "    .dataframe tbody tr th:only-of-type {\n",
       "        vertical-align: middle;\n",
       "    }\n",
       "\n",
       "    .dataframe tbody tr th {\n",
       "        vertical-align: top;\n",
       "    }\n",
       "\n",
       "    .dataframe thead th {\n",
       "        text-align: right;\n",
       "    }\n",
       "</style>\n",
       "<table border=\"1\" class=\"dataframe\">\n",
       "  <thead>\n",
       "    <tr style=\"text-align: right;\">\n",
       "      <th></th>\n",
       "      <th>count_star()</th>\n",
       "    </tr>\n",
       "  </thead>\n",
       "  <tbody>\n",
       "    <tr>\n",
       "      <th>0</th>\n",
       "      <td>2291</td>\n",
       "    </tr>\n",
       "  </tbody>\n",
       "</table>\n",
       "</div>"
      ],
      "text/plain": [
       "   count_star()\n",
       "0          2291"
      ]
     },
     "execution_count": 61,
     "metadata": {},
     "output_type": "execute_result"
    }
   ],
   "source": [
    "%%sql\n",
    "\n",
    "select count(*) from mailbox"
   ]
  },
  {
   "cell_type": "code",
   "execution_count": 62,
   "metadata": {},
   "outputs": [],
   "source": [
    "%sql mailbox_df << select * from mailbox"
   ]
  },
  {
   "cell_type": "code",
   "execution_count": 68,
   "metadata": {},
   "outputs": [
    {
     "data": {
      "text/plain": [
       "Timestamp('2023-09-28 01:55:17+0000', tz='UTC')"
      ]
     },
     "execution_count": 68,
     "metadata": {},
     "output_type": "execute_result"
    }
   ],
   "source": [
    "mailbox_df['date'] = mailbox_df['date'].apply(lambda x: pd.to_datetime(x, errors='coerce', utc=True))"
   ]
  },
  {
   "cell_type": "code",
   "execution_count": 69,
   "metadata": {},
   "outputs": [],
   "source": [
    "mailbox_df = mailbox_df[mailbox_df['date'].notna()]"
   ]
  },
  {
   "cell_type": "code",
   "execution_count": 70,
   "metadata": {},
   "outputs": [],
   "source": [
    "mailbox_df.to_parquet('../datasets/email.parquet')"
   ]
  },
  {
   "cell_type": "code",
   "execution_count": 71,
   "metadata": {},
   "outputs": [
    {
     "name": "stdout",
     "output_type": "stream",
     "text": [
      "<class 'pandas.core.frame.DataFrame'>\n",
      "Int64Index: 2290 entries, 0 to 2290\n",
      "Data columns (total 6 columns):\n",
      " #   Column       Non-Null Count  Dtype              \n",
      "---  ------       --------------  -----              \n",
      " 0   subject      2290 non-null   object             \n",
      " 1   from_person  2290 non-null   object             \n",
      " 2   date         2290 non-null   datetime64[ns, UTC]\n",
      " 3   to_person    2265 non-null   object             \n",
      " 4   labels       2290 non-null   object             \n",
      " 5   gm_third     2290 non-null   object             \n",
      "dtypes: datetime64[ns, UTC](1), object(5)\n",
      "memory usage: 125.2+ KB\n"
     ]
    }
   ],
   "source": [
    "mailbox_df.info()"
   ]
  },
  {
   "cell_type": "code",
   "execution_count": 72,
   "metadata": {},
   "outputs": [
    {
     "data": {
      "text/html": [
       "<div>\n",
       "<style scoped>\n",
       "    .dataframe tbody tr th:only-of-type {\n",
       "        vertical-align: middle;\n",
       "    }\n",
       "\n",
       "    .dataframe tbody tr th {\n",
       "        vertical-align: top;\n",
       "    }\n",
       "\n",
       "    .dataframe thead th {\n",
       "        text-align: right;\n",
       "    }\n",
       "</style>\n",
       "<table border=\"1\" class=\"dataframe\">\n",
       "  <thead>\n",
       "    <tr style=\"text-align: right;\">\n",
       "      <th></th>\n",
       "      <th>subject</th>\n",
       "      <th>from_person</th>\n",
       "      <th>date</th>\n",
       "      <th>to_person</th>\n",
       "      <th>labels</th>\n",
       "      <th>gm_third</th>\n",
       "    </tr>\n",
       "  </thead>\n",
       "  <tbody>\n",
       "    <tr>\n",
       "      <th>0</th>\n",
       "      <td>=?UTF-8?Q?Protege_tu_cuenta_de_administrador_d...</td>\n",
       "      <td>The Google Cloud Team &lt;cloud-noreply@google.com&gt;</td>\n",
       "      <td>2023-09-28 22:26:48+00:00</td>\n",
       "      <td>jm.carb@gmail.com</td>\n",
       "      <td>=?UTF-8?Q?Importante,Papelera,Abierto,Categor=...</td>\n",
       "      <td>1778321991247361539</td>\n",
       "    </tr>\n",
       "    <tr>\n",
       "      <th>1</th>\n",
       "      <td>=?UTF-8?B?VHUgcGVkaWRvIGRlIEFtYXpvbi5jb20ubXgg...</td>\n",
       "      <td>\"Amazon.com.mx\" &lt;shipment-tracking@amazon.com.mx&gt;</td>\n",
       "      <td>2023-09-28 01:55:17+00:00</td>\n",
       "      <td>jm.carb@gmail.com</td>\n",
       "      <td>=?UTF-8?Q?Categor=C3=ADa_Compras,Importante,Pa...</td>\n",
       "      <td>1778244510688553499</td>\n",
       "    </tr>\n",
       "    <tr>\n",
       "      <th>2</th>\n",
       "      <td>=?utf-8?Q?Important=20Update=3A=20Clarificatio...</td>\n",
       "      <td>=?utf-8?Q?Team=20Lens?= &lt;noreply@k8slens.dev&gt;</td>\n",
       "      <td>2023-09-27 20:58:27+00:00</td>\n",
       "      <td>&lt;jm.carb@gmail.com&gt;</td>\n",
       "      <td>=?UTF-8?Q?Importante,Papelera,Abierto,Categor=...</td>\n",
       "      <td>1778225843025157777</td>\n",
       "    </tr>\n",
       "    <tr>\n",
       "      <th>3</th>\n",
       "      <td>Hurry! Your cart is about to expire!</td>\n",
       "      <td>Yahboom &lt;market@yahboom.com&gt;</td>\n",
       "      <td>2023-09-29 16:43:38+00:00</td>\n",
       "      <td>jm.carb@gmail.com</td>\n",
       "      <td>=?UTF-8?Q?Importante,Papelera,Abierto,Categor=...</td>\n",
       "      <td>1778390998550442919</td>\n",
       "    </tr>\n",
       "    <tr>\n",
       "      <th>4</th>\n",
       "      <td>ChatGPT Goes Multimodal, Dating Apps Embrace A...</td>\n",
       "      <td>\"The Batch @ DeepLearning.AI\" &lt;thebatch@deeple...</td>\n",
       "      <td>2023-09-28 18:02:22+00:00</td>\n",
       "      <td>jm.carb@gmail.com</td>\n",
       "      <td>=?UTF-8?Q?Importante,Papelera,Abierto,Categor=...</td>\n",
       "      <td>1778305353971190954</td>\n",
       "    </tr>\n",
       "    <tr>\n",
       "      <th>5</th>\n",
       "      <td>=?UTF-8?B?RW50cmVnYWRvOiBUdSBwYXF1ZXRlIA==?=\\n...</td>\n",
       "      <td>\"Amazon.com.mx\" &lt;order-update@amazon.com.mx&gt;</td>\n",
       "      <td>2023-10-01 00:27:59+00:00</td>\n",
       "      <td>jm.carb@gmail.com</td>\n",
       "      <td>=?UTF-8?Q?Importante,Papelera,Abierto,Categor=...</td>\n",
       "      <td>1778483725064967777</td>\n",
       "    </tr>\n",
       "    <tr>\n",
       "      <th>6</th>\n",
       "      <td>=?UTF-8?B?RW50cmVnYWRvOiBUdSBwYXF1ZXRlIA==?=\\n...</td>\n",
       "      <td>\"Amazon.com.mx\" &lt;order-update@amazon.com.mx&gt;</td>\n",
       "      <td>2023-09-30 17:17:30+00:00</td>\n",
       "      <td>jm.carb@gmail.com</td>\n",
       "      <td>=?UTF-8?Q?Importante,Papelera,Abierto,Categor=...</td>\n",
       "      <td>1778483725064967777</td>\n",
       "    </tr>\n",
       "    <tr>\n",
       "      <th>7</th>\n",
       "      <td>=?UTF-8?Q?Welcome_to_Amazon_Assessments_=E2=80...</td>\n",
       "      <td>noreply@mail.amazon.jobs</td>\n",
       "      <td>2023-09-30 19:21:18+00:00</td>\n",
       "      <td>jm.carb@gmail.com</td>\n",
       "      <td>=?UTF-8?Q?Importante,Papelera,Abierto,Categor=...</td>\n",
       "      <td>1778491514486185778</td>\n",
       "    </tr>\n",
       "    <tr>\n",
       "      <th>8</th>\n",
       "      <td>Re: Trail Cloud Account</td>\n",
       "      <td>Ashton Lafferty &lt;support@nabucasa.com&gt;</td>\n",
       "      <td>2023-06-05 05:33:55+00:00</td>\n",
       "      <td>jm.carb@gmail.com</td>\n",
       "      <td>=?UTF-8?Q?Archivado,Importante,Abierto,Categor...</td>\n",
       "      <td>1767833959994718509</td>\n",
       "    </tr>\n",
       "    <tr>\n",
       "      <th>9</th>\n",
       "      <td>Re: Trail Cloud Account</td>\n",
       "      <td>Ashton Lafferty &lt;support@nabucasa.com&gt;</td>\n",
       "      <td>2023-06-05 04:04:02+00:00</td>\n",
       "      <td>jm.carb@gmail.com</td>\n",
       "      <td>=?UTF-8?Q?Archivado,Importante,Abierto,Categor...</td>\n",
       "      <td>1767833959994718509</td>\n",
       "    </tr>\n",
       "  </tbody>\n",
       "</table>\n",
       "</div>"
      ],
      "text/plain": [
       "                                             subject  \\\n",
       "0  =?UTF-8?Q?Protege_tu_cuenta_de_administrador_d...   \n",
       "1  =?UTF-8?B?VHUgcGVkaWRvIGRlIEFtYXpvbi5jb20ubXgg...   \n",
       "2  =?utf-8?Q?Important=20Update=3A=20Clarificatio...   \n",
       "3               Hurry! Your cart is about to expire!   \n",
       "4  ChatGPT Goes Multimodal, Dating Apps Embrace A...   \n",
       "5  =?UTF-8?B?RW50cmVnYWRvOiBUdSBwYXF1ZXRlIA==?=\\n...   \n",
       "6  =?UTF-8?B?RW50cmVnYWRvOiBUdSBwYXF1ZXRlIA==?=\\n...   \n",
       "7  =?UTF-8?Q?Welcome_to_Amazon_Assessments_=E2=80...   \n",
       "8                            Re: Trail Cloud Account   \n",
       "9                            Re: Trail Cloud Account   \n",
       "\n",
       "                                         from_person  \\\n",
       "0   The Google Cloud Team <cloud-noreply@google.com>   \n",
       "1  \"Amazon.com.mx\" <shipment-tracking@amazon.com.mx>   \n",
       "2      =?utf-8?Q?Team=20Lens?= <noreply@k8slens.dev>   \n",
       "3                       Yahboom <market@yahboom.com>   \n",
       "4  \"The Batch @ DeepLearning.AI\" <thebatch@deeple...   \n",
       "5       \"Amazon.com.mx\" <order-update@amazon.com.mx>   \n",
       "6       \"Amazon.com.mx\" <order-update@amazon.com.mx>   \n",
       "7                           noreply@mail.amazon.jobs   \n",
       "8             Ashton Lafferty <support@nabucasa.com>   \n",
       "9             Ashton Lafferty <support@nabucasa.com>   \n",
       "\n",
       "                       date            to_person  \\\n",
       "0 2023-09-28 22:26:48+00:00    jm.carb@gmail.com   \n",
       "1 2023-09-28 01:55:17+00:00    jm.carb@gmail.com   \n",
       "2 2023-09-27 20:58:27+00:00  <jm.carb@gmail.com>   \n",
       "3 2023-09-29 16:43:38+00:00    jm.carb@gmail.com   \n",
       "4 2023-09-28 18:02:22+00:00    jm.carb@gmail.com   \n",
       "5 2023-10-01 00:27:59+00:00    jm.carb@gmail.com   \n",
       "6 2023-09-30 17:17:30+00:00    jm.carb@gmail.com   \n",
       "7 2023-09-30 19:21:18+00:00    jm.carb@gmail.com   \n",
       "8 2023-06-05 05:33:55+00:00    jm.carb@gmail.com   \n",
       "9 2023-06-05 04:04:02+00:00    jm.carb@gmail.com   \n",
       "\n",
       "                                              labels             gm_third  \n",
       "0  =?UTF-8?Q?Importante,Papelera,Abierto,Categor=...  1778321991247361539  \n",
       "1  =?UTF-8?Q?Categor=C3=ADa_Compras,Importante,Pa...  1778244510688553499  \n",
       "2  =?UTF-8?Q?Importante,Papelera,Abierto,Categor=...  1778225843025157777  \n",
       "3  =?UTF-8?Q?Importante,Papelera,Abierto,Categor=...  1778390998550442919  \n",
       "4  =?UTF-8?Q?Importante,Papelera,Abierto,Categor=...  1778305353971190954  \n",
       "5  =?UTF-8?Q?Importante,Papelera,Abierto,Categor=...  1778483725064967777  \n",
       "6  =?UTF-8?Q?Importante,Papelera,Abierto,Categor=...  1778483725064967777  \n",
       "7  =?UTF-8?Q?Importante,Papelera,Abierto,Categor=...  1778491514486185778  \n",
       "8  =?UTF-8?Q?Archivado,Importante,Abierto,Categor...  1767833959994718509  \n",
       "9  =?UTF-8?Q?Archivado,Importante,Abierto,Categor...  1767833959994718509  "
      ]
     },
     "execution_count": 72,
     "metadata": {},
     "output_type": "execute_result"
    }
   ],
   "source": [
    "mailbox_df.head(10)"
   ]
  },
  {
   "cell_type": "code",
   "execution_count": 74,
   "metadata": {},
   "outputs": [],
   "source": [
    "def extract_email_ID(string):\n",
    "  email = re.findall(r'<(.+?)>', string)\n",
    "  if not email:\n",
    "    email = list(filter(lambda y: '@' in y, string.split()))\n",
    "  return email[0] if email else np.nan"
   ]
  },
  {
   "cell_type": "code",
   "execution_count": 75,
   "metadata": {},
   "outputs": [
    {
     "name": "stderr",
     "output_type": "stream",
     "text": [
      "C:\\Users\\jmcar\\AppData\\Local\\Temp\\ipykernel_40244\\3157214683.py:1: SettingWithCopyWarning: \n",
      "A value is trying to be set on a copy of a slice from a DataFrame.\n",
      "Try using .loc[row_indexer,col_indexer] = value instead\n",
      "\n",
      "See the caveats in the documentation: https://pandas.pydata.org/pandas-docs/stable/user_guide/indexing.html#returning-a-view-versus-a-copy\n",
      "  mailbox_df['from_person'] = mailbox_df['from_person'].apply(lambda x: extract_email_ID(x))\n"
     ]
    }
   ],
   "source": [
    "mailbox_df['from_person'] = mailbox_df['from_person'].apply(lambda x: extract_email_ID(x))"
   ]
  },
  {
   "cell_type": "code",
   "execution_count": 76,
   "metadata": {},
   "outputs": [
    {
     "data": {
      "text/html": [
       "<div>\n",
       "<style scoped>\n",
       "    .dataframe tbody tr th:only-of-type {\n",
       "        vertical-align: middle;\n",
       "    }\n",
       "\n",
       "    .dataframe tbody tr th {\n",
       "        vertical-align: top;\n",
       "    }\n",
       "\n",
       "    .dataframe thead th {\n",
       "        text-align: right;\n",
       "    }\n",
       "</style>\n",
       "<table border=\"1\" class=\"dataframe\">\n",
       "  <thead>\n",
       "    <tr style=\"text-align: right;\">\n",
       "      <th></th>\n",
       "      <th>subject</th>\n",
       "      <th>from_person</th>\n",
       "      <th>date</th>\n",
       "      <th>to_person</th>\n",
       "      <th>labels</th>\n",
       "      <th>gm_third</th>\n",
       "    </tr>\n",
       "  </thead>\n",
       "  <tbody>\n",
       "    <tr>\n",
       "      <th>0</th>\n",
       "      <td>=?UTF-8?Q?Protege_tu_cuenta_de_administrador_d...</td>\n",
       "      <td>cloud-noreply@google.com</td>\n",
       "      <td>2023-09-28 22:26:48+00:00</td>\n",
       "      <td>jm.carb@gmail.com</td>\n",
       "      <td>=?UTF-8?Q?Importante,Papelera,Abierto,Categor=...</td>\n",
       "      <td>1778321991247361539</td>\n",
       "    </tr>\n",
       "    <tr>\n",
       "      <th>1</th>\n",
       "      <td>=?UTF-8?B?VHUgcGVkaWRvIGRlIEFtYXpvbi5jb20ubXgg...</td>\n",
       "      <td>shipment-tracking@amazon.com.mx</td>\n",
       "      <td>2023-09-28 01:55:17+00:00</td>\n",
       "      <td>jm.carb@gmail.com</td>\n",
       "      <td>=?UTF-8?Q?Categor=C3=ADa_Compras,Importante,Pa...</td>\n",
       "      <td>1778244510688553499</td>\n",
       "    </tr>\n",
       "    <tr>\n",
       "      <th>2</th>\n",
       "      <td>=?utf-8?Q?Important=20Update=3A=20Clarificatio...</td>\n",
       "      <td>noreply@k8slens.dev</td>\n",
       "      <td>2023-09-27 20:58:27+00:00</td>\n",
       "      <td>&lt;jm.carb@gmail.com&gt;</td>\n",
       "      <td>=?UTF-8?Q?Importante,Papelera,Abierto,Categor=...</td>\n",
       "      <td>1778225843025157777</td>\n",
       "    </tr>\n",
       "    <tr>\n",
       "      <th>3</th>\n",
       "      <td>Hurry! Your cart is about to expire!</td>\n",
       "      <td>market@yahboom.com</td>\n",
       "      <td>2023-09-29 16:43:38+00:00</td>\n",
       "      <td>jm.carb@gmail.com</td>\n",
       "      <td>=?UTF-8?Q?Importante,Papelera,Abierto,Categor=...</td>\n",
       "      <td>1778390998550442919</td>\n",
       "    </tr>\n",
       "    <tr>\n",
       "      <th>4</th>\n",
       "      <td>ChatGPT Goes Multimodal, Dating Apps Embrace A...</td>\n",
       "      <td>thebatch@deeplearning.ai</td>\n",
       "      <td>2023-09-28 18:02:22+00:00</td>\n",
       "      <td>jm.carb@gmail.com</td>\n",
       "      <td>=?UTF-8?Q?Importante,Papelera,Abierto,Categor=...</td>\n",
       "      <td>1778305353971190954</td>\n",
       "    </tr>\n",
       "    <tr>\n",
       "      <th>5</th>\n",
       "      <td>=?UTF-8?B?RW50cmVnYWRvOiBUdSBwYXF1ZXRlIA==?=\\n...</td>\n",
       "      <td>order-update@amazon.com.mx</td>\n",
       "      <td>2023-10-01 00:27:59+00:00</td>\n",
       "      <td>jm.carb@gmail.com</td>\n",
       "      <td>=?UTF-8?Q?Importante,Papelera,Abierto,Categor=...</td>\n",
       "      <td>1778483725064967777</td>\n",
       "    </tr>\n",
       "    <tr>\n",
       "      <th>6</th>\n",
       "      <td>=?UTF-8?B?RW50cmVnYWRvOiBUdSBwYXF1ZXRlIA==?=\\n...</td>\n",
       "      <td>order-update@amazon.com.mx</td>\n",
       "      <td>2023-09-30 17:17:30+00:00</td>\n",
       "      <td>jm.carb@gmail.com</td>\n",
       "      <td>=?UTF-8?Q?Importante,Papelera,Abierto,Categor=...</td>\n",
       "      <td>1778483725064967777</td>\n",
       "    </tr>\n",
       "    <tr>\n",
       "      <th>7</th>\n",
       "      <td>=?UTF-8?Q?Welcome_to_Amazon_Assessments_=E2=80...</td>\n",
       "      <td>noreply@mail.amazon.jobs</td>\n",
       "      <td>2023-09-30 19:21:18+00:00</td>\n",
       "      <td>jm.carb@gmail.com</td>\n",
       "      <td>=?UTF-8?Q?Importante,Papelera,Abierto,Categor=...</td>\n",
       "      <td>1778491514486185778</td>\n",
       "    </tr>\n",
       "    <tr>\n",
       "      <th>8</th>\n",
       "      <td>Re: Trail Cloud Account</td>\n",
       "      <td>support@nabucasa.com</td>\n",
       "      <td>2023-06-05 05:33:55+00:00</td>\n",
       "      <td>jm.carb@gmail.com</td>\n",
       "      <td>=?UTF-8?Q?Archivado,Importante,Abierto,Categor...</td>\n",
       "      <td>1767833959994718509</td>\n",
       "    </tr>\n",
       "    <tr>\n",
       "      <th>9</th>\n",
       "      <td>Re: Trail Cloud Account</td>\n",
       "      <td>support@nabucasa.com</td>\n",
       "      <td>2023-06-05 04:04:02+00:00</td>\n",
       "      <td>jm.carb@gmail.com</td>\n",
       "      <td>=?UTF-8?Q?Archivado,Importante,Abierto,Categor...</td>\n",
       "      <td>1767833959994718509</td>\n",
       "    </tr>\n",
       "  </tbody>\n",
       "</table>\n",
       "</div>"
      ],
      "text/plain": [
       "                                             subject  \\\n",
       "0  =?UTF-8?Q?Protege_tu_cuenta_de_administrador_d...   \n",
       "1  =?UTF-8?B?VHUgcGVkaWRvIGRlIEFtYXpvbi5jb20ubXgg...   \n",
       "2  =?utf-8?Q?Important=20Update=3A=20Clarificatio...   \n",
       "3               Hurry! Your cart is about to expire!   \n",
       "4  ChatGPT Goes Multimodal, Dating Apps Embrace A...   \n",
       "5  =?UTF-8?B?RW50cmVnYWRvOiBUdSBwYXF1ZXRlIA==?=\\n...   \n",
       "6  =?UTF-8?B?RW50cmVnYWRvOiBUdSBwYXF1ZXRlIA==?=\\n...   \n",
       "7  =?UTF-8?Q?Welcome_to_Amazon_Assessments_=E2=80...   \n",
       "8                            Re: Trail Cloud Account   \n",
       "9                            Re: Trail Cloud Account   \n",
       "\n",
       "                       from_person                      date  \\\n",
       "0         cloud-noreply@google.com 2023-09-28 22:26:48+00:00   \n",
       "1  shipment-tracking@amazon.com.mx 2023-09-28 01:55:17+00:00   \n",
       "2              noreply@k8slens.dev 2023-09-27 20:58:27+00:00   \n",
       "3               market@yahboom.com 2023-09-29 16:43:38+00:00   \n",
       "4         thebatch@deeplearning.ai 2023-09-28 18:02:22+00:00   \n",
       "5       order-update@amazon.com.mx 2023-10-01 00:27:59+00:00   \n",
       "6       order-update@amazon.com.mx 2023-09-30 17:17:30+00:00   \n",
       "7         noreply@mail.amazon.jobs 2023-09-30 19:21:18+00:00   \n",
       "8             support@nabucasa.com 2023-06-05 05:33:55+00:00   \n",
       "9             support@nabucasa.com 2023-06-05 04:04:02+00:00   \n",
       "\n",
       "             to_person                                             labels  \\\n",
       "0    jm.carb@gmail.com  =?UTF-8?Q?Importante,Papelera,Abierto,Categor=...   \n",
       "1    jm.carb@gmail.com  =?UTF-8?Q?Categor=C3=ADa_Compras,Importante,Pa...   \n",
       "2  <jm.carb@gmail.com>  =?UTF-8?Q?Importante,Papelera,Abierto,Categor=...   \n",
       "3    jm.carb@gmail.com  =?UTF-8?Q?Importante,Papelera,Abierto,Categor=...   \n",
       "4    jm.carb@gmail.com  =?UTF-8?Q?Importante,Papelera,Abierto,Categor=...   \n",
       "5    jm.carb@gmail.com  =?UTF-8?Q?Importante,Papelera,Abierto,Categor=...   \n",
       "6    jm.carb@gmail.com  =?UTF-8?Q?Importante,Papelera,Abierto,Categor=...   \n",
       "7    jm.carb@gmail.com  =?UTF-8?Q?Importante,Papelera,Abierto,Categor=...   \n",
       "8    jm.carb@gmail.com  =?UTF-8?Q?Archivado,Importante,Abierto,Categor...   \n",
       "9    jm.carb@gmail.com  =?UTF-8?Q?Archivado,Importante,Abierto,Categor...   \n",
       "\n",
       "              gm_third  \n",
       "0  1778321991247361539  \n",
       "1  1778244510688553499  \n",
       "2  1778225843025157777  \n",
       "3  1778390998550442919  \n",
       "4  1778305353971190954  \n",
       "5  1778483725064967777  \n",
       "6  1778483725064967777  \n",
       "7  1778491514486185778  \n",
       "8  1767833959994718509  \n",
       "9  1767833959994718509  "
      ]
     },
     "execution_count": 76,
     "metadata": {},
     "output_type": "execute_result"
    }
   ],
   "source": [
    "mailbox_df.head(10)"
   ]
  },
  {
   "cell_type": "code",
   "execution_count": null,
   "metadata": {},
   "outputs": [],
   "source": []
  }
 ],
 "metadata": {
  "kernelspec": {
   "display_name": "base",
   "language": "python",
   "name": "python3"
  },
  "language_info": {
   "codemirror_mode": {
    "name": "ipython",
    "version": 3
   },
   "file_extension": ".py",
   "mimetype": "text/x-python",
   "name": "python",
   "nbconvert_exporter": "python",
   "pygments_lexer": "ipython3",
   "version": "3.11.4"
  },
  "orig_nbformat": 4
 },
 "nbformat": 4,
 "nbformat_minor": 2
}
