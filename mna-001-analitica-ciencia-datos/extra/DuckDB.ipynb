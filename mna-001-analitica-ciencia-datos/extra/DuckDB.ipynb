{
 "cells": [
  {
   "cell_type": "code",
   "execution_count": 1,
   "metadata": {},
   "outputs": [],
   "source": [
    "import duckdb\n",
    "import pandas as pd\n",
    "\n",
    "\n",
    "%load_ext sql"
   ]
  },
  {
   "cell_type": "code",
   "execution_count": 2,
   "metadata": {},
   "outputs": [],
   "source": [
    "%config SqlMagic.autopandas = True\n",
    "%config SqlMagic.feedback = False\n",
    "%config SqlMagic.displaycon = False"
   ]
  },
  {
   "cell_type": "code",
   "execution_count": 3,
   "metadata": {},
   "outputs": [],
   "source": [
    "%sql duckdb:///:default:"
   ]
  },
  {
   "cell_type": "code",
   "execution_count": 4,
   "metadata": {},
   "outputs": [
    {
     "data": {
      "text/html": [
       "<div>\n",
       "<style scoped>\n",
       "    .dataframe tbody tr th:only-of-type {\n",
       "        vertical-align: middle;\n",
       "    }\n",
       "\n",
       "    .dataframe tbody tr th {\n",
       "        vertical-align: top;\n",
       "    }\n",
       "\n",
       "    .dataframe thead th {\n",
       "        text-align: right;\n",
       "    }\n",
       "</style>\n",
       "<table border=\"1\" class=\"dataframe\">\n",
       "  <thead>\n",
       "    <tr style=\"text-align: right;\">\n",
       "      <th></th>\n",
       "      <th>a_duckdb_column</th>\n",
       "    </tr>\n",
       "  </thead>\n",
       "  <tbody>\n",
       "    <tr>\n",
       "      <th>0</th>\n",
       "      <td>Off and flying!</td>\n",
       "    </tr>\n",
       "  </tbody>\n",
       "</table>\n",
       "</div>"
      ],
      "text/plain": [
       "   a_duckdb_column\n",
       "0  Off and flying!"
      ]
     },
     "execution_count": 4,
     "metadata": {},
     "output_type": "execute_result"
    }
   ],
   "source": [
    "%sql SELECT 'Off and flying!' as  a_duckdb_column"
   ]
  },
  {
   "cell_type": "code",
   "execution_count": 5,
   "metadata": {},
   "outputs": [
    {
     "data": {
      "text/html": [
       "<div>\n",
       "<style scoped>\n",
       "    .dataframe tbody tr th:only-of-type {\n",
       "        vertical-align: middle;\n",
       "    }\n",
       "\n",
       "    .dataframe tbody tr th {\n",
       "        vertical-align: top;\n",
       "    }\n",
       "\n",
       "    .dataframe thead th {\n",
       "        text-align: right;\n",
       "    }\n",
       "</style>\n",
       "<table border=\"1\" class=\"dataframe\">\n",
       "  <thead>\n",
       "    <tr style=\"text-align: right;\">\n",
       "      <th></th>\n",
       "      <th>schema_name</th>\n",
       "      <th>function_name</th>\n",
       "    </tr>\n",
       "  </thead>\n",
       "  <tbody>\n",
       "    <tr>\n",
       "      <th>0</th>\n",
       "      <td>pg_catalog</td>\n",
       "      <td>shobj_description</td>\n",
       "    </tr>\n",
       "    <tr>\n",
       "      <th>1</th>\n",
       "      <td>pg_catalog</td>\n",
       "      <td>shobj_description</td>\n",
       "    </tr>\n",
       "    <tr>\n",
       "      <th>2</th>\n",
       "      <td>pg_catalog</td>\n",
       "      <td>shobj_description</td>\n",
       "    </tr>\n",
       "    <tr>\n",
       "      <th>3</th>\n",
       "      <td>pg_catalog</td>\n",
       "      <td>pg_typeof</td>\n",
       "    </tr>\n",
       "    <tr>\n",
       "      <th>4</th>\n",
       "      <td>pg_catalog</td>\n",
       "      <td>pg_typeof</td>\n",
       "    </tr>\n",
       "    <tr>\n",
       "      <th>5</th>\n",
       "      <td>pg_catalog</td>\n",
       "      <td>pg_typeof</td>\n",
       "    </tr>\n",
       "    <tr>\n",
       "      <th>6</th>\n",
       "      <td>pg_catalog</td>\n",
       "      <td>pg_type_is_visible</td>\n",
       "    </tr>\n",
       "    <tr>\n",
       "      <th>7</th>\n",
       "      <td>pg_catalog</td>\n",
       "      <td>pg_type_is_visible</td>\n",
       "    </tr>\n",
       "    <tr>\n",
       "      <th>8</th>\n",
       "      <td>pg_catalog</td>\n",
       "      <td>pg_type_is_visible</td>\n",
       "    </tr>\n",
       "    <tr>\n",
       "      <th>9</th>\n",
       "      <td>pg_catalog</td>\n",
       "      <td>pg_ts_template_is_visible</td>\n",
       "    </tr>\n",
       "  </tbody>\n",
       "</table>\n",
       "</div>"
      ],
      "text/plain": [
       "  schema_name              function_name\n",
       "0  pg_catalog          shobj_description\n",
       "1  pg_catalog          shobj_description\n",
       "2  pg_catalog          shobj_description\n",
       "3  pg_catalog                  pg_typeof\n",
       "4  pg_catalog                  pg_typeof\n",
       "5  pg_catalog                  pg_typeof\n",
       "6  pg_catalog         pg_type_is_visible\n",
       "7  pg_catalog         pg_type_is_visible\n",
       "8  pg_catalog         pg_type_is_visible\n",
       "9  pg_catalog  pg_ts_template_is_visible"
      ]
     },
     "execution_count": 5,
     "metadata": {},
     "output_type": "execute_result"
    }
   ],
   "source": [
    "%%sql\n",
    "select\n",
    "    schema_name,\n",
    "    function_name\n",
    "from duckdb_functions()\n",
    "order by all desc\n",
    "limit 10"
   ]
  },
  {
   "cell_type": "code",
   "execution_count": 6,
   "metadata": {},
   "outputs": [],
   "source": [
    "%sql my_df << SELECT 'Off and Flying' as a_duckdb_column"
   ]
  },
  {
   "cell_type": "code",
   "execution_count": 7,
   "metadata": {},
   "outputs": [
    {
     "data": {
      "text/html": [
       "<div>\n",
       "<style scoped>\n",
       "    .dataframe tbody tr th:only-of-type {\n",
       "        vertical-align: middle;\n",
       "    }\n",
       "\n",
       "    .dataframe tbody tr th {\n",
       "        vertical-align: top;\n",
       "    }\n",
       "\n",
       "    .dataframe thead th {\n",
       "        text-align: right;\n",
       "    }\n",
       "</style>\n",
       "<table border=\"1\" class=\"dataframe\">\n",
       "  <thead>\n",
       "    <tr style=\"text-align: right;\">\n",
       "      <th></th>\n",
       "      <th>a_duckdb_column</th>\n",
       "    </tr>\n",
       "  </thead>\n",
       "  <tbody>\n",
       "    <tr>\n",
       "      <th>0</th>\n",
       "      <td>Off and Flying</td>\n",
       "    </tr>\n",
       "  </tbody>\n",
       "</table>\n",
       "</div>"
      ],
      "text/plain": [
       "  a_duckdb_column\n",
       "0  Off and Flying"
      ]
     },
     "execution_count": 7,
     "metadata": {},
     "output_type": "execute_result"
    }
   ],
   "source": [
    "my_df"
   ]
  },
  {
   "cell_type": "code",
   "execution_count": 8,
   "metadata": {},
   "outputs": [],
   "source": [
    "input_df = pd.DataFrame.from_dict({\"i\":[1, 2, 3], \"j\":[\"one\", \"two\", \"three\"]})"
   ]
  },
  {
   "cell_type": "code",
   "execution_count": 9,
   "metadata": {},
   "outputs": [],
   "source": [
    "%sql output_df << SELECT sum(i) AS total_i FROM input_df"
   ]
  },
  {
   "cell_type": "code",
   "execution_count": 10,
   "metadata": {},
   "outputs": [
    {
     "data": {
      "text/html": [
       "<div>\n",
       "<style scoped>\n",
       "    .dataframe tbody tr th:only-of-type {\n",
       "        vertical-align: middle;\n",
       "    }\n",
       "\n",
       "    .dataframe tbody tr th {\n",
       "        vertical-align: top;\n",
       "    }\n",
       "\n",
       "    .dataframe thead th {\n",
       "        text-align: right;\n",
       "    }\n",
       "</style>\n",
       "<table border=\"1\" class=\"dataframe\">\n",
       "  <thead>\n",
       "    <tr style=\"text-align: right;\">\n",
       "      <th></th>\n",
       "      <th>total_i</th>\n",
       "    </tr>\n",
       "  </thead>\n",
       "  <tbody>\n",
       "    <tr>\n",
       "      <th>0</th>\n",
       "      <td>6.0</td>\n",
       "    </tr>\n",
       "  </tbody>\n",
       "</table>\n",
       "</div>"
      ],
      "text/plain": [
       "   total_i\n",
       "0      6.0"
      ]
     },
     "execution_count": 10,
     "metadata": {},
     "output_type": "execute_result"
    }
   ],
   "source": [
    "output_df"
   ]
  },
  {
   "cell_type": "code",
   "execution_count": 12,
   "metadata": {},
   "outputs": [
    {
     "data": {
      "text/html": [
       "<div>\n",
       "<style scoped>\n",
       "    .dataframe tbody tr th:only-of-type {\n",
       "        vertical-align: middle;\n",
       "    }\n",
       "\n",
       "    .dataframe tbody tr th {\n",
       "        vertical-align: top;\n",
       "    }\n",
       "\n",
       "    .dataframe thead th {\n",
       "        text-align: right;\n",
       "    }\n",
       "</style>\n",
       "<table border=\"1\" class=\"dataframe\">\n",
       "  <thead>\n",
       "    <tr style=\"text-align: right;\">\n",
       "      <th></th>\n",
       "      <th>Success</th>\n",
       "    </tr>\n",
       "  </thead>\n",
       "  <tbody>\n",
       "  </tbody>\n",
       "</table>\n",
       "</div>"
      ],
      "text/plain": [
       "Empty DataFrame\n",
       "Columns: [Success]\n",
       "Index: []"
      ]
     },
     "execution_count": 12,
     "metadata": {},
     "output_type": "execute_result"
    }
   ],
   "source": [
    "%%sql\n",
    "INSTALL httpfs;\n",
    "LOAD httpfs;"
   ]
  },
  {
   "cell_type": "code",
   "execution_count": 40,
   "metadata": {},
   "outputs": [
    {
     "data": {
      "text/html": [
       "<span style=\"None\">Skipping execution...</span>"
      ],
      "text/plain": [
       "Skipping execution..."
      ]
     },
     "metadata": {},
     "output_type": "display_data"
    }
   ],
   "source": [
    "%%sql --save short_trips --no-execute\n",
    "SELECT *\n",
    "FROM \"https://d37ci6vzurychx.cloudfront.net/trip-data/yellow_tripdata_2021-01.parquet\""
   ]
  },
  {
   "cell_type": "code",
   "execution_count": 41,
   "metadata": {},
   "outputs": [
    {
     "data": {
      "text/html": [
       "<span style=\"None\">Generating CTE with stored snippets: &#x27;short_trips&#x27;</span>"
      ],
      "text/plain": [
       "Generating CTE with stored snippets: 'short_trips'"
      ]
     },
     "metadata": {},
     "output_type": "display_data"
    }
   ],
   "source": [
    "%sql short_trips << select * from short_trips where trip_distance < 6.3"
   ]
  },
  {
   "cell_type": "code",
   "execution_count": 42,
   "metadata": {},
   "outputs": [
    {
     "data": {
      "text/plain": [
       "(array([273719., 446019., 248842., 126359.,  68953.,  40446.,  27775.]),\n",
       " array([0.        , 0.89857143, 1.79714286, 2.69571429, 3.59428571,\n",
       "        4.49285714, 5.39142857, 6.29      ]),\n",
       " <BarContainer object of 7 artists>)"
      ]
     },
     "execution_count": 42,
     "metadata": {},
     "output_type": "execute_result"
    },
    {
     "data": {
      "image/png": "[encoded data removed]",
      "text/plain": [
       "<Figure size 640x480 with 1 Axes>"
      ]
     },
     "metadata": {},
     "output_type": "display_data"
    }
   ],
   "source": [
    "import matplotlib.pyplot as plt\n",
    "\n",
    "plt.hist(short_trips['trip_distance'], bins=7)"
   ]
  },
  {
   "cell_type": "code",
   "execution_count": 50,
   "metadata": {},
   "outputs": [
    {
     "name": "stderr",
     "output_type": "stream",
     "text": [
      "RuntimeError: (duckdb.CatalogException) Catalog Error: Table with name \"corpus\" already exists!\n",
      "[SQL: CREATE TABLE corpus AS\n",
      "  SELECT * FROM read_parquet(\n",
      "    'https://github.com/marhar/duckdb_tools/raw/main/full-text-shakespeare/shakespeare.parquet');]\n",
      "(Background on this error at: https://sqlalche.me/e/14/f405)\n",
      "If you need help solving this issue, send us a message: https://ploomber.io/community\n"
     ]
    }
   ],
   "source": [
    "%%sql\n",
    "CREATE TABLE corpus AS\n",
    "  SELECT * FROM read_parquet(\n",
    "    'https://github.com/marhar/duckdb_tools/raw/main/full-text-shakespeare/shakespeare.parquet');"
   ]
  },
  {
   "cell_type": "code",
   "execution_count": 51,
   "metadata": {},
   "outputs": [
    {
     "data": {
      "text/html": [
       "<div>\n",
       "<style scoped>\n",
       "    .dataframe tbody tr th:only-of-type {\n",
       "        vertical-align: middle;\n",
       "    }\n",
       "\n",
       "    .dataframe tbody tr th {\n",
       "        vertical-align: top;\n",
       "    }\n",
       "\n",
       "    .dataframe thead th {\n",
       "        text-align: right;\n",
       "    }\n",
       "</style>\n",
       "<table border=\"1\" class=\"dataframe\">\n",
       "  <thead>\n",
       "    <tr style=\"text-align: right;\">\n",
       "      <th></th>\n",
       "      <th>column_name</th>\n",
       "      <th>column_type</th>\n",
       "      <th>null</th>\n",
       "      <th>key</th>\n",
       "      <th>default</th>\n",
       "      <th>extra</th>\n",
       "    </tr>\n",
       "  </thead>\n",
       "  <tbody>\n",
       "  </tbody>\n",
       "</table>\n",
       "</div>"
      ],
      "text/plain": [
       "Empty DataFrame\n",
       "Columns: [column_name, column_type, null, key, default, extra]\n",
       "Index: []"
      ]
     },
     "execution_count": 51,
     "metadata": {},
     "output_type": "execute_result"
    }
   ],
   "source": [
    "%%sql\n",
    "DESCRIBE corpus;"
   ]
  },
  {
   "cell_type": "code",
   "execution_count": 53,
   "metadata": {},
   "outputs": [
    {
     "data": {
      "text/html": [
       "<div>\n",
       "<style scoped>\n",
       "    .dataframe tbody tr th:only-of-type {\n",
       "        vertical-align: middle;\n",
       "    }\n",
       "\n",
       "    .dataframe tbody tr th {\n",
       "        vertical-align: top;\n",
       "    }\n",
       "\n",
       "    .dataframe thead th {\n",
       "        text-align: right;\n",
       "    }\n",
       "</style>\n",
       "<table border=\"1\" class=\"dataframe\">\n",
       "  <thead>\n",
       "    <tr style=\"text-align: right;\">\n",
       "      <th></th>\n",
       "      <th>Count</th>\n",
       "    </tr>\n",
       "  </thead>\n",
       "  <tbody>\n",
       "  </tbody>\n",
       "</table>\n",
       "</div>"
      ],
      "text/plain": [
       "Empty DataFrame\n",
       "Columns: [Count]\n",
       "Index: []"
      ]
     },
     "execution_count": 53,
     "metadata": {},
     "output_type": "execute_result"
    }
   ],
   "source": [
    "%%sql\n",
    "INSTALL fts;\n",
    "LOAD fts;\n",
    "PRAGMA create_fts_index('corpus', 'line_id', 'text_entry');"
   ]
  },
  {
   "cell_type": "code",
   "execution_count": 54,
   "metadata": {},
   "outputs": [
    {
     "data": {
      "text/html": [
       "<div>\n",
       "<style scoped>\n",
       "    .dataframe tbody tr th:only-of-type {\n",
       "        vertical-align: middle;\n",
       "    }\n",
       "\n",
       "    .dataframe tbody tr th {\n",
       "        vertical-align: top;\n",
       "    }\n",
       "\n",
       "    .dataframe thead th {\n",
       "        text-align: right;\n",
       "    }\n",
       "</style>\n",
       "<table border=\"1\" class=\"dataframe\">\n",
       "  <thead>\n",
       "    <tr style=\"text-align: right;\">\n",
       "      <th></th>\n",
       "      <th>score</th>\n",
       "      <th>line_id</th>\n",
       "      <th>play_name</th>\n",
       "      <th>speaker</th>\n",
       "      <th>text_entry</th>\n",
       "    </tr>\n",
       "  </thead>\n",
       "  <tbody>\n",
       "    <tr>\n",
       "      <th>0</th>\n",
       "      <td>2.739219</td>\n",
       "      <td>H4/2.4.115</td>\n",
       "      <td>Henry IV</td>\n",
       "      <td>PRINCE HENRY</td>\n",
       "      <td>Didst thou never see Titan kiss a dish of butter?</td>\n",
       "    </tr>\n",
       "    <tr>\n",
       "      <th>1</th>\n",
       "      <td>3.027841</td>\n",
       "      <td>AWW/5.2.9</td>\n",
       "      <td>Alls well that ends well</td>\n",
       "      <td>Clown</td>\n",
       "      <td>henceforth eat no fish of fortunes buttering.</td>\n",
       "    </tr>\n",
       "    <tr>\n",
       "      <th>2</th>\n",
       "      <td>3.027841</td>\n",
       "      <td>MWW/2.2.260</td>\n",
       "      <td>Merry Wives of Windsor</td>\n",
       "      <td>FALSTAFF</td>\n",
       "      <td>Hang him, mechanical salt-butter rogue! I will</td>\n",
       "    </tr>\n",
       "    <tr>\n",
       "      <th>3</th>\n",
       "      <td>3.027841</td>\n",
       "      <td>MWW/2.2.284</td>\n",
       "      <td>Merry Wives of Windsor</td>\n",
       "      <td>FORD</td>\n",
       "      <td>rather trust a Fleming with my butter, Parson ...</td>\n",
       "    </tr>\n",
       "    <tr>\n",
       "      <th>4</th>\n",
       "      <td>3.027841</td>\n",
       "      <td>MWW/3.5.7</td>\n",
       "      <td>Merry Wives of Windsor</td>\n",
       "      <td>FALSTAFF</td>\n",
       "      <td>Ill have my brains taen out and buttered, and ...</td>\n",
       "    </tr>\n",
       "    <tr>\n",
       "      <th>5</th>\n",
       "      <td>3.027841</td>\n",
       "      <td>MWW/3.5.102</td>\n",
       "      <td>Merry Wives of Windsor</td>\n",
       "      <td>FALSTAFF</td>\n",
       "      <td>to heat as butter; a man of continual dissolution</td>\n",
       "    </tr>\n",
       "    <tr>\n",
       "      <th>6</th>\n",
       "      <td>3.384449</td>\n",
       "      <td>H4/4.2.21</td>\n",
       "      <td>Henry IV</td>\n",
       "      <td>FALSTAFF</td>\n",
       "      <td>toasts-and-butter, with hearts in their bellie...</td>\n",
       "    </tr>\n",
       "    <tr>\n",
       "      <th>7</th>\n",
       "      <td>3.384449</td>\n",
       "      <td>H4/4.2.62</td>\n",
       "      <td>Henry IV</td>\n",
       "      <td>PRINCE HENRY</td>\n",
       "      <td>already made thee butter. But tell me, Jack, w...</td>\n",
       "    </tr>\n",
       "    <tr>\n",
       "      <th>8</th>\n",
       "      <td>3.384449</td>\n",
       "      <td>AWW/4.1.40</td>\n",
       "      <td>Alls well that ends well</td>\n",
       "      <td>PAROLLES</td>\n",
       "      <td>butter-womans mouth and buy myself another of</td>\n",
       "    </tr>\n",
       "    <tr>\n",
       "      <th>9</th>\n",
       "      <td>3.384449</td>\n",
       "      <td>AYLI/3.2.93</td>\n",
       "      <td>As you like it</td>\n",
       "      <td>TOUCHSTONE</td>\n",
       "      <td>right butter-womens rank to market.</td>\n",
       "    </tr>\n",
       "    <tr>\n",
       "      <th>10</th>\n",
       "      <td>3.384449</td>\n",
       "      <td>KL/2.4.132</td>\n",
       "      <td>King Lear</td>\n",
       "      <td>Fool</td>\n",
       "      <td>kindness to his horse, buttered his hay.</td>\n",
       "    </tr>\n",
       "    <tr>\n",
       "      <th>11</th>\n",
       "      <td>3.836270</td>\n",
       "      <td>H4/1.2.21</td>\n",
       "      <td>Henry IV</td>\n",
       "      <td>FALSTAFF</td>\n",
       "      <td>prologue to an egg and butter.</td>\n",
       "    </tr>\n",
       "    <tr>\n",
       "      <th>12</th>\n",
       "      <td>3.836270</td>\n",
       "      <td>H4/2.1.55</td>\n",
       "      <td>Henry IV</td>\n",
       "      <td>Chamberlain</td>\n",
       "      <td>They are up already, and call for eggs and but...</td>\n",
       "    </tr>\n",
       "    <tr>\n",
       "      <th>13</th>\n",
       "      <td>4.427313</td>\n",
       "      <td>H4/2.4.494</td>\n",
       "      <td>Henry IV</td>\n",
       "      <td>Carrier</td>\n",
       "      <td>As fat as butter.</td>\n",
       "    </tr>\n",
       "  </tbody>\n",
       "</table>\n",
       "</div>"
      ],
      "text/plain": [
       "       score      line_id                 play_name       speaker  \\\n",
       "0   2.739219   H4/2.4.115                  Henry IV  PRINCE HENRY   \n",
       "1   3.027841    AWW/5.2.9  Alls well that ends well         Clown   \n",
       "2   3.027841  MWW/2.2.260    Merry Wives of Windsor      FALSTAFF   \n",
       "3   3.027841  MWW/2.2.284    Merry Wives of Windsor          FORD   \n",
       "4   3.027841    MWW/3.5.7    Merry Wives of Windsor      FALSTAFF   \n",
       "5   3.027841  MWW/3.5.102    Merry Wives of Windsor      FALSTAFF   \n",
       "6   3.384449    H4/4.2.21                  Henry IV      FALSTAFF   \n",
       "7   3.384449    H4/4.2.62                  Henry IV  PRINCE HENRY   \n",
       "8   3.384449   AWW/4.1.40  Alls well that ends well      PAROLLES   \n",
       "9   3.384449  AYLI/3.2.93            As you like it    TOUCHSTONE   \n",
       "10  3.384449   KL/2.4.132                 King Lear          Fool   \n",
       "11  3.836270    H4/1.2.21                  Henry IV      FALSTAFF   \n",
       "12  3.836270    H4/2.1.55                  Henry IV   Chamberlain   \n",
       "13  4.427313   H4/2.4.494                  Henry IV       Carrier   \n",
       "\n",
       "                                           text_entry  \n",
       "0   Didst thou never see Titan kiss a dish of butter?  \n",
       "1       henceforth eat no fish of fortunes buttering.  \n",
       "2      Hang him, mechanical salt-butter rogue! I will  \n",
       "3   rather trust a Fleming with my butter, Parson ...  \n",
       "4   Ill have my brains taen out and buttered, and ...  \n",
       "5   to heat as butter; a man of continual dissolution  \n",
       "6   toasts-and-butter, with hearts in their bellie...  \n",
       "7   already made thee butter. But tell me, Jack, w...  \n",
       "8       butter-womans mouth and buy myself another of  \n",
       "9                 right butter-womens rank to market.  \n",
       "10           kindness to his horse, buttered his hay.  \n",
       "11                     prologue to an egg and butter.  \n",
       "12  They are up already, and call for eggs and but...  \n",
       "13                                  As fat as butter.  "
      ]
     },
     "execution_count": 54,
     "metadata": {},
     "output_type": "execute_result"
    }
   ],
   "source": [
    "%%sql\n",
    "SELECT fts_main_corpus.match_bm25(line_id, 'butter') AS score,\n",
    "    line_id, play_name, speaker, text_entry\n",
    "  FROM corpus\n",
    "  WHERE score IS NOT NULL\n",
    "  ORDER BY score;"
   ]
  },
  {
   "cell_type": "code",
   "execution_count": null,
   "metadata": {},
   "outputs": [],
   "source": []
  }
 ],
 "metadata": {
  "kernelspec": {
   "display_name": "base",
   "language": "python",
   "name": "python3"
  },
  "language_info": {
   "codemirror_mode": {
    "name": "ipython",
    "version": 3
   },
   "file_extension": ".py",
   "mimetype": "text/x-python",
   "name": "python",
   "nbconvert_exporter": "python",
   "pygments_lexer": "ipython3",
   "version": "3.11.4"
  },
  "orig_nbformat": 4
 },
 "nbformat": 4,
 "nbformat_minor": 2
}
