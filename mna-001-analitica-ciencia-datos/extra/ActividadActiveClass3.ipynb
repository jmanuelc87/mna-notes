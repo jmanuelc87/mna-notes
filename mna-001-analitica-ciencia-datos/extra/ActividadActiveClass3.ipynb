{
  "cells": [
    {
      "cell_type": "markdown",
      "metadata": {
        "id": "Is9MYkqtFesv"
      },
      "source": [
        "**MAESTRÍA EN INTELIGENCIA ARTIFICIAL APLICADA**\n",
        "\n",
        "**Curso: TC4029 - Ciencia y analítica de datos**\n",
        "\n",
        "Tecnológico de Monterrey\n",
        "\n",
        "Prof Grettel Barceló Alonso\n",
        "\n",
        "**Active Class 3**\n",
        "\n",
        "*   M3: Análisis, visualización y transformación de datos\n",
        "\n",
        "---"
      ]
    },
    {
      "cell_type": "code",
      "execution_count": 23,
      "metadata": {
        "colab": {
          "base_uri": "https://localhost:8080/"
        },
        "id": "DYJfqcv2FqHI",
        "outputId": "0a812b2d-c0f8-4ec6-cc9c-0bed35da0784"
      },
      "outputs": [
        {
          "name": "stdout",
          "output_type": "stream",
          "text": [
            "Drive already mounted at /content/drive; to attempt to forcibly remount, call drive.mount(\"/content/drive\", force_remount=True).\n"
          ]
        }
      ],
      "source": [
        "# from google.colab import drive\n",
        "# drive.mount('/content/drive')"
      ]
    },
    {
      "cell_type": "markdown",
      "metadata": {
        "id": "dvt3gPFODuc4"
      },
      "source": [
        "En esta actividad usarás el archivo de datos `fitness.csv`, donde se ha recopilado información sobre las personas que compraron una cinta de correr en una tienda minorista durante tres meses.\n",
        "\n",
        "* `Product`: Producto adquirido (TM195, TM498 o TM798)\n",
        "* `Age`: Edad en años\n",
        "* `Gender`: Género\n",
        "* `Education`: Educación en años\n",
        "* `MaritalStatus`: Estado civil (soltero o en pareja)\n",
        "* `Usage`: Número promedio de veces que el cliente planea usar la máquina para correr cada semana\n",
        "* `Fitness`: Aptitud autoevaluada en una escala del 1 al 5, donde 1 es mala forma y 5 es excelente forma\n",
        "* `Income`: Ingreso anual del hogar\n",
        "* `Miles`: Número promedio de millas que el cliente espera caminar/correr cada semana"
      ]
    },
    {
      "cell_type": "markdown",
      "metadata": {
        "id": "mxzZYd8KHMYR"
      },
      "source": [
        "Descarga el archivo: `fitness.csv` y guarda, en un dataframe (`fit_df`), todos sus registros."
      ]
    },
    {
      "cell_type": "code",
      "execution_count": 2,
      "metadata": {
        "colab": {
          "base_uri": "https://localhost:8080/",
          "height": 423
        },
        "id": "bqxV-QTHHWoD",
        "outputId": "5bfc2e2d-845e-4355-a3cb-f25883a2a42e"
      },
      "outputs": [
        {
          "data": {
            "text/html": [
              "<div>\n",
              "<style scoped>\n",
              "    .dataframe tbody tr th:only-of-type {\n",
              "        vertical-align: middle;\n",
              "    }\n",
              "\n",
              "    .dataframe tbody tr th {\n",
              "        vertical-align: top;\n",
              "    }\n",
              "\n",
              "    .dataframe thead th {\n",
              "        text-align: right;\n",
              "    }\n",
              "</style>\n",
              "<table border=\"1\" class=\"dataframe\">\n",
              "  <thead>\n",
              "    <tr style=\"text-align: right;\">\n",
              "      <th></th>\n",
              "      <th>Product</th>\n",
              "      <th>Age</th>\n",
              "      <th>Gender</th>\n",
              "      <th>Education</th>\n",
              "      <th>MaritalStatus</th>\n",
              "      <th>Usage</th>\n",
              "      <th>Fitness</th>\n",
              "      <th>Income</th>\n",
              "      <th>Miles</th>\n",
              "    </tr>\n",
              "  </thead>\n",
              "  <tbody>\n",
              "    <tr>\n",
              "      <th>0</th>\n",
              "      <td>TM195</td>\n",
              "      <td>18</td>\n",
              "      <td>Male</td>\n",
              "      <td>14</td>\n",
              "      <td>Single</td>\n",
              "      <td>3</td>\n",
              "      <td>4</td>\n",
              "      <td>29562</td>\n",
              "      <td>112</td>\n",
              "    </tr>\n",
              "    <tr>\n",
              "      <th>1</th>\n",
              "      <td>TM195</td>\n",
              "      <td>19</td>\n",
              "      <td>Male</td>\n",
              "      <td>15</td>\n",
              "      <td>Single</td>\n",
              "      <td>2</td>\n",
              "      <td>3</td>\n",
              "      <td>31836</td>\n",
              "      <td>75</td>\n",
              "    </tr>\n",
              "    <tr>\n",
              "      <th>2</th>\n",
              "      <td>TM195</td>\n",
              "      <td>19</td>\n",
              "      <td>Female</td>\n",
              "      <td>14</td>\n",
              "      <td>Partnered</td>\n",
              "      <td>4</td>\n",
              "      <td>3</td>\n",
              "      <td>30699</td>\n",
              "      <td>66</td>\n",
              "    </tr>\n",
              "    <tr>\n",
              "      <th>3</th>\n",
              "      <td>TM195</td>\n",
              "      <td>19</td>\n",
              "      <td>Male</td>\n",
              "      <td>12</td>\n",
              "      <td>Single</td>\n",
              "      <td>3</td>\n",
              "      <td>3</td>\n",
              "      <td>32973</td>\n",
              "      <td>85</td>\n",
              "    </tr>\n",
              "    <tr>\n",
              "      <th>4</th>\n",
              "      <td>TM195</td>\n",
              "      <td>20</td>\n",
              "      <td>Male</td>\n",
              "      <td>13</td>\n",
              "      <td>Partnered</td>\n",
              "      <td>4</td>\n",
              "      <td>2</td>\n",
              "      <td>35247</td>\n",
              "      <td>47</td>\n",
              "    </tr>\n",
              "    <tr>\n",
              "      <th>...</th>\n",
              "      <td>...</td>\n",
              "      <td>...</td>\n",
              "      <td>...</td>\n",
              "      <td>...</td>\n",
              "      <td>...</td>\n",
              "      <td>...</td>\n",
              "      <td>...</td>\n",
              "      <td>...</td>\n",
              "      <td>...</td>\n",
              "    </tr>\n",
              "    <tr>\n",
              "      <th>175</th>\n",
              "      <td>TM798</td>\n",
              "      <td>40</td>\n",
              "      <td>Male</td>\n",
              "      <td>21</td>\n",
              "      <td>Single</td>\n",
              "      <td>6</td>\n",
              "      <td>5</td>\n",
              "      <td>83416</td>\n",
              "      <td>200</td>\n",
              "    </tr>\n",
              "    <tr>\n",
              "      <th>176</th>\n",
              "      <td>TM798</td>\n",
              "      <td>42</td>\n",
              "      <td>Male</td>\n",
              "      <td>18</td>\n",
              "      <td>Single</td>\n",
              "      <td>5</td>\n",
              "      <td>4</td>\n",
              "      <td>89641</td>\n",
              "      <td>200</td>\n",
              "    </tr>\n",
              "    <tr>\n",
              "      <th>177</th>\n",
              "      <td>TM798</td>\n",
              "      <td>45</td>\n",
              "      <td>Male</td>\n",
              "      <td>16</td>\n",
              "      <td>Single</td>\n",
              "      <td>5</td>\n",
              "      <td>5</td>\n",
              "      <td>90886</td>\n",
              "      <td>160</td>\n",
              "    </tr>\n",
              "    <tr>\n",
              "      <th>178</th>\n",
              "      <td>TM798</td>\n",
              "      <td>47</td>\n",
              "      <td>Male</td>\n",
              "      <td>18</td>\n",
              "      <td>Partnered</td>\n",
              "      <td>4</td>\n",
              "      <td>5</td>\n",
              "      <td>104581</td>\n",
              "      <td>120</td>\n",
              "    </tr>\n",
              "    <tr>\n",
              "      <th>179</th>\n",
              "      <td>TM798</td>\n",
              "      <td>48</td>\n",
              "      <td>Male</td>\n",
              "      <td>18</td>\n",
              "      <td>Partnered</td>\n",
              "      <td>4</td>\n",
              "      <td>5</td>\n",
              "      <td>95508</td>\n",
              "      <td>180</td>\n",
              "    </tr>\n",
              "  </tbody>\n",
              "</table>\n",
              "<p>180 rows × 9 columns</p>\n",
              "</div>"
            ],
            "text/plain": [
              "    Product  Age  Gender  Education MaritalStatus  Usage  Fitness  Income  \\\n",
              "0     TM195   18    Male         14        Single      3        4   29562   \n",
              "1     TM195   19    Male         15        Single      2        3   31836   \n",
              "2     TM195   19  Female         14     Partnered      4        3   30699   \n",
              "3     TM195   19    Male         12        Single      3        3   32973   \n",
              "4     TM195   20    Male         13     Partnered      4        2   35247   \n",
              "..      ...  ...     ...        ...           ...    ...      ...     ...   \n",
              "175   TM798   40    Male         21        Single      6        5   83416   \n",
              "176   TM798   42    Male         18        Single      5        4   89641   \n",
              "177   TM798   45    Male         16        Single      5        5   90886   \n",
              "178   TM798   47    Male         18     Partnered      4        5  104581   \n",
              "179   TM798   48    Male         18     Partnered      4        5   95508   \n",
              "\n",
              "     Miles  \n",
              "0      112  \n",
              "1       75  \n",
              "2       66  \n",
              "3       85  \n",
              "4       47  \n",
              "..     ...  \n",
              "175    200  \n",
              "176    200  \n",
              "177    160  \n",
              "178    120  \n",
              "179    180  \n",
              "\n",
              "[180 rows x 9 columns]"
            ]
          },
          "execution_count": 2,
          "metadata": {},
          "output_type": "execute_result"
        }
      ],
      "source": [
        "import pandas as pd\n",
        "fit_df = pd.read_csv('../datasets/fitness.csv')\n",
        "fit_df"
      ]
    },
    {
      "cell_type": "code",
      "execution_count": 3,
      "metadata": {
        "id": "xwOVK2hbCmL8"
      },
      "outputs": [],
      "source": [
        "# Librerías para visualización\n",
        "import seaborn as sns\n",
        "import matplotlib.pyplot as plt"
      ]
    },
    {
      "cell_type": "code",
      "execution_count": 4,
      "metadata": {
        "colab": {
          "base_uri": "https://localhost:8080/"
        },
        "id": "VJzNZtiBCmMM",
        "outputId": "f1d45519-0354-4f56-fcc9-3b87cb678092"
      },
      "outputs": [
        {
          "name": "stdout",
          "output_type": "stream",
          "text": [
            "<class 'pandas.core.frame.DataFrame'>\n",
            "RangeIndex: 180 entries, 0 to 179\n",
            "Data columns (total 9 columns):\n",
            " #   Column         Non-Null Count  Dtype \n",
            "---  ------         --------------  ----- \n",
            " 0   Product        180 non-null    object\n",
            " 1   Age            180 non-null    int64 \n",
            " 2   Gender         180 non-null    object\n",
            " 3   Education      180 non-null    int64 \n",
            " 4   MaritalStatus  180 non-null    object\n",
            " 5   Usage          180 non-null    int64 \n",
            " 6   Fitness        180 non-null    int64 \n",
            " 7   Income         180 non-null    int64 \n",
            " 8   Miles          180 non-null    int64 \n",
            "dtypes: int64(6), object(3)\n",
            "memory usage: 12.8+ KB\n"
          ]
        }
      ],
      "source": [
        "fit_df.info()"
      ]
    },
    {
      "cell_type": "code",
      "execution_count": 5,
      "metadata": {
        "colab": {
          "base_uri": "https://localhost:8080/"
        },
        "id": "F3XR_b0xeOss",
        "outputId": "34f6bbbf-8b5f-4a51-dc89-83e2abcc09b2"
      },
      "outputs": [
        {
          "data": {
            "text/plain": [
              "Product           3\n",
              "Age              32\n",
              "Gender            2\n",
              "Education         8\n",
              "MaritalStatus     2\n",
              "Usage             6\n",
              "Fitness           5\n",
              "Income           62\n",
              "Miles            37\n",
              "dtype: int64"
            ]
          },
          "execution_count": 5,
          "metadata": {},
          "output_type": "execute_result"
        }
      ],
      "source": [
        "# Determinando la cantidad de valores únicos por columna\n",
        "fit_df.nunique()"
      ]
    },
    {
      "cell_type": "code",
      "execution_count": 7,
      "metadata": {
        "colab": {
          "base_uri": "https://localhost:8080/",
          "height": 237
        },
        "id": "n1lUl2IoCmMW",
        "outputId": "ebcae3a2-62d7-4ed9-f2ba-b12f20d1fac8"
      },
      "outputs": [
        {
          "data": {
            "text/html": [
              "<div>\n",
              "<style scoped>\n",
              "    .dataframe tbody tr th:only-of-type {\n",
              "        vertical-align: middle;\n",
              "    }\n",
              "\n",
              "    .dataframe tbody tr th {\n",
              "        vertical-align: top;\n",
              "    }\n",
              "\n",
              "    .dataframe thead th {\n",
              "        text-align: right;\n",
              "    }\n",
              "</style>\n",
              "<table border=\"1\" class=\"dataframe\">\n",
              "  <thead>\n",
              "    <tr style=\"text-align: right;\">\n",
              "      <th></th>\n",
              "      <th>count</th>\n",
              "      <th>mean</th>\n",
              "      <th>std</th>\n",
              "      <th>min</th>\n",
              "      <th>25%</th>\n",
              "      <th>50%</th>\n",
              "      <th>75%</th>\n",
              "      <th>max</th>\n",
              "    </tr>\n",
              "  </thead>\n",
              "  <tbody>\n",
              "    <tr>\n",
              "      <th>Age</th>\n",
              "      <td>180.0</td>\n",
              "      <td>28.788889</td>\n",
              "      <td>6.943498</td>\n",
              "      <td>18.0</td>\n",
              "      <td>24.00</td>\n",
              "      <td>26.0</td>\n",
              "      <td>33.00</td>\n",
              "      <td>50.0</td>\n",
              "    </tr>\n",
              "    <tr>\n",
              "      <th>Education</th>\n",
              "      <td>180.0</td>\n",
              "      <td>15.572222</td>\n",
              "      <td>1.617055</td>\n",
              "      <td>12.0</td>\n",
              "      <td>14.00</td>\n",
              "      <td>16.0</td>\n",
              "      <td>16.00</td>\n",
              "      <td>21.0</td>\n",
              "    </tr>\n",
              "    <tr>\n",
              "      <th>Usage</th>\n",
              "      <td>180.0</td>\n",
              "      <td>3.455556</td>\n",
              "      <td>1.084797</td>\n",
              "      <td>2.0</td>\n",
              "      <td>3.00</td>\n",
              "      <td>3.0</td>\n",
              "      <td>4.00</td>\n",
              "      <td>7.0</td>\n",
              "    </tr>\n",
              "    <tr>\n",
              "      <th>Fitness</th>\n",
              "      <td>180.0</td>\n",
              "      <td>3.311111</td>\n",
              "      <td>0.958869</td>\n",
              "      <td>1.0</td>\n",
              "      <td>3.00</td>\n",
              "      <td>3.0</td>\n",
              "      <td>4.00</td>\n",
              "      <td>5.0</td>\n",
              "    </tr>\n",
              "    <tr>\n",
              "      <th>Income</th>\n",
              "      <td>180.0</td>\n",
              "      <td>53719.577778</td>\n",
              "      <td>16506.684226</td>\n",
              "      <td>29562.0</td>\n",
              "      <td>44058.75</td>\n",
              "      <td>50596.5</td>\n",
              "      <td>58668.00</td>\n",
              "      <td>104581.0</td>\n",
              "    </tr>\n",
              "    <tr>\n",
              "      <th>Miles</th>\n",
              "      <td>180.0</td>\n",
              "      <td>103.194444</td>\n",
              "      <td>51.863605</td>\n",
              "      <td>21.0</td>\n",
              "      <td>66.00</td>\n",
              "      <td>94.0</td>\n",
              "      <td>114.75</td>\n",
              "      <td>360.0</td>\n",
              "    </tr>\n",
              "  </tbody>\n",
              "</table>\n",
              "</div>"
            ],
            "text/plain": [
              "           count          mean           std      min       25%      50%  \\\n",
              "Age        180.0     28.788889      6.943498     18.0     24.00     26.0   \n",
              "Education  180.0     15.572222      1.617055     12.0     14.00     16.0   \n",
              "Usage      180.0      3.455556      1.084797      2.0      3.00      3.0   \n",
              "Fitness    180.0      3.311111      0.958869      1.0      3.00      3.0   \n",
              "Income     180.0  53719.577778  16506.684226  29562.0  44058.75  50596.5   \n",
              "Miles      180.0    103.194444     51.863605     21.0     66.00     94.0   \n",
              "\n",
              "                75%       max  \n",
              "Age           33.00      50.0  \n",
              "Education     16.00      21.0  \n",
              "Usage          4.00       7.0  \n",
              "Fitness        4.00       5.0  \n",
              "Income     58668.00  104581.0  \n",
              "Miles        114.75     360.0  "
            ]
          },
          "execution_count": 7,
          "metadata": {},
          "output_type": "execute_result"
        }
      ],
      "source": [
        "# Estadísticas descriptivas de las variables numéricas\n",
        "fit_df.describe().T"
      ]
    },
    {
      "cell_type": "code",
      "execution_count": 8,
      "metadata": {
        "colab": {
          "base_uri": "https://localhost:8080/",
          "height": 143
        },
        "id": "QANZlxGYkDep",
        "outputId": "460b72d9-c432-44d9-e036-6f7ac1dac3b9"
      },
      "outputs": [
        {
          "data": {
            "text/html": [
              "<div>\n",
              "<style scoped>\n",
              "    .dataframe tbody tr th:only-of-type {\n",
              "        vertical-align: middle;\n",
              "    }\n",
              "\n",
              "    .dataframe tbody tr th {\n",
              "        vertical-align: top;\n",
              "    }\n",
              "\n",
              "    .dataframe thead th {\n",
              "        text-align: right;\n",
              "    }\n",
              "</style>\n",
              "<table border=\"1\" class=\"dataframe\">\n",
              "  <thead>\n",
              "    <tr style=\"text-align: right;\">\n",
              "      <th></th>\n",
              "      <th>count</th>\n",
              "      <th>unique</th>\n",
              "      <th>top</th>\n",
              "      <th>freq</th>\n",
              "    </tr>\n",
              "  </thead>\n",
              "  <tbody>\n",
              "    <tr>\n",
              "      <th>Product</th>\n",
              "      <td>180</td>\n",
              "      <td>3</td>\n",
              "      <td>TM195</td>\n",
              "      <td>80</td>\n",
              "    </tr>\n",
              "    <tr>\n",
              "      <th>Gender</th>\n",
              "      <td>180</td>\n",
              "      <td>2</td>\n",
              "      <td>Male</td>\n",
              "      <td>104</td>\n",
              "    </tr>\n",
              "    <tr>\n",
              "      <th>MaritalStatus</th>\n",
              "      <td>180</td>\n",
              "      <td>2</td>\n",
              "      <td>Partnered</td>\n",
              "      <td>107</td>\n",
              "    </tr>\n",
              "  </tbody>\n",
              "</table>\n",
              "</div>"
            ],
            "text/plain": [
              "              count unique        top freq\n",
              "Product         180      3      TM195   80\n",
              "Gender          180      2       Male  104\n",
              "MaritalStatus   180      2  Partnered  107"
            ]
          },
          "execution_count": 8,
          "metadata": {},
          "output_type": "execute_result"
        }
      ],
      "source": [
        "# Estadísticas descriptivas de las variables de texto\n",
        "fit_df.describe(include = 'object').T"
      ]
    },
    {
      "cell_type": "code",
      "execution_count": 9,
      "metadata": {
        "id": "OB3oEI-YgpGm"
      },
      "outputs": [],
      "source": [
        "# Se hace una lista de variables numéricas y otra de categóricas\n",
        "num_cols = ['Age', 'Education', 'Usage', 'Income', 'Miles']\n",
        "cat_cols = ['Product', 'Gender', 'MaritalStatus', 'Fitness']"
      ]
    },
    {
      "cell_type": "code",
      "execution_count": 10,
      "metadata": {
        "colab": {
          "base_uri": "https://localhost:8080/"
        },
        "id": "_RqtEZrqgaep",
        "outputId": "25c6b3c2-a9b1-4136-d49a-88a14c0eb261"
      },
      "outputs": [
        {
          "name": "stdout",
          "output_type": "stream",
          "text": [
            "Product\n",
            "TM195    80\n",
            "TM498    60\n",
            "TM798    40\n",
            "Name: Product, dtype: int64\n",
            "--------------------------------------------------\n",
            "Gender\n",
            "Male      104\n",
            "Female     76\n",
            "Name: Gender, dtype: int64\n",
            "--------------------------------------------------\n",
            "MaritalStatus\n",
            "Partnered    107\n",
            "Single        73\n",
            "Name: MaritalStatus, dtype: int64\n",
            "--------------------------------------------------\n",
            "Fitness\n",
            "3    97\n",
            "5    31\n",
            "2    26\n",
            "4    24\n",
            "1     2\n",
            "Name: Fitness, dtype: int64\n",
            "--------------------------------------------------\n"
          ]
        }
      ],
      "source": [
        "# Recuento de cada categoría única en las variables categóricas\n",
        "for column in cat_cols:\n",
        "    print(column)\n",
        "    print(fit_df[column].value_counts())\n",
        "    print('-' * 50)"
      ]
    },
    {
      "cell_type": "code",
      "execution_count": 11,
      "metadata": {
        "colab": {
          "base_uri": "https://localhost:8080/"
        },
        "id": "CXXpGJjyCmMk",
        "outputId": "5d3ca3fd-54b7-4a25-9145-0ebac187f595"
      },
      "outputs": [
        {
          "data": {
            "text/plain": [
              "Product          0\n",
              "Age              0\n",
              "Gender           0\n",
              "Education        0\n",
              "MaritalStatus    0\n",
              "Usage            0\n",
              "Fitness          0\n",
              "Income           0\n",
              "Miles            0\n",
              "dtype: int64"
            ]
          },
          "execution_count": 11,
          "metadata": {},
          "output_type": "execute_result"
        }
      ],
      "source": [
        "# Comprobando valores faltantes\n",
        "fit_df.isna().sum()"
      ]
    },
    {
      "cell_type": "markdown",
      "metadata": {
        "id": "sZ4YtvWeCmMu"
      },
      "source": [
        "## **Análisis univariado**"
      ]
    },
    {
      "cell_type": "markdown",
      "metadata": {
        "id": "PONVs6K6CmMv"
      },
      "source": [
        "Variables numéricas"
      ]
    },
    {
      "cell_type": "code",
      "execution_count": 12,
      "metadata": {
        "colab": {
          "base_uri": "https://localhost:8080/",
          "height": 296
        },
        "id": "Rd7UI6W0ki_F",
        "outputId": "c35d1e23-3b71-40e8-be3a-f39ca10226e1"
      },
      "outputs": [
        {
          "data": {
            "image/png": "[encoded data removed]",
            "text/plain": [
              "<Figure size 2500x400 with 5 Axes>"
            ]
          },
          "metadata": {},
          "output_type": "display_data"
        }
      ],
      "source": [
        "fig, axes = plt.subplots(1,5, figsize=(25,4))\n",
        "axes = axes.ravel()\n",
        "for col, ax in zip(fit_df[num_cols], axes):\n",
        "  ax.hist(fit_df[col])\n",
        "  ax.set(title=f'{col}', xlabel=None)"
      ]
    },
    {
      "cell_type": "code",
      "execution_count": 13,
      "metadata": {
        "colab": {
          "base_uri": "https://localhost:8080/",
          "height": 279
        },
        "id": "OCd89jNs7EtS",
        "outputId": "3c838e4a-9602-4b4a-8b11-d542719b0092"
      },
      "outputs": [
        {
          "data": {
            "image/png": "[encoded data removed]",
            "text/plain": [
              "<Figure size 2500x400 with 5 Axes>"
            ]
          },
          "metadata": {},
          "output_type": "display_data"
        }
      ],
      "source": [
        "fig, axes = plt.subplots(1,5, figsize=(25,4))\n",
        "axes = axes.ravel()\n",
        "for col, ax in zip(fit_df[num_cols], axes):\n",
        "  ax.boxplot(fit_df[col], labels=[f'{col}'])"
      ]
    },
    {
      "cell_type": "markdown",
      "metadata": {
        "id": "YS0zRpcHCmNK"
      },
      "source": [
        "Variables categóricas"
      ]
    },
    {
      "cell_type": "code",
      "execution_count": 14,
      "metadata": {
        "colab": {
          "base_uri": "https://localhost:8080/",
          "height": 359
        },
        "id": "eKhq1bQrqKcX",
        "outputId": "aafaebed-1403-4156-e19f-e7c6f0d55c4b"
      },
      "outputs": [
        {
          "data": {
            "image/png": "[encoded data removed]",
            "text/plain": [
              "<Figure size 2000x400 with 4 Axes>"
            ]
          },
          "metadata": {},
          "output_type": "display_data"
        }
      ],
      "source": [
        "fig, axes = plt.subplots(1,4, figsize=(20,4))\n",
        "axes = axes.ravel()\n",
        "for col, ax in zip(fit_df[cat_cols], axes):\n",
        "  sns.countplot(x=fit_df[col], ax=ax)\n",
        "  ax.set(title=f'{col}', xlabel=None)"
      ]
    },
    {
      "cell_type": "markdown",
      "metadata": {
        "id": "yTgNbfJpJW23"
      },
      "source": [
        "## **Análisis Bivariado**"
      ]
    },
    {
      "cell_type": "code",
      "execution_count": 15,
      "metadata": {
        "colab": {
          "base_uri": "https://localhost:8080/",
          "height": 466
        },
        "id": "PYKgfuFHCmNs",
        "outputId": "b5f81d1c-9ba5-49b5-b3c2-a26408743296"
      },
      "outputs": [
        {
          "data": {
            "text/plain": [
              "<Axes: xlabel='Product', ylabel='Age'>"
            ]
          },
          "execution_count": 15,
          "metadata": {},
          "output_type": "execute_result"
        },
        {
          "data": {
            "image/png": "[encoded data removed]",
            "text/plain": [
              "<Figure size 640x480 with 1 Axes>"
            ]
          },
          "metadata": {},
          "output_type": "display_data"
        }
      ],
      "source": [
        "# Para saber si la edad influye en el producto que se compra\n",
        "sns.boxplot(x='Product', y='Age', data=fit_df)"
      ]
    },
    {
      "cell_type": "code",
      "execution_count": 16,
      "metadata": {
        "colab": {
          "base_uri": "https://localhost:8080/",
          "height": 466
        },
        "id": "68qF0Nj2xoC3",
        "outputId": "4cd5ac89-6345-4f90-8f99-f1a82d61b3c9"
      },
      "outputs": [
        {
          "data": {
            "text/plain": [
              "<Axes: xlabel='Gender', ylabel='Miles'>"
            ]
          },
          "execution_count": 16,
          "metadata": {},
          "output_type": "execute_result"
        },
        {
          "data": {
            "image/png": "[encoded data removed]",
            "text/plain": [
              "<Figure size 640x480 with 1 Axes>"
            ]
          },
          "metadata": {},
          "output_type": "display_data"
        }
      ],
      "source": [
        "# Para saber si el género influye en la cantidad de millas\n",
        "sns.boxplot(x='Gender', y='Miles', data=fit_df)"
      ]
    },
    {
      "cell_type": "markdown",
      "metadata": {
        "id": "a3FosXODCmNS"
      },
      "source": [
        "## **Análisis Multivariado**"
      ]
    },
    {
      "cell_type": "code",
      "execution_count": 17,
      "metadata": {
        "colab": {
          "base_uri": "https://localhost:8080/",
          "height": 452
        },
        "id": "cuGgoMuqIdZ2",
        "outputId": "9bd8831f-6675-4bf7-cee5-45beeac347a3"
      },
      "outputs": [
        {
          "data": {
            "text/plain": [
              "<Axes: >"
            ]
          },
          "execution_count": 17,
          "metadata": {},
          "output_type": "execute_result"
        },
        {
          "data": {
            "image/png": "[encoded data removed]",
            "text/plain": [
              "<Figure size 640x480 with 2 Axes>"
            ]
          },
          "metadata": {},
          "output_type": "display_data"
        }
      ],
      "source": [
        "sns.heatmap(round(fit_df.corr(numeric_only=True),2), annot = True)"
      ]
    },
    {
      "cell_type": "markdown",
      "metadata": {
        "id": "S7BGozYblIrZ"
      },
      "source": [
        "## **Ingeniería de características**"
      ]
    },
    {
      "cell_type": "code",
      "execution_count": 18,
      "metadata": {
        "colab": {
          "base_uri": "https://localhost:8080/",
          "height": 423
        },
        "id": "yrIASbI-lmhB",
        "outputId": "4bb8995f-aaed-441a-8fc6-c9e2cb7afec9"
      },
      "outputs": [
        {
          "name": "stderr",
          "output_type": "stream",
          "text": [
            "c:\\Users\\jmcar\\anaconda3\\Lib\\site-packages\\sklearn\\preprocessing\\_discretization.py:239: FutureWarning: In version 1.5 onwards, subsample=200_000 will be used by default. Set subsample explicitly to silence this warning in the mean time. Set subsample=None to disable subsampling explicitly.\n",
            "  warnings.warn(\n"
          ]
        },
        {
          "data": {
            "text/html": [
              "<div>\n",
              "<style scoped>\n",
              "    .dataframe tbody tr th:only-of-type {\n",
              "        vertical-align: middle;\n",
              "    }\n",
              "\n",
              "    .dataframe tbody tr th {\n",
              "        vertical-align: top;\n",
              "    }\n",
              "\n",
              "    .dataframe thead th {\n",
              "        text-align: right;\n",
              "    }\n",
              "</style>\n",
              "<table border=\"1\" class=\"dataframe\">\n",
              "  <thead>\n",
              "    <tr style=\"text-align: right;\">\n",
              "      <th></th>\n",
              "      <th>Age_0.0</th>\n",
              "      <th>Age_1.0</th>\n",
              "      <th>Age_2.0</th>\n",
              "    </tr>\n",
              "  </thead>\n",
              "  <tbody>\n",
              "    <tr>\n",
              "      <th>0</th>\n",
              "      <td>1.0</td>\n",
              "      <td>0.0</td>\n",
              "      <td>0.0</td>\n",
              "    </tr>\n",
              "    <tr>\n",
              "      <th>1</th>\n",
              "      <td>1.0</td>\n",
              "      <td>0.0</td>\n",
              "      <td>0.0</td>\n",
              "    </tr>\n",
              "    <tr>\n",
              "      <th>2</th>\n",
              "      <td>1.0</td>\n",
              "      <td>0.0</td>\n",
              "      <td>0.0</td>\n",
              "    </tr>\n",
              "    <tr>\n",
              "      <th>3</th>\n",
              "      <td>1.0</td>\n",
              "      <td>0.0</td>\n",
              "      <td>0.0</td>\n",
              "    </tr>\n",
              "    <tr>\n",
              "      <th>4</th>\n",
              "      <td>1.0</td>\n",
              "      <td>0.0</td>\n",
              "      <td>0.0</td>\n",
              "    </tr>\n",
              "    <tr>\n",
              "      <th>...</th>\n",
              "      <td>...</td>\n",
              "      <td>...</td>\n",
              "      <td>...</td>\n",
              "    </tr>\n",
              "    <tr>\n",
              "      <th>175</th>\n",
              "      <td>0.0</td>\n",
              "      <td>0.0</td>\n",
              "      <td>1.0</td>\n",
              "    </tr>\n",
              "    <tr>\n",
              "      <th>176</th>\n",
              "      <td>0.0</td>\n",
              "      <td>0.0</td>\n",
              "      <td>1.0</td>\n",
              "    </tr>\n",
              "    <tr>\n",
              "      <th>177</th>\n",
              "      <td>0.0</td>\n",
              "      <td>0.0</td>\n",
              "      <td>1.0</td>\n",
              "    </tr>\n",
              "    <tr>\n",
              "      <th>178</th>\n",
              "      <td>0.0</td>\n",
              "      <td>0.0</td>\n",
              "      <td>1.0</td>\n",
              "    </tr>\n",
              "    <tr>\n",
              "      <th>179</th>\n",
              "      <td>0.0</td>\n",
              "      <td>0.0</td>\n",
              "      <td>1.0</td>\n",
              "    </tr>\n",
              "  </tbody>\n",
              "</table>\n",
              "<p>180 rows × 3 columns</p>\n",
              "</div>"
            ],
            "text/plain": [
              "     Age_0.0  Age_1.0  Age_2.0\n",
              "0        1.0      0.0      0.0\n",
              "1        1.0      0.0      0.0\n",
              "2        1.0      0.0      0.0\n",
              "3        1.0      0.0      0.0\n",
              "4        1.0      0.0      0.0\n",
              "..       ...      ...      ...\n",
              "175      0.0      0.0      1.0\n",
              "176      0.0      0.0      1.0\n",
              "177      0.0      0.0      1.0\n",
              "178      0.0      0.0      1.0\n",
              "179      0.0      0.0      1.0\n",
              "\n",
              "[180 rows x 3 columns]"
            ]
          },
          "execution_count": 18,
          "metadata": {},
          "output_type": "execute_result"
        }
      ],
      "source": [
        "# Discretización (binning) de la edad\n",
        "from sklearn.preprocessing import KBinsDiscretizer\n",
        "\n",
        "grouper = KBinsDiscretizer(n_bins=3, strategy='uniform', encode='onehot-dense')\n",
        "grouped = grouper.fit_transform(fit_df[['Age']])\n",
        "grouped = pd.DataFrame(grouped, columns=grouper.get_feature_names_out())\n",
        "grouped"
      ]
    },
    {
      "cell_type": "code",
      "execution_count": 19,
      "metadata": {
        "colab": {
          "base_uri": "https://localhost:8080/",
          "height": 423
        },
        "id": "h_VoTHBhmgnn",
        "outputId": "db6e0163-6ceb-4209-ca4c-5269d4a5ce1d"
      },
      "outputs": [
        {
          "data": {
            "text/html": [
              "<div>\n",
              "<style scoped>\n",
              "    .dataframe tbody tr th:only-of-type {\n",
              "        vertical-align: middle;\n",
              "    }\n",
              "\n",
              "    .dataframe tbody tr th {\n",
              "        vertical-align: top;\n",
              "    }\n",
              "\n",
              "    .dataframe thead th {\n",
              "        text-align: right;\n",
              "    }\n",
              "</style>\n",
              "<table border=\"1\" class=\"dataframe\">\n",
              "  <thead>\n",
              "    <tr style=\"text-align: right;\">\n",
              "      <th></th>\n",
              "      <th>Product_TM498</th>\n",
              "      <th>Product_TM798</th>\n",
              "      <th>Gender_Male</th>\n",
              "      <th>MaritalStatus_Single</th>\n",
              "    </tr>\n",
              "  </thead>\n",
              "  <tbody>\n",
              "    <tr>\n",
              "      <th>0</th>\n",
              "      <td>0.0</td>\n",
              "      <td>0.0</td>\n",
              "      <td>1.0</td>\n",
              "      <td>1.0</td>\n",
              "    </tr>\n",
              "    <tr>\n",
              "      <th>1</th>\n",
              "      <td>0.0</td>\n",
              "      <td>0.0</td>\n",
              "      <td>1.0</td>\n",
              "      <td>1.0</td>\n",
              "    </tr>\n",
              "    <tr>\n",
              "      <th>2</th>\n",
              "      <td>0.0</td>\n",
              "      <td>0.0</td>\n",
              "      <td>0.0</td>\n",
              "      <td>0.0</td>\n",
              "    </tr>\n",
              "    <tr>\n",
              "      <th>3</th>\n",
              "      <td>0.0</td>\n",
              "      <td>0.0</td>\n",
              "      <td>1.0</td>\n",
              "      <td>1.0</td>\n",
              "    </tr>\n",
              "    <tr>\n",
              "      <th>4</th>\n",
              "      <td>0.0</td>\n",
              "      <td>0.0</td>\n",
              "      <td>1.0</td>\n",
              "      <td>0.0</td>\n",
              "    </tr>\n",
              "    <tr>\n",
              "      <th>...</th>\n",
              "      <td>...</td>\n",
              "      <td>...</td>\n",
              "      <td>...</td>\n",
              "      <td>...</td>\n",
              "    </tr>\n",
              "    <tr>\n",
              "      <th>175</th>\n",
              "      <td>0.0</td>\n",
              "      <td>1.0</td>\n",
              "      <td>1.0</td>\n",
              "      <td>1.0</td>\n",
              "    </tr>\n",
              "    <tr>\n",
              "      <th>176</th>\n",
              "      <td>0.0</td>\n",
              "      <td>1.0</td>\n",
              "      <td>1.0</td>\n",
              "      <td>1.0</td>\n",
              "    </tr>\n",
              "    <tr>\n",
              "      <th>177</th>\n",
              "      <td>0.0</td>\n",
              "      <td>1.0</td>\n",
              "      <td>1.0</td>\n",
              "      <td>1.0</td>\n",
              "    </tr>\n",
              "    <tr>\n",
              "      <th>178</th>\n",
              "      <td>0.0</td>\n",
              "      <td>1.0</td>\n",
              "      <td>1.0</td>\n",
              "      <td>0.0</td>\n",
              "    </tr>\n",
              "    <tr>\n",
              "      <th>179</th>\n",
              "      <td>0.0</td>\n",
              "      <td>1.0</td>\n",
              "      <td>1.0</td>\n",
              "      <td>0.0</td>\n",
              "    </tr>\n",
              "  </tbody>\n",
              "</table>\n",
              "<p>180 rows × 4 columns</p>\n",
              "</div>"
            ],
            "text/plain": [
              "     Product_TM498  Product_TM798  Gender_Male  MaritalStatus_Single\n",
              "0              0.0            0.0          1.0                   1.0\n",
              "1              0.0            0.0          1.0                   1.0\n",
              "2              0.0            0.0          0.0                   0.0\n",
              "3              0.0            0.0          1.0                   1.0\n",
              "4              0.0            0.0          1.0                   0.0\n",
              "..             ...            ...          ...                   ...\n",
              "175            0.0            1.0          1.0                   1.0\n",
              "176            0.0            1.0          1.0                   1.0\n",
              "177            0.0            1.0          1.0                   1.0\n",
              "178            0.0            1.0          1.0                   0.0\n",
              "179            0.0            1.0          1.0                   0.0\n",
              "\n",
              "[180 rows x 4 columns]"
            ]
          },
          "execution_count": 19,
          "metadata": {},
          "output_type": "execute_result"
        }
      ],
      "source": [
        "# Codificación de las variables categóricas de texto\n",
        "from sklearn.preprocessing import OneHotEncoder\n",
        "\n",
        "encoder = OneHotEncoder(drop='first', sparse_output=False)\n",
        "encoded = encoder.fit_transform(fit_df[['Product', 'Gender', 'MaritalStatus']])\n",
        "encoded_df = pd.DataFrame(encoded, columns=encoder.get_feature_names_out())\n",
        "encoded_df"
      ]
    },
    {
      "cell_type": "code",
      "execution_count": 20,
      "metadata": {
        "colab": {
          "base_uri": "https://localhost:8080/",
          "height": 423
        },
        "id": "o9PovTeXlGV1",
        "outputId": "faca6fc9-8133-4453-d25e-f2fa636c7f1d"
      },
      "outputs": [
        {
          "data": {
            "text/html": [
              "<div>\n",
              "<style scoped>\n",
              "    .dataframe tbody tr th:only-of-type {\n",
              "        vertical-align: middle;\n",
              "    }\n",
              "\n",
              "    .dataframe tbody tr th {\n",
              "        vertical-align: top;\n",
              "    }\n",
              "\n",
              "    .dataframe thead th {\n",
              "        text-align: right;\n",
              "    }\n",
              "</style>\n",
              "<table border=\"1\" class=\"dataframe\">\n",
              "  <thead>\n",
              "    <tr style=\"text-align: right;\">\n",
              "      <th></th>\n",
              "      <th>Income</th>\n",
              "      <th>Miles</th>\n",
              "    </tr>\n",
              "  </thead>\n",
              "  <tbody>\n",
              "    <tr>\n",
              "      <th>0</th>\n",
              "      <td>1.365525</td>\n",
              "      <td>3.798889</td>\n",
              "    </tr>\n",
              "    <tr>\n",
              "      <th>1</th>\n",
              "      <td>1.365563</td>\n",
              "      <td>3.538352</td>\n",
              "    </tr>\n",
              "    <tr>\n",
              "      <th>2</th>\n",
              "      <td>1.365545</td>\n",
              "      <td>3.453180</td>\n",
              "    </tr>\n",
              "    <tr>\n",
              "      <th>3</th>\n",
              "      <td>1.365581</td>\n",
              "      <td>3.620744</td>\n",
              "    </tr>\n",
              "    <tr>\n",
              "      <th>4</th>\n",
              "      <td>1.365613</td>\n",
              "      <td>3.221864</td>\n",
              "    </tr>\n",
              "    <tr>\n",
              "      <th>...</th>\n",
              "      <td>...</td>\n",
              "      <td>...</td>\n",
              "    </tr>\n",
              "    <tr>\n",
              "      <th>175</th>\n",
              "      <td>1.365913</td>\n",
              "      <td>4.158393</td>\n",
              "    </tr>\n",
              "    <tr>\n",
              "      <th>176</th>\n",
              "      <td>1.365931</td>\n",
              "      <td>4.158393</td>\n",
              "    </tr>\n",
              "    <tr>\n",
              "      <th>177</th>\n",
              "      <td>1.365934</td>\n",
              "      <td>4.022388</td>\n",
              "    </tr>\n",
              "    <tr>\n",
              "      <th>178</th>\n",
              "      <td>1.365965</td>\n",
              "      <td>3.842717</td>\n",
              "    </tr>\n",
              "    <tr>\n",
              "      <th>179</th>\n",
              "      <td>1.365945</td>\n",
              "      <td>4.094537</td>\n",
              "    </tr>\n",
              "  </tbody>\n",
              "</table>\n",
              "<p>180 rows × 2 columns</p>\n",
              "</div>"
            ],
            "text/plain": [
              "       Income     Miles\n",
              "0    1.365525  3.798889\n",
              "1    1.365563  3.538352\n",
              "2    1.365545  3.453180\n",
              "3    1.365581  3.620744\n",
              "4    1.365613  3.221864\n",
              "..        ...       ...\n",
              "175  1.365913  4.158393\n",
              "176  1.365931  4.158393\n",
              "177  1.365934  4.022388\n",
              "178  1.365965  3.842717\n",
              "179  1.365945  4.094537\n",
              "\n",
              "[180 rows x 2 columns]"
            ]
          },
          "execution_count": 20,
          "metadata": {},
          "output_type": "execute_result"
        }
      ],
      "source": [
        "# Transformación de las variables numéricas sesgadas\n",
        "from sklearn.preprocessing import PowerTransformer\n",
        "\n",
        "transformer = PowerTransformer(method='box-cox', standardize=False)\n",
        "transf = transformer.fit_transform(fit_df[['Income','Miles']])\n",
        "transf_df = pd.DataFrame(transf, columns=transformer.get_feature_names_out())\n",
        "transf_df"
      ]
    },
    {
      "cell_type": "code",
      "execution_count": 21,
      "metadata": {
        "colab": {
          "base_uri": "https://localhost:8080/",
          "height": 409
        },
        "id": "7wiF1-Taql4Z",
        "outputId": "27c7a04f-f2a2-4b08-fac2-f3b1f66f17f8"
      },
      "outputs": [
        {
          "data": {
            "image/png": "[encoded data removed]",
            "text/plain": [
              "<Figure size 1000x400 with 2 Axes>"
            ]
          },
          "metadata": {},
          "output_type": "display_data"
        }
      ],
      "source": [
        "# Transformación de las variables numéricas sesgadas\n",
        "fig, axes = plt.subplots(1,2, figsize=(10,4))\n",
        "axes = axes.ravel()\n",
        "for col, ax in zip(transf_df, axes):\n",
        "  ax.hist(transf_df[col])\n",
        "  ax.set(title=f'{col}', xlabel=None)"
      ]
    },
    {
      "cell_type": "code",
      "execution_count": 22,
      "metadata": {
        "colab": {
          "base_uri": "https://localhost:8080/",
          "height": 423
        },
        "id": "pQAyTWICrnpY",
        "outputId": "52b5bed7-e75c-475a-9c62-088ec4ad92ed"
      },
      "outputs": [
        {
          "data": {
            "text/html": [
              "<div>\n",
              "<style scoped>\n",
              "    .dataframe tbody tr th:only-of-type {\n",
              "        vertical-align: middle;\n",
              "    }\n",
              "\n",
              "    .dataframe tbody tr th {\n",
              "        vertical-align: top;\n",
              "    }\n",
              "\n",
              "    .dataframe thead th {\n",
              "        text-align: right;\n",
              "    }\n",
              "</style>\n",
              "<table border=\"1\" class=\"dataframe\">\n",
              "  <thead>\n",
              "    <tr style=\"text-align: right;\">\n",
              "      <th></th>\n",
              "      <th>Income</th>\n",
              "      <th>Miles</th>\n",
              "    </tr>\n",
              "  </thead>\n",
              "  <tbody>\n",
              "    <tr>\n",
              "      <th>0</th>\n",
              "      <td>0.000000</td>\n",
              "      <td>0.621619</td>\n",
              "    </tr>\n",
              "    <tr>\n",
              "      <th>1</th>\n",
              "      <td>0.087502</td>\n",
              "      <td>0.481626</td>\n",
              "    </tr>\n",
              "    <tr>\n",
              "      <th>2</th>\n",
              "      <td>0.045154</td>\n",
              "      <td>0.435861</td>\n",
              "    </tr>\n",
              "    <tr>\n",
              "      <th>3</th>\n",
              "      <td>0.127309</td>\n",
              "      <td>0.525897</td>\n",
              "    </tr>\n",
              "    <tr>\n",
              "      <th>4</th>\n",
              "      <td>0.200201</td>\n",
              "      <td>0.311569</td>\n",
              "    </tr>\n",
              "    <tr>\n",
              "      <th>...</th>\n",
              "      <td>...</td>\n",
              "      <td>...</td>\n",
              "    </tr>\n",
              "    <tr>\n",
              "      <th>175</th>\n",
              "      <td>0.881687</td>\n",
              "      <td>0.814790</td>\n",
              "    </tr>\n",
              "    <tr>\n",
              "      <th>176</th>\n",
              "      <td>0.921490</td>\n",
              "      <td>0.814790</td>\n",
              "    </tr>\n",
              "    <tr>\n",
              "      <th>177</th>\n",
              "      <td>0.928881</td>\n",
              "      <td>0.741711</td>\n",
              "    </tr>\n",
              "    <tr>\n",
              "      <th>178</th>\n",
              "      <td>1.000000</td>\n",
              "      <td>0.645169</td>\n",
              "    </tr>\n",
              "    <tr>\n",
              "      <th>179</th>\n",
              "      <td>0.954854</td>\n",
              "      <td>0.780478</td>\n",
              "    </tr>\n",
              "  </tbody>\n",
              "</table>\n",
              "<p>180 rows × 2 columns</p>\n",
              "</div>"
            ],
            "text/plain": [
              "       Income     Miles\n",
              "0    0.000000  0.621619\n",
              "1    0.087502  0.481626\n",
              "2    0.045154  0.435861\n",
              "3    0.127309  0.525897\n",
              "4    0.200201  0.311569\n",
              "..        ...       ...\n",
              "175  0.881687  0.814790\n",
              "176  0.921490  0.814790\n",
              "177  0.928881  0.741711\n",
              "178  1.000000  0.645169\n",
              "179  0.954854  0.780478\n",
              "\n",
              "[180 rows x 2 columns]"
            ]
          },
          "execution_count": 22,
          "metadata": {},
          "output_type": "execute_result"
        }
      ],
      "source": [
        "# Escalamiento de las variables numéricas sesgadas\n",
        "from sklearn.preprocessing import MinMaxScaler\n",
        "\n",
        "scaler = MinMaxScaler()\n",
        "minmax = scaler.fit_transform(transf_df)\n",
        "minmax_df = pd.DataFrame(minmax, columns=scaler.get_feature_names_out())\n",
        "minmax_df"
      ]
    },
    {
      "cell_type": "code",
      "execution_count": 23,
      "metadata": {
        "colab": {
          "base_uri": "https://localhost:8080/",
          "height": 391
        },
        "id": "jnKpXJKprrvR",
        "outputId": "67ab4d78-834a-4fba-9ac3-a7b405043697"
      },
      "outputs": [
        {
          "data": {
            "image/png": "[encoded data removed]",
            "text/plain": [
              "<Figure size 1000x400 with 2 Axes>"
            ]
          },
          "metadata": {},
          "output_type": "display_data"
        }
      ],
      "source": [
        "fig, axes = plt.subplots(1,2, figsize=(10,4))\n",
        "axes = axes.ravel()\n",
        "for col, ax in zip(minmax_df, axes):\n",
        "  ax.hist(minmax_df[col])\n",
        "  ax.set(title=f'{col}', xlabel=None)"
      ]
    }
  ],
  "metadata": {
    "colab": {
      "provenance": []
    },
    "kernelspec": {
      "display_name": "Python 3 (ipykernel)",
      "language": "python",
      "name": "python3"
    },
    "language_info": {
      "codemirror_mode": {
        "name": "ipython",
        "version": 3
      },
      "file_extension": ".py",
      "mimetype": "text/x-python",
      "name": "python",
      "nbconvert_exporter": "python",
      "pygments_lexer": "ipython3",
      "version": "3.11.4"
    },
    "toc": {
      "base_numbering": 1,
      "nav_menu": {},
      "number_sections": true,
      "sideBar": true,
      "skip_h1_title": false,
      "title_cell": "Table of Contents",
      "title_sidebar": "Contents",
      "toc_cell": false,
      "toc_position": {},
      "toc_section_display": true,
      "toc_window_display": false
    }
  },
  "nbformat": 4,
  "nbformat_minor": 0
}
