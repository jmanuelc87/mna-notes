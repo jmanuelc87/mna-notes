{
  "cells": [
    {
      "cell_type": "markdown",
      "metadata": {
        "id": "759SG4TyfbUn"
      },
      "source": [
        "#**Maestría en Inteligencia Artificial Aplicada**\n",
        "##**Curso: Procesamiento de Lenguaje Natural (NLP)**\n",
        "###Tecnológico de Monterrey\n",
        "###Prof Luis Eduardo Falcón Morales\n",
        "\n",
        "## **Adtividad de la Semana 02**\n",
        "###**Introducción al procesamiento de texto.**"
      ]
    },
    {
      "cell_type": "markdown",
      "metadata": {
        "id": "6ue1YAKx3XDo"
      },
      "source": [
        "En esta actividad deberás utilizar los datos del siguiente archivo que se encuentra en Canvas:\n",
        "\n",
        "MNA_NLP_semana_02_Actividad_datos.txt\n",
        "\n",
        "El archivo contiene comentarios en inglés sobre servicios de comida de la página de Yelp: https://www.yelp.com/ . \n",
        "\n",
        "Son mil comentarios y forman parte del conjunto de datos que se encuentra en el Machine Learning Repository de la UCI, llamado \"Sentiment Labelled Sentences\": https://archive.ics.uci.edu/ml/datasets/Sentiment+Labelled+Sentences#\n"
      ]
    },
    {
      "cell_type": "markdown",
      "metadata": {
        "id": "Zj-h4drXD-X9"
      },
      "source": [
        "#**Parte 1. Cargamos los datos.**   "
      ]
    },
    {
      "cell_type": "markdown",
      "metadata": {
        "id": "BY6yifxscfrx"
      },
      "source": [
        "Cargar los datos del archivo indicado y obtener una lista de longitud de 1000 strings/comentarios. \n",
        "\n",
        "Por el momento solamente requerimos las bibliotecas de Numpy y re, para el manejo de los arreglos y de las expresiones regulares en Python.\n",
        "\n",
        "En particular, no necesitarás en esta actividad la biblioteca de Pandas.\n",
        "\n",
        "###**NOTA: En esta actividad no debes importar nada más, con estas dos bibliotecas será *suficiente*.**"
      ]
    },
    {
      "cell_type": "code",
      "execution_count": 1,
      "metadata": {
        "id": "OJ26dAfhdFnf"
      },
      "outputs": [],
      "source": [
        "import numpy as np    # importamos Numpy para el manejo de los arreglos.\n",
        "import re             # importamos re para el manejo de las expresiones regulares."
      ]
    },
    {
      "cell_type": "code",
      "execution_count": 2,
      "metadata": {
        "id": "QHUmJyjDdGNP"
      },
      "outputs": [],
      "source": [
        "# Ejecuta las siguientes instrucciones para cargar la información del achivo dado:\n",
        "\n",
        "with open('../corpus/MNA_NLP_semana_02_Actividad_datos.txt',        # puedes actualizar la ruta a tu archivo, en dado caso.\n",
        "          mode='r',     # abrimos el archivo en modo lectura.\n",
        "          ) as f:\n",
        "    docs = f.readlines()    # separamos cada comentario por líneas\n",
        "\n",
        "f.close()  # ya que tenemos la información en la variable docs, cerramos el archivo"
      ]
    },
    {
      "cell_type": "code",
      "execution_count": 3,
      "metadata": {
        "id": "L6WzrSrodG-Y"
      },
      "outputs": [
        {
          "data": {
            "text/plain": [
              "True"
            ]
          },
          "execution_count": 3,
          "metadata": {},
          "output_type": "execute_result"
        }
      ],
      "source": [
        "type(docs) == list   # Verifica que tu variable \"docs\" es una lista"
      ]
    },
    {
      "cell_type": "code",
      "execution_count": 4,
      "metadata": {
        "id": "QIK1u9WS2FtS"
      },
      "outputs": [
        {
          "data": {
            "text/plain": [
              "True"
            ]
          },
          "execution_count": 4,
          "metadata": {},
          "output_type": "execute_result"
        }
      ],
      "source": [
        "len(docs)==1000  # verifica que la longitud de \"docs\" es de mil comentarios."
      ]
    },
    {
      "cell_type": "code",
      "execution_count": 5,
      "metadata": {
        "id": "9AMLIfQvJqNZ"
      },
      "outputs": [
        {
          "data": {
            "text/plain": [
              "['Wow... Loved this place.\\n',\n",
              " 'Crust is not good.\\n',\n",
              " 'Not tasty and the texture was just nasty.\\n',\n",
              " 'Stopped by during the late May bank holiday off Rick Steve recommendation and loved it.\\n',\n",
              " 'The selection on the menu was great and so were the prices.\\n',\n",
              " 'Now I am getting angry and I want my damn pho.\\n',\n",
              " \"Honeslty it didn't taste THAT fresh.)\\n\",\n",
              " 'The potatoes were like rubber and you could tell they had been made up ahead of time being kept under a warmer.\\n',\n",
              " 'The fries were great too.\\n',\n",
              " 'A great touch.\\n']"
            ]
          },
          "execution_count": 5,
          "metadata": {},
          "output_type": "execute_result"
        }
      ],
      "source": [
        "docs[0:10]     # observa algunos de los primeros comentarios"
      ]
    },
    {
      "cell_type": "markdown",
      "metadata": {
        "id": "k_ewoagic5jc"
      },
      "source": [
        "#**Parte 2: sección de preguntas (regex).**   \n"
      ]
    },
    {
      "cell_type": "markdown",
      "metadata": {
        "id": "X-eMJa3DFCIV"
      },
      "source": [
        "##**Instrucciones:**\n",
        "\n",
        "###**A continuación deberás contestar cada una de las preguntas que te piden usando expresiones regulares (regex).**\n",
        "\n",
        "###**Por el momento no hay restricción en cuanto al número de líneas de código que agregues, pero trata de incluir las mínimas posibles.**"
      ]
    },
    {
      "cell_type": "markdown",
      "metadata": {
        "id": "78nJMemzn5a5"
      },
      "source": [
        "*   **Pregunta 1.** \n",
        "\n",
        "Busca y elimina todos los saltos de línea '\\n' que se encuentran al final de cada comentario. \n",
        "\n",
        "Una vez finalizado, imprime los primeros 10 comentarios del resultado obtenido.\n"
      ]
    },
    {
      "cell_type": "code",
      "execution_count": 6,
      "metadata": {
        "id": "PwbYYIuZn8pE"
      },
      "outputs": [],
      "source": [
        "docs = [ doc.strip() for doc in docs ]"
      ]
    },
    {
      "cell_type": "code",
      "execution_count": 7,
      "metadata": {
        "id": "j-0qeh2Jn8l1"
      },
      "outputs": [
        {
          "data": {
            "text/plain": [
              "['Wow... Loved this place.',\n",
              " 'Crust is not good.',\n",
              " 'Not tasty and the texture was just nasty.',\n",
              " 'Stopped by during the late May bank holiday off Rick Steve recommendation and loved it.',\n",
              " 'The selection on the menu was great and so were the prices.',\n",
              " 'Now I am getting angry and I want my damn pho.',\n",
              " \"Honeslty it didn't taste THAT fresh.)\",\n",
              " 'The potatoes were like rubber and you could tell they had been made up ahead of time being kept under a warmer.',\n",
              " 'The fries were great too.',\n",
              " 'A great touch.']"
            ]
          },
          "execution_count": 7,
          "metadata": {},
          "output_type": "execute_result"
        }
      ],
      "source": [
        "docs[0:10]"
      ]
    },
    {
      "cell_type": "code",
      "execution_count": 8,
      "metadata": {},
      "outputs": [],
      "source": [
        "def p(q):\n",
        "   return f\"Se obtuvieron {len(q)} y son {q}\""
      ]
    },
    {
      "cell_type": "markdown",
      "metadata": {
        "id": "VWeKQC93ctEo"
      },
      "source": [
        "*   **Pregunta 2.**  \n",
        "\n",
        "Busca e imprime todas las palabras que terminan con dos o más signos de admiración seguidos, por ejemplo \"!!!\". \n",
        "\n",
        "Debes imprimir tanto la palabra como la totalidad de signos de admiración que le siguen. \n",
        "\n",
        "Indica cuántos resultados obtuviste.\n",
        "\n"
      ]
    },
    {
      "cell_type": "code",
      "execution_count": 9,
      "metadata": {
        "id": "0p3kMXfddICc"
      },
      "outputs": [],
      "source": [
        "q2 = re.findall(r'(\\w+\\!{3,})', ' '.join(docs))"
      ]
    },
    {
      "cell_type": "code",
      "execution_count": 10,
      "metadata": {
        "id": "SPVM1MCWdH6Z"
      },
      "outputs": [
        {
          "data": {
            "text/plain": [
              "\"Se obtuvieron 15 y son ['Firehouse!!!!!', 'APPETIZERS!!!', 'amazing!!!', 'buffet!!!', 'it!!!!', 'shawarrrrrrma!!!!!!', 'yucky!!!', 'steak!!!!!', 'delicious!!!', 'biscuits!!!', 'disappointing!!!', 'FLY!!!!!!!!', 'here!!!', 'great!!!!!!!!!!!!!!', 'amazing!!!!!!!!!!!!!!!!!!!']\""
            ]
          },
          "execution_count": 10,
          "metadata": {},
          "output_type": "execute_result"
        }
      ],
      "source": [
        "p(q2)"
      ]
    },
    {
      "cell_type": "markdown",
      "metadata": {
        "id": "-s3okBqL96TT"
      },
      "source": [
        "*   **Pregunta 3.**  \n",
        "\n",
        "Busca e imprime todas las palabras que están escritas totalmente en mayúsculas. Cada coincidencia debe ser una sola palabra.\n",
        "\n",
        "Indica cuántas palabras encontraste.\n",
        "\n"
      ]
    },
    {
      "cell_type": "code",
      "execution_count": 11,
      "metadata": {
        "id": "yKHJkZKo_nW5"
      },
      "outputs": [],
      "source": [
        "q3 = re.findall(r'([A-Z][A-Z]+)', \" \".join(docs))"
      ]
    },
    {
      "cell_type": "code",
      "execution_count": 12,
      "metadata": {
        "id": "L3q08aq69sNn"
      },
      "outputs": [
        {
          "data": {
            "text/plain": [
              "\"Se obtuvieron 97 y son ['THAT', 'APPETIZERS', 'WILL', 'NEVER', 'EVER', 'STEP', 'FORWARD', 'IN', 'IT', 'AGAIN', 'LOVED', 'AND', 'REAL', 'BITCHES', 'NYC', 'STALE', 'DELICIOUS', 'WORST', 'EXPERIENCE', 'EVER', 'ALL', 'BARGAIN', 'TV', 'NONE', 'FREEZING', 'AYCE', 'FLAVOR', 'NEVER', 'BBQ', 'UNREAL', 'OMG', 'BETTER', 'BLAND', 'RUDE', 'INCONSIDERATE', 'MANAGEMENT', 'WILL', 'NEVER', 'EVER', 'GO', 'BACK', 'AND', 'HAVE', 'TOLD', 'MANY', 'PEOPLE', 'WHAT', 'HAD', 'HAPPENED', 'TOTAL', 'WASTE', 'OF', 'TIME', 'FS', 'AZ', 'LOVED', 'CONCLUSION', 'BEST', 'GO', 'NOW', 'GC', 'AVOID', 'THIS', 'ESTABLISHMENT', 'AN', 'HOUR', 'NASTY', 'OMG', 'NO', 'BEST', 'THE', 'OWNERS', 'REALLY', 'REALLY', 'PERFECT', 'SCREAMS', 'LEGIT', 'MGM', 'BEST', 'FLY', 'FLY', 'FANTASTIC', 'GREAT', 'OK', 'WAY', 'MUST', 'HAVE', 'OK', 'OVERPRICED', 'BARE', 'HANDS', 'WEAK', 'SHOULD', 'RI', 'WAAAAAA', 'VERY', 'NOT']\""
            ]
          },
          "execution_count": 12,
          "metadata": {},
          "output_type": "execute_result"
        }
      ],
      "source": [
        "p(q3)"
      ]
    },
    {
      "cell_type": "markdown",
      "metadata": {
        "id": "GX8eYyDoMZma"
      },
      "source": [
        "*   **Pregunta 4.**  \n",
        "\n",
        "Busca e imprime los comentarios en donde todos los caracteres alfabéticos (letras) están en mayúsculas. \n",
        "\n",
        "Cada coincidencia encontrada debe ser todo el comentario/enunciado.\n",
        "\n",
        "Indica cuántos resultados obtuviste.\n"
      ]
    },
    {
      "cell_type": "code",
      "execution_count": 13,
      "metadata": {
        "id": "K8VuZxvTMYj6"
      },
      "outputs": [],
      "source": [
        "q4 = [ doc for doc in docs if doc.isupper() ]"
      ]
    },
    {
      "cell_type": "code",
      "execution_count": 14,
      "metadata": {
        "id": "PmKgX7sCMcDx"
      },
      "outputs": [
        {
          "data": {
            "text/plain": [
              "\"Se obtuvieron 5 y son ['DELICIOUS!!', 'RUDE & INCONSIDERATE MANAGEMENT.', 'WILL NEVER EVER GO BACK AND HAVE TOLD MANY PEOPLE WHAT HAD HAPPENED.', 'TOTAL WASTE OF TIME.', 'AVOID THIS ESTABLISHMENT!']\""
            ]
          },
          "execution_count": 14,
          "metadata": {},
          "output_type": "execute_result"
        }
      ],
      "source": [
        "p(q4)"
      ]
    },
    {
      "cell_type": "markdown",
      "metadata": {
        "id": "a1i6qv7-McmU"
      },
      "source": [
        "*   **Pregunta 5.**  \n",
        "\n",
        "Busca e imprime todas las palabras que tengan una vocal acentuada, del tipo á, é, í, ó, ú. \n",
        "\n",
        "Indica cuántos resultados obtuviste."
      ]
    },
    {
      "cell_type": "code",
      "execution_count": 15,
      "metadata": {},
      "outputs": [],
      "source": [
        "def A(s):\n",
        "    return any( c in s for c in 'ÁáÉéÍíÓóÚú' )"
      ]
    },
    {
      "cell_type": "code",
      "execution_count": 16,
      "metadata": {
        "id": "nZZ5zKUOMeGD"
      },
      "outputs": [],
      "source": [
        "import unicodedata\n",
        "q5 = []\n",
        "for sentence in docs:\n",
        "    n = unicodedata.normalize('NFC', sentence)\n",
        "    l = re.findall(r'[\\w]+', n)\n",
        "    for word in l:\n",
        "        if A(word):\n",
        "            q5.append(word)"
      ]
    },
    {
      "cell_type": "code",
      "execution_count": 17,
      "metadata": {
        "id": "l1mFvUEZMe8s"
      },
      "outputs": [
        {
          "data": {
            "text/plain": [
              "\"Se obtuvieron 3 y son ['fiancé', 'Café', 'puréed']\""
            ]
          },
          "execution_count": 17,
          "metadata": {},
          "output_type": "execute_result"
        }
      ],
      "source": [
        "p(q5)"
      ]
    },
    {
      "cell_type": "markdown",
      "metadata": {
        "id": "ZmPiAI82Mfb3"
      },
      "source": [
        "*   **Pregunta 6.**  \n",
        "\n",
        "Busca e imprime todas las cantidades numéricas monetarias, enteras o con decimales, que inician con el símbolo $\\$$. \n",
        "\n",
        "Indica cuántos resultados obtuviste."
      ]
    },
    {
      "cell_type": "code",
      "execution_count": 18,
      "metadata": {
        "id": "6vhe9-Y-MhL9"
      },
      "outputs": [],
      "source": [
        "q6 = re.findall(r'\\$\\d*[.]?\\d*', ' '.join(docs))"
      ]
    },
    {
      "cell_type": "code",
      "execution_count": 19,
      "metadata": {
        "id": "_t0a5xWDMhQ5"
      },
      "outputs": [
        {
          "data": {
            "text/plain": [
              "\"Se obtuvieron 8 y son ['$20', '$4.00', '$17', '$3', '$35', '$7.85', '$12', '$11.99']\""
            ]
          },
          "execution_count": 19,
          "metadata": {},
          "output_type": "execute_result"
        }
      ],
      "source": [
        "p(q6)"
      ]
    },
    {
      "cell_type": "markdown",
      "metadata": {
        "id": "2j-HpvhwMhq2"
      },
      "source": [
        "*   **Pregunta 7.**  \n",
        "\n",
        "Busca e imprime todas las palabras que sean variantes de la palabra \"love\", sin importar si incluyen mayúsculas o minúsculas, o la manera en que esté conjugada o alguna otra variación que se haga con dicha palabra.\n",
        "\n",
        "Indica cuántos resultados obtuviste."
      ]
    },
    {
      "cell_type": "code",
      "execution_count": 20,
      "metadata": {
        "id": "kqqyRChVMjol"
      },
      "outputs": [],
      "source": [
        "q7 = set(re.findall(r'(?:L|l)(?:O|o)(?:V|v)(?:E|e)\\w*', ' '.join(docs)))"
      ]
    },
    {
      "cell_type": "code",
      "execution_count": 21,
      "metadata": {
        "id": "UXd0VQluMj_x"
      },
      "outputs": [
        {
          "data": {
            "text/plain": [
              "\"Se obtuvieron 9 y son {'Loved', 'lover', 'Love', 'lovers', 'love', 'loved', 'LOVED', 'lovely', 'loves'}\""
            ]
          },
          "execution_count": 21,
          "metadata": {},
          "output_type": "execute_result"
        }
      ],
      "source": [
        "p(q7)"
      ]
    },
    {
      "cell_type": "markdown",
      "metadata": {
        "id": "Ctb-NTY3MkYG"
      },
      "source": [
        "*   **Pregunta 8.**  \n",
        "\n",
        "Busca e imprime todas las palabras, variantes de \"so\" y \"good\", que tengan dos o más \"o\" en \"so\" y 3 o más \"o\" en good. \n",
        "\n",
        "Indica cuántas encontraste.\n"
      ]
    },
    {
      "cell_type": "code",
      "execution_count": 13,
      "metadata": {
        "id": "A8Nf3B_cMlqg"
      },
      "outputs": [],
      "source": [
        "q8 = set(re.findall(r'((?:S|s)(?:O|o){2,}|(?:G|g)(?:O|o){3,}(?:D|d))', ' '.join(docs)))"
      ]
    },
    {
      "cell_type": "code",
      "execution_count": 14,
      "metadata": {
        "id": "svS4-vvPMl6f"
      },
      "outputs": [
        {
          "data": {
            "text/plain": [
              "\"Se obtuvieron 5 y son {'Sooooo', 'soooo', 'soo', 'goood', 'soooooo'}\""
            ]
          },
          "execution_count": 14,
          "metadata": {},
          "output_type": "execute_result"
        }
      ],
      "source": [
        "p(q8)"
      ]
    },
    {
      "cell_type": "markdown",
      "metadata": {
        "id": "hkak1opjMmlk"
      },
      "source": [
        "*   **Pregunta 9.**  \n",
        "\n",
        "Busca e imprime todas las palabras que tengan una longitud mayor estrictamente a 10 caracteres alfabéticos.\n",
        "\n",
        "No se consideran los signos de puntuación o caracteres especiales en la longitud de estas cadenas, solo caracteres alfabéticos en mayúsculas o minúsculas.\n",
        "\n",
        "Indica la cantidad de palabras encontradas.\n"
      ]
    },
    {
      "cell_type": "code",
      "execution_count": 15,
      "metadata": {
        "id": "PYxdp3uhMoD0"
      },
      "outputs": [],
      "source": [
        "q9 = re.findall(r'[A-Za-z]{11,}', ' '.join(docs))"
      ]
    },
    {
      "cell_type": "code",
      "execution_count": 16,
      "metadata": {
        "id": "BR7e2F4FMof-"
      },
      "outputs": [
        {
          "data": {
            "text/plain": [
              "\"Se obtuvieron 141 y son ['recommendation', 'recommended', 'overwhelmed', 'inexpensive', 'establishment', 'imaginative', 'opportunity', 'experiencing', 'underwhelming', 'relationship', 'unsatisfying', 'disappointing', 'outrageously', 'disappointing', 'expectations', 'restaurants', 'suggestions', 'disappointed', 'considering', 'Unfortunately', 'immediately', 'ingredients', 'accommodations', 'maintaining', 'Interesting', 'disrespected', 'accordingly', 'unbelievable', 'cheeseburger', 'descriptions', 'inexpensive', 'disappointed', 'Veggitarian', 'outstanding', 'recommendation', 'disappointed', 'disappointed', 'neighborhood', 'disappointed', 'corporation', 'considering', 'exceptional', 'shawarrrrrrma', 'disappointed', 'vinaigrette', 'immediately', 'unbelievably', 'replenished', 'disappointed', 'enthusiastic', 'Outstanding', 'comfortable', 'interesting', 'INCONSIDERATE', 'considering', 'transcendant', 'disappointment', 'disappointed', 'disappointed', 'overwhelmed', 'professional', 'Furthermore', 'combination', 'connoisseur', 'profiterole', 'outstanding', 'acknowledged', 'ventilation', 'beautifully', 'establishment', 'extraordinary', 'disappointed', 'cheesecurds', 'disappointed', 'interesting', 'experienced', 'opportunity', 'disgraceful', 'restaurants', 'ESTABLISHMENT', 'recommended', 'disappointed', 'recommended', 'acknowledged', 'presentation', 'Philadelphia', 'disappointed', 'disappointing', 'grandmother', 'drastically', 'informative', 'Disappointed', 'constructed', 'comfortable', 'Smashburger', 'cheeseburger', 'neighborhood', 'disappointed', 'hospitality', 'recommending', 'disappointed', 'deliciously', 'compliments', 'recommendation', 'establishment', 'calligraphy', 'traditional', 'combination', 'Unfortunately', 'Wienerschnitzel', 'unfortunately', 'considering', 'highlighted', 'Mediterranean', 'unprofessional', 'anticipated', 'disappointing', 'unexperienced', 'disrespected', 'professional', 'restaurants', 'Disappointing', 'WAAAAAAyyyyyyyyyy', 'reservation', 'imagination', 'undercooked', 'disappointed', 'disappointment', 'disappointment', 'deuchebaggery', 'disappointed', 'disappointment', 'immediately', 'Unfortunately', 'disapppointment', 'circumstances', 'undercooked', 'caterpillar', 'presentation', 'disappointed', 'underwhelming']\""
            ]
          },
          "execution_count": 16,
          "metadata": {},
          "output_type": "execute_result"
        }
      ],
      "source": [
        "p(q9)"
      ]
    },
    {
      "cell_type": "markdown",
      "metadata": {
        "id": "ApjTNzSxMpDc"
      },
      "source": [
        "*   **Pregunta 10.**  \n",
        "\n",
        "Busca e imprime todas las palabras que inician con una letra mayúscula y terminan con una minúscula, pero que además no sea la primera palabra del comentario/string. \n",
        "\n",
        "Indica la cantidad de resultados obtenidos."
      ]
    },
    {
      "cell_type": "code",
      "execution_count": 26,
      "metadata": {
        "id": "Vb0ndRGAMqdL"
      },
      "outputs": [],
      "source": [
        "q10 = []\n",
        "for sentence in docs:\n",
        "    f = re.findall(r'[A-Z]\\w*[a-z]', sentence[1:])\n",
        "    q10.extend(f)"
      ]
    },
    {
      "cell_type": "code",
      "execution_count": 27,
      "metadata": {
        "id": "dLPTRPnTMqqx"
      },
      "outputs": [
        {
          "data": {
            "text/plain": [
              "\"Se obtuvieron 519 y son ['Loved', 'May', 'Rick', 'Steve', 'Cape', 'Cod', 'This', 'Vegas', 'Burrittos', 'Blah', 'The', 'The', 'They', 'This', 'Mexican', 'Took', 'Luke', 'Our', 'Also', 'Overall', 'Poor', 'Hiro', 'On', 'Frozen', 'The', 'Firehouse', 'My', 'Greek', 'Greek', 'They', 'Loved', 'Heart', 'Attack', 'Grill', 'Vegas', 'The', 'The', 'Great', 'Dos', 'Gringos', 'The', 'Jeff', 'Really', 'It', 'Excalibur', 'Very', 'Bad', 'Customer', 'Service', 'Vegas', 'Rice', 'Company', 'Pho', 'In', 'It', 'Never', 'Hard', 'Rock', 'Casino', 'On', 'Our', 'The', 'Best', 'Buffet', 'Tigerlilly', 'The', 'Yama', 'At', 'Thai', 'Nice', 'Although', 'Indian', 'Worst', 'The', 'We', 'Host', 'Not', 'Phenomenal', 'Definitely', 'Vegas', 'They', 'Delicious', 'Lox', 'Great', 'Subway', 'Subway', 'Vegas', 'He', 'Vegas', 'The', 'The', 'Mandalay', 'Bay', 'Great', 'Voodoo', 'Unfortunately', 'Their', 'Phoenix', 'This', 'Vegas', 'Lordy', 'Khao', 'Soi', 'Perhaps', 'The', 'Not', 'The', 'Love', 'Lemon', 'The', 'Also', 'When', 'Joey', 'Valley', 'Phoenix', 'Magazine', 'Pho', 'Fridays', 'The', 'If', 'For', 'Tasty', 'Jamaican', 'The', 'Lobster', 'Bisque', 'Bussell', 'Sprouts', 'Risotto', 'Filet', 'It', 'Otto', 'As', 'If', 'Ordered', 'Yeah', 'If', 'The', 'Honestly', 'Not', 'Everyone', 'It', 'Also', 'Drinks', 'Seriously', 'Vegas', 'Greek', 'Overall', 'Vegas', 'Good', 'Plus', 'The', 'Thus', 'For', 'Veggitarian', 'Stopped', 'Madison', 'Ironman', 'Jenni', 'Pho', 'Bachi', 'Burger', 'This', 'Pizza', 'Salads', 'They', 'Yelpers', 'The', 'You', 'Bachi', 'Service', 'Will', 'As', 'In', 'English', 'Great', 'By', 'Back', 'And', 'Also', 'They', 'Pizza', 'Hut', 'Both', 'We', 'Seat', 'The', 'Gold', 'Standard', 'Of', 'Thai', 'Tucson', 'Vegas', 'This', 'Chipotle', 'Classy', 'Baseball', 'On', 'Sadly', 'Gordon', 'Ramsey', 'Steak', 'Vegas', 'The', 'Outstanding', 'Best', 'Food', 'Lobster', 'Bisque', 'Vegas', 'The', 'The', 'They', 'Eggplant', 'Green', 'Bean', 'In', 'The', 'Halibut', 'Vegas', 'If', 'Vegas', 'Vegas', 'Crystals', 'Aria', 'To', 'Ians', 'Overall', 'Bouchon', 'Great', 'San', 'Francisco', 'Bay', 'Area', 'Buldogis', 'Gourmet', 'Hot', 'Dog', 'Come', 'For', 'Our', 'On', 'Furthermore', 'Strike', 'Steiners', 'If', 'Anyway', 'Not', 'The', 'The', 'Carly', 'This', 'Love', 'Vegas', 'Very', 'Total', 'Camelback', 'Flower', 'Shop', 'Cartel', 'Coffee', 'Third', 'This', 'Las', 'Vegas', 'This', 'It', 'Worse', 'Bunch', 'Very', 'This', 'Mom', 'Noca', 'Give', 'At', 'Anyway', 'Point', 'Oh', 'Similarly', 'Be', 'The', 'Vegas', 'Sat', 'Sun', 'If', 'Mexican', 'Frenchman', 'Great', 'No', 'Perfect', 'Vegas', 'However', 'Palm', 'The', 'Are', 'This', 'He', 'The', 'As', 'If', 'Thai', 'All', 'My', 'Toast', 'Thai', 'It', 'Phoenix', 'Crema', 'Caf', 'Philadelphia', 'We', 'Good', 'North', 'Scottsdale', 'The', 'Sorry', 'Bloody', 'Mary', 'Despite', 'Pho', 'The', 'Same', 'Caesar', 'After', 'Macarons', 'Our', 'Experience', 'Very', 'Disappointed', 'Big', 'Bay', 'Plater', 'Not', 'Italian', 'That', 'Vegas', 'Baba', 'Ganoush', 'Very', 'The', 'Nobu', 'Smashburger', 'Panna', 'Cotta', 'Very', 'Prices', 'The', 'Good', 'Hawaiian', 'Breeze', 'Mango', 'Magic', 'Pineapple', 'Delight', 'We', 'Needless', 'Anyways', 'The', 'The', 'Strip', 'Steak', 'Paradise', 'Valley', 'Cibo', 'Service', 'That', 'Thumbs', 'Up', 'Italian', 'Pros', 'Large', 'Nice', 'Great', 'The', 'Elk', 'Filet', 'After', 'Cute', 'The', 'Dylan', 'All', 'One', 'Han', 'Nan', 'Chicken', 'As', 'The', 'Bar', 'Edinburgh', 'Chinese', 'Overall', 'Indian', 'Probably', 'Friend', 'Try', 'Chinese', 'When', 'The', 'Level', 'Main', 'When', 'Food', 'Prices', 'The', 'Phoenix', 'It', 'Both', 'Hot', 'Sour', 'Egg', 'Flower', 'Soups', 'Stars', 'Sunday', 'Hunan', 'What', 'The', 'Unfortunately', 'Perfect', 'The', 'The', 'Great', 'Pita', 'Wienerschnitzel', 'Maine', 'Lobster', 'Roll', 'My', 'The', 'Lastly', 'The', 'This', 'Kabuki', 'Best', 'Maria', 'Caballero', 'In', 'To', 'Bad', 'The', 'Wife', 'Went', 'This', 'Hot', 'Everything', 'They', 'For', 'Strip', 'The', 'Costco', 'All', 'To', 'Place', 'Gyros', 'Japanese', 'Now', 'The', 'Albondigas', 'On', 'After', 'No', 'Mediterranean', 'Chicken', 'Salad', 'Mellow', 'Mushroom', 'Thai', 'Vegas', 'Overall', 'Mmmm', 'Buffet', 'Bellagio', 'And', 'My', 'Also', 'Vegas', 'Very', 'How', 'There', 'What', 'Christmas', 'Eve', 'Needless', 'Every', 'However', 'It', 'The', 'Denny', 'If', 'AAAAAAyyyyyyyyyy', 'The', 'The', 'The', 'The', 'It', 'Maybe', 'Vegetarian', 'The', 'The', 'Then', 'Insults', 'Taco', 'Unfortunately', 'Your', 'Heimer', 'All', 'Ha', 'Long', 'Bay', 'Subway', 'When', 'Brushfire', 'It', 'Mirage', 'In', 'The', 'Ninja', 'Sushi', 'Then']\""
            ]
          },
          "execution_count": 27,
          "metadata": {},
          "output_type": "execute_result"
        }
      ],
      "source": [
        "p(q10)"
      ]
    },
    {
      "cell_type": "markdown",
      "metadata": {
        "id": "u7nfm4KhMrNW"
      },
      "source": [
        "*   **Pregunta 11.**  \n",
        "\n",
        "Busca e imprime la secuencia de dos o más palabras que están separadas por un guion, \"-\", sin que tengan espacios en blanco entre ellas.\n",
        "\n",
        "Por ejemplo \"Go-Kart\" sería válido, pero \"Go  -Kart\" o \"Go  -  Kart\" no lo serían. \n",
        "\n",
        "Indica la cantidad de resultados obtenidos."
      ]
    },
    {
      "cell_type": "code",
      "execution_count": 28,
      "metadata": {
        "id": "OwU-a7eGMsub"
      },
      "outputs": [],
      "source": [
        "q11 = re.findall(r'\\w+(?:-\\w+)+', ' '.join(docs))"
      ]
    },
    {
      "cell_type": "code",
      "execution_count": 29,
      "metadata": {
        "id": "SgzIL74ZMtGw"
      },
      "outputs": [
        {
          "data": {
            "text/plain": [
              "\"Se obtuvieron 19 y son ['flat-lined', 'hands-down', 'must-stop', 'sub-par', 'Service-check', 'in-house', 'been-stepped-in-and-tracked-everywhere', 'multi-grain', 'to-go', 'non-customer', 'High-quality', 'sit-down', 'over-whelm', 'low-key', 'non-fancy', 'golden-crispy', 'over-priced', 'over-hip', 'under-services']\""
            ]
          },
          "execution_count": 29,
          "metadata": {},
          "output_type": "execute_result"
        }
      ],
      "source": [
        "p(q11)"
      ]
    },
    {
      "cell_type": "markdown",
      "metadata": {
        "id": "DEIgl79HMthr"
      },
      "source": [
        "*   **Pregunta 12.**  \n",
        "\n",
        "Busca e imprime todas las palabras que terminan en \"ing\" o \"ed\". \n",
        "\n",
        "Indica la cantidad de palabras que encontraste de cada una."
      ]
    },
    {
      "cell_type": "code",
      "execution_count": 30,
      "metadata": {
        "id": "I4TSofBMMv9y"
      },
      "outputs": [],
      "source": [
        "q12 = re.findall(r'(\\w+(?:ing|ed))', ' '.join(docs))"
      ]
    },
    {
      "cell_type": "code",
      "execution_count": 31,
      "metadata": {
        "id": "AhGq6De2Mvyh"
      },
      "outputs": [
        {
          "data": {
            "text/plain": [
              "\"Se obtuvieron 663 y son ['Loved', 'Stopped', 'during', 'loved', 'getting', 'being', 'ended', 'being', 'overpriced', 'tried', 'disgusted', 'shocked', 'recommended', 'amazing', 'performed', 'red', 'asked', 'running', 'overwhelmed', 'redeeming', 'grossed', 'melted', 'getting', 'provided', 'thing', 'cooked', 'dressing', 'refreshing', 'ordered', 'running', 'realized', 'Loved', 'lined', 'string', 'cooked', 'ripped', 'ripped', 'petrified', 'Gring', 'amazing', 'included', 'tasting', 'expected', 'nothing', 'appalling', 'seasoned', 'cheated', 'wasting', 'eating', 'going', 'Coming', 'experiencing', 'underwhelming', 'walked', 'smelled', 'eating', 'raving', 'tailored', 'spring', 'unsatisfying', 'amazing', 'Everything', 'disappointing', 'dining', 'flirting', 'arrived', 'roasted', 'added', 'thing', 'coming', 'cooked', 'red', 'playing', 'passed', 'ordering', 'arriving', 'liked', 'disappointing', 'managed', 'served', 'preparing', 'loving', 'liking', 'reviewing', 'venturing', 'overpriced', 'med', 'including', 'during', 'checked', 'disappointed', 'red', 'decorated', 'changing', 'going', 'considering', 'served', 'coming', 'watched', 'greeted', 'seated', 'waited', 'flavored', 'ordered', 'going', 'everything', 'ordered', 'relocated', 'impressed', 'seated', 'immed', 'priced', 'looking', 'treated', 'ordered', 'ingred', 'dressing', 'dining', 'used', 'handed', 'listed', 'missed', 'Everything', 'thrilled', 'amazing', 'judging', 'inspired', 'desired', 'maintaining', 'asking', 'overcooked', 'decided', 'looked', 'having', 'dressed', 'treated', 'something', 'lacking', 'ordered', 'incred', 'sucked', 'expected', 'sucked', 'imagined', 'Interesting', 'served', 'preparing', 'arrived', 'missing', 'wing', 'feeling', 'satisfied', 'voted', 'insulted', 'disrespected', 'thing', 'exceeding', 'dreamed', 'inviting', 'lived', 'stepped', 'mixed', 'showed', 'climbing', 'waiting', 'realized', 'coming', 'loved', 'according', 'being', 'lacking', 'needed', 'going', 'loved', 'wrapped', 'uninspired', 'amazing', 'dealing', 'annoying', 'Ordered', 'sing', 'falling', 'uploaded', 'sporting', 'covered', 'supposed', 'amazing', 'rolled', 'stayed', 'providing', 'building', 'lighting', 'Based', 'received', 'going', 'nothing', 'privileged', 'working', 'eating', 'dressing', 'being', 'charged', 'visited', 'proclaimed', 'disappointed', 'Stopped', 'dedicated', 'liked', 'outstanding', 'getting', 'disappointed', 'waited', 'waited', 'wing', 'Thing', 'burned', 'waited', 'amazing', 'disappointed', 'Waited', 'incred', 'disappointed', 'pulled', 'incred', 'prepared', 'rating', 'eating', 'writing', 'everything', 'dining', 'fried', 'boring', 'greed', 'passed', 'charming', 'ordered', 'toasted', 'untoasted', 'going', 'figured', 'making', 'pricing', 'considering', 'returned', 'amazing', 'eyed', 'disappointed', 'immed', 'pleased', 'Everything', 'replenished', 'disappointed', 'nothing', 'nothing', 'driving', 'treated', 'during', 'evening', 'offered', 'Outstanding', 'tasted', 'buying', 'handling', 'wasting', 'craving', 'dropped', 'dining', 'decorated', 'med', 'interesting', 'amazing', 'being', 'served', 'outshining', 'starving', 'coming', 'walked', 'stuffed', 'considering', 'located', 'shopping', 'incred', 'nothing', 'bring', 'Cooked', 'disappointed', 'getting', 'screwed', 'frustrated', 'iced', 'stuffed', 'disappointed', 'trying', 'grossed', 'enjoyed', 'eating', 'going', 'looked', 'overwhelmed', 'need', 'stayed', 'everything', 'smeared', 'stepped', 'tracked', 'tried', 'rushed', 'loved', 'Ordered', 'Nothing', 'cooked', 'going', 'insulted', 'wing', 'contained', 'enjoyed', 'relaxed', 'loved', 'outstanding', 'running', 'acknowledged', 'forgetting', 'thing', 'upgrading', 'trimmed', 'cooked', 'claimed', 'handled', 'asked', 'eating', 'bring', 'hoping', 'living', 'limited', 'boiled', 'dining', 'liked', 'sliced', 'attached', 'humiliated', 'calling', 'filling', 'traged', 'fried', 'amazing', 'thing', 'incred', 'impressed', 'disappointed', 'priced', 'Everything', 'fing', 'disappointed', 'thing', 'amazing', 'need', 'Everything', 'interesting', 'need', 'experienced', 'amazing', 'amazing', 'waited', 'seated', 'waiting', 'going', 'going', 'dining', 'decided', 'pleased', 'saving', 'something', 'trying', 'disgusting', 'hankering', 'recommended', 'being', 'helped', 'need', 'witnessed', 'Waited', 'waited', 'waited', 'checked', 'tasted', 'disappointed', 'being', 'served', 'rated', 'recommended', 'pulled', 'waited', 'being', 'acknowledged', 'setting', 'thing', 'perpared', 'dusted', 'powdered', 'wing', 'enjoyed', 'expanded', 'sitting', 'ended', 'waiting', 'arrived', 'satisfying', 'wanted', 'disappointed', 'eating', 'need', 'being', 'freaking', 'checked', 'impressed', 'reheated', 'wed', 'getting', 'amazing', 'tasted', 'disappointing', 'grilled', 'seasoning', 'going', 'focused', 'roasted', 'asked', 'being', 'ignored', 'bring', 'letting', 'tasted', 'evening', 'Ordered', 'greeted', 'seated', 'Tried', 'waiting', 'being', 'seated', 'eating', 'going', 'Disappointed', 'ordered', 'constructed', 'seating', 'fried', 'playing', 'requested', 'amazing', 'staying', 'ring', 'used', 'med', 'tasted', 'giving', 'talking', 'amazing', 'drenched', 'amazing', 'amazing', 'tried', 'walked', 'expected', 'amazing', 'disappointed', 'mortified', 'Need', 'filling', 'dripping', 'impressed', 'going', 'serving', 'refrained', 'recommending', 'pleased', 'thing', 'reading', 'loved', 'grilled', 'reminded', 'seating', 'sucked', 'hooked', 'ordered', 'going', 'disappointed', 'everything', 'seasoned', 'thing', 'added', 'sitting', 'waiting', 'bring', 'revisiting', 'coming', 'touched', 'speed', 'anything', 'fried', 'opened', 'impressed', 'feeling', 'during', 'watched', 'thing', 'being', 'Tasted', 'amazing', 'being', 'amazing', 'ordered', 'satifying', 'describing', 'coming', 'everything', 'received', 'Paying', 'going', 'Med', 'impressed', 'overcooked', 'cooked', 'sing', 'needed', 'served', 'thing', 'ordered', 'amazing', 'need', 'overpriced', 'packed', 'getting', 'opposed', 'cramming', 'priced', 'surprised', 'considering', 'focused', 'overpriced', 'fucking', 'tried', 'enjoyed', 'going', 'qualified', 'tasted', 'hated', 'appealing', 'getting', 'coming', 'watched', 'Everything', 'fried', 'dealing', 'everything', 'tried', 'something', 'during', 'helped', 'dining', 'cooking', 'dining', 'started', 'editing', 'highlighted', 'setting', 'used', 'amazing', 'med', 'enjoyed', 'ordered', 'tasted', 'asked', 'med', 'refused', 'warning', 'tried', 'Med', 'rotating', 'Pricing', 'toasted', 'satisfying', 'anticipated', 'disappointing', 'amazing', 'returning', 'unexperienced', 'running', 'insulted', 'disrespected', 'being', 'impressed', 'thing', 'puréed', 'nothing', 'poisoning', 'thinking', 'something', 'Need', 'going', 'disgusting', 'caring', 'bring', 'asked', 'Disappointing', 'med', 'rated', 'saying', 'going', 'lacked', 'coming', 'sliced', 'pulled', 'building', 'seating', 'undercooked', 'dipping', 'seemed', 'watered', 'lacked', 'disappointed', 'overpriced', 'setting', 'ensued', 'anything', 'bing', 'drinking', 'serving', 'disappointed', 'need', 'placed', 'avoided', 'received', 'immed', 'wanted', 'doing', 'sucked', 'happened', 'putting', 'owned', 'wanted', 'Overpriced', 'getting', 'vomited', 'looking', 'started', 'coming', 'unwrapped', 'lacked', 'seemed', 'undercooked', 'closed', 'staying', 'refried', 'dried', 'disappointed', 'lacking', 'impressed', 'underwhelming', 'wasted', 'poured', 'drawing', 'bring']\""
            ]
          },
          "execution_count": 31,
          "metadata": {},
          "output_type": "execute_result"
        }
      ],
      "source": [
        "p(q12)"
      ]
    },
    {
      "cell_type": "markdown",
      "metadata": {
        "id": "70StdqAZa9E9"
      },
      "source": [
        "#**Parte 3. Proceso de limpieza.**"
      ]
    },
    {
      "cell_type": "markdown",
      "metadata": {
        "id": "xaDUFXHrMvX2"
      },
      "source": [
        "*   **Pregunta 13.**  \n",
        "\n",
        "Ahora realiza un proceso de limpieza del corpus que incluya los siguientes procesos:\n",
        "\n",
        "*   Solo se deben considerar caracteres alfabéticos. Es decir, se eliminan todos los signos de puntuación y caracteres especiales.\n",
        "*   Todos los caracteres alfabéticos se transforman a minúsculas.\n",
        "*   Se deben eliminar todos los espacios en blanco adicionales que se puedan encontrar en cada comentario.\n",
        "\n",
        "Al finalizar dicho proceso de limpieza, imprime el resultado de los primeros 10 comentarios resultantes. \n",
        "   \n",
        "\n",
        "\n"
      ]
    },
    {
      "cell_type": "code",
      "execution_count": 32,
      "metadata": {
        "id": "K3kQzPOPMx0w"
      },
      "outputs": [],
      "source": [
        "clean_docs = []\n",
        "for sentence in docs:\n",
        "    c1 = re.sub(r'[ÁáÉéêÍíÓóÚú.,:\\'()\"\\-\\!?\\/\\$\\%\\+\\*\\;\\&0-9]+', '', sentence)\n",
        "    c1 = c1.lower()\n",
        "    c1 = re.sub(r'\\s{2,}', ' ', c1)\n",
        "    clean_docs.append(c1.strip())"
      ]
    },
    {
      "cell_type": "code",
      "execution_count": 33,
      "metadata": {
        "id": "mYEDlHSFMyJN"
      },
      "outputs": [
        {
          "data": {
            "text/plain": [
              "['wow loved this place',\n",
              " 'crust is not good',\n",
              " 'not tasty and the texture was just nasty',\n",
              " 'stopped by during the late may bank holiday off rick steve recommendation and loved it',\n",
              " 'the selection on the menu was great and so were the prices',\n",
              " 'now i am getting angry and i want my damn pho',\n",
              " 'honeslty it didnt taste that fresh',\n",
              " 'the potatoes were like rubber and you could tell they had been made up ahead of time being kept under a warmer',\n",
              " 'the fries were great too',\n",
              " 'a great touch']"
            ]
          },
          "execution_count": 33,
          "metadata": {},
          "output_type": "execute_result"
        }
      ],
      "source": [
        "clean_docs[:10]"
      ]
    },
    {
      "cell_type": "markdown",
      "metadata": {
        "id": "WZwEhg2lUSAX"
      },
      "source": [
        "*   **Pregunta 14.**  \n",
        "\n",
        "Con el resultado de la limpieza obtenido en la pregunta anterior, realiza ahora un proceso de tokenización por palabras del corpus. \n",
        "\n",
        "Es decir, al final de este proceso de tokenización, debes tener como resultado una lista de listas, donde cada comentario estará tokenizado por palabras.\n",
        "\n",
        "Al terminar calcula el total de tokens obtenido en todo el corpus. "
      ]
    },
    {
      "cell_type": "code",
      "execution_count": 34,
      "metadata": {
        "id": "kbAL9-v0V-jx"
      },
      "outputs": [
        {
          "name": "stdout",
          "output_type": "stream",
          "text": [
            "Existen 2051 tokens únicos en el texto\n"
          ]
        }
      ],
      "source": [
        "def create_vocab(clean_docs):\n",
        "    word_list = []\n",
        "    for sentence in clean_docs:\n",
        "        for word in re.findall(r'\\w+', sentence):\n",
        "            word_list.append(word)\n",
        "    return list(set(word_list))\n",
        "\n",
        "dictionary = create_vocab(clean_docs)\n",
        "            \n",
        "print(f\"Existen {len(dictionary)} tokens únicos en el texto\")"
      ]
    },
    {
      "cell_type": "code",
      "execution_count": 35,
      "metadata": {
        "id": "DZs_etmiV-fd"
      },
      "outputs": [
        {
          "name": "stdout",
          "output_type": "stream",
          "text": [
            "Despues de tokenizar el texto obtenemos un objeto con shape (1000, 32)\n"
          ]
        }
      ],
      "source": [
        "def tokenize_doc(clean_docs, dictionary, pad=10, location='before'):\n",
        "    tokenized = []\n",
        "    for sentence in clean_docs:\n",
        "        tmp = []\n",
        "        for word in re.findall(r'\\w+', sentence):\n",
        "            idx = dictionary.index(word)\n",
        "            tmp.append(idx)\n",
        "            \n",
        "        size = len(tmp)\n",
        "        \n",
        "        tokens = []\n",
        "        zeros_to_add = pad - size\n",
        "        if location == 'before':\n",
        "            tokens.extend(tmp)\n",
        "            tokens = [0] * zeros_to_add + tokens\n",
        "            tokens = tokens[0:pad]\n",
        "        elif location == 'after':\n",
        "            tokens.extend(tmp)\n",
        "            tokens.append([0] * zeros_to_add)\n",
        "            tokens = tokens[0:pad]\n",
        "            \n",
        "        tokenized.append(tokens) \n",
        "    return np.array(tokenized)\n",
        "\n",
        "\n",
        "\n",
        "tokenized = tokenize_doc(clean_docs, dictionary, pad=32)\n",
        "print(f\"Despues de tokenizar el texto obtenemos un objeto con shape {tokenized.shape}\")"
      ]
    },
    {
      "cell_type": "markdown",
      "metadata": {
        "id": "EFeu0OJ7WDPD"
      },
      "source": [
        "*   **Pregunta 15.**  \n",
        "\n",
        "Finalmente, en este ejercicio definiremos nuestro conjunto de palabras \"stopwords\", las cuales deberás eliminar de todo el corpus. \n",
        "\n",
        "Recuerda que ejemplos de stopwords son artículos, adverbios, conectivos, etcétera, que tienen frecuencias de aparición muy altas en cualquier documento, pero que no brindan mucho significado en cuanto al significado de un enunciado.\n",
        "\n",
        "Con base a la lista de stopwords que se te proporciona, realiza un proceso de limpieza eliminando todas estas palabras del corpus obtenido en el ejercicio anterior.\n",
        "\n",
        "Obtener cuántos tokens/palabras quedan finalmente en todo el corpus.\n",
        "\n",
        "Obtener cuántos de estos tokens/palabras son diferentes, es decir, cuántos tokens únicos tendrá lo que llamaremos más adelante nuestro vocabulario."
      ]
    },
    {
      "cell_type": "code",
      "execution_count": 36,
      "metadata": {
        "id": "6FP4FF3KXGxm"
      },
      "outputs": [],
      "source": [
        "# Considera la siguiente lista como tu conjunto de stopwords:\n",
        "mis_stopwords = ['i', 'me', 'my', 'myself', 'we', 'our', 'ours', 'ourselves', 'you', 'your', 'yours', 'he', 'him', 'his', 'himself', 'she', 'her', 'hers', 'herself', 'it', 'its', 'itself', 'they', 'them', 'their', 'theirs', 'themselves', 'what', 'which', 'who', 'whom', 'this', 'that', 'these', 'those', 'am', 'is', 'are', 'was', 'were', 'be', 'been', 'being', 'have', 'has', 'had', 'having', 'do', 'does', 'did', 'doing', 'a', 'an', 'the', 'and', 'but', 'if', 'or', 'because', 'as', 'until', 'while', 'of', 'at', 'by', 'for', 'with', 'about', 'against', 'between', 'into', 'through', 'during', 'before', 'after', 'above', 'below', 'to', 'from', 'up', 'down', 'in', 'out', 'on', 'over', 'under', 'again', 'further', 'then', 'once', 'here', 'there', 'when', 'where', 'why', 'how', 'all', 'any', 'both', 'each', 'few', 'more', 'most', 'other', 'some', 'such', 'only', 'own', 'same', 'so', 'than', 'too', 'very', 's', 't', 'can', 'will', 'just', 'should', 'now', 'll']"
      ]
    },
    {
      "cell_type": "code",
      "execution_count": 37,
      "metadata": {
        "id": "CD8yjyq1ZrwY"
      },
      "outputs": [
        {
          "name": "stdout",
          "output_type": "stream",
          "text": [
            "Existen 5776 tokens despues de remover stopwords\n"
          ]
        }
      ],
      "source": [
        "def remove_stop_words(clean_docs, mis_stowords):\n",
        "    non_stop_words_clean_docs = []\n",
        "    for sentence in clean_docs:\n",
        "        for word in re.findall(r'\\w+', sentence):\n",
        "            if word not in mis_stopwords:\n",
        "                non_stop_words_clean_docs.append(word)\n",
        "    return non_stop_words_clean_docs\n",
        "\n",
        "clean_docs = remove_stop_words(clean_docs, mis_stopwords)\n",
        "\n",
        "print(f\"Existen {len(clean_docs)} tokens despues de remover stopwords\")"
      ]
    },
    {
      "cell_type": "code",
      "execution_count": 38,
      "metadata": {
        "id": "4ZPi5prKZro5"
      },
      "outputs": [
        {
          "name": "stdout",
          "output_type": "stream",
          "text": [
            "Existen 1941 tokens únicos\n"
          ]
        }
      ],
      "source": [
        "vocab = create_vocab(clean_docs)\n",
        "tokenized = tokenize_doc(clean_docs, vocab, pad=20)\n",
        "\n",
        "print(f\"Existen {len(vocab)} tokens únicos\")"
      ]
    },
    {
      "cell_type": "markdown",
      "metadata": {
        "id": "NDbKkuxRbLoX"
      },
      "source": [
        "*   **Comentarios**\n",
        "\n",
        "Incluye finalmente tus comentarios de la actividad."
      ]
    },
    {
      "cell_type": "markdown",
      "metadata": {
        "id": "o7fzbvqVbUGr"
      },
      "source": [
        "El preprocesamiento de texto es la base en el procesamiento de lenguaje natural y en esta actividad resulta fundamental el uso de expresiones regulares para buscar patrones en el texto y lograr remover stopwords y otros caracteres especiales que no ayudan de mucho cuando se entrena un modelo de lenguaje natural"
      ]
    },
    {
      "cell_type": "markdown",
      "metadata": {
        "id": "PHaKw_6Ldbaf"
      },
      "source": [
        "##**Fin de la Actividad de la semana 2.**"
      ]
    }
  ],
  "metadata": {
    "colab": {
      "collapsed_sections": [
        "759SG4TyfbUn",
        "Zj-h4drXD-X9",
        "BY6yifxscfrx",
        "k_ewoagic5jc",
        "70StdqAZa9E9"
      ],
      "provenance": []
    },
    "kernelspec": {
      "display_name": "Python 3",
      "name": "python3"
    },
    "language_info": {
      "codemirror_mode": {
        "name": "ipython",
        "version": 3
      },
      "file_extension": ".py",
      "mimetype": "text/x-python",
      "name": "python",
      "nbconvert_exporter": "python",
      "pygments_lexer": "ipython3",
      "version": "3.12.3"
    }
  },
  "nbformat": 4,
  "nbformat_minor": 0
}
