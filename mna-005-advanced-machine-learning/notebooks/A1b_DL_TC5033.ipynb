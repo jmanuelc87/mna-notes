{
 "cells": [
  {
   "cell_type": "markdown",
   "metadata": {},
   "source": [
    "# TC 5033\n",
    "## Deep Learning\n",
    "## Fully Connected Deep Neural Networks\n",
    "\n",
    "#### Activity 1b: Implementing a Fully Connected Network for Kaggle ASL Dataset\n",
    "\n",
    "- Objective\n",
    "\n",
    "The aim of this part of the activity is to apply your understanding of Fully Connected Networks by implementing a multilayer network for the [Kaggle ASL (American Sign Language) dataset](https://www.kaggle.com/datasets/grassknoted/asl-alphabet). While you have been provided with a complete solution for a Fully Connected Network using Numpy for the MNIST dataset, you are encouraged to try to come up with the solution.\n",
    "\n",
    "- Instructions\n",
    "\n",
    "    This activity requires submission in teams of 3 or 4 members. Submissions from smaller or larger teams will not be accepted unless prior approval has been granted (only due to exceptional circumstances). While teamwork is encouraged, each member is expected to contribute individually to the assignment. The final submission should feature the best arguments and solutions from each team member. Only one person per team needs to submit the completed work, but it is imperative that the names of all team members are listed in a Markdown cell at the very beginning of the notebook (either the first or second cell). Failure to include all team member names will result in the grade being awarded solely to the individual who submitted the assignment, with zero points given to other team members (no exceptions will be made to this rule).\n",
    "\n",
    "    Load and Preprocess Data: You are provided a starter code to load the data. Be sure to understand the code.\n",
    "\n",
    "    Review MNIST Notebook (Optional): Before diving into this activity, you have the option to revisit the MNIST example to refresh your understanding of how to build a Fully Connected Network using Numpy.\n",
    "\n",
    "    Start Fresh: Although you can refer to the MNIST solution at any point, try to implement the network for the ASL dataset on your own. This will reinforce your learning and understanding of the architecture and mathematics involved.\n",
    "\n",
    "    Implement Forward and Backward Pass: Write the code to perform the forward and backward passes, keeping in mind the specific challenges and characteristics of the ASL dataset.\n",
    "    \n",
    "     Design the Network: Create the architecture of the Fully Connected Network tailored for the ASL dataset. Choose the number of hidden layers, neurons, and hyperparameters judiciously.\n",
    "\n",
    "    Train the Model: Execute the training loop, ensuring to track performance metrics such as loss and accuracy.\n",
    "\n",
    "    Analyze and Document: Use Markdown cells to document in detail the choices you made in terms of architecture and hyperparameters, you may use figures, equations, etc to aid in your explanations. Include any metrics that help justify these choices and discuss the model's performance.  \n",
    "\n",
    "- Evaluation Criteria\n",
    "\n",
    "    - Code Readability and Comments\n",
    "    - Appropriateness of chosen architecture and hyperparameters for the ASL dataset\n",
    "    - Performance of the model on the ASL dataset (at least 70% acc)\n",
    "    - Quality of Markdown documentation\n",
    "\n",
    "- Submission\n",
    "\n",
    "Submit this Jupyter Notebook in canvas with your complete solution, ensuring your code is well-commented and includes Markdown cells that explain your design choices, results, and any challenges you encountered.\n"
   ]
  },
  {
   "cell_type": "markdown",
   "metadata": {},
   "source": [
    "### Team 30\n",
    "\n",
    "Students:\n",
    "\n",
    "- Juan Manuel Carballo          A01166758\n",
    "- Paola Estrada Warn            A01795663\n",
    "- Christopher Flores González   A01795419\n",
    "- Jorge Pedroza Rivera          A01319553\n",
    "- Victor Hugo Avila Felipe      A01794425"
   ]
  },
  {
   "cell_type": "code",
   "execution_count": 25,
   "metadata": {},
   "outputs": [],
   "source": [
    "#%pip install -q numpy\n",
    "#%pip install -q pandas\n",
    "#%pip install -q matplotlib"
   ]
  },
  {
   "cell_type": "code",
   "execution_count": 2,
   "metadata": {},
   "outputs": [],
   "source": [
    "import os\n",
    "import string\n",
    "\n",
    "import numpy as np\n",
    "import pandas as pd\n",
    "import matplotlib.pyplot as plt\n",
    "\n",
    "from sklearn.model_selection import train_test_split"
   ]
  },
  {
   "cell_type": "markdown",
   "metadata": {},
   "source": [
    "### Load Files\n",
    "\n",
    "Load the csv files using pandas"
   ]
  },
  {
   "cell_type": "code",
   "execution_count": 3,
   "metadata": {
    "scrolled": true
   },
   "outputs": [],
   "source": [
    "train_df = pd.read_csv('../asl_data/sign_mnist_train.csv')\n",
    "valid_df = pd.read_csv('../asl_data/sign_mnist_valid.csv')"
   ]
  },
  {
   "cell_type": "code",
   "execution_count": 4,
   "metadata": {},
   "outputs": [
    {
     "data": {
      "text/html": [
       "<div>\n",
       "<style scoped>\n",
       "    .dataframe tbody tr th:only-of-type {\n",
       "        vertical-align: middle;\n",
       "    }\n",
       "\n",
       "    .dataframe tbody tr th {\n",
       "        vertical-align: top;\n",
       "    }\n",
       "\n",
       "    .dataframe thead th {\n",
       "        text-align: right;\n",
       "    }\n",
       "</style>\n",
       "<table border=\"1\" class=\"dataframe\">\n",
       "  <thead>\n",
       "    <tr style=\"text-align: right;\">\n",
       "      <th></th>\n",
       "      <th>label</th>\n",
       "      <th>pixel1</th>\n",
       "      <th>pixel2</th>\n",
       "      <th>pixel3</th>\n",
       "      <th>pixel4</th>\n",
       "      <th>pixel5</th>\n",
       "      <th>pixel6</th>\n",
       "      <th>pixel7</th>\n",
       "      <th>pixel8</th>\n",
       "      <th>pixel9</th>\n",
       "      <th>...</th>\n",
       "      <th>pixel775</th>\n",
       "      <th>pixel776</th>\n",
       "      <th>pixel777</th>\n",
       "      <th>pixel778</th>\n",
       "      <th>pixel779</th>\n",
       "      <th>pixel780</th>\n",
       "      <th>pixel781</th>\n",
       "      <th>pixel782</th>\n",
       "      <th>pixel783</th>\n",
       "      <th>pixel784</th>\n",
       "    </tr>\n",
       "  </thead>\n",
       "  <tbody>\n",
       "    <tr>\n",
       "      <th>15996</th>\n",
       "      <td>1</td>\n",
       "      <td>122</td>\n",
       "      <td>125</td>\n",
       "      <td>129</td>\n",
       "      <td>133</td>\n",
       "      <td>138</td>\n",
       "      <td>140</td>\n",
       "      <td>142</td>\n",
       "      <td>143</td>\n",
       "      <td>145</td>\n",
       "      <td>...</td>\n",
       "      <td>78</td>\n",
       "      <td>76</td>\n",
       "      <td>74</td>\n",
       "      <td>82</td>\n",
       "      <td>83</td>\n",
       "      <td>76</td>\n",
       "      <td>80</td>\n",
       "      <td>76</td>\n",
       "      <td>52</td>\n",
       "      <td>32</td>\n",
       "    </tr>\n",
       "    <tr>\n",
       "      <th>7698</th>\n",
       "      <td>8</td>\n",
       "      <td>131</td>\n",
       "      <td>135</td>\n",
       "      <td>145</td>\n",
       "      <td>151</td>\n",
       "      <td>156</td>\n",
       "      <td>155</td>\n",
       "      <td>178</td>\n",
       "      <td>168</td>\n",
       "      <td>167</td>\n",
       "      <td>...</td>\n",
       "      <td>3</td>\n",
       "      <td>17</td>\n",
       "      <td>48</td>\n",
       "      <td>3</td>\n",
       "      <td>0</td>\n",
       "      <td>22</td>\n",
       "      <td>40</td>\n",
       "      <td>29</td>\n",
       "      <td>24</td>\n",
       "      <td>21</td>\n",
       "    </tr>\n",
       "    <tr>\n",
       "      <th>10530</th>\n",
       "      <td>20</td>\n",
       "      <td>177</td>\n",
       "      <td>179</td>\n",
       "      <td>182</td>\n",
       "      <td>189</td>\n",
       "      <td>194</td>\n",
       "      <td>197</td>\n",
       "      <td>200</td>\n",
       "      <td>203</td>\n",
       "      <td>204</td>\n",
       "      <td>...</td>\n",
       "      <td>219</td>\n",
       "      <td>252</td>\n",
       "      <td>243</td>\n",
       "      <td>243</td>\n",
       "      <td>241</td>\n",
       "      <td>240</td>\n",
       "      <td>239</td>\n",
       "      <td>238</td>\n",
       "      <td>237</td>\n",
       "      <td>235</td>\n",
       "    </tr>\n",
       "    <tr>\n",
       "      <th>12343</th>\n",
       "      <td>2</td>\n",
       "      <td>133</td>\n",
       "      <td>141</td>\n",
       "      <td>146</td>\n",
       "      <td>150</td>\n",
       "      <td>154</td>\n",
       "      <td>158</td>\n",
       "      <td>159</td>\n",
       "      <td>162</td>\n",
       "      <td>166</td>\n",
       "      <td>...</td>\n",
       "      <td>207</td>\n",
       "      <td>209</td>\n",
       "      <td>212</td>\n",
       "      <td>213</td>\n",
       "      <td>213</td>\n",
       "      <td>213</td>\n",
       "      <td>213</td>\n",
       "      <td>213</td>\n",
       "      <td>213</td>\n",
       "      <td>213</td>\n",
       "    </tr>\n",
       "    <tr>\n",
       "      <th>2251</th>\n",
       "      <td>10</td>\n",
       "      <td>171</td>\n",
       "      <td>173</td>\n",
       "      <td>175</td>\n",
       "      <td>177</td>\n",
       "      <td>179</td>\n",
       "      <td>181</td>\n",
       "      <td>183</td>\n",
       "      <td>184</td>\n",
       "      <td>185</td>\n",
       "      <td>...</td>\n",
       "      <td>169</td>\n",
       "      <td>196</td>\n",
       "      <td>211</td>\n",
       "      <td>217</td>\n",
       "      <td>220</td>\n",
       "      <td>222</td>\n",
       "      <td>222</td>\n",
       "      <td>221</td>\n",
       "      <td>222</td>\n",
       "      <td>221</td>\n",
       "    </tr>\n",
       "    <tr>\n",
       "      <th>8749</th>\n",
       "      <td>22</td>\n",
       "      <td>132</td>\n",
       "      <td>133</td>\n",
       "      <td>135</td>\n",
       "      <td>136</td>\n",
       "      <td>138</td>\n",
       "      <td>139</td>\n",
       "      <td>138</td>\n",
       "      <td>139</td>\n",
       "      <td>139</td>\n",
       "      <td>...</td>\n",
       "      <td>174</td>\n",
       "      <td>176</td>\n",
       "      <td>175</td>\n",
       "      <td>176</td>\n",
       "      <td>175</td>\n",
       "      <td>175</td>\n",
       "      <td>175</td>\n",
       "      <td>175</td>\n",
       "      <td>174</td>\n",
       "      <td>174</td>\n",
       "    </tr>\n",
       "    <tr>\n",
       "      <th>12567</th>\n",
       "      <td>22</td>\n",
       "      <td>154</td>\n",
       "      <td>156</td>\n",
       "      <td>159</td>\n",
       "      <td>159</td>\n",
       "      <td>160</td>\n",
       "      <td>160</td>\n",
       "      <td>161</td>\n",
       "      <td>162</td>\n",
       "      <td>162</td>\n",
       "      <td>...</td>\n",
       "      <td>219</td>\n",
       "      <td>219</td>\n",
       "      <td>218</td>\n",
       "      <td>217</td>\n",
       "      <td>217</td>\n",
       "      <td>217</td>\n",
       "      <td>216</td>\n",
       "      <td>215</td>\n",
       "      <td>215</td>\n",
       "      <td>213</td>\n",
       "    </tr>\n",
       "    <tr>\n",
       "      <th>532</th>\n",
       "      <td>9</td>\n",
       "      <td>60</td>\n",
       "      <td>62</td>\n",
       "      <td>68</td>\n",
       "      <td>78</td>\n",
       "      <td>86</td>\n",
       "      <td>91</td>\n",
       "      <td>94</td>\n",
       "      <td>96</td>\n",
       "      <td>99</td>\n",
       "      <td>...</td>\n",
       "      <td>155</td>\n",
       "      <td>153</td>\n",
       "      <td>154</td>\n",
       "      <td>154</td>\n",
       "      <td>156</td>\n",
       "      <td>156</td>\n",
       "      <td>156</td>\n",
       "      <td>156</td>\n",
       "      <td>155</td>\n",
       "      <td>153</td>\n",
       "    </tr>\n",
       "    <tr>\n",
       "      <th>11531</th>\n",
       "      <td>22</td>\n",
       "      <td>157</td>\n",
       "      <td>161</td>\n",
       "      <td>164</td>\n",
       "      <td>168</td>\n",
       "      <td>168</td>\n",
       "      <td>169</td>\n",
       "      <td>171</td>\n",
       "      <td>171</td>\n",
       "      <td>172</td>\n",
       "      <td>...</td>\n",
       "      <td>255</td>\n",
       "      <td>246</td>\n",
       "      <td>249</td>\n",
       "      <td>248</td>\n",
       "      <td>248</td>\n",
       "      <td>248</td>\n",
       "      <td>247</td>\n",
       "      <td>246</td>\n",
       "      <td>246</td>\n",
       "      <td>246</td>\n",
       "    </tr>\n",
       "    <tr>\n",
       "      <th>13376</th>\n",
       "      <td>14</td>\n",
       "      <td>86</td>\n",
       "      <td>55</td>\n",
       "      <td>110</td>\n",
       "      <td>117</td>\n",
       "      <td>120</td>\n",
       "      <td>126</td>\n",
       "      <td>133</td>\n",
       "      <td>140</td>\n",
       "      <td>158</td>\n",
       "      <td>...</td>\n",
       "      <td>201</td>\n",
       "      <td>179</td>\n",
       "      <td>175</td>\n",
       "      <td>138</td>\n",
       "      <td>141</td>\n",
       "      <td>126</td>\n",
       "      <td>129</td>\n",
       "      <td>119</td>\n",
       "      <td>92</td>\n",
       "      <td>79</td>\n",
       "    </tr>\n",
       "  </tbody>\n",
       "</table>\n",
       "<p>10 rows × 785 columns</p>\n",
       "</div>"
      ],
      "text/plain": [
       "       label  pixel1  pixel2  pixel3  pixel4  pixel5  pixel6  pixel7  pixel8  \\\n",
       "15996      1     122     125     129     133     138     140     142     143   \n",
       "7698       8     131     135     145     151     156     155     178     168   \n",
       "10530     20     177     179     182     189     194     197     200     203   \n",
       "12343      2     133     141     146     150     154     158     159     162   \n",
       "2251      10     171     173     175     177     179     181     183     184   \n",
       "8749      22     132     133     135     136     138     139     138     139   \n",
       "12567     22     154     156     159     159     160     160     161     162   \n",
       "532        9      60      62      68      78      86      91      94      96   \n",
       "11531     22     157     161     164     168     168     169     171     171   \n",
       "13376     14      86      55     110     117     120     126     133     140   \n",
       "\n",
       "       pixel9  ...  pixel775  pixel776  pixel777  pixel778  pixel779  \\\n",
       "15996     145  ...        78        76        74        82        83   \n",
       "7698      167  ...         3        17        48         3         0   \n",
       "10530     204  ...       219       252       243       243       241   \n",
       "12343     166  ...       207       209       212       213       213   \n",
       "2251      185  ...       169       196       211       217       220   \n",
       "8749      139  ...       174       176       175       176       175   \n",
       "12567     162  ...       219       219       218       217       217   \n",
       "532        99  ...       155       153       154       154       156   \n",
       "11531     172  ...       255       246       249       248       248   \n",
       "13376     158  ...       201       179       175       138       141   \n",
       "\n",
       "       pixel780  pixel781  pixel782  pixel783  pixel784  \n",
       "15996        76        80        76        52        32  \n",
       "7698         22        40        29        24        21  \n",
       "10530       240       239       238       237       235  \n",
       "12343       213       213       213       213       213  \n",
       "2251        222       222       221       222       221  \n",
       "8749        175       175       175       174       174  \n",
       "12567       217       216       215       215       213  \n",
       "532         156       156       156       155       153  \n",
       "11531       248       247       246       246       246  \n",
       "13376       126       129       119        92        79  \n",
       "\n",
       "[10 rows x 785 columns]"
      ]
     },
     "execution_count": 4,
     "metadata": {},
     "output_type": "execute_result"
    }
   ],
   "source": [
    "train_df.sample(10)"
   ]
  },
  {
   "cell_type": "code",
   "execution_count": 5,
   "metadata": {},
   "outputs": [
    {
     "data": {
      "text/plain": [
       "[np.int64(0),\n",
       " np.int64(1),\n",
       " np.int64(2),\n",
       " np.int64(3),\n",
       " np.int64(4),\n",
       " np.int64(5),\n",
       " np.int64(6),\n",
       " np.int64(7),\n",
       " np.int64(8),\n",
       " np.int64(9),\n",
       " np.int64(10),\n",
       " np.int64(11),\n",
       " np.int64(12),\n",
       " np.int64(13),\n",
       " np.int64(14),\n",
       " np.int64(15),\n",
       " np.int64(16),\n",
       " np.int64(17),\n",
       " np.int64(18),\n",
       " np.int64(19),\n",
       " np.int64(20),\n",
       " np.int64(21),\n",
       " np.int64(22),\n",
       " np.int64(23)]"
      ]
     },
     "execution_count": 5,
     "metadata": {},
     "output_type": "execute_result"
    }
   ],
   "source": [
    "array = train_df['label'].unique()\n",
    "\n",
    "sorted(array)"
   ]
  },
  {
   "cell_type": "markdown",
   "metadata": {},
   "source": [
    "### Create Dataset\n",
    "\n",
    "Creates the validation and test datasets"
   ]
  },
  {
   "cell_type": "code",
   "execution_count": 6,
   "metadata": {},
   "outputs": [],
   "source": [
    "y_train = np.array(train_df['label'])\n",
    "y_val = np.array(valid_df['label'])\n",
    "del train_df['label']\n",
    "del valid_df['label']\n",
    "x_train = train_df.values.astype(np.float32)\n",
    "x_val = valid_df.values.astype(np.float32)"
   ]
  },
  {
   "cell_type": "code",
   "execution_count": 7,
   "metadata": {},
   "outputs": [
    {
     "data": {
      "text/plain": [
       "((5379, 784), (1793, 784), (5379,), (1793,))"
      ]
     },
     "execution_count": 7,
     "metadata": {},
     "output_type": "execute_result"
    }
   ],
   "source": [
    "x_val, x_test, y_val, y_test = train_test_split(x_val, y_val, shuffle=True, random_state=43)\n",
    "\n",
    "x_val.shape, x_test.shape, y_val.shape, y_test.shape"
   ]
  },
  {
   "cell_type": "code",
   "execution_count": 8,
   "metadata": {},
   "outputs": [
    {
     "data": {
      "text/plain": [
       "{0: 'a',\n",
       " 1: 'b',\n",
       " 2: 'c',\n",
       " 3: 'd',\n",
       " 4: 'e',\n",
       " 5: 'f',\n",
       " 6: 'g',\n",
       " 7: 'h',\n",
       " 8: 'i',\n",
       " 9: 'j',\n",
       " 10: 'k',\n",
       " 11: 'l',\n",
       " 12: 'm',\n",
       " 13: 'n',\n",
       " 14: 'o',\n",
       " 15: 'p',\n",
       " 16: 'q',\n",
       " 17: 'r',\n",
       " 18: 's',\n",
       " 19: 't',\n",
       " 20: 'u',\n",
       " 21: 'v',\n",
       " 22: 'w',\n",
       " 23: 'x',\n",
       " 24: 'y',\n",
       " 25: 'z'}"
      ]
     },
     "execution_count": 8,
     "metadata": {},
     "output_type": "execute_result"
    }
   ],
   "source": [
    "# Create targets to labels\n",
    "\n",
    "alphabet=list(string.ascii_lowercase)\n",
    "\n",
    "target2label = { i: l for i,l in enumerate(alphabet) }\n",
    "\n",
    "target2label"
   ]
  },
  {
   "cell_type": "markdown",
   "metadata": {},
   "source": [
    "### Normalise\n",
    "\n",
    "Perform normalization on the dataset using the train mean and std. dev."
   ]
  },
  {
   "cell_type": "code",
   "execution_count": 9,
   "metadata": {},
   "outputs": [],
   "source": [
    "def normalise(x_mean, x_std, x_data):\n",
    "    return (x_data - x_mean) / x_std"
   ]
  },
  {
   "cell_type": "code",
   "execution_count": 10,
   "metadata": {},
   "outputs": [],
   "source": [
    "x_mean = x_train.mean()\n",
    "x_std = x_train.std()\n",
    "\n",
    "x_train = normalise(x_mean, x_std, x_train)\n",
    "x_val = normalise(x_mean, x_std, x_val)\n",
    "x_test = normalise(x_mean, x_std, x_test)"
   ]
  },
  {
   "cell_type": "markdown",
   "metadata": {},
   "source": [
    "### Plot samples"
   ]
  },
  {
   "cell_type": "code",
   "execution_count": 11,
   "metadata": {},
   "outputs": [],
   "source": [
    "def plot_image(image):\n",
    "    plt.figure(figsize=(5,5))\n",
    "    plt.imshow(np.reshape(image, (28, 28)), cmap=plt.get_cmap('gray'))\n",
    "    plt.axis('off')\n",
    "    plt.show()"
   ]
  },
  {
   "cell_type": "code",
   "execution_count": 12,
   "metadata": {},
   "outputs": [
    {
     "name": "stdout",
     "output_type": "stream",
     "text": [
      "The image is labeled with the label: i\n"
     ]
    },
    {
     "data": {
      "image/png": "[encoded data removed]",
      "text/plain": [
       "<Figure size 500x500 with 1 Axes>"
      ]
     },
     "metadata": {},
     "output_type": "display_data"
    }
   ],
   "source": [
    "rnd_idx = np.random.randint(len(y_test))\n",
    "print(f'The image is labeled with the label: {target2label[y_test[rnd_idx]]}')\n",
    "plot_image(x_test[rnd_idx])"
   ]
  },
  {
   "cell_type": "markdown",
   "metadata": {},
   "source": [
    "### Ecuaciones para nuestro modelo\n",
    "\n",
    "\n",
    "$$z^1 = W^1 X + b^1$$\n",
    "\n",
    "$$a^1 = ReLU(z^1) $$\n",
    "\n",
    "$$z^2 = W^2 a^1 + b^2$$\n",
    "\n",
    "$$\\hat{y} = \\frac{e^{z^{2_k}}}{\\sum_j{e^{z_j}}}$$\n",
    "\n",
    "\n",
    "$$ \\mathcal{L}(\\hat{y}^{i}, y^{i}) =  - y^{i}  \\ln(\\hat{y}^{i}) = -\\ln(\\hat{y}^i)$$\n",
    "\n",
    "\n",
    "$$ \\mathcal{J}(w, b) =  \\frac{1}{num\\_samples} \\sum_{i=1}^{num\\_samples}-\\ln(\\hat{y}^{i})$$"
   ]
  },
  {
   "cell_type": "markdown",
   "metadata": {},
   "source": [
    "### Funciones adicionales"
   ]
  },
  {
   "cell_type": "markdown",
   "metadata": {},
   "source": [
    "#### Mini batches"
   ]
  },
  {
   "cell_type": "code",
   "execution_count": 13,
   "metadata": {},
   "outputs": [],
   "source": [
    "def create_minibatches(mb_size, x, y, shuffle = True):\n",
    "    \"\"\"This function creates mini-batches from the x and y datasets\n",
    "\n",
    "    Args:\n",
    "        mb_size (int): mini-batch size\n",
    "        x (np.ndarray): train, valid or test dataset\n",
    "        y (np.ndarray): train, valid or test labels\n",
    "        shuffle (bool, optional): specifies if the batches are shuffled. Defaults to True.\n",
    "\n",
    "    Returns:\n",
    "        tuple: returns a tuple with the batches in pairs (x,y)\n",
    "    \"\"\"\n",
    "    assert x.shape[0] == y.shape[0], 'Error en cantidad de muestras'\n",
    "    total_data = x.shape[0]\n",
    "    if shuffle: \n",
    "        idxs = np.arange(total_data)\n",
    "        np.random.shuffle(idxs)\n",
    "        x = x[idxs]\n",
    "        y = y[idxs]  \n",
    "    return ((x[i:i+mb_size], y[i:i+mb_size]) for i in range(0, total_data, mb_size))"
   ]
  },
  {
   "cell_type": "markdown",
   "metadata": {},
   "source": [
    "## Nuestra clase Linear, ReLU y Sequential"
   ]
  },
  {
   "cell_type": "code",
   "execution_count": 14,
   "metadata": {},
   "outputs": [],
   "source": [
    "class np_tensor(np.ndarray): pass"
   ]
  },
  {
   "cell_type": "markdown",
   "metadata": {},
   "source": [
    "###  Clase Linear"
   ]
  },
  {
   "cell_type": "code",
   "execution_count": 15,
   "metadata": {},
   "outputs": [],
   "source": [
    "class Linear:\n",
    "    \n",
    "    def __init__(self, input_size: int, output_size: int) -> None:\n",
    "        \"\"\"Fully Connected Layer\n",
    "\n",
    "        Args:\n",
    "            input_size (int): input size of the fully connected layer\n",
    "            output_size (int): ouput size of the fully connected layer\n",
    "        \"\"\"\n",
    "        self.W = (np.random.randn(output_size, input_size) / np.sqrt(input_size/2)).view(np_tensor)\n",
    "        self.b = (np.zeros((output_size, 1))).view(np_tensor)\n",
    "        \n",
    "    def __call__(self, X):\n",
    "        return self.W @ X + self.b\n",
    "    \n",
    "    def backward(self, X, Z):        \n",
    "        X.grad = self.W.T @ Z.grad\n",
    "        self.W.grad = Z.grad @ X.T\n",
    "        self.b.grad = np.sum(Z.grad, axis = 1, keepdims=True)"
   ]
  },
  {
   "cell_type": "markdown",
   "metadata": {},
   "source": [
    "### Clase ReLU"
   ]
  },
  {
   "cell_type": "code",
   "execution_count": 16,
   "metadata": {},
   "outputs": [],
   "source": [
    "class ReLU:\n",
    "    \n",
    "    def __call__(self, Z):\n",
    "        \"\"\"Rectified Linear Unit\n",
    "\n",
    "        Args:\n",
    "            Z (np.ndarray): the array to be applied the function\n",
    "\n",
    "        Returns:\n",
    "            Z: if ith element is greater that zero else zero\n",
    "        \"\"\"\n",
    "        return np.maximum(0, Z)\n",
    "\n",
    "    def backward(self, Z, A):\n",
    "        Z.grad = A.grad.copy()\n",
    "        Z.grad[Z <= 0] = 0"
   ]
  },
  {
   "cell_type": "markdown",
   "metadata": {},
   "source": [
    "### Clase Sequential"
   ]
  },
  {
   "cell_type": "code",
   "execution_count": 17,
   "metadata": {},
   "outputs": [],
   "source": [
    "class Sequential:\n",
    "\n",
    "    def __init__(self, layers = None) -> None:\n",
    "        \"\"\"Creates a Neural Network of stacked layers\n",
    "\n",
    "        Args:\n",
    "            layers (list, optional): The list of layers. Defaults to None.\n",
    "        \"\"\"\n",
    "        self.layers = layers\n",
    "        self.outputs = {}\n",
    "\n",
    "    def __call__(self, x):\n",
    "        self.outputs['l0'] = x\n",
    "        for i, layer in enumerate(self.layers, 1):\n",
    "            x = layer(x)\n",
    "            self.outputs['l' + str(i)] = x\n",
    "        return x\n",
    "\n",
    "    def backward(self):\n",
    "        for i in reversed(range(len(self.layers))):\n",
    "            li = self.outputs['l' + str(i)]\n",
    "            li1 = self.outputs['l' + str(i + 1)]\n",
    "            self.layers[i].backward(li, li1)\n",
    "\n",
    "    def update(self, learning_rate = 1e-3):\n",
    "        for layer in self.layers:\n",
    "            if isinstance(layer, ReLU): continue\n",
    "            layer.W = layer.W - learning_rate * layer.W.grad\n",
    "            layer.b = layer.b - learning_rate * layer.b.grad\n",
    "\n",
    "    def predict(self, x):\n",
    "        return np.argmax(self.__call__(x))"
   ]
  },
  {
   "cell_type": "markdown",
   "metadata": {},
   "source": [
    "### Cost Function"
   ]
  },
  {
   "cell_type": "code",
   "execution_count": 18,
   "metadata": {},
   "outputs": [],
   "source": [
    "def softmaxXEntropy(x, y):\n",
    "    batch_size = x.shape[1]\n",
    "    exp_scores = np.exp(x)\n",
    "    probs = exp_scores / exp_scores.sum(axis=0)\n",
    "    preds = probs.copy()\n",
    "    \n",
    "    # Reshape de y para asegurar la forma correcta\n",
    "    y = y.reshape(1, -1)\n",
    "    \n",
    "    # Cost\n",
    "    y_hat = probs[y, np.arange(batch_size)]\n",
    "    cost = np.sum(-np.log(y_hat)) / batch_size\n",
    "    \n",
    "    # Gradient calculation\n",
    "    probs[y, np.arange(batch_size)] -= 1  # Corregido de y.squeeze() a y.reshape\n",
    "    x.grad = probs.copy()\n",
    "    \n",
    "    return preds, cost"
   ]
  },
  {
   "cell_type": "markdown",
   "metadata": {},
   "source": [
    "### Loop de entrenamiento"
   ]
  },
  {
   "cell_type": "code",
   "execution_count": 19,
   "metadata": {},
   "outputs": [],
   "source": [
    "def train(model,epochs,mb_size=128, learning_rate=1e-3):\n",
    "    for epoch in range(epochs):\n",
    "        for i, (x,y) in enumerate(create_minibatches(mb_size, x_train,y_train)):\n",
    "            scores= model(x.T.view(np_tensor))\n",
    "            _, cost =softmaxXEntropy(scores,y)\n",
    "            model.backward()\n",
    "            model.update(learning_rate)\n",
    "        print(f'epoch: {epoch:.03f} cost: {cost:.03f}, accuracy: {accuracy(x_val,y_val,mb_size) * 100:.02f}%')"
   ]
  },
  {
   "cell_type": "markdown",
   "metadata": {},
   "source": [
    "### Create your model and train it"
   ]
  },
  {
   "cell_type": "code",
   "execution_count": 20,
   "metadata": {},
   "outputs": [],
   "source": [
    "def accuracy(x, y, mb_size):\n",
    "    correct=0\n",
    "    total= 0\n",
    "    for i,(x,y) in enumerate(create_minibatches(mb_size,x,y)):\n",
    "        pred= model(x.T.view(np_tensor))\n",
    "        correct+= np.sum(np.argmax(pred,axis=0)== y.squeeze())\n",
    "        total+= pred.shape[1]\n",
    "    return correct/total\n"
   ]
  },
  {
   "cell_type": "code",
   "execution_count": 21,
   "metadata": {},
   "outputs": [],
   "source": [
    "num_classes = len(np.unique(y_train))\n",
    "model = Sequential([Linear(784, 200), ReLU(), Linear(200, 200), ReLU(), Linear(200, num_classes)])\n",
    "mb_size=512\n",
    "learning_rate=1e-4\n",
    "epochs=15"
   ]
  },
  {
   "cell_type": "code",
   "execution_count": 22,
   "metadata": {},
   "outputs": [
    {
     "name": "stdout",
     "output_type": "stream",
     "text": [
      "epoch: 0.000 cost: 1.145, accuracy: 52.57%\n",
      "epoch: 1.000 cost: 0.555, accuracy: 65.83%\n",
      "epoch: 2.000 cost: 0.306, accuracy: 70.74%\n",
      "epoch: 3.000 cost: 0.198, accuracy: 71.69%\n",
      "epoch: 4.000 cost: 0.139, accuracy: 72.24%\n",
      "epoch: 5.000 cost: 0.111, accuracy: 73.53%\n",
      "epoch: 6.000 cost: 0.081, accuracy: 73.34%\n",
      "epoch: 7.000 cost: 0.067, accuracy: 73.99%\n",
      "epoch: 8.000 cost: 0.050, accuracy: 74.74%\n",
      "epoch: 9.000 cost: 0.046, accuracy: 74.49%\n",
      "epoch: 10.000 cost: 0.039, accuracy: 74.87%\n",
      "epoch: 11.000 cost: 0.035, accuracy: 75.16%\n",
      "epoch: 12.000 cost: 0.029, accuracy: 75.87%\n",
      "epoch: 13.000 cost: 0.024, accuracy: 75.91%\n",
      "epoch: 14.000 cost: 0.021, accuracy: 75.89%\n"
     ]
    }
   ],
   "source": [
    "train(model,epochs,mb_size,learning_rate)"
   ]
  },
  {
   "cell_type": "code",
   "execution_count": 23,
   "metadata": {},
   "outputs": [
    {
     "name": "stdout",
     "output_type": "stream",
     "text": [
      "Test dataset accuracy: 77.52%\n"
     ]
    }
   ],
   "source": [
    "acc = accuracy(x_test,y_test, mb_size)\n",
    "print(f\"Test dataset accuracy: {acc*100:.02f}%\")"
   ]
  },
  {
   "cell_type": "markdown",
   "metadata": {},
   "source": [
    "### Test your model on Random data from your test set"
   ]
  },
  {
   "cell_type": "code",
   "execution_count": 24,
   "metadata": {},
   "outputs": [
    {
     "data": {
      "image/png": "[encoded data removed]",
      "text/plain": [
       "<Figure size 500x500 with 1 Axes>"
      ]
     },
     "metadata": {},
     "output_type": "display_data"
    },
    {
     "name": "stdout",
     "output_type": "stream",
     "text": [
      "el valor predicho es: b el valor real es:b\n"
     ]
    }
   ],
   "source": [
    "idx = np.random.randint(len(y_test))\n",
    "plot_image(x_test[idx].reshape(28,28))\n",
    "pred = model.predict(x_test[idx].reshape(-1, 1))\n",
    "print(f'el valor predicho es: {alphabet[pred]} el valor real es:{alphabet[y_test[idx]]}')"
   ]
  }
 ],
 "metadata": {
  "kernelspec": {
   "display_name": "Python 3 (ipykernel)",
   "language": "python",
   "name": "python3"
  },
  "language_info": {
   "codemirror_mode": {
    "name": "ipython",
    "version": 3
   },
   "file_extension": ".py",
   "mimetype": "text/x-python",
   "name": "python",
   "nbconvert_exporter": "python",
   "pygments_lexer": "ipython3",
   "version": "3.11.9"
  },
  "toc": {
   "base_numbering": 1,
   "nav_menu": {},
   "number_sections": true,
   "sideBar": true,
   "skip_h1_title": false,
   "title_cell": "Table of Contents",
   "title_sidebar": "Contents",
   "toc_cell": false,
   "toc_position": {},
   "toc_section_display": true,
   "toc_window_display": false
  },
  "varInspector": {
   "cols": {
    "lenName": 16,
    "lenType": 16,
    "lenVar": 40
   },
   "kernels_config": {
    "python": {
     "delete_cmd_postfix": "",
     "delete_cmd_prefix": "del ",
     "library": "var_list.py",
     "varRefreshCmd": "print(var_dic_list())"
    },
    "r": {
     "delete_cmd_postfix": ") ",
     "delete_cmd_prefix": "rm(",
     "library": "var_list.r",
     "varRefreshCmd": "cat(var_dic_list()) "
    }
   },
   "types_to_exclude": [
    "module",
    "function",
    "builtin_function_or_method",
    "instance",
    "_Feature"
   ],
   "window_display": false
  }
 },
 "nbformat": 4,
 "nbformat_minor": 4
}
