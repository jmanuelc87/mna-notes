{
 "cells": [
  {
   "cell_type": "markdown",
   "id": "c6142099",
   "metadata": {},
   "source": [
    "## TC 5033\n",
    "### Word Embeddings\n",
    "\n",
    "<br>\n",
    "\n",
    "#### Activity 3a: Exploring Word Embeddings with GloVe and Numpy\n",
    "<br>\n",
    "\n",
    "- Objective:\n",
    "    - To understand the concept of word embeddings and their significance in Natural Language Processing.\n",
    "    - To learn how to manipulate and visualize high-dimensional data using dimensionality reduction techniques like PCA and t-SNE.\n",
    "    - To gain hands-on experience in implementing word similarity and analogies using GloVe embeddings and Numpy.\n",
    "    \n",
    "<br>\n",
    "\n",
    "- Instructions:\n",
    "    - Download GloVe pre-trained vectors from the provided link in Canvas, the official public project: \n",
    "    Jeffrey Pennington, Richard Socher, and Christopher D. Manning. 2014. GloVe: Global Vectors for Word Representation\n",
    "    https://nlp.stanford.edu/data/glove.6B.zip\n",
    "\n",
    "    - Create a dictorionay of the embeddings so that you carry out fast look ups. Save that dictionary e.g. as a serialized file for faster loading in future uses.\n",
    "    \n",
    "    - PCA and t-SNE Visualization: After loading the GloVe embeddings, use Numpy and Sklearn to perform PCA and t-SNE to reduce the dimensionality of the embeddings and visualize them in a 2D or 3D space.\n",
    "\n",
    "    - Word Similarity: Implement a function that takes a word as input and returns the 'n' most similar words based on their embeddings. You should use Numpy to implement this function, using libraries that already implement this function (e.g. Gensim) will result in zero points.\n",
    "\n",
    "    - Word Analogies: Implement a function to solve analogies between words. For example, \"man is to king as woman is to ____\". You should use Numpy to implement this function, using libraries that already implement this function (e.g. Gensim) will result in zero points.\n",
    "\n",
    "    - Submission: This activity is to be submitted in teams of 3 or 4. Only one person should submit the final work, with the full names of all team members included in a markdown cell at the beginning of the notebook.\n",
    "    \n",
    "<br>\n",
    "\n",
    "- Evaluation Criteria:\n",
    "\n",
    "    - Code Quality (40%): Your code should be well-organized, clearly commented, and easy to follow. Use also markdown cells for clarity.\n",
    "    \n",
    "   - Functionality (60%): All functions should work as intended, without errors.\n",
    "       - Visualization of PCA and t-SNE (10% each for a total of 20%)\n",
    "       - Similarity function (20%)\n",
    "       - Analogy function (20%)\n",
    "|\n",
    "\n"
   ]
  },
  {
   "cell_type": "markdown",
   "id": "a52140b4",
   "metadata": {},
   "source": [
    "Students:\n",
    "\n",
    "- Juan Manuel Carballo          A01166758\n",
    "- Paola Estrada Warn            A01795663\n",
    "- Christopher Flores González   A01795419\n",
    "- Jorge Pedroza Rivera          A01319553\n",
    "- Victor Hugo Avila Felipe      A01794425"
   ]
  },
  {
   "cell_type": "markdown",
   "id": "329dd09a",
   "metadata": {},
   "source": [
    "Import libraries"
   ]
  },
  {
   "cell_type": "code",
   "execution_count": null,
   "id": "f648b7a9",
   "metadata": {},
   "outputs": [],
   "source": [
    "# %conda install -q conda-forge::transaction conda-forge::scikit-learn conda-forge::btrees conda-forge::zodb"
   ]
  },
  {
   "cell_type": "code",
   "execution_count": 1,
   "id": "4af04b9d",
   "metadata": {},
   "outputs": [],
   "source": [
    "import os\n",
    "import random\n",
    "import numpy as np\n",
    "import pandas as pd\n",
    "import seaborn as sb\n",
    "import matplotlib.pyplot as plt\n",
    "\n",
    "import zipfile\n",
    "import urllib.request\n",
    "\n",
    "import transaction, ZODB, ZODB.FileStorage\n",
    "\n",
    "from pathlib import Path\n",
    "from BTrees.OOBTree import OOBTree\n",
    "\n",
    "from sklearn.decomposition import PCA\n",
    "from sklearn.manifold import TSNE"
   ]
  },
  {
   "cell_type": "markdown",
   "id": "8712cf42",
   "metadata": {},
   "source": [
    "Download file from internet and unzip it"
   ]
  },
  {
   "cell_type": "code",
   "execution_count": null,
   "id": "8c3c9d2a",
   "metadata": {},
   "outputs": [],
   "source": [
    "FILE = \"../embeddings/glove.6B.zip\"\n",
    "\n",
    "path = Path(FILE)\n",
    "\n",
    "if not path.exists():\n",
    "    urllib.request.urlretrieve(\"https://nlp.stanford.edu/data/glove.6B.zip\", FILE)\n",
    "\n",
    "if path.exists():\n",
    "    with zipfile.ZipFile(FILE, 'r') as zip_ref:\n",
    "        for filename in zip_ref.namelist():\n",
    "            if not os.path.exists(os.path.join(\"../embeddings\", filename)):\n",
    "                zip_ref.extract(filename, '../embeddings')"
   ]
  },
  {
   "cell_type": "markdown",
   "id": "4738a34d",
   "metadata": {},
   "source": [
    "Create references to the embedding files"
   ]
  },
  {
   "cell_type": "code",
   "execution_count": null,
   "id": "a4afc775",
   "metadata": {},
   "outputs": [],
   "source": [
    "EMBEDDINGS_FILE = lambda dim: f\"../embeddings/glove.6B.{dim}d.txt\""
   ]
  },
  {
   "cell_type": "code",
   "execution_count": null,
   "id": "25a1eae6",
   "metadata": {
    "code_folding": []
   },
   "outputs": [],
   "source": [
    "def create_embedding_btree(file):\n",
    "    btree = OOBTree()\n",
    "    with open(file) as ref:\n",
    "        for line in ref:\n",
    "            row = line.split(\" \")\n",
    "            btree.update({f\"{row[0]}\": [float(v) for v in row[1:]]})\n",
    "    return btree"
   ]
  },
  {
   "cell_type": "code",
   "execution_count": null,
   "id": "347a0e5e",
   "metadata": {
    "code_folding": []
   },
   "outputs": [],
   "source": [
    "embeddings_btree = create_embedding_btree(EMBEDDINGS_FILE(50))"
   ]
  },
  {
   "cell_type": "markdown",
   "id": "db2d3db5",
   "metadata": {},
   "source": [
    "Create class that contains the logic for ploting embeddings, compute most similars and compute analogy.\n",
    "For the implementation of the class we decided to use BTree like data structure because in one hand give us O(log n) access times to each word vector on the other hand it give us faster warm up times or we don't have to wait until the complete dict is loaded in memory to work with it."
   ]
  },
  {
   "cell_type": "code",
   "execution_count": 2,
   "id": "ffca684e",
   "metadata": {},
   "outputs": [],
   "source": [
    "class EmbeddingDict:\n",
    "\n",
    "    def __init__(self, filepath):\n",
    "        self.db = ZODB.DB(filepath)\n",
    "        self.conn = self.db.open()\n",
    "        self.root = self.conn.root()\n",
    "\n",
    "    def save(self, object):\n",
    "        \"\"\"saves the object in the database\"\"\"\n",
    "        self.root['embedding'] = object\n",
    "        transaction.commit()\n",
    "\n",
    "    def __getattr__(self, name):\n",
    "        \"\"\"get the dict class from the database, usually for calling methods like keys() or items()\"\"\"\n",
    "        return self.root[name] if name == 'embedding' else None\n",
    "\n",
    "    def __getitem__(self, name):\n",
    "        \"\"\"returns a vector from the embedding dict\"\"\"\n",
    "        return self.root['embedding'][name]\n",
    "    \n",
    "    def __del__(self):\n",
    "        \"\"\"closes de database\"\"\"\n",
    "        self.db.close()"
   ]
  },
  {
   "cell_type": "markdown",
   "id": "2fe3c167",
   "metadata": {},
   "source": [
    "For ploting embeddings we use two techniques PCA (Principal Component Analisys) and TSNE (t-distributed stochastic neighbor embedding), both classes from sklearn."
   ]
  },
  {
   "cell_type": "code",
   "execution_count": null,
   "id": "efca1f95",
   "metadata": {},
   "outputs": [],
   "source": [
    "def plot_embeddings(self, words2show, perplexity=30):\n",
    "    \"\"\"Plots the words in a scatter plot\"\"\"\n",
    "    vectors = [ self[word] for word in words2show ]\n",
    "    model = PCA(n_components=10)\n",
    "    result = model.fit_transform(np.array(vectors))\n",
    "    \n",
    "    model = TSNE(n_components=2, perplexity=perplexity)\n",
    "    result = model.fit_transform(result)\n",
    "    \n",
    "    plt.figure(figsize=(12,8))\n",
    "    df = pd.DataFrame(result, columns=['vector1', 'vector2'])\n",
    "    sb.scatterplot(df, x='vector1', y='vector2')\n",
    "    \n",
    "    for i, word in enumerate(words2show):\n",
    "        plt.annotate(word, (df.iloc[i, 0], df.iloc[i, 1]))\n",
    "    plt.show()\n",
    "\n",
    "\n",
    "EmbeddingDict.plot_embeddings = plot_embeddings"
   ]
  },
  {
   "cell_type": "markdown",
   "id": "a4984520",
   "metadata": {},
   "source": [
    "To find the most similar words given a seed word we compute the cosine similarity of the vector against each vector in the database."
   ]
  },
  {
   "cell_type": "code",
   "execution_count": 69,
   "id": "55f372ca",
   "metadata": {},
   "outputs": [],
   "source": [
    "def cosine_similarity(self, vec1, vec2):\n",
    "    \"\"\"computes the cosine similarity\"\"\"\n",
    "    return np.dot(vec1, vec2) / (np.linalg.norm(vec1) * np.linalg.norm(vec2))"
   ]
  },
  {
   "cell_type": "code",
   "execution_count": 70,
   "id": "dccaf587",
   "metadata": {},
   "outputs": [],
   "source": [
    "def find_most_similar(self, needle, top_n=10):\n",
    "    \"\"\"finds the most similar words given seed word\"\"\"\n",
    "    result = self[needle]\n",
    "    word_list = []\n",
    "    for word, vector in self.embedding.items():\n",
    "        if word not in [needle]:\n",
    "            similarity = self.cosine_similarity(result, vector)\n",
    "            word_list.append((float(similarity), word))\n",
    "    word_list.sort(reverse=True)\n",
    "    return word_list[:top_n]\n",
    "\n",
    "\n",
    "EmbeddingDict.cosine_similarity = cosine_similarity\n",
    "EmbeddingDict.find_most_similar = find_most_similar"
   ]
  },
  {
   "cell_type": "markdown",
   "id": "8d4288f0",
   "metadata": {},
   "source": [
    "The analogy function works substracting word1 minus word2 plus word3, then calculates the cosine similarity of the resulting vector against each vector in the database"
   ]
  },
  {
   "cell_type": "code",
   "execution_count": 71,
   "id": "3f24be25",
   "metadata": {},
   "outputs": [],
   "source": [
    "def analogy(self, word1, word2, word3):\n",
    "    \"\"\"computes the analogy for the given words: word3 + (word2 - word1)\"\"\"\n",
    "    vector1 = self[word1]\n",
    "    vector2 = self[word2]\n",
    "    vector3 = self[word3]\n",
    "    \n",
    "    result = np.add(np.subtract(vector2, vector1), vector3)\n",
    "    max_similarity = -float('inf')\n",
    "    best_word = None\n",
    "    \n",
    "    for word, vector in self.embedding.items():\n",
    "        if word not in [word1, word2, word3]:\n",
    "            similarity = self.cosine_similarity(result, vector)\n",
    "            if similarity > max_similarity:\n",
    "                max_similarity = float(similarity)\n",
    "                best_word = word\n",
    "    \n",
    "    return best_word, max_similarity\n",
    "\n",
    "EmbeddingDict.analogy = analogy"
   ]
  },
  {
   "cell_type": "markdown",
   "id": "267a607e",
   "metadata": {},
   "source": [
    "Save embedding vectors to a file in hdd"
   ]
  },
  {
   "cell_type": "code",
   "execution_count": 72,
   "id": "7588ea6e",
   "metadata": {},
   "outputs": [],
   "source": [
    "# Create an EmbeddingDict with a filepath for storing the dict or if exists to retrieve data from it\n",
    "dict = EmbeddingDict('../embeddings/glove_embeddings.fs')"
   ]
  },
  {
   "cell_type": "code",
   "execution_count": 73,
   "id": "d7978634",
   "metadata": {},
   "outputs": [],
   "source": [
    "# no need to save dict again if you have *.fs file in your filesystem\n",
    "# dict.save(embeddings_btree)\n",
    "# del dict"
   ]
  },
  {
   "cell_type": "code",
   "execution_count": 74,
   "id": "0eae85cc",
   "metadata": {},
   "outputs": [],
   "source": [
    "def show_n_words(dict, n_words=10):\n",
    "    l = random.choices(dict.embedding.keys(), k=n_words)\n",
    "    for k in l:\n",
    "        print(f\"{k} => {str(dict[k][0:10])[:-1]}...\")"
   ]
  },
  {
   "cell_type": "code",
   "execution_count": 75,
   "id": "eda59340",
   "metadata": {},
   "outputs": [
    {
     "name": "stdout",
     "output_type": "stream",
     "text": [
      "alami => [-0.71135, -0.23954, -0.45472, 1.1462, 0.41321, -0.37357, 0.87014, 1.0013, 0.30785, 0.36024...\n",
      "gay/lesbian => [-0.37692, -0.1577, -0.68238, -0.12552, 0.34484, 0.33789, 0.13493, 0.31618, 0.42555, 0.2948...\n",
      "palmqvist => [0.59978, -0.17939, 0.25321, 0.26648, 0.80826, 1.1513, 1.6603, 0.34231, 0.63434, -0.92472...\n",
      "sgc => [-0.042665, -0.35566, 0.58904, 0.034614, 0.49369, -0.66098, 0.61322, -0.10195, -0.34943, -0.3538...\n",
      "pan-asian => [-0.47365, -0.34862, -0.40659, 0.096941, -0.026143, 0.57214, -0.24159, 0.010522, 0.81975, 0.81015...\n",
      "corsairs => [0.60487, -1.6835, -1.069, -0.89366, 0.22125, -0.39143, -0.58128, -0.023103, 0.044056, 0.46152...\n",
      "canoers => [0.11659, 0.19278, 0.2141, 0.00071152, -0.99736, 0.27169, 0.025029, 0.58419, -0.36252, 0.59285...\n",
      "pessanha => [-0.39608, -0.26725, 0.29785, -0.51782, -0.38348, -0.39446, 0.33457, 0.28289, -0.39379, -0.24882...\n",
      "oluremi => [-0.82074, -0.42452, -0.066012, 1.7045, -0.60378, -0.29847, 1.0402, 1.2525, 0.85161, -1.2562...\n",
      "145.7 => [-0.10545, -0.16965, 0.237, -0.02478, -0.1931, 0.14097, 0.53019, -0.88858, -0.058322, 0.61292...\n"
     ]
    }
   ],
   "source": [
    "show_n_words(dict)"
   ]
  },
  {
   "cell_type": "markdown",
   "id": "ff828123",
   "metadata": {},
   "source": [
    "#### Plot Embeddings"
   ]
  },
  {
   "cell_type": "code",
   "execution_count": 76,
   "id": "0bec825b",
   "metadata": {},
   "outputs": [],
   "source": [
    "words= ['burger', 'tortilla', 'bread', 'pizza', 'beef', 'steak', 'fries', 'chips', \n",
    "            'argentina', 'mexico', 'spain', 'usa', 'france', 'italy', 'greece', 'china',\n",
    "            'water', 'beer', 'tequila', 'wine', 'whisky', 'brandy', 'vodka', 'coffee', 'tea',\n",
    "            'apple', 'banana', 'orange', 'lemon', 'grapefruit', 'grape', 'strawberry', 'raspberry',\n",
    "            'school', 'work', 'university', 'highschool', 'pear', 'plum', 'peach', 'lemon', 'grapes',\n",
    "         'cabbage', 'eggplant', 'carrot', 'mushroom', 'potato',\n",
    "         'book', 'article', 'newspaper', 'literature', 'novel',\n",
    "         'magazine', 'press']"
   ]
  },
  {
   "cell_type": "code",
   "execution_count": 77,
   "id": "87d33789",
   "metadata": {},
   "outputs": [
    {
     "data": {
      "image/png": "[encoded data removed]",
      "text/plain": [
       "<Figure size 1200x800 with 1 Axes>"
      ]
     },
     "metadata": {},
     "output_type": "display_data"
    }
   ],
   "source": [
    "dict.plot_embeddings(words)"
   ]
  },
  {
   "cell_type": "markdown",
   "id": "48e321ae",
   "metadata": {},
   "source": [
    "#### Compute the analogy"
   ]
  },
  {
   "cell_type": "code",
   "execution_count": 78,
   "id": "9c02ec01",
   "metadata": {},
   "outputs": [
    {
     "data": {
      "text/plain": [
       "('queen', 0.8609581258578943)"
      ]
     },
     "execution_count": 78,
     "metadata": {},
     "output_type": "execute_result"
    }
   ],
   "source": [
    "dict.analogy('man', 'king', 'woman')"
   ]
  },
  {
   "cell_type": "markdown",
   "id": "a382bcc1",
   "metadata": {},
   "source": [
    "#### Find the most similar word"
   ]
  },
  {
   "cell_type": "code",
   "execution_count": 79,
   "id": "7946d712",
   "metadata": {},
   "outputs": [
    {
     "data": {
      "text/plain": [
       "[(0.8550674735062006, 'mexican'),\n",
       " (0.8496898990100277, 'venezuela'),\n",
       " (0.8490317678971012, 'colombia'),\n",
       " (0.8446482641983609, 'peru'),\n",
       " (0.8439290136916647, 'chile'),\n",
       " (0.8362627872195746, 'puerto'),\n",
       " (0.8194695530350028, 'rico'),\n",
       " (0.8125205402325333, 'cuba'),\n",
       " (0.8113810916121009, 'guatemala'),\n",
       " (0.8096755912322257, 'panama')]"
      ]
     },
     "execution_count": 79,
     "metadata": {},
     "output_type": "execute_result"
    }
   ],
   "source": [
    "dict.find_most_similar('mexico')"
   ]
  }
 ],
 "metadata": {
  "kernelspec": {
   "display_name": "Python 3",
   "language": "python",
   "name": "python3"
  },
  "language_info": {
   "codemirror_mode": {
    "name": "ipython",
    "version": 3
   },
   "file_extension": ".py",
   "mimetype": "text/x-python",
   "name": "python",
   "nbconvert_exporter": "python",
   "pygments_lexer": "ipython3",
   "version": "3.11.10"
  },
  "varInspector": {
   "cols": {
    "lenName": 16,
    "lenType": 16,
    "lenVar": 40
   },
   "kernels_config": {
    "python": {
     "delete_cmd_postfix": "",
     "delete_cmd_prefix": "del ",
     "library": "var_list.py",
     "varRefreshCmd": "print(var_dic_list())"
    },
    "r": {
     "delete_cmd_postfix": ") ",
     "delete_cmd_prefix": "rm(",
     "library": "var_list.r",
     "varRefreshCmd": "cat(var_dic_list()) "
    }
   },
   "types_to_exclude": [
    "module",
    "function",
    "builtin_function_or_method",
    "instance",
    "_Feature"
   ],
   "window_display": false
  }
 },
 "nbformat": 4,
 "nbformat_minor": 5
}
