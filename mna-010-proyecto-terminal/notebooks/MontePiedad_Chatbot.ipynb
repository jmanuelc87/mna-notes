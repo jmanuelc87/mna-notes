{
  "cells": [
    {
      "cell_type": "markdown",
      "id": "ac7d8535",
      "metadata": {
        "id": "ac7d8535"
      },
      "source": [
        "<a target=\"_blank\" href=\"https://colab.research.google.com/github/jmanuelc87/nmp-autoavanza/blob/main/notebooks/MontePiedad_Chatbot.ipynb\">\n",
        "  <img src=\"https://colab.research.google.com/assets/colab-badge.svg\" alt=\"Open In Colab\"/>\n",
        "</a>"
      ]
    },
    {
      "cell_type": "code",
      "execution_count": null,
      "id": "DioCF2bZqjev",
      "metadata": {
        "id": "DioCF2bZqjev"
      },
      "outputs": [],
      "source": []
    }
  ],
  "metadata": {
    "colab": {
      "provenance": []
    },
    "language_info": {
      "name": "python"
    }
  },
  "nbformat": 4,
  "nbformat_minor": 5
}
