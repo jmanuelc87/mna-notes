{
 "cells": [
  {
   "cell_type": "markdown",
   "metadata": {
    "id": "VFj0sSM06dYa"
   },
   "source": [
    "## **Maestría en Inteligencia Artificial Aplicada**\n",
    "### **Curso: Inteligencia Artificial y Aprendizaje Automático**\n",
    "#### Tecnológico de Monterrey\n",
    "####P rof Luis Eduardo Falcón Morales\n",
    "\n",
    "### **Adtividad de la Semana 8**\n",
    "#### **Reducción de Dimensionalidad - Descomposición en Valores Singulares (SVD) y Sistemas de Recomendación**\n"
   ]
  },
  {
   "cell_type": "markdown",
   "metadata": {
    "id": "Qgrvy0RGB9XI"
   },
   "source": [
    "**Esta Actividad deberás resolverla de manera individual.**\n",
    "\n",
    "**Nombre y matrícula:**\n",
    "\n",
    "* Juan Manuel Carballo\n",
    "* A01166758\n"
   ]
  },
  {
   "cell_type": "code",
   "execution_count": 1,
   "metadata": {
    "id": "exXsscs-Dh-2"
   },
   "outputs": [],
   "source": [
    "# Incluye aquí todas las librerías y paquetes que requieras.\n",
    "\n",
    "import pandas as pd\n",
    "import numpy as np\n",
    "\n",
    "\n",
    "from sklearn.decomposition import TruncatedSVD\n"
   ]
  },
  {
   "cell_type": "markdown",
   "metadata": {
    "id": "8LCCGOCnB20k"
   },
   "source": [
    "### **Liga de Datos de la UCI \"Restaurant & consumer data\".**\n",
    "### **Descarga \"RCdata.zip\" y de ahí necesitaremos los archivos \"rating_final.csv\" y \"geoplaces2.csv\".**\n",
    "\n",
    "https://archive.ics.uci.edu/dataset/232/restaurant+consumer+data\n",
    "\n"
   ]
  },
  {
   "cell_type": "code",
   "execution_count": 2,
   "metadata": {
    "id": "3nU2GuWYCy6C"
   },
   "outputs": [
    {
     "name": "stdout",
     "output_type": "stream",
     "text": [
      "(1161, 5) (130, 21)\n"
     ]
    }
   ],
   "source": [
    "# Descarga los archivos de la página de la UCI a partir de los cuales generaremos\n",
    "# nuestras matrices de utilidad.\n",
    "\n",
    "data1 = pd.read_csv(\"../datasets/rating_final.csv\", header='infer', sep=\",\")\n",
    "data2 = pd.read_csv(\"../datasets/geoplaces2.csv\", header='infer',  encoding='latin-1')\n",
    "\n",
    "print(data1.shape, data2.shape)\n"
   ]
  },
  {
   "cell_type": "markdown",
   "metadata": {
    "id": "9ejOXFX0wRbr"
   },
   "source": [
    "## **Ejercicio - 1**"
   ]
  },
  {
   "cell_type": "markdown",
   "metadata": {
    "id": "SXZCu8d24qhg"
   },
   "source": [
    "### **Explica cuál es el propósito de usar el argumento \"latin-1\" al cargar el segundo archivo.**"
   ]
  },
  {
   "cell_type": "markdown",
   "metadata": {
    "id": "QnVxVjpd5Ulw"
   },
   "source": [
    "++++++++ Inicia la sección de agregar texto: +++++++++++\n",
    "\n",
    "Los archivos al usar una codificacion como latin-1 los caracteres como acentos o letras con tildes se encuentran en una codificacion diferente y la mayoria de los lenguajes de alto nivel como python espera que el texto plano se encuentre codificado en UTF-8, por eso hay que especificar que tipo de codificacion se encuentra si el texto en el archivo es diferente del que normalmente acepta python.\n",
    "\n",
    "\n",
    "++++++++ Termina la sección de agregar texto. +++++++++++"
   ]
  },
  {
   "cell_type": "code",
   "execution_count": 3,
   "metadata": {
    "id": "0ulkqXVGCy97"
   },
   "outputs": [
    {
     "data": {
      "text/html": [
       "<div>\n",
       "<style scoped>\n",
       "    .dataframe tbody tr th:only-of-type {\n",
       "        vertical-align: middle;\n",
       "    }\n",
       "\n",
       "    .dataframe tbody tr th {\n",
       "        vertical-align: top;\n",
       "    }\n",
       "\n",
       "    .dataframe thead th {\n",
       "        text-align: right;\n",
       "    }\n",
       "</style>\n",
       "<table border=\"1\" class=\"dataframe\">\n",
       "  <thead>\n",
       "    <tr style=\"text-align: right;\">\n",
       "      <th></th>\n",
       "      <th>userID</th>\n",
       "      <th>placeID</th>\n",
       "      <th>rating</th>\n",
       "      <th>food_rating</th>\n",
       "      <th>service_rating</th>\n",
       "    </tr>\n",
       "  </thead>\n",
       "  <tbody>\n",
       "    <tr>\n",
       "      <th>0</th>\n",
       "      <td>U1077</td>\n",
       "      <td>135085</td>\n",
       "      <td>2</td>\n",
       "      <td>2</td>\n",
       "      <td>2</td>\n",
       "    </tr>\n",
       "    <tr>\n",
       "      <th>1</th>\n",
       "      <td>U1077</td>\n",
       "      <td>135038</td>\n",
       "      <td>2</td>\n",
       "      <td>2</td>\n",
       "      <td>1</td>\n",
       "    </tr>\n",
       "    <tr>\n",
       "      <th>2</th>\n",
       "      <td>U1077</td>\n",
       "      <td>132825</td>\n",
       "      <td>2</td>\n",
       "      <td>2</td>\n",
       "      <td>2</td>\n",
       "    </tr>\n",
       "    <tr>\n",
       "      <th>3</th>\n",
       "      <td>U1077</td>\n",
       "      <td>135060</td>\n",
       "      <td>1</td>\n",
       "      <td>2</td>\n",
       "      <td>2</td>\n",
       "    </tr>\n",
       "    <tr>\n",
       "      <th>4</th>\n",
       "      <td>U1068</td>\n",
       "      <td>135104</td>\n",
       "      <td>1</td>\n",
       "      <td>1</td>\n",
       "      <td>2</td>\n",
       "    </tr>\n",
       "  </tbody>\n",
       "</table>\n",
       "</div>"
      ],
      "text/plain": [
       "  userID  placeID  rating  food_rating  service_rating\n",
       "0  U1077   135085       2            2               2\n",
       "1  U1077   135038       2            2               1\n",
       "2  U1077   132825       2            2               2\n",
       "3  U1077   135060       1            2               2\n",
       "4  U1068   135104       1            1               2"
      ]
     },
     "execution_count": 3,
     "metadata": {},
     "output_type": "execute_result"
    }
   ],
   "source": [
    "# Del primer archivo obtenemos una matriz con 3 evaluaciones de los restaurantes:\n",
    "# general, comida y servicio.\n",
    "# Las evaluaciones pueden ser 0, 1 o 2, siendo 0 la menor calificación y 2 la\n",
    "# mayor calificación:\n",
    "\n",
    "data1.head()"
   ]
  },
  {
   "cell_type": "code",
   "execution_count": 4,
   "metadata": {
    "id": "y1n23keFiUQg"
   },
   "outputs": [
    {
     "data": {
      "text/html": [
       "<div>\n",
       "<style scoped>\n",
       "    .dataframe tbody tr th:only-of-type {\n",
       "        vertical-align: middle;\n",
       "    }\n",
       "\n",
       "    .dataframe tbody tr th {\n",
       "        vertical-align: top;\n",
       "    }\n",
       "\n",
       "    .dataframe thead th {\n",
       "        text-align: right;\n",
       "    }\n",
       "</style>\n",
       "<table border=\"1\" class=\"dataframe\">\n",
       "  <thead>\n",
       "    <tr style=\"text-align: right;\">\n",
       "      <th></th>\n",
       "      <th>placeID</th>\n",
       "      <th>latitude</th>\n",
       "      <th>longitude</th>\n",
       "      <th>the_geom_meter</th>\n",
       "      <th>name</th>\n",
       "      <th>address</th>\n",
       "      <th>city</th>\n",
       "      <th>state</th>\n",
       "      <th>country</th>\n",
       "      <th>fax</th>\n",
       "      <th>...</th>\n",
       "      <th>alcohol</th>\n",
       "      <th>smoking_area</th>\n",
       "      <th>dress_code</th>\n",
       "      <th>accessibility</th>\n",
       "      <th>price</th>\n",
       "      <th>url</th>\n",
       "      <th>Rambience</th>\n",
       "      <th>franchise</th>\n",
       "      <th>area</th>\n",
       "      <th>other_services</th>\n",
       "    </tr>\n",
       "  </thead>\n",
       "  <tbody>\n",
       "    <tr>\n",
       "      <th>0</th>\n",
       "      <td>134999</td>\n",
       "      <td>18.915421</td>\n",
       "      <td>-99.184871</td>\n",
       "      <td>0101000020957F000088568DE356715AC138C0A525FC46...</td>\n",
       "      <td>Kiku Cuernavaca</td>\n",
       "      <td>Revolucion</td>\n",
       "      <td>Cuernavaca</td>\n",
       "      <td>Morelos</td>\n",
       "      <td>Mexico</td>\n",
       "      <td>?</td>\n",
       "      <td>...</td>\n",
       "      <td>No_Alcohol_Served</td>\n",
       "      <td>none</td>\n",
       "      <td>informal</td>\n",
       "      <td>no_accessibility</td>\n",
       "      <td>medium</td>\n",
       "      <td>kikucuernavaca.com.mx</td>\n",
       "      <td>familiar</td>\n",
       "      <td>f</td>\n",
       "      <td>closed</td>\n",
       "      <td>none</td>\n",
       "    </tr>\n",
       "    <tr>\n",
       "      <th>1</th>\n",
       "      <td>132825</td>\n",
       "      <td>22.147392</td>\n",
       "      <td>-100.983092</td>\n",
       "      <td>0101000020957F00001AD016568C4858C1243261274BA5...</td>\n",
       "      <td>puesto de tacos</td>\n",
       "      <td>esquina santos degollado y leon guzman</td>\n",
       "      <td>s.l.p.</td>\n",
       "      <td>s.l.p.</td>\n",
       "      <td>mexico</td>\n",
       "      <td>?</td>\n",
       "      <td>...</td>\n",
       "      <td>No_Alcohol_Served</td>\n",
       "      <td>none</td>\n",
       "      <td>informal</td>\n",
       "      <td>completely</td>\n",
       "      <td>low</td>\n",
       "      <td>?</td>\n",
       "      <td>familiar</td>\n",
       "      <td>f</td>\n",
       "      <td>open</td>\n",
       "      <td>none</td>\n",
       "    </tr>\n",
       "  </tbody>\n",
       "</table>\n",
       "<p>2 rows × 21 columns</p>\n",
       "</div>"
      ],
      "text/plain": [
       "   placeID   latitude   longitude  \\\n",
       "0   134999  18.915421  -99.184871   \n",
       "1   132825  22.147392 -100.983092   \n",
       "\n",
       "                                      the_geom_meter             name  \\\n",
       "0  0101000020957F000088568DE356715AC138C0A525FC46...  Kiku Cuernavaca   \n",
       "1  0101000020957F00001AD016568C4858C1243261274BA5...  puesto de tacos   \n",
       "\n",
       "                                  address        city    state country fax  \\\n",
       "0                              Revolucion  Cuernavaca  Morelos  Mexico   ?   \n",
       "1  esquina santos degollado y leon guzman      s.l.p.   s.l.p.  mexico   ?   \n",
       "\n",
       "   ...            alcohol smoking_area dress_code     accessibility   price  \\\n",
       "0  ...  No_Alcohol_Served         none   informal  no_accessibility  medium   \n",
       "1  ...  No_Alcohol_Served         none   informal        completely     low   \n",
       "\n",
       "                     url Rambience franchise    area other_services  \n",
       "0  kikucuernavaca.com.mx  familiar         f  closed           none  \n",
       "1                      ?  familiar         f    open           none  \n",
       "\n",
       "[2 rows x 21 columns]"
      ]
     },
     "execution_count": 4,
     "metadata": {},
     "output_type": "execute_result"
    }
   ],
   "source": [
    "# Del segundo archivo obtenemos información diversa de cada restaurante:\n",
    "\n",
    "data2.head(2)"
   ]
  },
  {
   "cell_type": "code",
   "execution_count": 5,
   "metadata": {
    "id": "RGgNAUyv2Vqp"
   },
   "outputs": [],
   "source": [
    "# De data1 no requeriremos \"rating\" y de data2 solo necesitamos \"placeID\" y \"name\":\n",
    "# Definimos la lista y matrices con los factores que necesitamos:\n",
    "\n",
    "lista_data1 = ['userID','placeID','food_rating','service_rating']\n",
    "lista_data2 = ['placeID','name']\n",
    "\n",
    "data1a = data1[lista_data1]\n",
    "data2a = data2[lista_data2]"
   ]
  },
  {
   "cell_type": "markdown",
   "metadata": {
    "id": "rr3hJTCW6c05"
   },
   "source": [
    "## **Ejercicio - 2**"
   ]
  },
  {
   "cell_type": "code",
   "execution_count": 7,
   "metadata": {
    "id": "Y3jwhxfdjMWh"
   },
   "outputs": [
    {
     "name": "stdout",
     "output_type": "stream",
     "text": [
      "(1161, 5)\n"
     ]
    },
    {
     "data": {
      "text/html": [
       "<div>\n",
       "<style scoped>\n",
       "    .dataframe tbody tr th:only-of-type {\n",
       "        vertical-align: middle;\n",
       "    }\n",
       "\n",
       "    .dataframe tbody tr th {\n",
       "        vertical-align: top;\n",
       "    }\n",
       "\n",
       "    .dataframe thead th {\n",
       "        text-align: right;\n",
       "    }\n",
       "</style>\n",
       "<table border=\"1\" class=\"dataframe\">\n",
       "  <thead>\n",
       "    <tr style=\"text-align: right;\">\n",
       "      <th></th>\n",
       "      <th>userID</th>\n",
       "      <th>placeID</th>\n",
       "      <th>food_rating</th>\n",
       "      <th>service_rating</th>\n",
       "      <th>name</th>\n",
       "    </tr>\n",
       "  </thead>\n",
       "  <tbody>\n",
       "    <tr>\n",
       "      <th>0</th>\n",
       "      <td>U1077</td>\n",
       "      <td>135085</td>\n",
       "      <td>2</td>\n",
       "      <td>2</td>\n",
       "      <td>Tortas Locas Hipocampo</td>\n",
       "    </tr>\n",
       "    <tr>\n",
       "      <th>1</th>\n",
       "      <td>U1108</td>\n",
       "      <td>135085</td>\n",
       "      <td>2</td>\n",
       "      <td>1</td>\n",
       "      <td>Tortas Locas Hipocampo</td>\n",
       "    </tr>\n",
       "    <tr>\n",
       "      <th>2</th>\n",
       "      <td>U1081</td>\n",
       "      <td>135085</td>\n",
       "      <td>2</td>\n",
       "      <td>1</td>\n",
       "      <td>Tortas Locas Hipocampo</td>\n",
       "    </tr>\n",
       "    <tr>\n",
       "      <th>3</th>\n",
       "      <td>U1056</td>\n",
       "      <td>135085</td>\n",
       "      <td>2</td>\n",
       "      <td>2</td>\n",
       "      <td>Tortas Locas Hipocampo</td>\n",
       "    </tr>\n",
       "    <tr>\n",
       "      <th>4</th>\n",
       "      <td>U1134</td>\n",
       "      <td>135085</td>\n",
       "      <td>1</td>\n",
       "      <td>2</td>\n",
       "      <td>Tortas Locas Hipocampo</td>\n",
       "    </tr>\n",
       "  </tbody>\n",
       "</table>\n",
       "</div>"
      ],
      "text/plain": [
       "  userID  placeID  food_rating  service_rating                    name\n",
       "0  U1077   135085            2               2  Tortas Locas Hipocampo\n",
       "1  U1108   135085            2               1  Tortas Locas Hipocampo\n",
       "2  U1081   135085            2               1  Tortas Locas Hipocampo\n",
       "3  U1056   135085            2               2  Tortas Locas Hipocampo\n",
       "4  U1134   135085            1               2  Tortas Locas Hipocampo"
      ]
     },
     "execution_count": 7,
     "metadata": {},
     "output_type": "execute_result"
    }
   ],
   "source": [
    "# Define el DataFrame que conjunte la información de las dos DataFrame data1a\n",
    "# y data2a en uno solo, a través de la columna común \"placeID\" y que\n",
    "# llamaremos \"df_combinado\":\n",
    "\n",
    "\n",
    "\n",
    "# ************* Inlcuye aquí tu código:*****************************\n",
    "\n",
    "\n",
    "df_combinado = pd.merge(data1a, data2a, on='placeID')\n",
    "\n",
    "\n",
    "# *********** Aquí termina la sección de agregar código *************\n",
    "\n",
    "\n",
    "# Despleguemos la dimensión y los primeros renglones de este DataFrame:\n",
    "\n",
    "print(df_combinado.shape)\n",
    "df_combinado.head()"
   ]
  },
  {
   "cell_type": "markdown",
   "metadata": {
    "id": "2EyK_O7EHBWe"
   },
   "source": [
    "## **Ejercicio - 3**"
   ]
  },
  {
   "cell_type": "code",
   "execution_count": 8,
   "metadata": {
    "id": "p6J7eDI-oTeH"
   },
   "outputs": [
    {
     "name": "stdout",
     "output_type": "stream",
     "text": [
      "Dimensión de la matriz de Utilidad sobre la evaluación de la comida:\n",
      "(restaurantes, usuarios) = (129, 138)\n"
     ]
    },
    {
     "data": {
      "text/html": [
       "<div>\n",
       "<style scoped>\n",
       "    .dataframe tbody tr th:only-of-type {\n",
       "        vertical-align: middle;\n",
       "    }\n",
       "\n",
       "    .dataframe tbody tr th {\n",
       "        vertical-align: top;\n",
       "    }\n",
       "\n",
       "    .dataframe thead th {\n",
       "        text-align: right;\n",
       "    }\n",
       "</style>\n",
       "<table border=\"1\" class=\"dataframe\">\n",
       "  <thead>\n",
       "    <tr style=\"text-align: right;\">\n",
       "      <th>userID</th>\n",
       "      <th>U1001</th>\n",
       "      <th>U1002</th>\n",
       "      <th>U1003</th>\n",
       "      <th>U1004</th>\n",
       "      <th>U1005</th>\n",
       "      <th>U1006</th>\n",
       "      <th>U1007</th>\n",
       "      <th>U1008</th>\n",
       "      <th>U1009</th>\n",
       "      <th>U1010</th>\n",
       "      <th>...</th>\n",
       "      <th>U1129</th>\n",
       "      <th>U1130</th>\n",
       "      <th>U1131</th>\n",
       "      <th>U1132</th>\n",
       "      <th>U1133</th>\n",
       "      <th>U1134</th>\n",
       "      <th>U1135</th>\n",
       "      <th>U1136</th>\n",
       "      <th>U1137</th>\n",
       "      <th>U1138</th>\n",
       "    </tr>\n",
       "    <tr>\n",
       "      <th>name</th>\n",
       "      <th></th>\n",
       "      <th></th>\n",
       "      <th></th>\n",
       "      <th></th>\n",
       "      <th></th>\n",
       "      <th></th>\n",
       "      <th></th>\n",
       "      <th></th>\n",
       "      <th></th>\n",
       "      <th></th>\n",
       "      <th></th>\n",
       "      <th></th>\n",
       "      <th></th>\n",
       "      <th></th>\n",
       "      <th></th>\n",
       "      <th></th>\n",
       "      <th></th>\n",
       "      <th></th>\n",
       "      <th></th>\n",
       "      <th></th>\n",
       "      <th></th>\n",
       "    </tr>\n",
       "  </thead>\n",
       "  <tbody>\n",
       "    <tr>\n",
       "      <th>Abondance Restaurante Bar</th>\n",
       "      <td>0.0</td>\n",
       "      <td>0.0</td>\n",
       "      <td>0.0</td>\n",
       "      <td>0.0</td>\n",
       "      <td>0.0</td>\n",
       "      <td>0.0</td>\n",
       "      <td>0.0</td>\n",
       "      <td>1.0</td>\n",
       "      <td>0.0</td>\n",
       "      <td>0.0</td>\n",
       "      <td>...</td>\n",
       "      <td>0.0</td>\n",
       "      <td>0.0</td>\n",
       "      <td>0.0</td>\n",
       "      <td>0.0</td>\n",
       "      <td>0.0</td>\n",
       "      <td>0.0</td>\n",
       "      <td>0.0</td>\n",
       "      <td>0.0</td>\n",
       "      <td>0.0</td>\n",
       "      <td>0.0</td>\n",
       "    </tr>\n",
       "    <tr>\n",
       "      <th>Arrachela Grill</th>\n",
       "      <td>0.0</td>\n",
       "      <td>0.0</td>\n",
       "      <td>0.0</td>\n",
       "      <td>0.0</td>\n",
       "      <td>0.0</td>\n",
       "      <td>0.0</td>\n",
       "      <td>0.0</td>\n",
       "      <td>0.0</td>\n",
       "      <td>0.0</td>\n",
       "      <td>0.0</td>\n",
       "      <td>...</td>\n",
       "      <td>0.0</td>\n",
       "      <td>0.0</td>\n",
       "      <td>0.0</td>\n",
       "      <td>0.0</td>\n",
       "      <td>0.0</td>\n",
       "      <td>0.0</td>\n",
       "      <td>0.0</td>\n",
       "      <td>0.0</td>\n",
       "      <td>0.0</td>\n",
       "      <td>0.0</td>\n",
       "    </tr>\n",
       "    <tr>\n",
       "      <th>Cabana Huasteca</th>\n",
       "      <td>0.0</td>\n",
       "      <td>0.0</td>\n",
       "      <td>2.0</td>\n",
       "      <td>0.0</td>\n",
       "      <td>0.0</td>\n",
       "      <td>0.0</td>\n",
       "      <td>0.0</td>\n",
       "      <td>0.0</td>\n",
       "      <td>2.0</td>\n",
       "      <td>0.0</td>\n",
       "      <td>...</td>\n",
       "      <td>0.0</td>\n",
       "      <td>0.0</td>\n",
       "      <td>0.0</td>\n",
       "      <td>0.0</td>\n",
       "      <td>0.0</td>\n",
       "      <td>1.0</td>\n",
       "      <td>0.0</td>\n",
       "      <td>0.0</td>\n",
       "      <td>0.0</td>\n",
       "      <td>0.0</td>\n",
       "    </tr>\n",
       "    <tr>\n",
       "      <th>Cafe Chaires</th>\n",
       "      <td>0.0</td>\n",
       "      <td>0.0</td>\n",
       "      <td>0.0</td>\n",
       "      <td>0.0</td>\n",
       "      <td>0.0</td>\n",
       "      <td>0.0</td>\n",
       "      <td>1.0</td>\n",
       "      <td>0.0</td>\n",
       "      <td>0.0</td>\n",
       "      <td>0.0</td>\n",
       "      <td>...</td>\n",
       "      <td>0.0</td>\n",
       "      <td>0.0</td>\n",
       "      <td>0.0</td>\n",
       "      <td>0.0</td>\n",
       "      <td>0.0</td>\n",
       "      <td>0.0</td>\n",
       "      <td>0.0</td>\n",
       "      <td>0.0</td>\n",
       "      <td>0.0</td>\n",
       "      <td>0.0</td>\n",
       "    </tr>\n",
       "    <tr>\n",
       "      <th>Cafeteria cenidet</th>\n",
       "      <td>0.0</td>\n",
       "      <td>0.0</td>\n",
       "      <td>0.0</td>\n",
       "      <td>0.0</td>\n",
       "      <td>0.0</td>\n",
       "      <td>0.0</td>\n",
       "      <td>0.0</td>\n",
       "      <td>0.0</td>\n",
       "      <td>0.0</td>\n",
       "      <td>0.0</td>\n",
       "      <td>...</td>\n",
       "      <td>0.0</td>\n",
       "      <td>0.0</td>\n",
       "      <td>0.0</td>\n",
       "      <td>0.0</td>\n",
       "      <td>0.0</td>\n",
       "      <td>0.0</td>\n",
       "      <td>0.0</td>\n",
       "      <td>0.0</td>\n",
       "      <td>0.0</td>\n",
       "      <td>0.0</td>\n",
       "    </tr>\n",
       "  </tbody>\n",
       "</table>\n",
       "<p>5 rows × 138 columns</p>\n",
       "</div>"
      ],
      "text/plain": [
       "userID                     U1001  U1002  U1003  U1004  U1005  U1006  U1007  \\\n",
       "name                                                                         \n",
       "Abondance Restaurante Bar    0.0    0.0    0.0    0.0    0.0    0.0    0.0   \n",
       "Arrachela Grill              0.0    0.0    0.0    0.0    0.0    0.0    0.0   \n",
       "Cabana Huasteca              0.0    0.0    2.0    0.0    0.0    0.0    0.0   \n",
       "Cafe Chaires                 0.0    0.0    0.0    0.0    0.0    0.0    1.0   \n",
       "Cafeteria cenidet            0.0    0.0    0.0    0.0    0.0    0.0    0.0   \n",
       "\n",
       "userID                     U1008  U1009  U1010  ...  U1129  U1130  U1131  \\\n",
       "name                                            ...                        \n",
       "Abondance Restaurante Bar    1.0    0.0    0.0  ...    0.0    0.0    0.0   \n",
       "Arrachela Grill              0.0    0.0    0.0  ...    0.0    0.0    0.0   \n",
       "Cabana Huasteca              0.0    2.0    0.0  ...    0.0    0.0    0.0   \n",
       "Cafe Chaires                 0.0    0.0    0.0  ...    0.0    0.0    0.0   \n",
       "Cafeteria cenidet            0.0    0.0    0.0  ...    0.0    0.0    0.0   \n",
       "\n",
       "userID                     U1132  U1133  U1134  U1135  U1136  U1137  U1138  \n",
       "name                                                                        \n",
       "Abondance Restaurante Bar    0.0    0.0    0.0    0.0    0.0    0.0    0.0  \n",
       "Arrachela Grill              0.0    0.0    0.0    0.0    0.0    0.0    0.0  \n",
       "Cabana Huasteca              0.0    0.0    1.0    0.0    0.0    0.0    0.0  \n",
       "Cafe Chaires                 0.0    0.0    0.0    0.0    0.0    0.0    0.0  \n",
       "Cafeteria cenidet            0.0    0.0    0.0    0.0    0.0    0.0    0.0  \n",
       "\n",
       "[5 rows x 138 columns]"
      ]
     },
     "execution_count": 8,
     "metadata": {},
     "output_type": "execute_result"
    }
   ],
   "source": [
    "#    Define la matriz de utilidad cuyos renglones sean los nombres de los\n",
    "#    restaurantes, las columnas los IDs de los usuarios y las entradas la\n",
    "#    evaluación de la comida (food_rating). La llamaremos \"UtMx_food\".\n",
    "\n",
    "\n",
    "# ************* Inlcuye aquí tu código:*****************************\n",
    "\n",
    "\n",
    "UtMx_food = df_combinado.pivot_table(values='food_rating', index=\"name\", columns=\"userID\", fill_value=0)\n",
    "\n",
    "\n",
    "# *********** Aquí termina la sección de agregar código *************\n",
    "\n",
    "\n",
    "print('Dimensión de la matriz de Utilidad sobre la evaluación de la comida:')\n",
    "print('(restaurantes, usuarios) =', (UtMx_food.shape))\n",
    "UtMx_food.head()"
   ]
  },
  {
   "cell_type": "markdown",
   "metadata": {
    "id": "U7A0SrQjS0ft"
   },
   "source": [
    "## **Ejercicio - 4**"
   ]
  },
  {
   "cell_type": "markdown",
   "metadata": {
    "id": "xGu3qv-T8XGH"
   },
   "source": [
    "### **En la Factorización SVD la cantidad de valores singulares será menor o igual al menor valor de los renglones o columnas de la matriz de utilidad UtMx.**\n",
    "\n",
    "### **La factorización SVD de una matriz $A$ tiene la forma:**\n",
    "\n",
    "$A_{m\\times n} = U_{m\\times m}\\Sigma_{m\\times n}V_{n\\times n}^T$"
   ]
  },
  {
   "cell_type": "code",
   "execution_count": 12,
   "metadata": {
    "id": "jg6ofJ7kTD3d"
   },
   "outputs": [
    {
     "name": "stdout",
     "output_type": "stream",
     "text": [
      "Total de valores singulares basados en evaluación de la : 138\n",
      "Valor de truncamiento al 90% de dicha variabilidad: 51\n"
     ]
    }
   ],
   "source": [
    "# Apliquemos la transformación SVD para obtener la matriz de las variables\n",
    "# latentes de los restaurantes en relación a la evalución de los usuarios con\n",
    "# respecto a la comida. Deberás obtener la factorización SVD con el máximo de\n",
    "# comonentes y por lo tanto el máximo de valores singulares posible.\n",
    "# Asigna a la variable \"nc_food\" el valor del máximo número de valores singulares\n",
    "# que podemos obtener de la utilidad que generamos en el ejercicio anterior.\n",
    "\n",
    "\n",
    "# ************* Inlcuye aquí tu código:*****************************\n",
    "\n",
    "\n",
    "nc_food = 138     # número de componentes\n",
    "\n",
    "\n",
    "# *********** Aquí termina la sección de agregar código *************\n",
    "\n",
    "\n",
    "# Inicializamos y aplicamos la factorización SVD en relación a la\n",
    "# evaluación de la comida, para determinar la cantidad de componentes\n",
    "# que podemos utilizar con un 90% de explicación de la variabilidad\n",
    "# de dichas componentes:\n",
    "\n",
    "SVD_food = TruncatedSVD( n_components = nc_food )\n",
    "SVD_food.fit(UtMx_food)\n",
    "\n",
    "# Determinemos la cantidad de componentes que explican un 90%\n",
    "# de la variabilidad acumulada de cada componente:\n",
    "\n",
    "for j in range(nc_food):\n",
    "  if SVD_food.explained_variance_ratio_[0:j].sum() > 0.90:\n",
    "    break\n",
    "\n",
    "# Usaremos esta cantidad de componentes para las recomendaciones basadas\n",
    "# en la calificación de la comida:\n",
    "N_food = j-1\n",
    "\n",
    "print('Total de valores singulares basados en evaluación de la :', nc_food)\n",
    "print('Valor de truncamiento al 90% de dicha variabilidad:',N_food)\n"
   ]
  },
  {
   "cell_type": "code",
   "execution_count": 13,
   "metadata": {
    "id": "GSfNl3_PQE04"
   },
   "outputs": [
    {
     "name": "stdout",
     "output_type": "stream",
     "text": [
      "Total de similaridades positivas encontradas: 72\n",
      "Algunos de los resultados encontrados:\n"
     ]
    },
    {
     "data": {
      "text/plain": [
       "[(0.0030585018402347402, 'Arrachela Grill'),\n",
       " (0.022492414952969567, 'Cabana Huasteca'),\n",
       " (0.030893755479017713, 'Cafe Chaires'),\n",
       " (0.01693901426711723, 'Cafeteria cenidet'),\n",
       " (0.22446161595647848, 'Cafeteria y Restaurant El Pacifico'),\n",
       " (0.014924666678263398, 'Cenaduria El RincÃ³n de Tlaquepaque'),\n",
       " (0.0007525853282054746, 'Chilis Cuernavaca')]"
      ]
     },
     "execution_count": 13,
     "metadata": {},
     "output_type": "execute_result"
    }
   ],
   "source": [
    "# Usando la métrica de correlación de Pearson, obtendremos las 10 mejores\n",
    "# recomendaciones de este modelo no supervisado con base a la información de\n",
    "# alguien que desea obtener las similidades com el restaurante \"Restaurante Pueblo\n",
    "# Bonito\" y con la cota de truncamiento obtenido en el ejercicio anterior.\n",
    "# Para ello obtendremos las correlaciones positivas y de ahí deberás seleccionar\n",
    "# las diez mejores.\n",
    "\n",
    "# Factorización SVD:\n",
    "SVD_food = TruncatedSVD(n_components = N_food)\n",
    "resultant_matrix_food = SVD_food.fit_transform(UtMx_food)\n",
    "\n",
    "# Matriz de correlación de Pearson:\n",
    "corr_mat_food = np.corrcoef(resultant_matrix_food)\n",
    "\n",
    "# Restaurante de referencia:\n",
    "restaurante_de_referencia = \"Restaurante Pueblo Bonito\"\n",
    "nombres_rest = UtMx_food.T.columns  # nombres de restaurantes\n",
    "idx_rest = list(nombres_rest).index(restaurante_de_referencia)\n",
    "corr_rest = corr_mat_food[idx_rest] # Vector de Correlación del RinconHuasteco\n",
    "\n",
    "# Buscando las correlaciones positivas:\n",
    "idx = (corr_rest>0)\n",
    "mejores_sim_food = list()\n",
    "for i in range(len(nombres_rest[idx])):\n",
    "  mejores_sim_food.append((corr_rest[idx][i], nombres_rest[idx][i]))\n",
    "\n",
    "print('Total de similaridades positivas encontradas:', len(mejores_sim_food))\n",
    "\n",
    "print('Algunos de los resultados encontrados:')\n",
    "mejores_sim_food[0:7]"
   ]
  },
  {
   "cell_type": "markdown",
   "metadata": {
    "id": "PACH7ewoQTqB"
   },
   "source": [
    "## **Ejercicio - 5**"
   ]
  },
  {
   "cell_type": "code",
   "execution_count": 32,
   "metadata": {
    "id": "r_hUSvhCmoNN"
   },
   "outputs": [
    {
     "name": "stdout",
     "output_type": "stream",
     "text": [
      "Similitudes con base a la evaluación de la comida con mayores valores de correlación:\n",
      "  1 => 0.792,          Restaurante la Estrella de Dima\n",
      "  2 => 0.700,                            pizza clasica\n",
      "  3 => 0.665,                       Restaurante Guerra\n",
      "  4 => 0.543,                                  El Club\n",
      "  5 => 0.369,                          Pizzeria Julios\n",
      "  6 => 0.311,              Restaurant Oriental Express\n",
      "  7 => 0.308,            Restaurante El Cielo Potosino\n",
      "  8 => 0.307,                        Hamburguesas saul\n",
      "  9 => 0.283,                          Rincon Huasteco\n",
      " 10 => 0.269,  la Cochinita Pibil Restaurante Yucateco\n"
     ]
    }
   ],
   "source": [
    "# Ordenar la lista de recomendaciones \"mejores_sim_food\" encontrada en el paso\n",
    "# anterior de manera descendente y llamaremos \"mejores_sim_food_ordenadas\".\n",
    "#\n",
    "# NOTA: Puedes incluir a continuación las líneas de código que requieras.\n",
    "\n",
    "# ************* Inlcuye aquí tu código:*****************************\n",
    "\n",
    "\n",
    "\n",
    "mejores_sim_food_ordenadas = sorted(mejores_sim_food, reverse=True)\n",
    "\n",
    "\n",
    "\n",
    "# *********** Aquí termina la sección de agregar código *************\n",
    "\n",
    "\n",
    "# Desplegamos las 10 mejores similitudes encontradas de manera descendente:\n",
    "print('Similitudes con base a la evaluación de la comida con mayores valores de correlación:')\n",
    "for k in range(1,11):\n",
    "  print('%*d => %.3f, %*s' % (3, k, mejores_sim_food_ordenadas[k][0], 40, mejores_sim_food_ordenadas[k][1]))"
   ]
  },
  {
   "cell_type": "markdown",
   "metadata": {
    "id": "PT5isyp0oYlU"
   },
   "source": [
    "## **Ejercicio - 6**"
   ]
  },
  {
   "cell_type": "markdown",
   "metadata": {
    "id": "7LMYEENSp4hm"
   },
   "source": [
    "### **De manera análoga y usando ahora la evaluación con respecto al servicio (service_rating), encuentrarás ahora los diez restaurantes con mayor similaridad al \"Restaurante Pueblo Bonito\" y con respecto a la métrica de similaridad de Pearson.**\n",
    "\n",
    "### **Deberás usar la cantidad de componentes necesarias para que la varabilidad de la factorización SVD quede explicada en un 90%.**\n",
    "\n",
    "### **a.  Para ello define primero la matriz de utilidad, UtMx_service, donde los renglones son los nombres de los restaurantes, las columnas los usuarios y las entradas las evaluaciones con respecto al servicio recibido en el restaurante.**\n",
    "\n",
    "\n",
    "\n"
   ]
  },
  {
   "cell_type": "code",
   "execution_count": 17,
   "metadata": {
    "id": "a5KhqmczKxK2"
   },
   "outputs": [
    {
     "name": "stdout",
     "output_type": "stream",
     "text": [
      "Dimensión de la matriz de Utilidad sobre la evaluación del servicio:\n",
      "(restaurantes, usuarios) = (129, 138)\n"
     ]
    },
    {
     "data": {
      "text/html": [
       "<div>\n",
       "<style scoped>\n",
       "    .dataframe tbody tr th:only-of-type {\n",
       "        vertical-align: middle;\n",
       "    }\n",
       "\n",
       "    .dataframe tbody tr th {\n",
       "        vertical-align: top;\n",
       "    }\n",
       "\n",
       "    .dataframe thead th {\n",
       "        text-align: right;\n",
       "    }\n",
       "</style>\n",
       "<table border=\"1\" class=\"dataframe\">\n",
       "  <thead>\n",
       "    <tr style=\"text-align: right;\">\n",
       "      <th>userID</th>\n",
       "      <th>U1001</th>\n",
       "      <th>U1002</th>\n",
       "      <th>U1003</th>\n",
       "      <th>U1004</th>\n",
       "      <th>U1005</th>\n",
       "      <th>U1006</th>\n",
       "      <th>U1007</th>\n",
       "      <th>U1008</th>\n",
       "      <th>U1009</th>\n",
       "      <th>U1010</th>\n",
       "      <th>...</th>\n",
       "      <th>U1129</th>\n",
       "      <th>U1130</th>\n",
       "      <th>U1131</th>\n",
       "      <th>U1132</th>\n",
       "      <th>U1133</th>\n",
       "      <th>U1134</th>\n",
       "      <th>U1135</th>\n",
       "      <th>U1136</th>\n",
       "      <th>U1137</th>\n",
       "      <th>U1138</th>\n",
       "    </tr>\n",
       "    <tr>\n",
       "      <th>name</th>\n",
       "      <th></th>\n",
       "      <th></th>\n",
       "      <th></th>\n",
       "      <th></th>\n",
       "      <th></th>\n",
       "      <th></th>\n",
       "      <th></th>\n",
       "      <th></th>\n",
       "      <th></th>\n",
       "      <th></th>\n",
       "      <th></th>\n",
       "      <th></th>\n",
       "      <th></th>\n",
       "      <th></th>\n",
       "      <th></th>\n",
       "      <th></th>\n",
       "      <th></th>\n",
       "      <th></th>\n",
       "      <th></th>\n",
       "      <th></th>\n",
       "      <th></th>\n",
       "    </tr>\n",
       "  </thead>\n",
       "  <tbody>\n",
       "    <tr>\n",
       "      <th>Abondance Restaurante Bar</th>\n",
       "      <td>0.0</td>\n",
       "      <td>0.0</td>\n",
       "      <td>0.0</td>\n",
       "      <td>0.0</td>\n",
       "      <td>0.0</td>\n",
       "      <td>0.0</td>\n",
       "      <td>0.0</td>\n",
       "      <td>1.0</td>\n",
       "      <td>0.0</td>\n",
       "      <td>0.0</td>\n",
       "      <td>...</td>\n",
       "      <td>0.0</td>\n",
       "      <td>0.0</td>\n",
       "      <td>0.0</td>\n",
       "      <td>0.0</td>\n",
       "      <td>0.0</td>\n",
       "      <td>0.0</td>\n",
       "      <td>0.0</td>\n",
       "      <td>0.0</td>\n",
       "      <td>0.0</td>\n",
       "      <td>0.0</td>\n",
       "    </tr>\n",
       "    <tr>\n",
       "      <th>Arrachela Grill</th>\n",
       "      <td>0.0</td>\n",
       "      <td>0.0</td>\n",
       "      <td>0.0</td>\n",
       "      <td>0.0</td>\n",
       "      <td>0.0</td>\n",
       "      <td>0.0</td>\n",
       "      <td>0.0</td>\n",
       "      <td>0.0</td>\n",
       "      <td>0.0</td>\n",
       "      <td>0.0</td>\n",
       "      <td>...</td>\n",
       "      <td>0.0</td>\n",
       "      <td>0.0</td>\n",
       "      <td>0.0</td>\n",
       "      <td>0.0</td>\n",
       "      <td>0.0</td>\n",
       "      <td>0.0</td>\n",
       "      <td>0.0</td>\n",
       "      <td>0.0</td>\n",
       "      <td>0.0</td>\n",
       "      <td>0.0</td>\n",
       "    </tr>\n",
       "    <tr>\n",
       "      <th>Cabana Huasteca</th>\n",
       "      <td>0.0</td>\n",
       "      <td>0.0</td>\n",
       "      <td>2.0</td>\n",
       "      <td>0.0</td>\n",
       "      <td>0.0</td>\n",
       "      <td>0.0</td>\n",
       "      <td>0.0</td>\n",
       "      <td>0.0</td>\n",
       "      <td>1.0</td>\n",
       "      <td>0.0</td>\n",
       "      <td>...</td>\n",
       "      <td>0.0</td>\n",
       "      <td>0.0</td>\n",
       "      <td>0.0</td>\n",
       "      <td>0.0</td>\n",
       "      <td>0.0</td>\n",
       "      <td>1.0</td>\n",
       "      <td>0.0</td>\n",
       "      <td>0.0</td>\n",
       "      <td>0.0</td>\n",
       "      <td>0.0</td>\n",
       "    </tr>\n",
       "    <tr>\n",
       "      <th>Cafe Chaires</th>\n",
       "      <td>0.0</td>\n",
       "      <td>0.0</td>\n",
       "      <td>0.0</td>\n",
       "      <td>0.0</td>\n",
       "      <td>0.0</td>\n",
       "      <td>1.0</td>\n",
       "      <td>1.0</td>\n",
       "      <td>0.0</td>\n",
       "      <td>0.0</td>\n",
       "      <td>0.0</td>\n",
       "      <td>...</td>\n",
       "      <td>0.0</td>\n",
       "      <td>0.0</td>\n",
       "      <td>0.0</td>\n",
       "      <td>0.0</td>\n",
       "      <td>0.0</td>\n",
       "      <td>0.0</td>\n",
       "      <td>0.0</td>\n",
       "      <td>0.0</td>\n",
       "      <td>0.0</td>\n",
       "      <td>0.0</td>\n",
       "    </tr>\n",
       "    <tr>\n",
       "      <th>Cafeteria cenidet</th>\n",
       "      <td>0.0</td>\n",
       "      <td>0.0</td>\n",
       "      <td>0.0</td>\n",
       "      <td>0.0</td>\n",
       "      <td>0.0</td>\n",
       "      <td>0.0</td>\n",
       "      <td>0.0</td>\n",
       "      <td>0.0</td>\n",
       "      <td>0.0</td>\n",
       "      <td>0.0</td>\n",
       "      <td>...</td>\n",
       "      <td>0.0</td>\n",
       "      <td>0.0</td>\n",
       "      <td>0.0</td>\n",
       "      <td>0.0</td>\n",
       "      <td>0.0</td>\n",
       "      <td>0.0</td>\n",
       "      <td>0.0</td>\n",
       "      <td>0.0</td>\n",
       "      <td>0.0</td>\n",
       "      <td>0.0</td>\n",
       "    </tr>\n",
       "  </tbody>\n",
       "</table>\n",
       "<p>5 rows × 138 columns</p>\n",
       "</div>"
      ],
      "text/plain": [
       "userID                     U1001  U1002  U1003  U1004  U1005  U1006  U1007  \\\n",
       "name                                                                         \n",
       "Abondance Restaurante Bar    0.0    0.0    0.0    0.0    0.0    0.0    0.0   \n",
       "Arrachela Grill              0.0    0.0    0.0    0.0    0.0    0.0    0.0   \n",
       "Cabana Huasteca              0.0    0.0    2.0    0.0    0.0    0.0    0.0   \n",
       "Cafe Chaires                 0.0    0.0    0.0    0.0    0.0    1.0    1.0   \n",
       "Cafeteria cenidet            0.0    0.0    0.0    0.0    0.0    0.0    0.0   \n",
       "\n",
       "userID                     U1008  U1009  U1010  ...  U1129  U1130  U1131  \\\n",
       "name                                            ...                        \n",
       "Abondance Restaurante Bar    1.0    0.0    0.0  ...    0.0    0.0    0.0   \n",
       "Arrachela Grill              0.0    0.0    0.0  ...    0.0    0.0    0.0   \n",
       "Cabana Huasteca              0.0    1.0    0.0  ...    0.0    0.0    0.0   \n",
       "Cafe Chaires                 0.0    0.0    0.0  ...    0.0    0.0    0.0   \n",
       "Cafeteria cenidet            0.0    0.0    0.0  ...    0.0    0.0    0.0   \n",
       "\n",
       "userID                     U1132  U1133  U1134  U1135  U1136  U1137  U1138  \n",
       "name                                                                        \n",
       "Abondance Restaurante Bar    0.0    0.0    0.0    0.0    0.0    0.0    0.0  \n",
       "Arrachela Grill              0.0    0.0    0.0    0.0    0.0    0.0    0.0  \n",
       "Cabana Huasteca              0.0    0.0    1.0    0.0    0.0    0.0    0.0  \n",
       "Cafe Chaires                 0.0    0.0    0.0    0.0    0.0    0.0    0.0  \n",
       "Cafeteria cenidet            0.0    0.0    0.0    0.0    0.0    0.0    0.0  \n",
       "\n",
       "[5 rows x 138 columns]"
      ]
     },
     "execution_count": 17,
     "metadata": {},
     "output_type": "execute_result"
    }
   ],
   "source": [
    "# a. Define la matriz de utilidad cuyos renglones sean los nombres de los\n",
    "#    restaurantes, las columnas los IDs de los usuarios y las entradas la\n",
    "#    evaluación del servicio (service_rating). La llamaremos \"UtMx_service\".\n",
    "\n",
    "\n",
    "# ************* Inlcuye aquí tu código:*****************************\n",
    "\n",
    "\n",
    "UtMx_service = df_combinado.pivot_table(values='service_rating', index=\"name\", columns=\"userID\", fill_value=0)\n",
    "\n",
    "\n",
    "# *********** Aquí termina la sección de agregar código *************\n",
    "\n",
    "\n",
    "\n",
    "\n",
    "print('Dimensión de la matriz de Utilidad sobre la evaluación del servicio:')\n",
    "print('(restaurantes, usuarios) =', (UtMx_service.shape))\n",
    "UtMx_service.head()"
   ]
  },
  {
   "cell_type": "code",
   "execution_count": 33,
   "metadata": {
    "id": "M8AuZVGxn3fo"
   },
   "outputs": [
    {
     "name": "stdout",
     "output_type": "stream",
     "text": [
      "  1 => 0.666,                            pizza clasica\n",
      "  2 => 0.585,                                  El Club\n",
      "  3 => 0.496,                        Hamburguesas saul\n",
      "  4 => 0.469,          Restaurante la Estrella de Dima\n",
      "  5 => 0.430,                       Restaurante Guerra\n",
      "  6 => 0.400,                     Restaurant Orizatlan\n",
      "  7 => 0.383,            Restaurante El Cielo Potosino\n",
      "  8 => 0.355,  la Cochinita Pibil Restaurante Yucateco\n",
      "  9 => 0.335,    La Fontana Pizza Restaurante and Cafe\n",
      " 10 => 0.327,              Restaurant Oriental Express\n"
     ]
    }
   ],
   "source": [
    "# b. Incluye el código necesario para obtener y desplegar los 10 restaurantes con\n",
    "#    mayor similaridad de Pearson al \"Restaurante Pueblo Bonito\", y usando solo\n",
    "#    el 90% de las componentes que explican la varianza de la matriz UtMx_service.\n",
    "#    Desplegarlos en orden descendente, sin incliur el restaurante de referencia.\n",
    "\n",
    "# ************* Inlcuye aquí tu código:*****************************\n",
    "\n",
    "\n",
    "SVD_food = TruncatedSVD( n_components = 138 )\n",
    "SVD_food.fit(UtMx_service)\n",
    "\n",
    "\n",
    "for j in range(138):\n",
    "  if SVD_food.explained_variance_ratio_[0:j].sum() > 0.90:\n",
    "    break\n",
    "\n",
    "SVD_food = TruncatedSVD(n_components = j)\n",
    "resultant_matrix_food = SVD_food.fit_transform(UtMx_service)\n",
    "\n",
    "\n",
    "corr_mat_food = np.corrcoef(resultant_matrix_food)\n",
    "\n",
    "\n",
    "restaurante_de_referencia = 'Restaurante Pueblo Bonito'\n",
    "nombres_rest = UtMx_service.T.columns \n",
    "idx_rest = list(nombres_rest).index(restaurante_de_referencia)\n",
    "corr_rest = corr_mat_food[idx_rest]\n",
    "\n",
    "\n",
    "idx = (corr_rest>0)\n",
    "mejor_servicio = list()\n",
    "for i in range(len(nombres_rest[idx])):\n",
    "  mejor_servicio.append((corr_rest[idx][i], nombres_rest[idx][i]))\n",
    "\n",
    "\n",
    "mejor_servicio_sorted = sorted(mejor_servicio, reverse=True)\n",
    "\n",
    "for k in range(1,11):\n",
    "  print('%*d => %.3f, %*s' % (3, k, mejor_servicio_sorted[k][0], 40, mejor_servicio_sorted[k][1]))\n",
    "\n",
    "# *********** Aquí termina la sección de agregar código *************"
   ]
  },
  {
   "cell_type": "markdown",
   "metadata": {},
   "source": [
    "Resultados Comida\n",
    "\n",
    "*  1 => 0.792,          Restaurante la Estrella de Dima\n",
    "*  2 => 0.700,                            pizza clasica\n",
    "*  3 => 0.665,                       Restaurante Guerra\n",
    "*  4 => 0.543,                                  El Club\n",
    "*  5 => 0.369,                          Pizzeria Julios\n",
    "*  6 => 0.311,              Restaurant Oriental Express\n",
    "*  7 => 0.308,            Restaurante El Cielo Potosino\n",
    "*  8 => 0.307,                        Hamburguesas saul\n",
    "*  9 => 0.283,                          Rincon Huasteco\n",
    "* 10 => 0.269,  la Cochinita Pibil Restaurante Yucateco\n",
    "\n",
    "\n",
    "\n",
    "Resultados Servicio\n",
    "\n",
    "*  1 => 0.666,                            pizza clasica\n",
    "*  2 => 0.585,                                  El Club\n",
    "*  3 => 0.496,                        Hamburguesas saul\n",
    "*  4 => 0.469,          Restaurante la Estrella de Dima\n",
    "*  5 => 0.430,                       Restaurante Guerra\n",
    "*  6 => 0.400,                     Restaurant Orizatlan *\n",
    "*  7 => 0.383,            Restaurante El Cielo Potosino\n",
    "*  8 => 0.355,  la Cochinita Pibil Restaurante Yucateco\n",
    "*  9 => 0.335,    La Fontana Pizza Restaurante and Cafe *\n",
    "* 10 => 0.327,              Restaurant Oriental Express"
   ]
  },
  {
   "cell_type": "markdown",
   "metadata": {
    "id": "ZJvi3WLR0zKY"
   },
   "source": [
    "## **Ejercicio - 7**"
   ]
  },
  {
   "cell_type": "markdown",
   "metadata": {
    "id": "IAPKgBzD14By"
   },
   "source": [
    "### **Incluye tus comentarios y conclusiones de la actividad. En particular indica cuáles restaurantes encontraste con correlaciones altas tanto para la calificación de la comida, como del servicio.**"
   ]
  },
  {
   "cell_type": "markdown",
   "metadata": {
    "id": "vtOMmDZeBBwg"
   },
   "source": [
    "++++++++ Inicia la sección de agregar texto: +++++++++++\n",
    "\n",
    "En general hay una similitud entre ambas, tanto para la matrix de puntajes de comida con la de servicio salvo dos restaurantes que aparecieron en los resultados del segundo experimento (Restaurant Orizatlan y La Fontana Pizza Restaurante and Cafe).\n",
    "\n",
    "++++++++ Termina la sección de agregar texto. +++++++++++"
   ]
  },
  {
   "cell_type": "markdown",
   "metadata": {
    "id": "N2rZwkmlAofg"
   },
   "source": [
    ">> **Fin de la Actividad de Sistemas de Recomendación**"
   ]
  }
 ],
 "metadata": {
  "colab": {
   "provenance": []
  },
  "kernelspec": {
   "display_name": "Python 3 (ipykernel)",
   "language": "python",
   "name": "python3"
  },
  "language_info": {
   "codemirror_mode": {
    "name": "ipython",
    "version": 3
   },
   "file_extension": ".py",
   "mimetype": "text/x-python",
   "name": "python",
   "nbconvert_exporter": "python",
   "pygments_lexer": "ipython3",
   "version": "3.12.1"
  }
 },
 "nbformat": 4,
 "nbformat_minor": 1
}
