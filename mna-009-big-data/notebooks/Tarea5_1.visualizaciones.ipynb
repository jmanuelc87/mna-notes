{
 "cells": [
  {
   "cell_type": "markdown",
   "id": "cd234b08",
   "metadata": {},
   "source": [
    "## _______________________________________________________________________________________\n",
    "# **Maestría en Inteligencia Artificial Aplicada**\n",
    "\n",
    "## **Curso:** Análisis de Grandes Volumnes de Datos\n",
    "\n",
    "### Tecnológico de Monterrey\n",
    "\n",
    "## **Actividad 5:** Actividad de visualización de resultados\n",
    "\n",
    "## **Objetivo:** Identificar métricas para la medición de la calidad de resultados derivados de la aplicación de modelos de aprendizaje. \n",
    "\n",
    "| Nombre    | Matricula |\n",
    "| :-------- | :-------- |\n",
    "| Armando de Jesús Cerda de la Rosa  | A01570376 |\n",
    "| Isaura Yutsil Flores Escamilla | A01796552 |\n",
    "\n",
    "\n",
    "## _______________________________________________________________________________________"
   ]
  },
  {
   "cell_type": "markdown",
   "id": "6d741a6a",
   "metadata": {},
   "source": [
    "# **0. Recapitulación de los resultados obtenidos de la *Actividad 4***"
   ]
  },
  {
   "cell_type": "markdown",
   "id": "667ccd2d",
   "metadata": {},
   "source": [
    "### **0.1) Configuración del entrono de desarrollo**"
   ]
  },
  {
   "cell_type": "code",
   "execution_count": 1,
   "id": "a7382e2d",
   "metadata": {},
   "outputs": [],
   "source": [
    "## Carga de paqueterías\n",
    "\n",
    "import os\n",
    "import pandas as pd\n",
    "import numpy as np\n",
    "import matplotlib.pyplot as plt\n",
    "import seaborn as sns\n",
    "from datetime import datetime\n",
    "from builtins import max as maximum\n",
    "from builtins import min as minimum\n",
    "\n",
    "from pyspark.sql.types import DoubleType, FloatType\n",
    "\n",
    "from pyspark.sql import SparkSession\n",
    "from pyspark.sql.functions import (\n",
    "    col, when, isnan, isnull, count, avg, stddev, min, max,\n",
    "    sum as spark_sum, lit, rand, monotonically_increasing_id,\n",
    "    concat_ws\n",
    ")\n",
    "from pyspark.sql.types import DoubleType, IntegerType\n",
    "\n",
    "from pyspark.ml import Pipeline\n",
    "from pyspark.ml.feature import (\n",
    "    VectorAssembler, StandardScaler, StringIndexer, \n",
    "    OneHotEncoder, Imputer\n",
    ")\n",
    "from pyspark.ml.classification import RandomForestClassifier\n",
    "from pyspark.ml.clustering import KMeans\n",
    "from pyspark.ml.evaluation import (\n",
    "    BinaryClassificationEvaluator, \n",
    "    MulticlassClassificationEvaluator,\n",
    "    ClusteringEvaluator\n",
    ")\n",
    "from pyspark.ml.stat import Correlation\n",
    "\n",
    "from pyspark.ml.classification import RandomForestClassifier\n",
    "from pyspark.ml.evaluation import BinaryClassificationEvaluator\n",
    "\n",
    "plt.style.use('seaborn-v0_8-darkgrid')\n",
    "sns.set_palette(\"husl\")\n",
    "\n",
    "import warnings\n",
    "warnings.filterwarnings('ignore')\n",
    "\n",
    "import seaborn as sns\n",
    "import pandas as pd\n",
    "\n",
    "from pyspark.ml.classification import RandomForestClassifier\n",
    "from pyspark.ml.evaluation import MulticlassClassificationEvaluator, BinaryClassificationEvaluator\n",
    "from pyspark.ml.tuning import CrossValidator, ParamGridBuilder\n",
    "\n",
    "from pyspark.sql import DataFrame\n",
    "from pyspark.sql.functions import rand\n",
    "import numpy as np\n",
    "\n",
    "import matplotlib.pyplot as plt\n",
    "from sklearn.metrics import roc_curve, auc\n",
    "import matplotlib.pyplot as plt"
   ]
  },
  {
   "cell_type": "code",
   "execution_count": 2,
   "id": "29500b78",
   "metadata": {},
   "outputs": [
    {
     "name": "stderr",
     "output_type": "stream",
     "text": [
      "25/06/17 19:13:21 WARN Utils: Your hostname, MacBook-Pro.local resolves to a loopback address: 127.0.0.1; using 192.168.1.72 instead (on interface en0)\n",
      "25/06/17 19:13:21 WARN Utils: Set SPARK_LOCAL_IP if you need to bind to another address\n",
      "Setting default log level to \"WARN\".\n",
      "To adjust logging level use sc.setLogLevel(newLevel). For SparkR, use setLogLevel(newLevel).\n",
      "25/06/17 19:13:22 WARN NativeCodeLoader: Unable to load native-hadoop library for your platform... using builtin-java classes where applicable\n"
     ]
    },
    {
     "name": "stdout",
     "output_type": "stream",
     "text": [
      "Versión de Spark: 3.5.4\n",
      "SparkContext inicializado: <SparkContext master=local[*] appName=Actividad3_AprendizajeSupervisadoNoSupervisado>\n",
      "Interfaz web disponible en: http://192.168.1.72:4040\n"
     ]
    }
   ],
   "source": [
    "spark = SparkSession.builder \\\n",
    "    .appName(\"Actividad3_AprendizajeSupervisadoNoSupervisado\") \\\n",
    "    .config(\"spark.sql.adaptive.enabled\", \"true\") \\\n",
    "    .config(\"spark.sql.adaptive.coalescePartitions.enabled\", \"true\") \\\n",
    "    .config(\"spark.driver.memory\", \"4g\") \\\n",
    "    .config(\"spark.executor.memory\", \"4g\") \\\n",
    "    .config(\"spark.sql.shuffle.partitions\", \"200\") \\\n",
    "    .getOrCreate()\n",
    "\n",
    "print(f\"Versión de Spark: {spark.version}\")\n",
    "print(f\"SparkContext inicializado: {spark.sparkContext}\")\n",
    "print(f\"Interfaz web disponible en: {spark.sparkContext.uiWebUrl}\")"
   ]
  },
  {
   "cell_type": "markdown",
   "id": "699e7b97",
   "metadata": {},
   "source": [
    "## **0.2) Carga de la base**"
   ]
  },
  {
   "cell_type": "code",
   "execution_count": 3,
   "id": "c9c4a25e",
   "metadata": {},
   "outputs": [
    {
     "name": "stdout",
     "output_type": "stream",
     "text": [
      "\n",
      "--- Paso 1: Lectura y primera limpieza de la base ---\n"
     ]
    },
    {
     "name": "stderr",
     "output_type": "stream",
     "text": [
      "25/06/17 19:13:23 WARN SparkSession: Using an existing Spark session; only runtime SQL configurations will take effect.\n"
     ]
    },
    {
     "name": "stdout",
     "output_type": "stream",
     "text": [
      "\n",
      "--- Paso 2: Lectura del primer archivo ---\n"
     ]
    },
    {
     "name": "stderr",
     "output_type": "stream",
     "text": [
      "                                                                                \r"
     ]
    },
    {
     "name": "stdout",
     "output_type": "stream",
     "text": [
      "\n",
      "--- Paso 3: Proceso para lectura y merge del resto de los archivos ---\n"
     ]
    },
    {
     "name": "stderr",
     "output_type": "stream",
     "text": [
      "25/06/17 19:13:38 WARN SparkStringUtils: Truncated the string representation of a plan since it was too large. This behavior can be adjusted by setting 'spark.sql.debug.maxToStringFields'.\n"
     ]
    },
    {
     "name": "stdout",
     "output_type": "stream",
     "text": [
      "Registros totales: 13,781,196\n",
      "Variables disponibles: 61\n",
      "+----------+-----------------+------+----+---------+--------+----------+-------+---------------+--------+-------+---------------+-------+--------------+-----------------+--------+----+-------+-----+----------+---------+-------------------------+---------------------------------------+------------------------+---------------------------+-------------------------------+-----------------+------------------------+---------------------------+-----------+-------------------------------+---------------+------------------+------------------+--------------+-----------+---------------+---------------+---------+-------------+----------------+----------------+------------+---------+-------------+-------------+-------+--------+--------------------+----------+-------+---------+--------+------+----------+--------+--------+------------------+----------+-------------+------------------+\n",
      "|FlightDate|          Airline|Origin|Dest|Cancelled|Diverted|CRSDepTime|DepTime|DepDelayMinutes|DepDelay|ArrTime|ArrDelayMinutes|AirTime|CRSElapsedTime|ActualElapsedTime|Distance|Year|Quarter|Month|DayofMonth|DayOfWeek|Marketing_Airline_Network|Operated_or_Branded_Code_Share_Partners|DOT_ID_Marketing_Airline|IATA_Code_Marketing_Airline|Flight_Number_Marketing_Airline|Operating_Airline|DOT_ID_Operating_Airline|IATA_Code_Operating_Airline|Tail_Number|Flight_Number_Operating_Airline|OriginAirportID|OriginAirportSeqID|OriginCityMarketID|OriginCityName|OriginState|OriginStateFips|OriginStateName|OriginWac|DestAirportID|DestAirportSeqID|DestCityMarketID|DestCityName|DestState|DestStateFips|DestStateName|DestWac|DepDel15|DepartureDelayGroups|DepTimeBlk|TaxiOut|WheelsOff|WheelsOn|TaxiIn|CRSArrTime|ArrDelay|ArrDel15|ArrivalDelayGroups|ArrTimeBlk|DistanceGroup|DivAirportLandings|\n",
      "+----------+-----------------+------+----+---------+--------+----------+-------+---------------+--------+-------+---------------+-------+--------------+-----------------+--------+----+-------+-----+----------+---------+-------------------------+---------------------------------------+------------------------+---------------------------+-------------------------------+-----------------+------------------------+---------------------------+-----------+-------------------------------+---------------+------------------+------------------+--------------+-----------+---------------+---------------+---------+-------------+----------------+----------------+------------+---------+-------------+-------------+-------+--------+--------------------+----------+-------+---------+--------+------+----------+--------+--------+------------------+----------+-------------+------------------+\n",
      "|2018-01-23|Endeavor Air Inc.|   ABY| ATL|    false|   false|      1202| 1157.0|            0.0|    -5.0| 1256.0|            0.0|   38.0|          62.0|             59.0|   145.0|2018|      1|    1|        23|        2|                       DL|                           DL_CODESHARE|                   19790|                         DL|                           3298|               9E|                   20363|                         9E|     N8928A|                           3298|          10146|           1014602|             30146|    Albany, GA|         GA|             13|        Georgia|       34|        10397|         1039707|           30397| Atlanta, GA|       GA|           13|      Georgia|     34|     0.0|                -1.0| 1200-1259|   14.0|   1211.0|  1249.0|   7.0|      1304|    -8.0|     0.0|              -1.0| 1300-1359|            1|               0.0|\n",
      "|2018-01-24|Endeavor Air Inc.|   ABY| ATL|    false|   false|      1202| 1157.0|            0.0|    -5.0| 1258.0|            0.0|   36.0|          62.0|             61.0|   145.0|2018|      1|    1|        24|        3|                       DL|                           DL_CODESHARE|                   19790|                         DL|                           3298|               9E|                   20363|                         9E|     N800AY|                           3298|          10146|           1014602|             30146|    Albany, GA|         GA|             13|        Georgia|       34|        10397|         1039707|           30397| Atlanta, GA|       GA|           13|      Georgia|     34|     0.0|                -1.0| 1200-1259|   13.0|   1210.0|  1246.0|  12.0|      1304|    -6.0|     0.0|              -1.0| 1300-1359|            1|               0.0|\n",
      "|2018-01-25|Endeavor Air Inc.|   ABY| ATL|    false|   false|      1202| 1153.0|            0.0|    -9.0| 1302.0|            0.0|   40.0|          62.0|             69.0|   145.0|2018|      1|    1|        25|        4|                       DL|                           DL_CODESHARE|                   19790|                         DL|                           3298|               9E|                   20363|                         9E|     N8836A|                           3298|          10146|           1014602|             30146|    Albany, GA|         GA|             13|        Georgia|       34|        10397|         1039707|           30397| Atlanta, GA|       GA|           13|      Georgia|     34|     0.0|                -1.0| 1200-1259|   18.0|   1211.0|  1251.0|  11.0|      1304|    -2.0|     0.0|              -1.0| 1300-1359|            1|               0.0|\n",
      "|2018-01-26|Endeavor Air Inc.|   ABY| ATL|    false|   false|      1202| 1150.0|            0.0|   -12.0| 1253.0|            0.0|   35.0|          62.0|             63.0|   145.0|2018|      1|    1|        26|        5|                       DL|                           DL_CODESHARE|                   19790|                         DL|                           3298|               9E|                   20363|                         9E|     N800AY|                           3298|          10146|           1014602|             30146|    Albany, GA|         GA|             13|        Georgia|       34|        10397|         1039707|           30397| Atlanta, GA|       GA|           13|      Georgia|     34|     0.0|                -1.0| 1200-1259|   17.0|   1207.0|  1242.0|  11.0|      1304|   -11.0|     0.0|              -1.0| 1300-1359|            1|               0.0|\n",
      "|2018-01-27|Endeavor Air Inc.|   ABY| ATL|    false|   false|      1400| 1355.0|            0.0|    -5.0| 1459.0|            0.0|   36.0|          60.0|             64.0|   145.0|2018|      1|    1|        27|        6|                       DL|                           DL_CODESHARE|                   19790|                         DL|                           3298|               9E|                   20363|                         9E|     N8839E|                           3298|          10146|           1014602|             30146|    Albany, GA|         GA|             13|        Georgia|       34|        10397|         1039707|           30397| Atlanta, GA|       GA|           13|      Georgia|     34|     0.0|                -1.0| 1400-1459|   17.0|   1412.0|  1448.0|  11.0|      1500|    -1.0|     0.0|              -1.0| 1500-1559|            1|               0.0|\n",
      "|2018-01-28|Endeavor Air Inc.|   ABY| ATL|    false|   false|      1202| 1202.0|           NULL|    NULL| 1326.0|           22.0|   37.0|          62.0|             84.0|   145.0|2018|      1|    1|        28|        7|                       DL|                           DL_CODESHARE|                   19790|                         DL|                           3298|               9E|                   20363|                         9E|     N8918B|                           3298|          10146|           1014602|             30146|    Albany, GA|         GA|             13|        Georgia|       34|        10397|         1039707|           30397| Atlanta, GA|       GA|           13|      Georgia|     34|    NULL|                NULL| 1200-1259|   34.0|   1236.0|  1313.0|  13.0|      1304|    22.0|     1.0|               1.0| 1300-1359|            1|               0.0|\n",
      "|2018-01-29|Endeavor Air Inc.|   ABY| ATL|    false|   false|      1202| 1204.0|            2.0|     2.0| 1303.0|            0.0|   34.0|          62.0|             59.0|   145.0|2018|      1|    1|        29|        1|                       DL|                           DL_CODESHARE|                   19790|                         DL|                           3298|               9E|                   20363|                         9E|     N8783E|                           3298|          10146|           1014602|             30146|    Albany, GA|         GA|             13|        Georgia|       34|        10397|         1039707|           30397| Atlanta, GA|       GA|           13|      Georgia|     34|     0.0|                 0.0| 1200-1259|   15.0|   1219.0|  1253.0|  10.0|      1304|    -1.0|     0.0|              -1.0| 1300-1359|            1|               0.0|\n",
      "|2018-01-30|Endeavor Air Inc.|   ABY| ATL|    false|   false|      1202| 1153.0|            0.0|    -9.0| 1255.0|            0.0|   44.0|          62.0|             62.0|   145.0|2018|      1|    1|        30|        2|                       DL|                           DL_CODESHARE|                   19790|                         DL|                           3298|               9E|                   20363|                         9E|     N8946A|                           3298|          10146|           1014602|             30146|    Albany, GA|         GA|             13|        Georgia|       34|        10397|         1039707|           30397| Atlanta, GA|       GA|           13|      Georgia|     34|     0.0|                -1.0| 1200-1259|    7.0|   1200.0|  1244.0|  11.0|      1304|    -9.0|     0.0|              -1.0| 1300-1359|            1|               0.0|\n",
      "|2018-01-31|Endeavor Air Inc.|   ABY| ATL|    false|   false|      1202| 1153.0|            0.0|    -9.0| 1304.0|           NULL|   37.0|          62.0|             71.0|   145.0|2018|      1|    1|        31|        3|                       DL|                           DL_CODESHARE|                   19790|                         DL|                           3298|               9E|                   20363|                         9E|     N8918B|                           3298|          10146|           1014602|             30146|    Albany, GA|         GA|             13|        Georgia|       34|        10397|         1039707|           30397| Atlanta, GA|       GA|           13|      Georgia|     34|     0.0|                -1.0| 1200-1259|   26.0|   1219.0|  1256.0|   8.0|      1304|    NULL|    NULL|              NULL| 1300-1359|            1|               0.0|\n",
      "|2018-01-03|Endeavor Air Inc.|   ATL| ABY|    false|   false|      1037| 1101.0|           24.0|    24.0| 1159.0|           22.0|   32.0|          60.0|             58.0|   145.0|2018|      1|    1|         3|        3|                       DL|                           DL_CODESHARE|                   19790|                         DL|                           3298|               9E|                   20363|                         9E|     N981EV|                           3298|          10397|           1039707|             30397|   Atlanta, GA|         GA|             13|        Georgia|       34|        10146|         1014602|           30146|  Albany, GA|       GA|           13|      Georgia|     34|     1.0|                 1.0| 1000-1059|   23.0|   1124.0|  1156.0|   3.0|      1137|    22.0|     1.0|               1.0| 1100-1159|            1|               0.0|\n",
      "|2018-01-04|Endeavor Air Inc.|   ATL| ABY|    false|   false|      1037| 1032.0|            0.0|    -5.0| 1125.0|            0.0|   27.0|          60.0|             53.0|   145.0|2018|      1|    1|         4|        4|                       DL|                           DL_CODESHARE|                   19790|                         DL|                           3298|               9E|                   20363|                         9E|     N981EV|                           3298|          10397|           1039707|             30397|   Atlanta, GA|         GA|             13|        Georgia|       34|        10146|         1014602|           30146|  Albany, GA|       GA|           13|      Georgia|     34|     0.0|                -1.0| 1000-1059|   23.0|   1055.0|  1122.0|   3.0|      1137|   -12.0|     0.0|              -1.0| 1100-1159|            1|               0.0|\n",
      "|2018-01-05|Endeavor Air Inc.|   ATL| ABY|    false|   false|      1037| 1032.0|            0.0|    -5.0| 1124.0|            0.0|   29.0|          60.0|             52.0|   145.0|2018|      1|    1|         5|        5|                       DL|                           DL_CODESHARE|                   19790|                         DL|                           3298|               9E|                   20363|                         9E|     N8877A|                           3298|          10397|           1039707|             30397|   Atlanta, GA|         GA|             13|        Georgia|       34|        10146|         1014602|           30146|  Albany, GA|       GA|           13|      Georgia|     34|     0.0|                -1.0| 1000-1059|   20.0|   1052.0|  1121.0|   3.0|      1137|   -13.0|     0.0|              -1.0| 1100-1159|            1|               0.0|\n",
      "|2018-01-06|Endeavor Air Inc.|   ATL| ABY|    false|   false|      1037| 1032.0|            0.0|    -5.0| 1126.0|            0.0|   34.0|          59.0|             54.0|   145.0|2018|      1|    1|         6|        6|                       DL|                           DL_CODESHARE|                   19790|                         DL|                           3298|               9E|                   20363|                         9E|     N8970D|                           3298|          10397|           1039707|             30397|   Atlanta, GA|         GA|             13|        Georgia|       34|        10146|         1014602|           30146|  Albany, GA|       GA|           13|      Georgia|     34|     0.0|                -1.0| 1000-1059|   18.0|   1050.0|  1124.0|   2.0|      1136|   -10.0|     0.0|              -1.0| 1100-1159|            1|               0.0|\n",
      "|2018-01-07|Endeavor Air Inc.|   ATL| ABY|    false|   false|      1037| 1034.0|            0.0|    -3.0| 1124.0|            0.0|   29.0|          60.0|             50.0|   145.0|2018|      1|    1|         7|        7|                       DL|                           DL_CODESHARE|                   19790|                         DL|                           3298|               9E|                   20363|                         9E|     N8980A|                           3298|          10397|           1039707|             30397|   Atlanta, GA|         GA|             13|        Georgia|       34|        10146|         1014602|           30146|  Albany, GA|       GA|           13|      Georgia|     34|     0.0|                -1.0| 1000-1059|   18.0|   1052.0|  1121.0|   3.0|      1137|   -13.0|     0.0|              -1.0| 1100-1159|            1|               0.0|\n",
      "|2018-01-08|Endeavor Air Inc.|   ATL| ABY|    false|   false|      1037| 1059.0|           22.0|    22.0| 1153.0|           16.0|   32.0|          60.0|             54.0|   145.0|2018|      1|    1|         8|        1|                       DL|                           DL_CODESHARE|                   19790|                         DL|                           3298|               9E|                   20363|                         9E|     N8847A|                           3298|          10397|           1039707|             30397|   Atlanta, GA|         GA|             13|        Georgia|       34|        10146|         1014602|           30146|  Albany, GA|       GA|           13|      Georgia|     34|     1.0|                 1.0| 1000-1059|   18.0|   1117.0|  1149.0|   4.0|      1137|    16.0|     1.0|               1.0| 1100-1159|            1|               0.0|\n",
      "|2018-01-09|Endeavor Air Inc.|   ATL| ABY|    false|   false|      1037| 1222.0|          105.0|   105.0| 1322.0|          105.0|   37.0|          60.0|             60.0|   145.0|2018|      1|    1|         9|        2|                       DL|                           DL_CODESHARE|                   19790|                         DL|                           3298|               9E|                   20363|                         9E|     N304PQ|                           3298|          10397|           1039707|             30397|   Atlanta, GA|         GA|             13|        Georgia|       34|        10146|         1014602|           30146|  Albany, GA|       GA|           13|      Georgia|     34|     1.0|                 7.0| 1000-1059|   20.0|   1242.0|  1319.0|   3.0|      1137|   105.0|     1.0|               7.0| 1100-1159|            1|               0.0|\n",
      "|2018-01-10|Endeavor Air Inc.|   ATL| ABY|    false|   false|      1037| 1027.0|            0.0|   -10.0| 1126.0|            0.0|   37.0|          60.0|             59.0|   145.0|2018|      1|    1|        10|        3|                       DL|                           DL_CODESHARE|                   19790|                         DL|                           3298|               9E|                   20363|                         9E|     N8836A|                           3298|          10397|           1039707|             30397|   Atlanta, GA|         GA|             13|        Georgia|       34|        10146|         1014602|           30146|  Albany, GA|       GA|           13|      Georgia|     34|     0.0|                -1.0| 1000-1059|   19.0|   1046.0|  1123.0|   3.0|      1137|   -11.0|     0.0|              -1.0| 1100-1159|            1|               0.0|\n",
      "|2018-01-11|Endeavor Air Inc.|   ATL| ABY|    false|   false|      1037| 1033.0|            0.0|    -4.0| 1145.0|            8.0|   38.0|          60.0|             72.0|   145.0|2018|      1|    1|        11|        4|                       DL|                           DL_CODESHARE|                   19790|                         DL|                           3298|               9E|                   20363|                         9E|     N8888D|                           3298|          10397|           1039707|             30397|   Atlanta, GA|         GA|             13|        Georgia|       34|        10146|         1014602|           30146|  Albany, GA|       GA|           13|      Georgia|     34|     0.0|                -1.0| 1000-1059|   31.0|   1104.0|  1142.0|   3.0|      1137|     8.0|     0.0|               0.0| 1100-1159|            1|               0.0|\n",
      "|2018-01-12|Endeavor Air Inc.|   ATL| ABY|    false|   false|      1037| 1044.0|            7.0|     7.0| 1138.0|            1.0|   35.0|          60.0|             54.0|   145.0|2018|      1|    1|        12|        5|                       DL|                           DL_CODESHARE|                   19790|                         DL|                           3298|               9E|                   20363|                         9E|     N832AY|                           3298|          10397|           1039707|             30397|   Atlanta, GA|         GA|             13|        Georgia|       34|        10146|         1014602|           30146|  Albany, GA|       GA|           13|      Georgia|     34|     0.0|                 0.0| 1000-1059|   16.0|   1100.0|  1135.0|   3.0|      1137|     1.0|     0.0|               0.0| 1100-1159|            1|               0.0|\n",
      "|2018-01-13|Endeavor Air Inc.|   ATL| ABY|    false|   false|      1037| 1034.0|            0.0|    -3.0| 1126.0|            0.0|   34.0|          59.0|             52.0|   145.0|2018|      1|    1|        13|        6|                       DL|                           DL_CODESHARE|                   19790|                         DL|                           3298|               9E|                   20363|                         9E|     N8976E|                           3298|          10397|           1039707|             30397|   Atlanta, GA|         GA|             13|        Georgia|       34|        10146|         1014602|           30146|  Albany, GA|       GA|           13|      Georgia|     34|     0.0|                -1.0| 1000-1059|   16.0|   1050.0|  1124.0|   2.0|      1136|   -10.0|     0.0|              -1.0| 1100-1159|            1|               0.0|\n",
      "+----------+-----------------+------+----+---------+--------+----------+-------+---------------+--------+-------+---------------+-------+--------------+-----------------+--------+----+-------+-----+----------+---------+-------------------------+---------------------------------------+------------------------+---------------------------+-------------------------------+-----------------+------------------------+---------------------------+-----------+-------------------------------+---------------+------------------+------------------+--------------+-----------+---------------+---------------+---------+-------------+----------------+----------------+------------+---------+-------------+-------------+-------+--------+--------------------+----------+-------+---------+--------+------+----------+--------+--------+------------------+----------+-------------+------------------+\n",
      "only showing top 20 rows\n",
      "\n"
     ]
    }
   ],
   "source": [
    "print(\"\\n--- Paso 1: Lectura y primera limpieza de la base ---\")\n",
    "\n",
    "spark = SparkSession.builder \\\n",
    "    .master('local[*]') \\\n",
    "    .config(\"spark.driver.memory\", \"12g\") \\\n",
    "    .appName('my-cool-app') \\\n",
    "    .getOrCreate()\n",
    "\n",
    "#spark = SparkSession.builder.master(\"local[*]\").getOrCreate()\n",
    "spark.conf.set(\"sparl.sql.repl.eagerEval.enabled\", True)\n",
    "spark\n",
    "\n",
    "file_paths = [\"/Users/damian/Documents/Archivos_Yutsil/Codigos/archive (5)/Combined_Flights_2018.csv\", \n",
    "              \"/Users/damian/Documents/Archivos_Yutsil/Codigos/archive (5)/Combined_Flights_2019.csv\"] \n",
    "              #\"/Users/damian/Documents/Archivos_Yutsil/Codigos/archive (5)/Combined_Flights_2020.csv\", \n",
    "              #\"/Users/damian/Documents/Archivos_Yutsil/Codigos/archive (5)/Combined_Flights_2021.csv\"]     \n",
    "\n",
    "\n",
    "print(\"\\n--- Paso 2: Lectura del primer archivo ---\")\n",
    "df_original = spark.read.csv(file_paths[0], header=True, inferSchema=True)\n",
    "\n",
    "print(\"\\n--- Paso 3: Proceso para lectura y merge del resto de los archivos ---\")\n",
    "for path in file_paths[1:]:\n",
    "    df = spark.read.csv(path, header=True, inferSchema=True)\n",
    "    df_original = df_original.unionByName(df)\n",
    "\n",
    "print(f\"Registros totales: {df_original.count():,}\")\n",
    "print(f\"Variables disponibles: {len(df_original.columns)}\")\n",
    "\n",
    "df_original.show()\n"
   ]
  },
  {
   "cell_type": "markdown",
   "id": "f9a3548a",
   "metadata": {},
   "source": [
    "### **0.3) Construcción de la muestra M**"
   ]
  },
  {
   "cell_type": "code",
   "execution_count": 4,
   "id": "dcf9a220",
   "metadata": {},
   "outputs": [
    {
     "name": "stdout",
     "output_type": "stream",
     "text": [
      "Distribución de estratos identificados\n"
     ]
    },
    {
     "name": "stderr",
     "output_type": "stream",
     "text": [
      "25/06/17 19:13:40 WARN GarbageCollectionMetrics: To enable non-built-in garbage collector(s) List(G1 Concurrent GC), users should configure it(them) to spark.eventLog.gcMetrics.youngGenerationGarbageCollectors or spark.eventLog.gcMetrics.oldGenerationGarbageCollectors\n",
      "                                                                                \r"
     ]
    },
    {
     "name": "stdout",
     "output_type": "stream",
     "text": [
      "+--------------------+-------+\n",
      "|             Estrato|  count|\n",
      "+--------------------+-------+\n",
      "|Baja_Laborable_Medio|3706116|\n",
      "|Baja_Laborable_Corto|3134786|\n",
      "|Baja_FinDeSemana_...|1362815|\n",
      "|Alta_Laborable_Medio|1160282|\n",
      "|Baja_FinDeSemana_...|1068252|\n",
      "|Alta_Laborable_Corto| 964613|\n",
      "|Baja_Laborable_Largo| 863283|\n",
      "|Alta_FinDeSemana_...| 447691|\n",
      "|Alta_FinDeSemana_...| 341500|\n",
      "|Baja_FinDeSemana_...| 327789|\n",
      "|Alta_Laborable_Largo| 290492|\n",
      "|Alta_FinDeSemana_...| 113577|\n",
      "+--------------------+-------+\n",
      "\n"
     ]
    },
    {
     "name": "stderr",
     "output_type": "stream",
     "text": [
      "                                                                                \r"
     ]
    },
    {
     "name": "stdout",
     "output_type": "stream",
     "text": [
      "Fracción de muestreo aplicada: 0.0036\n"
     ]
    },
    {
     "name": "stderr",
     "output_type": "stream",
     "text": [
      "[Stage 22:===================================================>    (34 + 3) / 37]\r"
     ]
    },
    {
     "name": "stdout",
     "output_type": "stream",
     "text": [
      "\n",
      "Muestra M obtenida: 50,140 registros\n",
      "Representatividad: 0.36% del dataset original\n"
     ]
    },
    {
     "name": "stderr",
     "output_type": "stream",
     "text": [
      "                                                                                \r"
     ]
    }
   ],
   "source": [
    "# Se implementa muestreo estratificado para garantizar representatividad\n",
    "# Las variables de estratificación se basan en el análisis exploratorio previo\n",
    "\n",
    "df_categorized = df_original.withColumn(\n",
    "    \"Temporada\",\n",
    "    when((col(\"Month\") >= 6) & (col(\"Month\") <= 8), \"Alta\").otherwise(\"Baja\")\n",
    ").withColumn(\n",
    "    \"TipoDia\",\n",
    "    when((col(\"DayOfWeek\") >= 6), \"FinDeSemana\").otherwise(\"Laborable\")\n",
    ").withColumn(\n",
    "    \"CategoriaDistancia\",\n",
    "    when(col(\"Distance\").isNull(), \"Desconocido\")\n",
    "    .when(col(\"Distance\") < 500, \"Corto\")\n",
    "    .when(col(\"Distance\") < 1500, \"Medio\")\n",
    "    .otherwise(\"Largo\")\n",
    ")\n",
    "\n",
    "df_strata = df_categorized.withColumn(\n",
    "    \"Estrato\",\n",
    "    concat_ws(\"_\", col(\"Temporada\"), col(\"TipoDia\"), col(\"CategoriaDistancia\"))\n",
    ")\n",
    "\n",
    "print(\"Distribución de estratos identificados\")\n",
    "strata_dist = df_strata.groupBy(\"Estrato\").count().orderBy(\"count\", ascending=False)\n",
    "strata_dist.show(20)\n",
    "\n",
    "total_records = df_strata.count()\n",
    "target_sample_size = minimum(50000, total_records)\n",
    "sampling_fraction = target_sample_size / total_records\n",
    "\n",
    "print(f\"Fracción de muestreo aplicada: {sampling_fraction:.4f}\")\n",
    "\n",
    "df_sample = df_strata.sampleBy(\"Estrato\", \n",
    "                               fractions={row[\"Estrato\"]: sampling_fraction \n",
    "                                         for row in strata_dist.collect()}, \n",
    "                               seed=42)\n",
    "\n",
    "sample_count = df_sample.count()\n",
    "print(f\"\\nMuestra M obtenida: {sample_count:,} registros\")\n",
    "print(f\"Representatividad: {(sample_count/total_records)*100:.2f}% del dataset original\")"
   ]
  },
  {
   "cell_type": "markdown",
   "id": "5f4ae1ce",
   "metadata": {},
   "source": [
    "### **0.4) Preparación de los Datos**\n",
    "\n",
    "Se procede a aplicar las estrategias de limpieza y transformación necesarias sobre la muestra M para adecuarla a los requerimientos de los algoritmos de machine learning que se implementarán"
   ]
  },
  {
   "cell_type": "code",
   "execution_count": 5,
   "id": "8c850b0b",
   "metadata": {},
   "outputs": [
    {
     "name": "stdout",
     "output_type": "stream",
     "text": [
      "Análisis de completitud de datos en variables clave\n"
     ]
    },
    {
     "name": "stderr",
     "output_type": "stream",
     "text": [
      "[Stage 46:===================================================>    (34 + 3) / 37]\r"
     ]
    },
    {
     "name": "stdout",
     "output_type": "stream",
     "text": [
      "  Variable  Valores_Nulos  Porcentaje\n",
      "   AirTime           1020    2.034304\n",
      "  ArrDelay            993    1.980455\n",
      "  DepDelay            827    1.649382\n",
      "  Distance              0    0.000000\n",
      "CRSDepTime              0    0.000000\n",
      "CRSArrTime              0    0.000000\n",
      " Cancelled              0    0.000000\n",
      "  Diverted              0    0.000000\n"
     ]
    },
    {
     "name": "stderr",
     "output_type": "stream",
     "text": [
      "                                                                                \r"
     ]
    }
   ],
   "source": [
    "print(\"Análisis de completitud de datos en variables clave\")\n",
    "\n",
    "key_columns = [\n",
    "    \"ArrDelay\", \"DepDelay\", \"Distance\", \"AirTime\", \"CRSDepTime\", \n",
    "    \"CRSArrTime\", \"Cancelled\", \"Diverted\", \"CarrierDelay\", \n",
    "    \"WeatherDelay\", \"NASDelay\", \"SecurityDelay\", \"LateAircraftDelay\"\n",
    "]\n",
    "\n",
    "null_analysis = []\n",
    "for col_name in key_columns:\n",
    "    if col_name in df_sample.columns:\n",
    "        data_type = [field.dataType for field in df_sample.schema.fields if field.name == col_name][0]\n",
    "        if isinstance(data_type, (DoubleType, FloatType)):\n",
    "            null_count = df_sample.filter(col(col_name).isNull() | isnan(col(col_name))).count()\n",
    "        else:\n",
    "            null_count = df_sample.filter(col(col_name).isNull()).count()\n",
    "        null_percentage = (null_count / sample_count) * 100\n",
    "        null_analysis.append((col_name, null_count, null_percentage))\n",
    "\n",
    "null_summary = pd.DataFrame(null_analysis, columns=['Variable', 'Valores_Nulos', 'Porcentaje'])\n",
    "null_summary = null_summary.sort_values('Porcentaje', ascending=False)\n",
    "print(null_summary.to_string(index=False))"
   ]
  },
  {
   "cell_type": "code",
   "execution_count": 6,
   "id": "e459e96f",
   "metadata": {},
   "outputs": [],
   "source": [
    "# from pyspark.sql.types import DoubleType, FloatType\n",
    "\n",
    "# data_type = [field.dataType for field in df_sample.schema.fields if field.name == col_name][0]\n",
    "\n",
    "# col_obj = col(col_name)\n",
    "\n",
    "# if isinstance(data_type, (DoubleType, FloatType)):\n",
    "#     null_count = df_sample.filter(col_obj.isNull() | isnan(col_obj)).count()\n",
    "# else:\n",
    "#     null_count = df_sample.filter(col_obj.isNull()).count()"
   ]
  },
  {
   "cell_type": "code",
   "execution_count": 7,
   "id": "c676ed1d",
   "metadata": {},
   "outputs": [
    {
     "name": "stdout",
     "output_type": "stream",
     "text": [
      "Implementando estrategias de limpieza de datos\n"
     ]
    },
    {
     "name": "stderr",
     "output_type": "stream",
     "text": [
      "                                                                                \r"
     ]
    },
    {
     "name": "stdout",
     "output_type": "stream",
     "text": [
      "Registros tras filtrado de vuelos cancelados/desviados: 49,147\n"
     ]
    },
    {
     "name": "stderr",
     "output_type": "stream",
     "text": [
      "                                                                                \r"
     ]
    },
    {
     "name": "stdout",
     "output_type": "stream",
     "text": [
      "Registros finales tras limpieza: 49,144\n",
      "\n",
      "Distribución de la variable objetivo\n"
     ]
    },
    {
     "name": "stderr",
     "output_type": "stream",
     "text": [
      "[Stage 55:===================================================>    (34 + 3) / 37]\r"
     ]
    },
    {
     "name": "stdout",
     "output_type": "stream",
     "text": [
      "+-----------+-----+\n",
      "|DelayedFlag|count|\n",
      "+-----------+-----+\n",
      "|          1| 9232|\n",
      "|          0|39912|\n",
      "+-----------+-----+\n",
      "\n"
     ]
    },
    {
     "name": "stderr",
     "output_type": "stream",
     "text": [
      "                                                                                \r"
     ]
    }
   ],
   "source": [
    "print(\"Implementando estrategias de limpieza de datos\")\n",
    "\n",
    "# Se excluyen vuelos cancelados y desviados ya que no aplican para el análisis de retrasos\n",
    "df_cleaned = df_sample.filter(\n",
    "    (col(\"Cancelled\") != 1) & (col(\"Diverted\") != 1)\n",
    ")\n",
    "\n",
    "print(f\"Registros tras filtrado de vuelos cancelados/desviados: {df_cleaned.count():,}\")\n",
    "\n",
    "# Las variables de retraso específico presentan nulos cuando no hay retraso atribuible a esa causa\n",
    "delay_columns = [\"CarrierDelay\", \"WeatherDelay\", \"NASDelay\", \"SecurityDelay\", \"LateAircraftDelay\"]\n",
    "for col_name in delay_columns:\n",
    "    if col_name in df_cleaned.columns:\n",
    "        df_cleaned = df_cleaned.fillna({col_name: 0})\n",
    "\n",
    "# Se eliminan registros con valores faltantes en variables esenciales para el modelado\n",
    "critical_columns = [\"ArrDelay\", \"DepDelay\", \"Distance\", \"CRSDepTime\", \"CRSArrTime\"]\n",
    "df_cleaned = df_cleaned.dropna(subset=critical_columns)\n",
    "\n",
    "print(f\"Registros finales tras limpieza: {df_cleaned.count():,}\")\n",
    "\n",
    "# Se generan variables derivadas de utilidad para el análisis\n",
    "df_cleaned = df_cleaned.withColumn(\"DepHour\", (col(\"CRSDepTime\") / 100).cast(IntegerType())) \\\n",
    "                      .withColumn(\"ArrHour\", (col(\"CRSArrTime\") / 100).cast(IntegerType()))\n",
    "\n",
    "# Variable objetivo binaria para clasificación\n",
    "df_cleaned = df_cleaned.withColumn(\n",
    "    \"DelayedFlag\",\n",
    "    when(col(\"ArrDelay\") > 15, 1).otherwise(0)\n",
    ")\n",
    "\n",
    "print(\"\\nDistribución de la variable objetivo\")\n",
    "df_cleaned.groupBy(\"DelayedFlag\").count().show()"
   ]
  },
  {
   "cell_type": "code",
   "execution_count": 8,
   "id": "a6e6c78e",
   "metadata": {},
   "outputs": [
    {
     "name": "stdout",
     "output_type": "stream",
     "text": [
      "Análisis estadístico descriptivo de variables numéricas\n"
     ]
    },
    {
     "name": "stderr",
     "output_type": "stream",
     "text": [
      "                                                                                \r"
     ]
    },
    {
     "name": "stdout",
     "output_type": "stream",
     "text": [
      "\n",
      "ArrDelay\n",
      "  Media: 5.70 Desviación Estándar: 51.92\n",
      "  Rango: [-77.00 1460.00]\n",
      "  Percentiles: {'p1': -77.0, 'p5': -27.0, 'p25': -15.0, 'p50': -6.0, 'p75': 7.0, 'p95': 66.0, 'p99': 1460.0}\n"
     ]
    },
    {
     "name": "stderr",
     "output_type": "stream",
     "text": [
      "                                                                                \r"
     ]
    },
    {
     "name": "stdout",
     "output_type": "stream",
     "text": [
      "\n",
      "DepDelay\n",
      "  Media: 10.72 Desviación Estándar: 49.74\n",
      "  Rango: [-41.00 1464.00]\n",
      "  Percentiles: {'p1': -41.0, 'p5': -10.0, 'p25': -6.0, 'p50': -2.0, 'p75': 6.0, 'p95': 65.0, 'p99': 1464.0}\n"
     ]
    },
    {
     "name": "stderr",
     "output_type": "stream",
     "text": [
      "                                                                                \r"
     ]
    },
    {
     "name": "stdout",
     "output_type": "stream",
     "text": [
      "\n",
      "Distance\n",
      "  Media: 777.81 Desviación Estándar: 588.24\n",
      "  Rango: [31.00 5095.00]\n",
      "  Percentiles: {'p1': 31.0, 'p5': 155.0, 'p25': 345.0, 'p50': 607.0, 'p75': 999.0, 'p95': 1956.0, 'p99': 5095.0}\n"
     ]
    },
    {
     "name": "stderr",
     "output_type": "stream",
     "text": [
      "[Stage 76:===================================================>    (34 + 3) / 37]\r"
     ]
    },
    {
     "name": "stdout",
     "output_type": "stream",
     "text": [
      "\n",
      "AirTime\n",
      "  Media: 108.70 Desviación Estándar: 69.74\n",
      "  Rango: [10.00 644.00]\n",
      "  Percentiles: {'p1': 10.0, 'p5': 33.0, 'p25': 58.0, 'p50': 89.0, 'p75': 136.0, 'p95': 248.0, 'p99': 644.0}\n"
     ]
    },
    {
     "name": "stderr",
     "output_type": "stream",
     "text": [
      "                                                                                \r"
     ]
    }
   ],
   "source": [
    "print(\"Análisis estadístico descriptivo de variables numéricas\")\n",
    "\n",
    "numeric_cols = [\"ArrDelay\", \"DepDelay\", \"Distance\", \"AirTime\"]\n",
    "quantiles = [0.01, 0.05, 0.25, 0.5, 0.75, 0.95, 0.99]\n",
    "\n",
    "for col_name in numeric_cols:\n",
    "    if col_name in df_cleaned.columns:\n",
    "        stats = df_cleaned.select(\n",
    "            avg(col_name).alias(\"mean\"),\n",
    "            stddev(col_name).alias(\"std\"),\n",
    "            min(col_name).alias(\"min\"),\n",
    "            max(col_name).alias(\"max\")\n",
    "        ).collect()[0]\n",
    "        \n",
    "        percentiles = df_cleaned.stat.approxQuantile(col_name, quantiles, 0.01)\n",
    "        \n",
    "        print(f\"\\n{col_name}\")\n",
    "        print(f\"  Media: {stats['mean']:.2f} Desviación Estándar: {stats['std']:.2f}\")\n",
    "        print(f\"  Rango: [{stats['min']:.2f} {stats['max']:.2f}]\")\n",
    "        print(f\"  Percentiles: {dict(zip([f'p{int(q*100)}' for q in quantiles], percentiles))}\")\n",
    "\n",
    "# Se aplica winsorización para manejar valores extremos\n",
    "df_cleaned = df_cleaned.withColumn(\n",
    "    \"ArrDelayClipped\",\n",
    "    when(col(\"ArrDelay\") < -60, -60)\n",
    "    .when(col(\"ArrDelay\") > 300, 300)\n",
    "    .otherwise(col(\"ArrDelay\"))\n",
    ").withColumn(\n",
    "    \"DepDelayClipped\",\n",
    "    when(col(\"DepDelay\") < -60, -60)\n",
    "    .when(col(\"DepDelay\") > 300, 300)\n",
    "    .otherwise(col(\"DepDelay\"))\n",
    ")"
   ]
  },
  {
   "cell_type": "code",
   "execution_count": 9,
   "id": "9c7ee0c2",
   "metadata": {},
   "outputs": [
    {
     "name": "stdout",
     "output_type": "stream",
     "text": [
      "Variables numéricas seleccionadas (7): ['DepDelayClipped', 'Distance', 'DayOfWeek', 'Month', 'DepHour', 'ArrHour', 'DayofMonth']\n",
      "Variables categóricas seleccionadas (5): ['Origin', 'Dest', 'Temporada', 'TipoDia', 'CategoriaDistancia']\n",
      "\n",
      "Dataset preparado para modelado\n"
     ]
    },
    {
     "name": "stderr",
     "output_type": "stream",
     "text": [
      "                                                                                \r"
     ]
    },
    {
     "name": "stdout",
     "output_type": "stream",
     "text": [
      "  Observaciones: 49,144\n",
      "  Variables: 15\n"
     ]
    },
    {
     "name": "stderr",
     "output_type": "stream",
     "text": [
      "                                                                                \r"
     ]
    },
    {
     "data": {
      "text/plain": [
       "49144"
      ]
     },
     "execution_count": 9,
     "metadata": {},
     "output_type": "execute_result"
    }
   ],
   "source": [
    "# Definición del conjunto de características para el modelado\n",
    "\n",
    "numeric_features = [\n",
    "    \"DepDelayClipped\", \"Distance\", \"DayOfWeek\", \"Month\", \n",
    "    \"DepHour\", \"ArrHour\", \"DayofMonth\"\n",
    "]\n",
    "\n",
    "categorical_features = [\n",
    "    \"Reporting_Airline\", \"Origin\", \"Dest\", \"Temporada\", \"TipoDia\", \"CategoriaDistancia\"\n",
    "]\n",
    "\n",
    "# Verificación de disponibilidad de variables\n",
    "numeric_features = [f for f in numeric_features if f in df_cleaned.columns]\n",
    "categorical_features = [f for f in categorical_features if f in df_cleaned.columns]\n",
    "\n",
    "print(f\"Variables numéricas seleccionadas ({len(numeric_features)}): {numeric_features}\")\n",
    "print(f\"Variables categóricas seleccionadas ({len(categorical_features)}): {categorical_features}\")\n",
    "\n",
    "# Construcción del dataset final\n",
    "selected_features = numeric_features + categorical_features + [\"DelayedFlag\", \"ArrDelay\", \"ArrDelayClipped\"]\n",
    "df_final = df_cleaned.select(*selected_features)\n",
    "\n",
    "print(f\"\\nDataset preparado para modelado\")\n",
    "print(f\"  Observaciones: {df_final.count():,}\")\n",
    "print(f\"  Variables: {len(df_final.columns)}\")\n",
    "\n",
    "df_final = df_final.cache()\n",
    "df_final.count()"
   ]
  },
  {
   "cell_type": "code",
   "execution_count": 10,
   "id": "650349dc",
   "metadata": {},
   "outputs": [
    {
     "name": "stdout",
     "output_type": "stream",
     "text": [
      "+-----------+-----+------------------+\n",
      "|DelayedFlag|count|        Porcentaje|\n",
      "+-----------+-----+------------------+\n",
      "|          1| 9232|18.785609636985185|\n",
      "|          0|39912| 81.21439036301481|\n",
      "+-----------+-----+------------------+\n",
      "\n"
     ]
    }
   ],
   "source": [
    "df_final.groupBy(\"DelayedFlag\").count().withColumn(\n",
    "    \"Porcentaje\", col(\"count\") * 100.0 / df_final.count()\n",
    ").show()"
   ]
  },
  {
   "cell_type": "markdown",
   "id": "87e7a779",
   "metadata": {},
   "source": [
    "### **0.5) Transformación de la base**\n",
    " \n",
    "Se realiza un proceso de transformación de la base en preparación para la implementación de nuestro modelo."
   ]
  },
  {
   "cell_type": "code",
   "execution_count": 11,
   "id": "cdafa242",
   "metadata": {},
   "outputs": [
    {
     "name": "stdout",
     "output_type": "stream",
     "text": [
      "Construcción del pipeline de transformación de características\n",
      "Ajustando transformaciones con datos totales\n",
      "\n",
      "Transformación completada\n",
      "Dimensionalidad del vector de características: 744\n"
     ]
    },
    {
     "data": {
      "text/plain": [
       "49144"
      ]
     },
     "execution_count": 11,
     "metadata": {},
     "output_type": "execute_result"
    }
   ],
   "source": [
    "print(\"Construcción del pipeline de transformación de características\")\n",
    "\n",
    "# Indexación de variables categóricas\n",
    "indexers = [\n",
    "    StringIndexer(inputCol=col, outputCol=col+\"_indexed\", handleInvalid=\"keep\")\n",
    "    for col in categorical_features\n",
    "]\n",
    "\n",
    "# Codificación one-hot para variables categóricas\n",
    "encoders = [\n",
    "    OneHotEncoder(inputCol=col+\"_indexed\", outputCol=col+\"_encoded\")\n",
    "    for col in categorical_features\n",
    "]\n",
    "\n",
    "# Ensamblado de vector de características\n",
    "feature_cols = numeric_features + [col+\"_encoded\" for col in categorical_features]\n",
    "assembler = VectorAssembler(inputCols=feature_cols, outputCol=\"features_raw\")\n",
    "\n",
    "# Normalización de características\n",
    "scaler = StandardScaler(inputCol=\"features_raw\", outputCol=\"features\", withStd=True, withMean=False)\n",
    "\n",
    "preprocessing_pipeline = Pipeline(stages=indexers + encoders + [assembler, scaler])\n",
    "\n",
    "print(\"Ajustando transformaciones con datos totales\")\n",
    "preprocessing_model = preprocessing_pipeline.fit(df_final)\n",
    "\n",
    "data_transformed = preprocessing_model.transform(df_final)\n",
    "\n",
    "print(f\"\\nTransformación completada\")\n",
    "print(f\"Dimensionalidad del vector de características: {data_transformed.select('features').first()[0].size}\")\n",
    "\n",
    "data_transformed = data_transformed.cache()\n",
    "data_transformed.count()"
   ]
  },
  {
   "cell_type": "markdown",
   "id": "be2b3f24",
   "metadata": {},
   "source": [
    "Una vez que se tiene la base lista, se procede al proceso de validación cruzada, y al entrenamiento del modelo. "
   ]
  },
  {
   "cell_type": "markdown",
   "id": "6f0e78c2",
   "metadata": {},
   "source": [
    "# **1. Definir un proceso de validación cruzada**\n",
    "\n",
    "**Objetivo:**\n",
    "\n",
    "Definir un proceso de validación cruzada para medir la variabilidad de los resultados a partir del algoritmo o algoritmos que mejor resultado reportaron en la Actividad 4 del Módulo 5. Para ello y partiendo de la muestra M = {Mi: Mi es una partición derivada de las variables de caracterización de la población} construida en el paso 1 de la actividad 4 del Módulo 5, se debe de determinar un valor “k” para el proceso de validación cruzada “k-fold” a implementar. Este valor deberá de ser argumentado con profundidad, de tal forma que se garantice que cada uno de los “k-fold” generados, sean muestras representativas de la población. Incluir una sección en el Jupyter Notebook que construyes dónde se explique este paso."
   ]
  },
  {
   "cell_type": "markdown",
   "id": "1540456b",
   "metadata": {},
   "source": [
    "### **1.1 Marco Teórico**\n",
    "\n",
    "\n",
    "Si bien durante la actividad 4 cubrimos un flujo usual para la obtención de un primer modelo, aún es necesario optimizar nuestro modelo, a través de algunos parámetros proporcionados por el modelo de `Random Forest`.\n",
    "\n",
    "Ahora bien, dado que en PySpark se trabajan con grandes volúmenes de datos, las técnicas de remuestreo resultan fundamentales para la conseguir una evaluación robusta sobre el desempeño de los modelos de machine learning, que nos permitirá estimar de manera más precisa cómo se comportará un modelo con nuevos datos, reduciendo el riesgo de sobreajuste y obtener **un modelo más generalizado**.\n",
    "\n",
    "En éste contexto, el *Cross-validation* resulta una técnica efectiva para reutilizar eficientemente los datos disponibles, dividiendo el conjunto en múltiples particiones para entrenar y evaluar el modelo repetidas veces. En específico, el `k-Fold Cross-Validation` sigue la siguiente lógica para el remuestreo:\n",
    "\n",
    "* El conjunto total es dividido de manera aleatoria en k-folds independientes y sin reemplazo. \n",
    "* *k-1* folds son usados para el entrenamiento del modelo, y el fold restante es usado para la evaluación del desempeño del modelo. \n",
    "* El procedimiento se repite *k* veces (iteraciones), por lo que obtendremos *k* números de estimadores para el desempeño del modelo en cada iteración. \n",
    "* Finalmente, se obtendrá una estimación promedio del rendimiento del modelo, así como su variabilidad (por ejemplo, mediante la desviación estándar de la métrica).\n",
    "\n",
    "Resta entonces determinar el *k* óptimo para nuestro conjunto de datos.\n",
    "\n",
    "\n",
    "### **Selección del valor óptimo de k para validación cruzada (k-fold)**\n",
    "\n",
    "Para evaluar la variabilidad de los resultados del modelo Random Forest, implementamos un proceso de validación cruzada con diferentes valores de \\( k \\). Este análisis se realiza a partir de la muestra \\( M = \\{M_i\\} \\), derivada de las variables de caracterización de la población en la Actividad 4.\n",
    "\n",
    "El objetivo es determinar un valor de \\( k \\) que:\n",
    "* Genere particiones representativas de la población original.\n",
    "* Minimice la varianza de los resultados.\n",
    "* Permita un entrenamiento eficiente con PySpark.\n",
    "\n",
    "Se evaluarán los siguientes valores: \\( k = 3, 5, 10 \\).\n",
    "\n",
    "El criterio para seleccionar el \\( k \\) óptimo será el que:\n",
    "* Tenga la menor desviación estándar en las métricas de evaluación (AUC-ROC). Se selecciona como métrica de desempeño el ROC-AUC, al ser más robusto ante datos desbalanceados.\n",
    "* Mantenga un tiempo de entrenamiento razonable.\n",
    "\n",
    "Para garantizar que los folds sean representativos, usamos muestreo estratificado si la variable objetivo está desbalanceada.\n"
   ]
  },
  {
   "cell_type": "markdown",
   "id": "340249dd",
   "metadata": {},
   "source": [
    "### **1.2 Evaluación de los distintos *K***"
   ]
  },
  {
   "cell_type": "code",
   "execution_count": 12,
   "id": "96824bdb",
   "metadata": {},
   "outputs": [
    {
     "name": "stdout",
     "output_type": "stream",
     "text": [
      "\n",
      "Resultados para k=3 (AUC evaluador):\n",
      "  Configuración 1: ROC AUC promedio = 0.8756\n",
      "  Configuración 2: ROC AUC promedio = 0.8805\n",
      "  → F1-score en conjunto completo = 0.7280\n",
      "\n",
      "Resultados para k=5 (AUC evaluador):\n",
      "  Configuración 1: ROC AUC promedio = 0.8667\n",
      "  Configuración 2: ROC AUC promedio = 0.8739\n",
      "  → F1-score en conjunto completo = 0.7280\n",
      "\n",
      "Resultados para k=10 (AUC evaluador):\n",
      "  Configuración 1: ROC AUC promedio = 0.8730\n",
      "  Configuración 2: ROC AUC promedio = 0.8780\n",
      "  → F1-score en conjunto completo = 0.7280\n"
     ]
    }
   ],
   "source": [
    "rf = RandomForestClassifier(labelCol=\"DelayedFlag\", featuresCol=\"features\")\n",
    "\n",
    "paramGrid = ParamGridBuilder() \\\n",
    "    .addGrid(rf.numTrees, [10, 20]) \\\n",
    "    .build()\n",
    "\n",
    "\n",
    "## Especificar las métricas que deseamos emplear\n",
    "f1_evaluator = MulticlassClassificationEvaluator(labelCol=\"DelayedFlag\", metricName=\"f1\")\n",
    "auc_evaluator = BinaryClassificationEvaluator(labelCol=\"DelayedFlag\", metricName=\"areaUnderROC\")\n",
    "\n",
    "for k in [3, 5, 10]:\n",
    "    crossval = CrossValidator(\n",
    "        estimator=rf,\n",
    "        estimatorParamMaps=paramGrid,\n",
    "        evaluator=auc_evaluator,  # AUC for model selection\n",
    "        numFolds=k,\n",
    "        parallelism=2\n",
    "    )\n",
    "\n",
    "    cv_model = crossval.fit(data_transformed)\n",
    "    avg_auc_scores = cv_model.avgMetrics\n",
    "\n",
    "    print(f\"\\nResultados para k={k} (AUC evaluador):\")\n",
    "    for i, score in enumerate(avg_auc_scores):\n",
    "        print(f\"  Configuración {i+1}: ROC AUC promedio = {score:.4f}\")\n",
    "\n",
    "    best_model = cv_model.bestModel\n",
    "    predictions = best_model.transform(data_transformed)\n",
    "    f1_score = f1_evaluator.evaluate(predictions)\n",
    "    print(f\"  → F1-score en conjunto completo = {f1_score:.4f}\")"
   ]
  },
  {
   "cell_type": "code",
   "execution_count": 23,
   "id": "9e129214",
   "metadata": {},
   "outputs": [
    {
     "name": "stdout",
     "output_type": "stream",
     "text": [
      "+---------------+--------+---------+-----+-------+-------+----------+------+----+---------+-----------+------------------+-----------+--------+---------------+--------------+------------+-----------------+---------------+--------------------------+-----------------+-----------------+-----------------+---------------+--------------------------+--------------------+--------------------+--------------------+--------------------+----------+\n",
      "|DepDelayClipped|Distance|DayOfWeek|Month|DepHour|ArrHour|DayofMonth|Origin|Dest|Temporada|    TipoDia|CategoriaDistancia|DelayedFlag|ArrDelay|ArrDelayClipped|Origin_indexed|Dest_indexed|Temporada_indexed|TipoDia_indexed|CategoriaDistancia_indexed|   Origin_encoded|     Dest_encoded|Temporada_encoded|TipoDia_encoded|CategoriaDistancia_encoded|        features_raw|            features|       rawPrediction|         probability|prediction|\n",
      "+---------------+--------+---------+-----+-------+-------+----------+------+----+---------+-----------+------------------+-----------+--------+---------------+--------------+------------+-----------------+---------------+--------------------------+-----------------+-----------------+-----------------+---------------+--------------------------+--------------------+--------------------+--------------------+--------------------+----------+\n",
      "|           -6.0|   446.0|        1|    5|     10|     11|        27|   OAK| SAN|     Baja|  Laborable|             Corto|          0|   -21.0|          -21.0|          36.0|        23.0|              0.0|            0.0|                       1.0| (364,[36],[1.0])| (366,[23],[1.0])|    (2,[0],[1.0])|  (2,[0],[1.0])|             (3,[1],[1.0])|(744,[0,1,2,3,4,5...|(744,[0,1,2,3,4,5...|[16.8568539256312...|[0.84284269628156...|       0.0|\n",
      "|          104.0|   370.0|        3|    7|     21|     23|        17|   PHX| LAX|     Alta|  Laborable|             Corto|          1|    81.0|           81.0|          11.0|         3.0|              1.0|            0.0|                       1.0| (364,[11],[1.0])|  (366,[3],[1.0])|    (2,[1],[1.0])|  (2,[0],[1.0])|             (3,[1],[1.0])|(744,[0,1,2,3,4,5...|(744,[0,1,2,3,4,5...|[13.8273695302626...|[0.69136847651313...|       0.0|\n",
      "|           -2.0|   717.0|        3|   12|     16|     17|        25|   ALB| MDW|     Baja|  Laborable|             Medio|          0|   -15.0|          -15.0|          74.0|        25.0|              0.0|            0.0|                       0.0| (364,[74],[1.0])| (366,[25],[1.0])|    (2,[0],[1.0])|  (2,[0],[1.0])|             (3,[0],[1.0])|(744,[0,1,2,3,4,5...|(744,[0,1,2,3,4,5...|[16.6627834327982...|[0.83313917163991...|       0.0|\n",
      "|            4.0|   829.0|        2|    6|     14|     16|        12|   MCO| IND|     Alta|  Laborable|             Medio|          0|    -8.0|           -8.0|          14.0|        42.0|              1.0|            0.0|                       0.0| (364,[14],[1.0])| (366,[42],[1.0])|    (2,[1],[1.0])|  (2,[0],[1.0])|             (3,[0],[1.0])|(744,[0,1,2,3,4,5...|(744,[0,1,2,3,4,5...|[16.2027509035462...|[0.81013754517731...|       0.0|\n",
      "|          -13.0|   496.0|        7|    3|     14|     16|        18|   PIT| BOS|     Baja|FinDeSemana|             Corto|          0|   -23.0|          -23.0|          44.0|        13.0|              0.0|            1.0|                       1.0| (364,[44],[1.0])| (366,[13],[1.0])|    (2,[0],[1.0])|  (2,[1],[1.0])|             (3,[1],[1.0])|(744,[0,1,2,3,4,5...|(744,[0,1,2,3,4,5...|[16.5919828269670...|[0.82959914134835...|       0.0|\n",
      "|           -7.0|  1020.0|        6|   12|      8|     10|        28|   LGA| MSP|     Baja|FinDeSemana|             Medio|          0|   -22.0|          -22.0|          12.0|        16.0|              0.0|            1.0|                       0.0| (364,[12],[1.0])| (366,[16],[1.0])|    (2,[0],[1.0])|  (2,[1],[1.0])|             (3,[0],[1.0])|(744,[0,1,2,3,4,5...|(744,[0,1,2,3,4,5...|[16.9817416958297...|[0.84908708479148...|       0.0|\n",
      "|           -6.0|   363.0|        7|    7|      9|     11|        15|   SFO| ONT|     Alta|FinDeSemana|             Corto|          0|   -16.0|          -16.0|           7.0|        64.0|              1.0|            1.0|                       1.0|  (364,[7],[1.0])| (366,[64],[1.0])|    (2,[1],[1.0])|  (2,[1],[1.0])|             (3,[1],[1.0])|(744,[0,1,2,3,4,5...|(744,[0,1,2,3,4,5...|[16.9446811004150...|[0.84723405502075...|       0.0|\n",
      "|          109.0|   197.0|        5|   11|      7|      8|        15|   LAS| ONT|     Baja|  Laborable|             Corto|          1|    96.0|           96.0|           9.0|        64.0|              0.0|            0.0|                       1.0|  (364,[9],[1.0])| (366,[64],[1.0])|    (2,[0],[1.0])|  (2,[0],[1.0])|             (3,[1],[1.0])|(744,[0,1,2,3,4,5...|(744,[0,1,2,3,4,5...|[13.7044806992431...|[0.68522403496215...|       0.0|\n",
      "|           -7.0|  1660.0|        7|    6|     13|     15|        23|   DFW| SEA|     Alta|FinDeSemana|             Largo|          0|   -15.0|          -15.0|           4.0|         7.0|              1.0|            1.0|                       2.0|  (364,[4],[1.0])|  (366,[7],[1.0])|    (2,[1],[1.0])|  (2,[1],[1.0])|             (3,[2],[1.0])|(744,[0,1,2,3,4,5...|(744,[0,1,2,3,4,5...|[16.5661316884144...|[0.82830658442072...|       0.0|\n",
      "|           15.0|  1024.0|        4|    6|     19|     21|        20|   DEN| SEA|     Alta|  Laborable|             Medio|          1|    23.0|           23.0|           2.0|         7.0|              1.0|            0.0|                       0.0|  (364,[2],[1.0])|  (366,[7],[1.0])|    (2,[1],[1.0])|  (2,[0],[1.0])|             (3,[0],[1.0])|(744,[0,1,2,3,4,5...|(744,[0,1,2,3,4,5...|[16.2027509035462...|[0.81013754517731...|       0.0|\n",
      "|           -5.0|   405.0|        4|    1|     15|     16|        11|   DCA| DTW|     Baja|  Laborable|             Corto|          0|   -14.0|          -14.0|          17.0|        12.0|              0.0|            0.0|                       1.0| (364,[17],[1.0])| (366,[12],[1.0])|    (2,[0],[1.0])|  (2,[0],[1.0])|             (3,[1],[1.0])|(744,[0,1,2,3,4,5...|(744,[0,1,2,3,4,5...|[16.5123531947448...|[0.82561765973724...|       0.0|\n",
      "|           -7.0|   213.0|        5|   12|      6|      6|         6|   TOL| ORD|     Baja|  Laborable|             Corto|          0|    -8.0|           -8.0|         211.0|         0.0|              0.0|            0.0|                       1.0|(364,[211],[1.0])|  (366,[0],[1.0])|    (2,[0],[1.0])|  (2,[0],[1.0])|             (3,[1],[1.0])|(744,[0,1,2,3,4,5...|(744,[0,1,2,3,4,5...|[17.0026532712924...|[0.85013266356462...|       0.0|\n",
      "|           -5.0|   356.0|        4|    8|     12|     14|         9|   DCA| PVD|     Alta|  Laborable|             Corto|          0|    -9.0|           -9.0|          17.0|        70.0|              1.0|            0.0|                       1.0| (364,[17],[1.0])| (366,[70],[1.0])|    (2,[1],[1.0])|  (2,[0],[1.0])|             (3,[1],[1.0])|(744,[0,1,2,3,4,5...|(744,[0,1,2,3,4,5...|[16.7976706528835...|[0.83988353264417...|       0.0|\n",
      "|           -3.0|   481.0|        1|    1|     19|     21|        21|   RIC| ATL|     Baja|  Laborable|             Corto|          0|   -16.0|          -16.0|          51.0|         1.0|              0.0|            0.0|                       1.0| (364,[51],[1.0])|  (366,[1],[1.0])|    (2,[0],[1.0])|  (2,[0],[1.0])|             (3,[1],[1.0])|(744,[0,1,2,3,4,5...|(744,[0,1,2,3,4,5...|[16.5932976705623...|[0.82966488352811...|       0.0|\n",
      "|           -2.0|   306.0|        7|    7|     16|     17|        21|   DTW| ESC|     Alta|FinDeSemana|             Corto|          0|   -14.0|          -14.0|          13.0|       296.0|              1.0|            1.0|                       1.0| (364,[13],[1.0])|(366,[296],[1.0])|    (2,[1],[1.0])|  (2,[1],[1.0])|             (3,[1],[1.0])|(744,[0,1,2,3,4,5...|(744,[0,1,2,3,4,5...|[15.4155376416447...|[0.77077688208223...|       0.0|\n",
      "|           -2.0|  2288.0|        7|    1|     12|     15|        27|   IAD| LAX|     Baja|FinDeSemana|             Largo|          0|   -27.0|          -27.0|          23.0|         3.0|              0.0|            1.0|                       2.0| (364,[23],[1.0])|  (366,[3],[1.0])|    (2,[0],[1.0])|  (2,[1],[1.0])|             (3,[2],[1.0])|(744,[0,1,2,3,4,5...|(744,[0,1,2,3,4,5...|[16.6774648090125...|[0.83387324045062...|       0.0|\n",
      "|           -8.0|   587.0|        6|    4|     10|     11|        27|   TPA| RDU|     Baja|FinDeSemana|             Medio|          0|   -10.0|          -10.0|          27.0|        34.0|              0.0|            1.0|                       0.0| (364,[27],[1.0])| (366,[34],[1.0])|    (2,[0],[1.0])|  (2,[1],[1.0])|             (3,[0],[1.0])|(744,[0,1,2,3,4,5...|(744,[0,1,2,3,4,5...|[16.9483290563395...|[0.84741645281697...|       0.0|\n",
      "|           -2.0|   481.0|        4|    4|      7|      9|        19|   RIC| ATL|     Baja|  Laborable|             Corto|          0|   -19.0|          -19.0|          51.0|         1.0|              0.0|            0.0|                       1.0| (364,[51],[1.0])|  (366,[1],[1.0])|    (2,[0],[1.0])|  (2,[0],[1.0])|             (3,[1],[1.0])|(744,[0,1,2,3,4,5...|(744,[0,1,2,3,4,5...|[16.9143464705850...|[0.84571732352925...|       0.0|\n",
      "|            1.0|  1262.0|        2|    3|     20|     21|        19|   STL| PHX|     Baja|  Laborable|             Medio|          0|    -6.0|           -6.0|          30.0|        11.0|              0.0|            0.0|                       0.0| (364,[30],[1.0])| (366,[11],[1.0])|    (2,[0],[1.0])|  (2,[0],[1.0])|             (3,[0],[1.0])|(744,[0,1,2,3,4,5...|(744,[0,1,2,3,4,5...|[16.3058133416696...|[0.81529066708348...|       0.0|\n",
      "|           -8.0|  2244.0|        2|   11|     22|      6|        12|   SMF| CLT|     Baja|  Laborable|             Largo|          0|   -20.0|          -20.0|          40.0|         6.0|              0.0|            0.0|                       2.0| (364,[40],[1.0])|  (366,[6],[1.0])|    (2,[0],[1.0])|  (2,[0],[1.0])|             (3,[2],[1.0])|(744,[0,1,2,3,4,5...|(744,[0,1,2,3,4,5...|[16.5539775220401...|[0.82769887610200...|       0.0|\n",
      "+---------------+--------+---------+-----+-------+-------+----------+------+----+---------+-----------+------------------+-----------+--------+---------------+--------------+------------+-----------------+---------------+--------------------------+-----------------+-----------------+-----------------+---------------+--------------------------+--------------------+--------------------+--------------------+--------------------+----------+\n",
      "only showing top 20 rows\n",
      "\n"
     ]
    }
   ],
   "source": [
    "predictions.show()"
   ]
  },
  {
   "cell_type": "code",
   "execution_count": null,
   "id": "3886022d",
   "metadata": {},
   "outputs": [
    {
     "ename": "AnalysisException",
     "evalue": "[UNRESOLVED_COLUMN.WITH_SUGGESTION] A column or function parameter with name `predictions` cannot be resolved. Did you mean one of the following? [`prediction`, `rawPrediction`, `Origin`, `Dest`, `features`].;\n'Project [probability#186258, 'predictions]\n+- Project [DepDelayClipped#185254, Distance#185255, DayOfWeek#185256L, Month#185257L, DepHour#185258L, ArrHour#185259L, DayofMonth#185260L, Origin#185261, Dest#185262, Temporada#185263, TipoDia#185264, CategoriaDistancia#185265, DelayedFlag#185266L, ArrDelay#185267, ArrDelayClipped#185268, Origin_indexed#185269, Dest_indexed#185270, Temporada_indexed#185271, TipoDia_indexed#185272, CategoriaDistancia_indexed#185273, Origin_encoded#185274, Dest_encoded#185275, Temporada_encoded#185276, TipoDia_encoded#185277, ... 6 more fields]\n   +- Project [DepDelayClipped#185254, Distance#185255, DayOfWeek#185256L, Month#185257L, DepHour#185258L, ArrHour#185259L, DayofMonth#185260L, Origin#185261, Dest#185262, Temporada#185263, TipoDia#185264, CategoriaDistancia#185265, DelayedFlag#185266L, ArrDelay#185267, ArrDelayClipped#185268, Origin_indexed#185269, Dest_indexed#185270, Temporada_indexed#185271, TipoDia_indexed#185272, CategoriaDistancia_indexed#185273, Origin_encoded#185274, Dest_encoded#185275, Temporada_encoded#185276, TipoDia_encoded#185277, ... 5 more fields]\n      +- Project [DepDelayClipped#185254, Distance#185255, DayOfWeek#185256L, Month#185257L, DepHour#185258L, ArrHour#185259L, DayofMonth#185260L, Origin#185261, Dest#185262, Temporada#185263, TipoDia#185264, CategoriaDistancia#185265, DelayedFlag#185266L, ArrDelay#185267, ArrDelayClipped#185268, Origin_indexed#185269, Dest_indexed#185270, Temporada_indexed#185271, TipoDia_indexed#185272, CategoriaDistancia_indexed#185273, Origin_encoded#185274, Dest_encoded#185275, Temporada_encoded#185276, TipoDia_encoded#185277, ... 4 more fields]\n         +- Project [data#185030.DepDelayClipped AS DepDelayClipped#185254, data#185030.Distance AS Distance#185255, data#185030.DayOfWeek AS DayOfWeek#185256L, data#185030.Month AS Month#185257L, data#185030.DepHour AS DepHour#185258L, data#185030.ArrHour AS ArrHour#185259L, data#185030.DayofMonth AS DayofMonth#185260L, data#185030.Origin AS Origin#185261, data#185030.Dest AS Dest#185262, data#185030.Temporada AS Temporada#185263, data#185030.TipoDia AS TipoDia#185264, data#185030.CategoriaDistancia AS CategoriaDistancia#185265, data#185030.DelayedFlag AS DelayedFlag#185266L, data#185030.ArrDelay AS ArrDelay#185267, data#185030.ArrDelayClipped AS ArrDelayClipped#185268, data#185030.Origin_indexed AS Origin_indexed#185269, data#185030.Dest_indexed AS Dest_indexed#185270, data#185030.Temporada_indexed AS Temporada_indexed#185271, data#185030.TipoDia_indexed AS TipoDia_indexed#185272, data#185030.CategoriaDistancia_indexed AS CategoriaDistancia_indexed#185273, data#185030.Origin_encoded AS Origin_encoded#185274, data#185030.Dest_encoded AS Dest_encoded#185275, data#185030.Temporada_encoded AS Temporada_encoded#185276, data#185030.TipoDia_encoded AS TipoDia_encoded#185277, ... 3 more fields]\n            +- Filter (fold#185034 = 2)\n               +- Project [data#185030, index#185031L, cast((index#185031L % cast(3 as bigint)) as int) AS fold#185034]\n                  +- LogicalRDD [data#185030, index#185031L], false\n",
     "output_type": "error",
     "traceback": [
      "\u001b[31m---------------------------------------------------------------------------\u001b[39m",
      "\u001b[31mAnalysisException\u001b[39m                         Traceback (most recent call last)",
      "\u001b[36mCell\u001b[39m\u001b[36m \u001b[39m\u001b[32mIn[21]\u001b[39m\u001b[32m, line 1\u001b[39m\n\u001b[32m----> \u001b[39m\u001b[32m1\u001b[39m \u001b[43mpredictions\u001b[49m\u001b[43m.\u001b[49m\u001b[43mselect\u001b[49m\u001b[43m(\u001b[49m\u001b[33;43m'\u001b[39;49m\u001b[33;43mprobability\u001b[39;49m\u001b[33;43m'\u001b[39;49m\u001b[43m,\u001b[49m\u001b[43m \u001b[49m\u001b[33;43m'\u001b[39;49m\u001b[33;43mpredictions\u001b[39;49m\u001b[33;43m'\u001b[39;49m\u001b[43m)\u001b[49m.show()\n",
      "\u001b[36mFile \u001b[39m\u001b[32m~/anaconda3/envs/env-spark/lib/python3.12/site-packages/pyspark/sql/dataframe.py:3229\u001b[39m, in \u001b[36mDataFrame.select\u001b[39m\u001b[34m(self, *cols)\u001b[39m\n\u001b[32m   3184\u001b[39m \u001b[38;5;28;01mdef\u001b[39;00m\u001b[38;5;250m \u001b[39m\u001b[34mselect\u001b[39m(\u001b[38;5;28mself\u001b[39m, *cols: \u001b[33m\"\u001b[39m\u001b[33mColumnOrName\u001b[39m\u001b[33m\"\u001b[39m) -> \u001b[33m\"\u001b[39m\u001b[33mDataFrame\u001b[39m\u001b[33m\"\u001b[39m:  \u001b[38;5;66;03m# type: ignore[misc]\u001b[39;00m\n\u001b[32m   3185\u001b[39m \u001b[38;5;250m    \u001b[39m\u001b[33;03m\"\"\"Projects a set of expressions and returns a new :class:`DataFrame`.\u001b[39;00m\n\u001b[32m   3186\u001b[39m \n\u001b[32m   3187\u001b[39m \u001b[33;03m    .. versionadded:: 1.3.0\u001b[39;00m\n\u001b[32m   (...)\u001b[39m\u001b[32m   3227\u001b[39m \u001b[33;03m    +-----+---+\u001b[39;00m\n\u001b[32m   3228\u001b[39m \u001b[33;03m    \"\"\"\u001b[39;00m\n\u001b[32m-> \u001b[39m\u001b[32m3229\u001b[39m     jdf = \u001b[38;5;28;43mself\u001b[39;49m\u001b[43m.\u001b[49m\u001b[43m_jdf\u001b[49m\u001b[43m.\u001b[49m\u001b[43mselect\u001b[49m\u001b[43m(\u001b[49m\u001b[38;5;28;43mself\u001b[39;49m\u001b[43m.\u001b[49m\u001b[43m_jcols\u001b[49m\u001b[43m(\u001b[49m\u001b[43m*\u001b[49m\u001b[43mcols\u001b[49m\u001b[43m)\u001b[49m\u001b[43m)\u001b[49m\n\u001b[32m   3230\u001b[39m     \u001b[38;5;28;01mreturn\u001b[39;00m DataFrame(jdf, \u001b[38;5;28mself\u001b[39m.sparkSession)\n",
      "\u001b[36mFile \u001b[39m\u001b[32m~/anaconda3/envs/env-spark/lib/python3.12/site-packages/py4j/java_gateway.py:1322\u001b[39m, in \u001b[36mJavaMember.__call__\u001b[39m\u001b[34m(self, *args)\u001b[39m\n\u001b[32m   1316\u001b[39m command = proto.CALL_COMMAND_NAME +\\\n\u001b[32m   1317\u001b[39m     \u001b[38;5;28mself\u001b[39m.command_header +\\\n\u001b[32m   1318\u001b[39m     args_command +\\\n\u001b[32m   1319\u001b[39m     proto.END_COMMAND_PART\n\u001b[32m   1321\u001b[39m answer = \u001b[38;5;28mself\u001b[39m.gateway_client.send_command(command)\n\u001b[32m-> \u001b[39m\u001b[32m1322\u001b[39m return_value = \u001b[43mget_return_value\u001b[49m\u001b[43m(\u001b[49m\n\u001b[32m   1323\u001b[39m \u001b[43m    \u001b[49m\u001b[43manswer\u001b[49m\u001b[43m,\u001b[49m\u001b[43m \u001b[49m\u001b[38;5;28;43mself\u001b[39;49m\u001b[43m.\u001b[49m\u001b[43mgateway_client\u001b[49m\u001b[43m,\u001b[49m\u001b[43m \u001b[49m\u001b[38;5;28;43mself\u001b[39;49m\u001b[43m.\u001b[49m\u001b[43mtarget_id\u001b[49m\u001b[43m,\u001b[49m\u001b[43m \u001b[49m\u001b[38;5;28;43mself\u001b[39;49m\u001b[43m.\u001b[49m\u001b[43mname\u001b[49m\u001b[43m)\u001b[49m\n\u001b[32m   1325\u001b[39m \u001b[38;5;28;01mfor\u001b[39;00m temp_arg \u001b[38;5;129;01min\u001b[39;00m temp_args:\n\u001b[32m   1326\u001b[39m     \u001b[38;5;28;01mif\u001b[39;00m \u001b[38;5;28mhasattr\u001b[39m(temp_arg, \u001b[33m\"\u001b[39m\u001b[33m_detach\u001b[39m\u001b[33m\"\u001b[39m):\n",
      "\u001b[36mFile \u001b[39m\u001b[32m~/anaconda3/envs/env-spark/lib/python3.12/site-packages/pyspark/errors/exceptions/captured.py:185\u001b[39m, in \u001b[36mcapture_sql_exception.<locals>.deco\u001b[39m\u001b[34m(*a, **kw)\u001b[39m\n\u001b[32m    181\u001b[39m converted = convert_exception(e.java_exception)\n\u001b[32m    182\u001b[39m \u001b[38;5;28;01mif\u001b[39;00m \u001b[38;5;129;01mnot\u001b[39;00m \u001b[38;5;28misinstance\u001b[39m(converted, UnknownException):\n\u001b[32m    183\u001b[39m     \u001b[38;5;66;03m# Hide where the exception came from that shows a non-Pythonic\u001b[39;00m\n\u001b[32m    184\u001b[39m     \u001b[38;5;66;03m# JVM exception message.\u001b[39;00m\n\u001b[32m--> \u001b[39m\u001b[32m185\u001b[39m     \u001b[38;5;28;01mraise\u001b[39;00m converted \u001b[38;5;28;01mfrom\u001b[39;00m\u001b[38;5;250m \u001b[39m\u001b[38;5;28;01mNone\u001b[39;00m\n\u001b[32m    186\u001b[39m \u001b[38;5;28;01melse\u001b[39;00m:\n\u001b[32m    187\u001b[39m     \u001b[38;5;28;01mraise\u001b[39;00m\n",
      "\u001b[31mAnalysisException\u001b[39m: [UNRESOLVED_COLUMN.WITH_SUGGESTION] A column or function parameter with name `predictions` cannot be resolved. Did you mean one of the following? [`prediction`, `rawPrediction`, `Origin`, `Dest`, `features`].;\n'Project [probability#186258, 'predictions]\n+- Project [DepDelayClipped#185254, Distance#185255, DayOfWeek#185256L, Month#185257L, DepHour#185258L, ArrHour#185259L, DayofMonth#185260L, Origin#185261, Dest#185262, Temporada#185263, TipoDia#185264, CategoriaDistancia#185265, DelayedFlag#185266L, ArrDelay#185267, ArrDelayClipped#185268, Origin_indexed#185269, Dest_indexed#185270, Temporada_indexed#185271, TipoDia_indexed#185272, CategoriaDistancia_indexed#185273, Origin_encoded#185274, Dest_encoded#185275, Temporada_encoded#185276, TipoDia_encoded#185277, ... 6 more fields]\n   +- Project [DepDelayClipped#185254, Distance#185255, DayOfWeek#185256L, Month#185257L, DepHour#185258L, ArrHour#185259L, DayofMonth#185260L, Origin#185261, Dest#185262, Temporada#185263, TipoDia#185264, CategoriaDistancia#185265, DelayedFlag#185266L, ArrDelay#185267, ArrDelayClipped#185268, Origin_indexed#185269, Dest_indexed#185270, Temporada_indexed#185271, TipoDia_indexed#185272, CategoriaDistancia_indexed#185273, Origin_encoded#185274, Dest_encoded#185275, Temporada_encoded#185276, TipoDia_encoded#185277, ... 5 more fields]\n      +- Project [DepDelayClipped#185254, Distance#185255, DayOfWeek#185256L, Month#185257L, DepHour#185258L, ArrHour#185259L, DayofMonth#185260L, Origin#185261, Dest#185262, Temporada#185263, TipoDia#185264, CategoriaDistancia#185265, DelayedFlag#185266L, ArrDelay#185267, ArrDelayClipped#185268, Origin_indexed#185269, Dest_indexed#185270, Temporada_indexed#185271, TipoDia_indexed#185272, CategoriaDistancia_indexed#185273, Origin_encoded#185274, Dest_encoded#185275, Temporada_encoded#185276, TipoDia_encoded#185277, ... 4 more fields]\n         +- Project [data#185030.DepDelayClipped AS DepDelayClipped#185254, data#185030.Distance AS Distance#185255, data#185030.DayOfWeek AS DayOfWeek#185256L, data#185030.Month AS Month#185257L, data#185030.DepHour AS DepHour#185258L, data#185030.ArrHour AS ArrHour#185259L, data#185030.DayofMonth AS DayofMonth#185260L, data#185030.Origin AS Origin#185261, data#185030.Dest AS Dest#185262, data#185030.Temporada AS Temporada#185263, data#185030.TipoDia AS TipoDia#185264, data#185030.CategoriaDistancia AS CategoriaDistancia#185265, data#185030.DelayedFlag AS DelayedFlag#185266L, data#185030.ArrDelay AS ArrDelay#185267, data#185030.ArrDelayClipped AS ArrDelayClipped#185268, data#185030.Origin_indexed AS Origin_indexed#185269, data#185030.Dest_indexed AS Dest_indexed#185270, data#185030.Temporada_indexed AS Temporada_indexed#185271, data#185030.TipoDia_indexed AS TipoDia_indexed#185272, data#185030.CategoriaDistancia_indexed AS CategoriaDistancia_indexed#185273, data#185030.Origin_encoded AS Origin_encoded#185274, data#185030.Dest_encoded AS Dest_encoded#185275, data#185030.Temporada_encoded AS Temporada_encoded#185276, data#185030.TipoDia_encoded AS TipoDia_encoded#185277, ... 3 more fields]\n            +- Filter (fold#185034 = 2)\n               +- Project [data#185030, index#185031L, cast((index#185031L % cast(3 as bigint)) as int) AS fold#185034]\n                  +- LogicalRDD [data#185030, index#185031L], false\n"
     ]
    }
   ],
   "source": [
    "## j threshold "
   ]
  },
  {
   "cell_type": "markdown",
   "id": "adbfc731",
   "metadata": {},
   "source": [
    "Observese que la segunda configuración tiene un mejor desempeño en los tres valores de *k*. Sin embargo, *k = 3* tiene un mejor desempeño en el AUC-ROC promedio, con un valor de 0.8738, y el costo computacional por la ejecución de éste valor de *k* es menor que el de los otros dos valores propuestos, lo cual lo vuelve un candidato ideal en el contexto del *Big Data*."
   ]
  },
  {
   "cell_type": "markdown",
   "id": "3cf42387",
   "metadata": {},
   "source": [
    "# **2. Construcción de los \"k-folds\" definidos en paso 1.**\n",
    "\n",
    "**Objetivo:**\n",
    "\n",
    "Construcción de los “k-folds” definidos en el paso 1. Para poblar cada uno de los “k-fold”, tomar en cuenta el proceso de muestreo que se propuso desde la Actividad 3 del Módulo 4. Tomar en cuenta que eventualmente el volumen de datos es alto (Big Data), por lo que, entre más pliegues generados, la experimentación será más costosa. Crear una sección en el Jupyter Notebook que generas, en el cual se implemente la construcción de cada uno de los folds, documentando el código correspondiente."
   ]
  },
  {
   "cell_type": "markdown",
   "id": "eef4c7f6",
   "metadata": {},
   "source": [
    "Cada fold se construye de la siguiente forma:\n",
    "- El conjunto `df_transformed` se ordena aleatoriamente utilizando `rand(seed)`.\n",
    "- Se le asigna un índice secuencial con `zipWithIndex`.\n",
    "- Se aplica la fórmula `(index % k)` para distribuir de manera uniforme las observaciones entre los pliegues.\n",
    "- Se almacenan los pares (train, test) en la lista `folds`.\n",
    "\n",
    "Este procedimiento es escalable, distribuido y garantiza que cada observación se use como conjunto de prueba exactamente una vez."
   ]
  },
  {
   "cell_type": "code",
   "execution_count": 13,
   "id": "4c418879",
   "metadata": {},
   "outputs": [
    {
     "name": "stderr",
     "output_type": "stream",
     "text": [
      "                                                                                \r"
     ]
    }
   ],
   "source": [
    "# Número de folds determinado previamente\n",
    "k = 3\n",
    "seed = 1106\n",
    "\n",
    "# Mezclamos aleatoriamente el dataset (estratificación opcional si hay desbalance)\n",
    "df_random = data_transformed.orderBy(rand(seed))\n",
    "\n",
    "# Agregamos un índice artificial para dividirlo en k partes\n",
    "df_indexed = df_random.rdd.zipWithIndex().toDF([\"data\", \"index\"])\n",
    "df_indexed = df_indexed.withColumn(\"fold\", (df_indexed[\"index\"] % k).cast(\"int\"))\n",
    "\n",
    "# Extraemos los folds en una lista para entrenamiento/validación cruzada\n",
    "folds = []\n",
    "for i in range(k):\n",
    "    test_fold = df_indexed.filter(df_indexed[\"fold\"] == i).select(\"data.*\")\n",
    "    train_fold = df_indexed.filter(df_indexed[\"fold\"] != i).select(\"data.*\")\n",
    "    folds.append((train_fold, test_fold))"
   ]
  },
  {
   "cell_type": "markdown",
   "id": "fb7a0781",
   "metadata": {},
   "source": [
    "# **3. Fase de entrenamiento.**\n",
    "\n",
    "**Objetivo:**\n",
    "\n",
    "Para esta etapa y generando los conjuntos de entrenamiento y prueba que se pueden construir a partir de los “k-folds” generados en la etapa previa, realizar el proceso de entrenamiento a partir del algoritmo que mejor reportó resultados en la Actividad 4 del Módulo 5. Realizar la etapa de entrenamiento y registrar los resultados necesarios y suficientes para obtener el modelo que mejor generaliza los patrones que se aprenden de cada experimento realizado. La medición de calidad de resultado será a partir de las métricas que se establecieron como las mejores identificadas en la actividad 4 del Módulo 5. La experimentación se llevará a cabo a partir de la biblioteca PySpark, implementando el código correspondiente en una sección de tu Jupyter Notebook que construyes, el cual titularás “Experimentacion”"
   ]
  },
  {
   "cell_type": "code",
   "execution_count": 14,
   "id": "73e511b5",
   "metadata": {},
   "outputs": [
    {
     "name": "stderr",
     "output_type": "stream",
     "text": [
      "                                                                                \r"
     ]
    },
    {
     "name": "stdout",
     "output_type": "stream",
     "text": [
      "Fold 1: AUC-ROC = 0.8737\n"
     ]
    },
    {
     "name": "stderr",
     "output_type": "stream",
     "text": [
      "                                                                                \r"
     ]
    },
    {
     "name": "stdout",
     "output_type": "stream",
     "text": [
      "Fold 2: AUC-ROC = 0.8878\n"
     ]
    },
    {
     "name": "stderr",
     "output_type": "stream",
     "text": [
      "[Stage 1364:>                                                     (0 + 11) / 11]\r"
     ]
    },
    {
     "name": "stdout",
     "output_type": "stream",
     "text": [
      "Fold 3: AUC-ROC = 0.8774\n"
     ]
    },
    {
     "name": "stderr",
     "output_type": "stream",
     "text": [
      "                                                                                \r"
     ]
    }
   ],
   "source": [
    "rf = RandomForestClassifier(labelCol=\"DelayedFlag\", featuresCol=\"features\", numTrees=20)\n",
    "evaluator = BinaryClassificationEvaluator(labelCol=\"DelayedFlag\", metricName=\"areaUnderROC\")\n",
    "\n",
    "auc_scores = []\n",
    "\n",
    "for i, (train, test) in enumerate(folds):\n",
    "    model = rf.fit(train)\n",
    "    predictions = model.transform(test)\n",
    "    auc = evaluator.evaluate(predictions)\n",
    "    auc_scores.append(auc)\n",
    "    print(f\"Fold {i+1}: AUC-ROC = {auc:.4f}\")"
   ]
  },
  {
   "cell_type": "markdown",
   "id": "2f78b8f9",
   "metadata": {},
   "source": [
    "# **4. Visualización de resultados.**\n",
    "\n",
    "**Objetivo:** \n",
    "\n",
    "A partir de la elección de diferentes bibliotecas para la visualización de resultados, se deberán de mostrar gráficas que te permitan visualizar los resultados de la etapa de entrenamiento del paso previo (resultados de cada Fold a partir de las métricas usadas para medir dichos resultados, evolución de las etapas de entrenamiento para detectar sobre-ajuste, estadísticas generales para medir la variabilidad de los resultados obtenidos, entre otras que juzgues pertinentes). Crear una sección en tu Jupyter Notebook titulada “Resultados”, donde se muestre y argumente los resultados que has obtenido en esta etapa de experimentación.\n"
   ]
  },
  {
   "cell_type": "code",
   "execution_count": 15,
   "id": "74e9fcaa",
   "metadata": {},
   "outputs": [
    {
     "data": {
      "image/png": "[encoded data removed]",
      "text/plain": [
       "<Figure size 800x500 with 1 Axes>"
      ]
     },
     "metadata": {},
     "output_type": "display_data"
    }
   ],
   "source": [
    "\n",
    "\n",
    "folds = list(range(1, len(auc_scores) + 1))\n",
    "\n",
    "plt.figure(figsize=(8, 5))\n",
    "plt.plot(folds, auc_scores, marker='o', linestyle='-', color='blue', label='AUC-ROC')\n",
    "plt.title('AUC-ROC por Fold')\n",
    "plt.xlabel('Fold')\n",
    "plt.ylabel('AUC-ROC')\n",
    "plt.ylim(0.0, 1.0)\n",
    "plt.grid(True)\n",
    "plt.legend()\n",
    "plt.tight_layout()\n",
    "plt.show()"
   ]
  },
  {
   "cell_type": "code",
   "execution_count": 16,
   "id": "d94c061c",
   "metadata": {},
   "outputs": [
    {
     "data": {
      "image/png": "[encoded data removed]",
      "text/plain": [
       "<Figure size 600x500 with 1 Axes>"
      ]
     },
     "metadata": {},
     "output_type": "display_data"
    }
   ],
   "source": [
    "df_auc = pd.DataFrame({'Fold': folds, 'AUC-ROC': auc_scores})\n",
    "\n",
    "plt.figure(figsize=(6, 5))\n",
    "sns.boxplot(y='AUC-ROC', data=df_auc, color='skyblue')\n",
    "plt.title('Distribución de AUC-ROC entre Folds')\n",
    "plt.grid(True)\n",
    "plt.tight_layout()\n",
    "plt.show()\n"
   ]
  },
  {
   "cell_type": "code",
   "execution_count": 17,
   "id": "5906b49b",
   "metadata": {},
   "outputs": [
    {
     "name": "stdout",
     "output_type": "stream",
     "text": [
      "       Fold   AUC-ROC\n",
      "count   3.0  3.000000\n",
      "mean    2.0  0.879670\n",
      "std     1.0  0.007310\n",
      "min     1.0  0.873741\n",
      "25%     1.5  0.875587\n",
      "50%     2.0  0.877432\n",
      "75%     2.5  0.882635\n",
      "max     3.0  0.887837\n"
     ]
    }
   ],
   "source": [
    "print(df_auc.describe())"
   ]
  },
  {
   "cell_type": "code",
   "execution_count": 18,
   "id": "1b7afdec",
   "metadata": {},
   "outputs": [],
   "source": [
    "#!pip install scikit-learn"
   ]
  },
  {
   "cell_type": "code",
   "execution_count": 27,
   "id": "8f219dcc",
   "metadata": {},
   "outputs": [
    {
     "name": "stderr",
     "output_type": "stream",
     "text": [
      "                                                                                \r"
     ]
    },
    {
     "data": {
      "image/png": "[encoded data removed]",
      "text/plain": [
       "<Figure size 600x600 with 1 Axes>"
      ]
     },
     "metadata": {},
     "output_type": "display_data"
    }
   ],
   "source": [
    "# Supón que tienes un DataFrame en PySpark con predicciones\n",
    "\n",
    "from sklearn.metrics import roc_curve, auc\n",
    "\n",
    "df_spark = predictions.select(\"prediction\", \"probability\", \"DelayedFlag\")\n",
    "\n",
    "# Convertir a Pandas\n",
    "df_pandas = df_spark.toPandas()\n",
    "\n",
    "# Supón que tienes las predicciones convertidas a pandas\n",
    "y_true = df_pandas[\"DelayedFlag\"]\n",
    "y_scores = df_pandas[\"probability\"].apply(lambda x: x[1])  # probabilidad clase 1\n",
    "\n",
    "fpr, tpr, thresholds = roc_curve(y_true, y_scores)\n",
    "roc_auc = auc(fpr, tpr)\n",
    "\n",
    "plt.figure(figsize=(6, 6))\n",
    "plt.plot(fpr, tpr, color='blue', label=f'ROC curve (AUC = {roc_auc:.2f})')\n",
    "plt.plot([0, 1], [0, 1], color='gray', linestyle='--')\n",
    "plt.xlabel('Tasa de Falsos Positivos')\n",
    "plt.ylabel('Tasa de Verdaderos Positivos')\n",
    "plt.title('Curva ROC')\n",
    "plt.legend(loc='lower right')\n",
    "plt.grid(True)\n",
    "plt.tight_layout()\n",
    "plt.show()\n"
   ]
  },
  {
   "cell_type": "code",
   "execution_count": 25,
   "id": "67b04168",
   "metadata": {},
   "outputs": [],
   "source": [
    "import pandas as pd\n",
    "import matplotlib.pyplot as plt\n",
    "\n",
    "final_feature_names = numeric_features.copy()\n",
    "\n",
    "# Suponemos que los encoders están en las posiciones correctas del pipeline\n",
    "for encoder in preprocessing_model.stages[len(categorical_features):len(categorical_features)*2]:\n",
    "    input_col = encoder.getInputCol().replace(\"_indexed\", \"\")\n",
    "    num_categories = encoder.categorySizes[0]\n",
    "    \n",
    "    # Restar 1 por dropLast=True\n",
    "    final_feature_names.extend([f\"{input_col}_{i}\" for i in range(num_categories - 1)])\n"
   ]
  },
  {
   "cell_type": "code",
   "execution_count": 26,
   "id": "11b8fd95",
   "metadata": {},
   "outputs": [
    {
     "data": {
      "image/png": "[encoded data removed]",
      "text/plain": [
       "<Figure size 1200x600 with 1 Axes>"
      ]
     },
     "metadata": {},
     "output_type": "display_data"
    }
   ],
   "source": [
    "# Obtener las importancias del modelo\n",
    "importances = best_model.featureImportances.toArray()\n",
    "\n",
    "# Verificación de tamaños\n",
    "assert len(importances) == len(final_feature_names), \\\n",
    "    f\"Las dimensiones no coinciden: {len(importances)} importancias vs {len(final_feature_names)} nombres\"\n",
    "\n",
    "# Crear DataFrame\n",
    "importance_df = pd.DataFrame({\n",
    "    'Feature': final_feature_names,\n",
    "    'Importance': importances\n",
    "}).sort_values(by='Importance', ascending=False)\n",
    "\n",
    "# Visualización\n",
    "plt.figure(figsize=(12, 6))\n",
    "plt.barh(importance_df['Feature'][:15], importance_df['Importance'][:15], color='royalblue')\n",
    "plt.xlabel('Importancia')\n",
    "plt.title('Top 15 Variables más importantes (Random Forest)')\n",
    "plt.gca().invert_yaxis()\n",
    "plt.tight_layout()\n",
    "plt.show()\n"
   ]
  },
  {
   "cell_type": "markdown",
   "id": "f51fae03",
   "metadata": {},
   "source": [
    "# **5. Discusión de resultados y Conclusiones.**\n",
    "\n",
    "**Objetivo:**\n",
    "\n",
    "*En esta última sección, deberás de realizar un análisis de los resultados obtenidos de acuerdo a la tarea de aprendizaje que te has planteado en tu proyecto, de tal forma que se analice que tan significativos son los resultados obtenidos, la variabilidad que se obtuvo en los experimentos, para poder determinar qué tan significativos son estos resultados de acuerdo a la tarea de aprendizaje plantada. Lo anterior deberás de plasmarlo en una sección de tu Jupyter Notebook con título “Discusión y conclusiones”.*\n",
    "\n",
    "Durante ésta actividad, se realizó la técnica de validación cruzada con k = 3, valor seleccionado previamente con el objetivo de evaluar la variabilidad en el desempeño del modelo. La elección de k se basó en el tamaño de la muestra y en la necesidad de que cada fold fuera representativo de la población original, asegurando una distribución similar de las variables de caracterización en cada partición. Cabe destacar que esta técnica no se utilizó para el ajuste de hiperparámetros, sino para validar la estabilidad y la capacidad de generalización del modelo frente a diferentes subconjuntos de datos.\n",
    "\n",
    "Ahora bien, de acuerdo a los datos obtenidos en el `AUC-ROC`, los valores obtenidos en los 3 Folds están por encima de 0.87, lo cual indica que el modelo tiene una muy buena capacidad de discriminación entre clases (en este caso, entre vuelos retrasados y no retrasados), además de una buena **estabilidad y generalización del modelo**, pues en todos los resultados hemos obtenido resultados muy similares, con apenas 0.0238 puntos porcentuales de variación. \n",
    "\n",
    "Finalmente, se identificaron las variables con mayor aporte al desempeño del modelo, destacándose DepDelayClipped, ArrHour, DepHour y Temporada_1. Esto sugiere que los retrasos previos en la salida (DepDelayClipped) y el momento del día en que se realiza la llegada y salida (ArrHour y DepHour) son factores determinantes para predecir el retraso de vuelos. Además, la variable Temporada_1 indica que la estacionalidad o periodo del año también influye significativamente en la probabilidad de retrasos. Estos hallazgos son consistentes con la intuición operativa y refuerzan la importancia de considerar tanto variables temporales como históricas en la modelación de retrasos aéreos.\n"
   ]
  },
  {
   "cell_type": "markdown",
   "id": "a66e614a",
   "metadata": {},
   "source": [
    "# **Referencias:**\n",
    "\n",
    "* **James, G., Witten, D., Hastie, T., & Tibshirani, R. (2023)**. An introduction to statistical learning: With applications in Python (1st ed.). Springer. https://www.statlearning.com\n",
    "\n",
    "* **Pramoditha, R. (2020, diciembre 19)**. K-fold cross-validation explained in plain English. Towards Data Science. https://towardsdatascience.com/k-fold-cross-validation-explained-in-plain-english-659e33c0bc0"
   ]
  }
 ],
 "metadata": {
  "kernelspec": {
   "display_name": "big-data-analytics-py3.10",
   "language": "python",
   "name": "python3"
  },
  "language_info": {
   "codemirror_mode": {
    "name": "ipython",
    "version": 3
   },
   "file_extension": ".py",
   "mimetype": "text/x-python",
   "name": "python",
   "nbconvert_exporter": "python",
   "pygments_lexer": "ipython3",
   "version": "3.10.18"
  }
 },
 "nbformat": 4,
 "nbformat_minor": 5
}
