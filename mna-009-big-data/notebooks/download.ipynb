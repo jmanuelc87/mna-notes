{
 "cells": [
  {
   "cell_type": "code",
   "execution_count": 1,
   "id": "e674bd80",
   "metadata": {},
   "outputs": [],
   "source": [
    "# !wget -O ./data/flights.zip https://www.kaggle.com/api/v1/datasets/download/robikscube/flight-delay-dataset-20182022"
   ]
  },
  {
   "cell_type": "code",
   "execution_count": 2,
   "id": "c58843e9",
   "metadata": {},
   "outputs": [],
   "source": [
    "# !unzip -d ./data/flights ./data/flights.zip"
   ]
  },
  {
   "cell_type": "code",
   "execution_count": 3,
   "id": "7776b7f2",
   "metadata": {},
   "outputs": [],
   "source": [
    "import glob\n",
    "import pandas as pd\n",
    "\n",
    "from hdfs import InsecureClient"
   ]
  },
  {
   "cell_type": "code",
   "execution_count": 4,
   "id": "dedf4fff",
   "metadata": {},
   "outputs": [],
   "source": [
    "client = InsecureClient(\"http://172.16.200.3\", user=\"jmanuelc87\")"
   ]
  },
  {
   "cell_type": "code",
   "execution_count": 5,
   "id": "861a9a94",
   "metadata": {},
   "outputs": [],
   "source": [
    "files = glob.glob(\"./data/flights/*.csv\")"
   ]
  },
  {
   "cell_type": "code",
   "execution_count": 6,
   "id": "909a2e61",
   "metadata": {},
   "outputs": [
    {
     "name": "stdout",
     "output_type": "stream",
     "text": [
      "Done uploading ./data/flights/Combined_Flights_2019.csv\n",
      "Done uploading ./data/flights/Combined_Flights_2018.csv\n",
      "Done uploading ./data/flights/Combined_Flights_2022.csv\n",
      "Done uploading ./data/flights/Combined_Flights_2020.csv\n",
      "Done uploading ./data/flights/Combined_Flights_2021.csv\n",
      "Done uploading ./data/flights/Airlines.csv\n"
     ]
    }
   ],
   "source": [
    "for file in files:\n",
    "    df = pd.read_csv(file)\n",
    "    with client.write(file, encoding = 'utf-8') as writer:\n",
    "        df.to_csv(writer)\n",
    "        print(f\"Done uploading {file}\")"
   ]
  }
 ],
 "metadata": {
  "kernelspec": {
   "display_name": "big-data-analytics-py3.10",
   "language": "python",
   "name": "python3"
  },
  "language_info": {
   "codemirror_mode": {
    "name": "ipython",
    "version": 3
   },
   "file_extension": ".py",
   "mimetype": "text/x-python",
   "name": "python",
   "nbconvert_exporter": "python",
   "pygments_lexer": "ipython3",
   "version": "3.10.18"
  }
 },
 "nbformat": 4,
 "nbformat_minor": 5
}
