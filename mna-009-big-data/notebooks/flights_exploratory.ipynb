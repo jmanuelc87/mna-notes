{
 "cells": [
  {
   "cell_type": "markdown",
   "id": "8eb67ed4",
   "metadata": {},
   "source": [
    "# Lectura y Escritura de Archivos con PySpark"
   ]
  },
  {
   "cell_type": "code",
   "execution_count": 2,
   "id": "7ab3f497",
   "metadata": {},
   "outputs": [],
   "source": [
    "from pyspark.sql import SparkSession\n",
    "from pyspark.sql import functions as F\n",
    "from pyspark.sql.types import StructType, StructField, DateType, IntegerType, StringType, DoubleType, BooleanType\n",
    "\n",
    "from hdfs import InsecureClient"
   ]
  },
  {
   "cell_type": "code",
   "execution_count": 3,
   "id": "024ba700",
   "metadata": {},
   "outputs": [],
   "source": [
    "client = InsecureClient(\"http://172.16.200.3\", user=\"jmanuelc87\")"
   ]
  },
  {
   "cell_type": "code",
   "execution_count": 4,
   "id": "c8edced9",
   "metadata": {},
   "outputs": [],
   "source": [
    "# filepath = \"hdfs://172.16.200.3/user/jmanuelc87/data/flights\"\n",
    "filepath = \"./data/flights\"\n",
    "filenames = [ f\"Combined_Flights_{y}.csv\" for y in range(2018, 2019) ]"
   ]
  },
  {
   "cell_type": "code",
   "execution_count": 5,
   "id": "904fd515",
   "metadata": {},
   "outputs": [
    {
     "name": "stderr",
     "output_type": "stream",
     "text": [
      "25/04/29 19:14:15 WARN Utils: Your hostname, onyx-pro-m4.local resolves to a loopback address: 127.0.0.1; using 192.168.0.66 instead (on interface en0)\n",
      "25/04/29 19:14:15 WARN Utils: Set SPARK_LOCAL_IP if you need to bind to another address\n",
      "Setting default log level to \"WARN\".\n",
      "To adjust logging level use sc.setLogLevel(newLevel). For SparkR, use setLogLevel(newLevel).\n",
      "25/04/29 19:14:15 WARN NativeCodeLoader: Unable to load native-hadoop library for your platform... using builtin-java classes where applicable\n",
      "25/04/29 19:14:15 WARN Utils: Service 'SparkUI' could not bind on port 4040. Attempting port 4041.\n"
     ]
    }
   ],
   "source": [
    "spark = SparkSession.builder \\\n",
    "                .appName(\"flights\") \\\n",
    "                .config(\"spark.executor.memory\", \"5g\") \\\n",
    "                .config(\"spark.driver.memory\", \"2g\") \\\n",
    "                .getOrCreate()"
   ]
  },
  {
   "cell_type": "code",
   "execution_count": 6,
   "id": "de7620ea",
   "metadata": {},
   "outputs": [],
   "source": [
    "schema = StructType(\n",
    "    [\n",
    "        StructField(\"FlightDate\", DateType(), True),\n",
    "        StructField(\"Airline\", StringType(), True),\n",
    "        StructField(\"Origin\", StringType(), True),\n",
    "        StructField(\"Dest\", StringType(), True),\n",
    "        StructField(\"Cancelled\", BooleanType(), True),\n",
    "        StructField(\"Diverted\", BooleanType(), True),\n",
    "        StructField(\"CRSDepTime\", IntegerType(), True),\n",
    "        StructField(\"DepTime\", DoubleType(), True),\n",
    "        StructField(\"DepDelayMinutes\", DoubleType(), True),\n",
    "        StructField(\"DepDelay\", DoubleType(), True),\n",
    "        StructField(\"ArrTime\", DoubleType(), True),\n",
    "        StructField(\"ArrDelayMinutes\", DoubleType(), True),\n",
    "        StructField(\"AirTime\", DoubleType(), True),\n",
    "        StructField(\"CRSElapsedTime\", DoubleType(), True),\n",
    "        StructField(\"ActualElapsedTime\", DoubleType(), True),\n",
    "        StructField(\"Distance\", DoubleType(), True),\n",
    "        StructField(\"Year\", IntegerType(), True),\n",
    "        StructField(\"Quarter\", IntegerType(), True),\n",
    "        StructField(\"Month\", IntegerType(), True),\n",
    "        StructField(\"DayofMonth\", IntegerType(), True),\n",
    "        StructField(\"DayOfWeek\", IntegerType(), True),\n",
    "        StructField(\"Marketing_Airline_Network\", StringType(), True),\n",
    "        StructField(\"Operated_or_Branded_Code_Share_Partners\", StringType(), True),\n",
    "        StructField(\"DOT_ID_Marketing_Airline\", IntegerType(), True),\n",
    "        StructField(\"IATA_Code_Marketing_Airline\", StringType(), True),\n",
    "        StructField(\"Flight_Number_Marketing_Airline\", IntegerType(), True),\n",
    "        StructField(\"Operating_Airline\", StringType(), True),\n",
    "        StructField(\"DOT_ID_Operating_Airline\", IntegerType(), True),\n",
    "        StructField(\"IATA_Code_Operating_Airline\", StringType(), True),\n",
    "        StructField(\"Tail_Number\", StringType(), True),\n",
    "        StructField(\"Flight_Number_Operating_Airline\", IntegerType(), True),\n",
    "        StructField(\"OriginAirportID\", IntegerType(), True),\n",
    "        StructField(\"OriginAirportSeqID\", IntegerType(), True),\n",
    "        StructField(\"OriginCityMarketID\", IntegerType(), True),\n",
    "        StructField(\"OriginCityName\", StringType(), True),\n",
    "        StructField(\"OriginState\", StringType(), True),\n",
    "        StructField(\"OriginStateFips\", IntegerType(), True),\n",
    "        StructField(\"OriginStateName\", StringType(), True),\n",
    "        StructField(\"OriginWac\", IntegerType(), True),\n",
    "        StructField(\"DestAirportID\", IntegerType(), True),\n",
    "        StructField(\"DestAirportSeqID\", IntegerType(), True),\n",
    "        StructField(\"DestCityMarketID\", IntegerType(), True),\n",
    "        StructField(\"DestCityName\", StringType(), True),\n",
    "        StructField(\"DestState\", StringType(), True),\n",
    "        StructField(\"DestStateFips\", IntegerType(), True),\n",
    "        StructField(\"DestStateName\", StringType(), True),\n",
    "        StructField(\"DestWac\", IntegerType(), True),\n",
    "        StructField(\"DepDel15\", DoubleType(), True),\n",
    "        StructField(\"DepartureDelayGroups\", DoubleType(), True),\n",
    "        StructField(\"DepTimeBlk\", StringType(), True),\n",
    "        StructField(\"TaxiOut\", DoubleType(), True),\n",
    "        StructField(\"WheelsOff\", DoubleType(), True),\n",
    "        StructField(\"WheelsOn\", DoubleType(), True),\n",
    "        StructField(\"TaxiIn\", DoubleType(), True),\n",
    "        StructField(\"CRSArrTime\", IntegerType(), True),\n",
    "        StructField(\"ArrDelay\", DoubleType(), True),\n",
    "        StructField(\"ArrDel15\", DoubleType(), True),\n",
    "        StructField(\"ArrivalDelayGroups\", DoubleType(), True),\n",
    "        StructField(\"ArrTimeBlk\", StringType(), True),\n",
    "        StructField(\"DistanceGroup\", IntegerType(), True),\n",
    "        StructField(\"DivAirportLandings\", DoubleType(), True),\n",
    "    ]\n",
    ")"
   ]
  },
  {
   "cell_type": "code",
   "execution_count": null,
   "id": "598ce772",
   "metadata": {},
   "outputs": [],
   "source": [
    "df = spark.read.schema(schema).csv(f\"{filepath}/{filenames[0]}\", header=True)"
   ]
  },
  {
   "cell_type": "markdown",
   "id": "89c8389f",
   "metadata": {},
   "source": [
    "Show some descriptive statistics"
   ]
  },
  {
   "cell_type": "code",
   "execution_count": 7,
   "id": "b4c22d59",
   "metadata": {},
   "outputs": [
    {
     "name": "stderr",
     "output_type": "stream",
     "text": [
      "25/04/29 17:33:22 WARN SparkStringUtils: Truncated the string representation of a plan since it was too large. This behavior can be adjusted by setting 'spark.sql.debug.maxToStringFields'.\n",
      "                                                                                \r"
     ]
    },
    {
     "name": "stdout",
     "output_type": "stream",
     "text": [
      "+-------+------------------+------------------+------------------+------------------+-----------------+------------------+------------------+------------------+-----------------+-----------------+-------+------------------+------------------+------------------+------------------+------------------------+-------------------------------+------------------------+-------------------------------+------------------+------------------+------------------+-----------------+-----------------+------------------+------------------+-----------------+------------------+-----------------+-------------------+--------------------+-----------------+------------------+-----------------+-----------------+-----------------+------------------+-------------------+-------------------+------------------+--------------------+\n",
      "|summary|        CRSDepTime|           DepTime|   DepDelayMinutes|          DepDelay|          ArrTime|   ArrDelayMinutes|           AirTime|    CRSElapsedTime|ActualElapsedTime|         Distance|   Year|           Quarter|             Month|        DayofMonth|         DayOfWeek|DOT_ID_Marketing_Airline|Flight_Number_Marketing_Airline|DOT_ID_Operating_Airline|Flight_Number_Operating_Airline|   OriginAirportID|OriginAirportSeqID|OriginCityMarketID|  OriginStateFips|        OriginWac|     DestAirportID|  DestAirportSeqID| DestCityMarketID|     DestStateFips|          DestWac|           DepDel15|DepartureDelayGroups|          TaxiOut|         WheelsOff|         WheelsOn|           TaxiIn|       CRSArrTime|          ArrDelay|           ArrDel15| ArrivalDelayGroups|     DistanceGroup|  DivAirportLandings|\n",
      "+-------+------------------+------------------+------------------+------------------+-----------------+------------------+------------------+------------------+-----------------+-----------------+-------+------------------+------------------+------------------+------------------+------------------------+-------------------------------+------------------------+-------------------------------+------------------+------------------+------------------+-----------------+-----------------+------------------+------------------+-----------------+------------------+-----------------+-------------------+--------------------+-----------------+------------------+-----------------+-----------------+-----------------+------------------+-------------------+-------------------+------------------+--------------------+\n",
      "|  count|           5689512|           5604132|           5602937|           5602937|          5598897|           5586619|           5580241|           5689506|          5587165|          5689512|5689512|           5689512|           5689512|           5689512|           5689512|                 5689512|                        5689512|                 5689512|                        5689512|           5689512|           5689512|           5689512|          5689512|          5689512|           5689512|           5689512|          5689512|           5689512|          5689512|            5602937|             5602937|          5594818|           5594828|          5591963|          5591953|          5689512|           5586619|            5586619|            5586619|           5689512|             5689511|\n",
      "|   mean| 1330.341354935186|1334.4728214824347|13.462011084543695|10.148876026983706|1462.641310422392|13.683628326900402|110.17160423716467|138.90888347775712|134.4376538011675|787.8011822455072| 2018.0|  2.76514857513263| 7.290665350560821|15.776527758443958| 3.942994935242249|       19834.24953633985|             2638.9203629414965|      19981.613041856664|              2638.847146996087|12715.780766083277|1271581.8748518326|31776.502279984645|26.66363354185737| 55.2054891526725|12715.747947275619|1271578.5929364415|31776.48234804672|26.663301351680072| 55.2060658277898| 0.1877675940314874| 0.05733707161083553|17.04048925273351|1357.9215981259836|1458.452873168152|7.364397376015142|1482.252218995232|5.4162945423699025|0.19481228270623072|-0.1636356443852713|3.6259930552919126|0.003568496484144244|\n",
      "| stddev|491.35698580118105| 504.8562966503436| 44.20411128299058| 45.36897086378362|540.5803542840013|44.028481135622634| 70.58990418144239| 72.88407595141209|72.58415750405214|594.3093979488724|    0.0|1.1157635988599868|3.5036842469019858| 8.778083433118976|2.0010968273761964|       314.9598639602298|             1914.4744075826763|       414.9513925320312|             1914.5741390123155|1505.2457362123591|150524.45460920274|1288.2164266155485|16.57312281363466|26.97074555798619|1505.2535846130863|150525.23941617523|1288.178467029851| 16.57323266190583|26.97067137978239|0.39052650599279026|   2.212209775688969|  9.8025253111207|506.33416894942076|536.5503140660728| 5.89301106300318|521.2881360295611| 47.46065804338334| 0.3960561643137361|  2.350673751437833|2.3424507784048685| 0.11128157163364313|\n",
      "|    min|                 1|               1.0|               0.0|           -1280.0|              1.0|               0.0|           -1244.0|             -99.0|          -1228.0|             16.0|   2018|                 1|                 1|                 1|                 1|                   19393|                              1|                   19393|                              1|             10135|           1013505|             30070|                1|                1|             10135|           1013505|            30070|                 1|                1|                0.0|                -2.0|              0.0|               1.0|              1.0|              0.0|                1|           -1290.0|                0.0|               -2.0|                 1|                 0.0|\n",
      "|    max|              2359|            2400.0|            2625.0|            2625.0|           2400.0|            2635.0|             696.0|            1645.0|            757.0|           4983.0|   2018|                 4|                12|                31|                 7|                   21171|                           9385|                   21171|                           9385|             16218|           1621802|             36133|               78|               93|             16218|           1621802|            36133|                78|               93|                1.0|                12.0|           1394.0|            2400.0|           2400.0|            259.0|             2400|            2635.0|                1.0|               12.0|                11|                 9.0|\n",
      "+-------+------------------+------------------+------------------+------------------+-----------------+------------------+------------------+------------------+-----------------+-----------------+-------+------------------+------------------+------------------+------------------+------------------------+-------------------------------+------------------------+-------------------------------+------------------+------------------+------------------+-----------------+-----------------+------------------+------------------+-----------------+------------------+-----------------+-------------------+--------------------+-----------------+------------------+-----------------+-----------------+-----------------+------------------+-------------------+-------------------+------------------+--------------------+\n",
      "\n"
     ]
    }
   ],
   "source": [
    "df.describe([ el.name for el in df.schema if isinstance(el.dataType, (DoubleType, IntegerType)) ]).show()"
   ]
  },
  {
   "cell_type": "code",
   "execution_count": 8,
   "id": "28c90fdb",
   "metadata": {},
   "outputs": [
    {
     "name": "stdout",
     "output_type": "stream",
     "text": [
      "Size: 5,689,512\n"
     ]
    },
    {
     "name": "stderr",
     "output_type": "stream",
     "text": [
      "                                                                                \r"
     ]
    }
   ],
   "source": [
    "df_size = df.count()\n",
    "print(f\"Size: {df_size:,}\")"
   ]
  },
  {
   "cell_type": "code",
   "execution_count": 9,
   "id": "2ab952f9",
   "metadata": {},
   "outputs": [
    {
     "name": "stderr",
     "output_type": "stream",
     "text": [
      "[Stage 6:=====================================================>   (14 + 1) / 15]\r"
     ]
    },
    {
     "name": "stdout",
     "output_type": "stream",
     "text": [
      "+----------+-------+------+----+---------+--------+----------+-------+---------------+--------+-------+---------------+-------+--------------+-----------------+--------+----+-------+-----+----------+---------+-------------------------+---------------------------------------+------------------------+---------------------------+-------------------------------+-----------------+------------------------+---------------------------+-----------+-------------------------------+---------------+------------------+------------------+--------------+-----------+---------------+---------------+---------+-------------+----------------+----------------+------------+---------+-------------+-------------+-------+--------+--------------------+----------+-------+---------+--------+------+----------+--------+--------+------------------+----------+-------------+------------------+\n",
      "|FlightDate|Airline|Origin|Dest|Cancelled|Diverted|CRSDepTime|DepTime|DepDelayMinutes|DepDelay|ArrTime|ArrDelayMinutes|AirTime|CRSElapsedTime|ActualElapsedTime|Distance|Year|Quarter|Month|DayofMonth|DayOfWeek|Marketing_Airline_Network|Operated_or_Branded_Code_Share_Partners|DOT_ID_Marketing_Airline|IATA_Code_Marketing_Airline|Flight_Number_Marketing_Airline|Operating_Airline|DOT_ID_Operating_Airline|IATA_Code_Operating_Airline|Tail_Number|Flight_Number_Operating_Airline|OriginAirportID|OriginAirportSeqID|OriginCityMarketID|OriginCityName|OriginState|OriginStateFips|OriginStateName|OriginWac|DestAirportID|DestAirportSeqID|DestCityMarketID|DestCityName|DestState|DestStateFips|DestStateName|DestWac|DepDel15|DepartureDelayGroups|DepTimeBlk|TaxiOut|WheelsOff|WheelsOn|TaxiIn|CRSArrTime|ArrDelay|ArrDel15|ArrivalDelayGroups|ArrTimeBlk|DistanceGroup|DivAirportLandings|\n",
      "+----------+-------+------+----+---------+--------+----------+-------+---------------+--------+-------+---------------+-------+--------------+-----------------+--------+----+-------+-----+----------+---------+-------------------------+---------------------------------------+------------------------+---------------------------+-------------------------------+-----------------+------------------------+---------------------------+-----------+-------------------------------+---------------+------------------+------------------+--------------+-----------+---------------+---------------+---------+-------------+----------------+----------------+------------+---------+-------------+-------------+-------+--------+--------------------+----------+-------+---------+--------+------+----------+--------+--------+------------------+----------+-------------+------------------+\n",
      "|         0|      0|     0|   0|        0|       0|         0|  85380|          86575|   86575|  90615|         102893| 109271|             6|           102347|       0|   0|      0|    0|         0|        0|                        0|                                      0|                       0|                          0|                              0|                0|                       0|                          0|      20548|                              0|              0|                 0|                 0|             0|          0|              0|              0|        0|            0|               0|               0|           0|        0|            0|            0|      0|   86575|               86575|         0|  94694|    94684|   97549| 97559|         0|  102893|  102893|            102893|         0|            0|                 1|\n",
      "+----------+-------+------+----+---------+--------+----------+-------+---------------+--------+-------+---------------+-------+--------------+-----------------+--------+----+-------+-----+----------+---------+-------------------------+---------------------------------------+------------------------+---------------------------+-------------------------------+-----------------+------------------------+---------------------------+-----------+-------------------------------+---------------+------------------+------------------+--------------+-----------+---------------+---------------+---------+-------------+----------------+----------------+------------+---------+-------------+-------------+-------+--------+--------------------+----------+-------+---------+--------+------+----------+--------+--------+------------------+----------+-------------+------------------+\n",
      "\n"
     ]
    },
    {
     "name": "stderr",
     "output_type": "stream",
     "text": [
      "                                                                                \r"
     ]
    }
   ],
   "source": [
    "df.select(\n",
    "    [F.count(F.when(F.col(c).isNull(), c)).alias(c) for c in df.columns]\n",
    ").show()"
   ]
  }
 ],
 "metadata": {
  "kernelspec": {
   "display_name": "big-data-analytics-py3.10",
   "language": "python",
   "name": "python3"
  },
  "language_info": {
   "codemirror_mode": {
    "name": "ipython",
    "version": 3
   },
   "file_extension": ".py",
   "mimetype": "text/x-python",
   "name": "python",
   "nbconvert_exporter": "python",
   "pygments_lexer": "ipython3",
   "version": "3.10.18"
  }
 },
 "nbformat": 4,
 "nbformat_minor": 5
}
