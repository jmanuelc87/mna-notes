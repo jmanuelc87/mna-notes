{
 "cells": [
  {
   "cell_type": "markdown",
   "id": "76c7a9c3",
   "metadata": {},
   "source": [
    "# Actividad 3 | Aprendizaje supervisado y no supervisado"
   ]
  },
  {
   "cell_type": "markdown",
   "id": "bc00566c",
   "metadata": {},
   "source": [
    "## Introducción Teórica"
   ]
  },
  {
   "cell_type": "markdown",
   "id": "8c33fd3f",
   "metadata": {},
   "source": [
    "El aprendizaje automatico es una disciplina de la inteligencia artificial que permite a los sistemas aprender de la experiencia y mejorar su desempeño sin ser explicitamente programados y se clasifica en dos paradigmas: supervisado y no supervisado.\n",
    "\n",
    "En el aprendizaje supervisado se entrena un modelo con datos etiquetados, de modo que pueda predecir o clasificar nueva información es idóneo cuando existen variavles de salida bien definidas. En cambio, el aprendizaje no supervisado trabaja sobre datos sin etiquetas para descubrir la estructura oculta, patrones o agrupaciones intrínsecas."
   ]
  },
  {
   "cell_type": "markdown",
   "id": "5fda7138",
   "metadata": {},
   "source": [
    "### Algoritmos implementados en PySpark"
   ]
  },
  {
   "cell_type": "markdown",
   "id": "ecb24100",
   "metadata": {},
   "source": [
    "#### Aprendizaje Supervisado"
   ]
  },
  {
   "cell_type": "markdown",
   "id": "f6d8f027",
   "metadata": {},
   "source": [
    "Dependiendo de la tarea y el tipo de problema se pueden classificar los algoritmos implementados en PySpark."
   ]
  },
  {
   "cell_type": "markdown",
   "id": "3ccad05c",
   "metadata": {},
   "source": [
    "| Tipo de problema         | Métodos soportados                                                                                     |\n",
    "|--------------------------|--------------------------------------------------------------------------------------------------------|\n",
    "| Clasificación Binaria    | linear SVMs, logistic regression, decision trees, random forests, gradient-boosted trees, naive Bayes |\n",
    "| Clasificación Multiclase | logistic regression, decision trees, random forests, naive Bayes                                       |\n",
    "| Regresión                | linear least squares, Lasso, ridge regression, decision trees, random forests, gradient-boosted trees, isotonic regression |"
   ]
  },
  {
   "cell_type": "markdown",
   "id": "e8941bb4",
   "metadata": {},
   "source": [
    "#### Aprendizaje No Supervisado"
   ]
  },
  {
   "cell_type": "markdown",
   "id": "c4c34e51",
   "metadata": {},
   "source": [
    "- K-Means\n",
    "- Bisecting K-Means\n",
    "- Gaussian Mixture\n",
    "- PCA\n",
    "- Latent Dirichlet Allocation (LDA)"
   ]
  },
  {
   "cell_type": "markdown",
   "id": "c1828d3f",
   "metadata": {},
   "source": [
    "## Seleción y Limpieza de Datos"
   ]
  },
  {
   "cell_type": "code",
   "execution_count": 1,
   "id": "00dd471c",
   "metadata": {},
   "outputs": [],
   "source": [
    "import os\n",
    "import multiprocessing\n",
    "\n",
    "import numpy as np\n",
    "import seaborn as sns\n",
    "import matplotlib.pyplot as plt\n",
    "import matplotlib.patches as mpatches\n",
    "import pyspark.sql.functions as F\n",
    "\n",
    "from scipy.stats import gaussian_kde\n",
    "\n",
    "from pyspark.sql import SparkSession, DataFrame\n",
    "from pyspark.sql.types import StructType, StructField, DateType, IntegerType, StringType, DoubleType, BooleanType\n",
    "\n",
    "from pyspark.ml.stat import Summarizer\n",
    "from pyspark.ml.evaluation import RegressionEvaluator, ClusteringEvaluator\n",
    "from pyspark.ml.clustering import LDA, LocalLDAModel, KMeans, KMeansModel\n",
    "from pyspark.ml.regression import LinearRegression, LinearRegressionModel, GBTRegressor, GBTRegressionModel\n",
    "from pyspark.ml.feature import StandardScaler, StringIndexer, OneHotEncoder, VectorAssembler, QuantileDiscretizer"
   ]
  },
  {
   "cell_type": "code",
   "execution_count": 2,
   "id": "c6117627",
   "metadata": {},
   "outputs": [],
   "source": [
    "# How much memory from the available in the machine I'm able to use\n",
    "EXECUTOR_MEMORY = \"100G\"\n",
    "DRIVER_MEMORY = \"20G\""
   ]
  },
  {
   "cell_type": "code",
   "execution_count": 3,
   "id": "1620d377",
   "metadata": {},
   "outputs": [
    {
     "name": "stderr",
     "output_type": "stream",
     "text": [
      "Setting default log level to \"WARN\".\n",
      "To adjust logging level use sc.setLogLevel(newLevel). For SparkR, use setLogLevel(newLevel).\n",
      "25/05/24 18:55:19 WARN NativeCodeLoader: Unable to load native-hadoop library for your platform... using builtin-java classes where applicable\n"
     ]
    }
   ],
   "source": [
    "spark = (\n",
    "    SparkSession.builder.appName(\"flights\")\n",
    "    .config(\"spark.executor.memory\", EXECUTOR_MEMORY)\n",
    "    .config(\"spark.driver.memory\", DRIVER_MEMORY)\n",
    "    .getOrCreate()\n",
    ")\n",
    "\n",
    "spark.sparkContext.setLogLevel('ERROR')"
   ]
  },
  {
   "cell_type": "code",
   "execution_count": null,
   "id": "6c18b123",
   "metadata": {},
   "outputs": [],
   "source": [
    "# This should be changed according to the environment\n",
    "filepath = \"./data/flights\""
   ]
  },
  {
   "cell_type": "code",
   "execution_count": 5,
   "id": "9d031e77",
   "metadata": {},
   "outputs": [],
   "source": [
    "filenames = [ f\"Combined_Flights_{y}.csv\" for y in range(2018, 2023) ]"
   ]
  },
  {
   "cell_type": "markdown",
   "id": "d9171972",
   "metadata": {},
   "source": [
    "### Carga de Archivos"
   ]
  },
  {
   "cell_type": "markdown",
   "id": "8a0b9d96",
   "metadata": {},
   "source": [
    "Schema para el dataset de vuelos"
   ]
  },
  {
   "cell_type": "code",
   "execution_count": 6,
   "id": "467ee8db",
   "metadata": {},
   "outputs": [],
   "source": [
    "schema = StructType(\n",
    "    [\n",
    "        StructField(\"FlightDate\", DateType(), True),\n",
    "        StructField(\"Airline\", StringType(), True),\n",
    "        StructField(\"Origin\", StringType(), True),\n",
    "        StructField(\"Dest\", StringType(), True),\n",
    "        StructField(\"Cancelled\", BooleanType(), True),\n",
    "        StructField(\"Diverted\", StringType(), True),\n",
    "        StructField(\"CRSDepTime\", IntegerType(), True),\n",
    "        StructField(\"DepTime\", DoubleType(), True),\n",
    "        StructField(\"DepDelayMinutes\", DoubleType(), True),\n",
    "        StructField(\"DepDelay\", DoubleType(), True),\n",
    "        StructField(\"ArrTime\", DoubleType(), True),\n",
    "        StructField(\"ArrDelayMinutes\", DoubleType(), True),\n",
    "        StructField(\"AirTime\", DoubleType(), True),\n",
    "        StructField(\"CRSElapsedTime\", DoubleType(), True),\n",
    "        StructField(\"ActualElapsedTime\", DoubleType(), True),\n",
    "        StructField(\"Distance\", DoubleType(), True),\n",
    "        StructField(\"Year\", IntegerType(), True),\n",
    "        StructField(\"Quarter\", IntegerType(), True),\n",
    "        StructField(\"Month\", IntegerType(), True),\n",
    "        StructField(\"DayofMonth\", IntegerType(), True),\n",
    "        StructField(\"DayOfWeek\", IntegerType(), True),\n",
    "        StructField(\"Marketing_Airline_Network\", StringType(), True),\n",
    "        StructField(\"Operated_or_Branded_Code_Share_Partners\", StringType(), True),\n",
    "        StructField(\"DOT_ID_Marketing_Airline\", StringType(), True),\n",
    "        StructField(\"IATA_Code_Marketing_Airline\", StringType(), True),\n",
    "        StructField(\"Flight_Number_Marketing_Airline\", StringType(), True),\n",
    "        StructField(\"Operating_Airline\", StringType(), True),\n",
    "        StructField(\"DOT_ID_Operating_Airline\", StringType(), True),\n",
    "        StructField(\"IATA_Code_Operating_Airline\", StringType(), True),\n",
    "        StructField(\"Tail_Number\", StringType(), True),\n",
    "        StructField(\"Flight_Number_Operating_Airline\", StringType(), True),\n",
    "        StructField(\"OriginAirportID\", StringType(), True),\n",
    "        StructField(\"OriginAirportSeqID\", StringType(), True),\n",
    "        StructField(\"OriginCityMarketID\", StringType(), True),\n",
    "        StructField(\"OriginCityName\", StringType(), True),\n",
    "        StructField(\"OriginState\", StringType(), True),\n",
    "        StructField(\"OriginStateFips\", StringType(), True),\n",
    "        StructField(\"OriginStateName\", StringType(), True),\n",
    "        StructField(\"OriginWac\", StringType(), True),\n",
    "        StructField(\"DestAirportID\", StringType(), True),\n",
    "        StructField(\"DestAirportSeqID\", StringType(), True),\n",
    "        StructField(\"DestCityMarketID\", StringType(), True),\n",
    "        StructField(\"DestCityName\", StringType(), True),\n",
    "        StructField(\"DestState\", StringType(), True),\n",
    "        StructField(\"DestStateFips\", StringType(), True),\n",
    "        StructField(\"DestStateName\", StringType(), True),\n",
    "        StructField(\"DestWac\", StringType(), True),\n",
    "        StructField(\"DepDel15\", StringType(), True),\n",
    "        StructField(\"DepartureDelayGroups\", StringType(), True),\n",
    "        StructField(\"DepTimeBlk\", StringType(), True),\n",
    "        StructField(\"TaxiOut\", DoubleType(), True),\n",
    "        StructField(\"WheelsOff\", DoubleType(), True),\n",
    "        StructField(\"WheelsOn\", DoubleType(), True),\n",
    "        StructField(\"TaxiIn\", DoubleType(), True),\n",
    "        StructField(\"CRSArrTime\", IntegerType(), True),\n",
    "        StructField(\"ArrDelay\", DoubleType(), True),\n",
    "        StructField(\"ArrDel15\", StringType(), True),\n",
    "        StructField(\"ArrivalDelayGroups\", StringType(), True),\n",
    "        StructField(\"ArrTimeBlk\", StringType(), True),\n",
    "        StructField(\"DistanceGroup\", StringType(), True),\n",
    "        StructField(\"DivAirportLandings\", StringType(), True),\n",
    "    ]\n",
    ")"
   ]
  },
  {
   "cell_type": "code",
   "execution_count": 7,
   "id": "b0f330dc",
   "metadata": {},
   "outputs": [],
   "source": [
    "def read_files_from(path: str, files: list[str], schema) -> DataFrame:\n",
    "    import functools\n",
    "    df = spark.createDataFrame([], schema=schema)\n",
    "    dataframes = [\n",
    "        spark.read.csv(f\"{filepath}/{filename}\", header=True, schema=schema)\n",
    "        for filename in files\n",
    "    ]\n",
    "    return functools.reduce(DataFrame.unionAll, dataframes, df)"
   ]
  },
  {
   "cell_type": "code",
   "execution_count": 8,
   "id": "aa55b379",
   "metadata": {},
   "outputs": [],
   "source": [
    "df = read_files_from(filepath, filenames, schema)"
   ]
  },
  {
   "cell_type": "markdown",
   "id": "a7d275c4",
   "metadata": {},
   "source": [
    "### Limpieza de Datos"
   ]
  },
  {
   "cell_type": "code",
   "execution_count": 9,
   "id": "e99f0f57",
   "metadata": {},
   "outputs": [
    {
     "name": "stderr",
     "output_type": "stream",
     "text": [
      "                                                                                \r"
     ]
    },
    {
     "data": {
      "text/plain": [
       "29193782"
      ]
     },
     "execution_count": 9,
     "metadata": {},
     "output_type": "execute_result"
    }
   ],
   "source": [
    "# number of original rows\n",
    "df.count()"
   ]
  },
  {
   "cell_type": "code",
   "execution_count": 10,
   "id": "f4a00d94",
   "metadata": {},
   "outputs": [
    {
     "name": "stderr",
     "output_type": "stream",
     "text": [
      "                                                                                \r"
     ]
    },
    {
     "data": {
      "text/plain": [
       "28339510"
      ]
     },
     "execution_count": 10,
     "metadata": {},
     "output_type": "execute_result"
    }
   ],
   "source": [
    "# drop rows with null values\n",
    "clean_df = df.dropna()\n",
    "\n",
    "# drop columns with null values\n",
    "clean_df = clean_df.na.drop()\n",
    "\n",
    "# drop duplicated rows\n",
    "clean_df = clean_df.dropDuplicates()\n",
    "\n",
    "# number of rows after cleaning\n",
    "clean_df.count()"
   ]
  },
  {
   "cell_type": "markdown",
   "id": "4ef0a4a5",
   "metadata": {},
   "source": [
    "Definition of categorical columns and continuous columns"
   ]
  },
  {
   "cell_type": "code",
   "execution_count": 11,
   "id": "d06c426b",
   "metadata": {},
   "outputs": [],
   "source": [
    "column = \"ArrDelay\"\n",
    "\n",
    "\n",
    "continuous_cols = [\n",
    "    el.name\n",
    "    for el in df.schema\n",
    "    if isinstance(el.dataType, (DoubleType, IntegerType))\n",
    "    and el.name not in [\"Year\", \"Quarter\", \"Month\", \"DayofMonth\", \"DayOfWeek\"]\n",
    "]\n",
    "\n",
    "categorica_cols = [\n",
    "    \"Marketing_Airline_Network\",\n",
    "    \"Operating_Airline\",\n",
    "    \"OriginAirportID\",\n",
    "    \"DestAirportID\",\n",
    "    \"OriginCityName\",\n",
    "    \"DestCityName\",\n",
    "    \"DayOfWeek\",\n",
    "    \"Month\",\n",
    "    \"DistanceGroup\",\n",
    "]"
   ]
  },
  {
   "cell_type": "code",
   "execution_count": 12,
   "id": "f96959e7",
   "metadata": {},
   "outputs": [],
   "source": [
    "vec = VectorAssembler(outputCol=\"features\", inputCols=continuous_cols)"
   ]
  },
  {
   "cell_type": "code",
   "execution_count": 13,
   "id": "29c7bcf6",
   "metadata": {},
   "outputs": [],
   "source": [
    "clean_df = vec.transform(clean_df)\n",
    "clean_df = clean_df.cache()"
   ]
  },
  {
   "cell_type": "code",
   "execution_count": 14,
   "id": "8b55ef74",
   "metadata": {},
   "outputs": [],
   "source": [
    "def calculate_stats(func, df: DataFrame, feature: str, columns: list):\n",
    "    temp_df = df.select(func(df[feature])).collect()\n",
    "    return { k: v for k, v in zip(columns, temp_df[0][0].toArray())}"
   ]
  },
  {
   "cell_type": "markdown",
   "id": "6df7b81d",
   "metadata": {},
   "source": [
    "### Valores Típicos"
   ]
  },
  {
   "cell_type": "markdown",
   "id": "422ce181",
   "metadata": {},
   "source": [
    "Calculamos valores típicos (promedio)"
   ]
  },
  {
   "cell_type": "code",
   "execution_count": 15,
   "id": "8defa3e0",
   "metadata": {},
   "outputs": [
    {
     "name": "stderr",
     "output_type": "stream",
     "text": [
      "                                                                                \r"
     ]
    }
   ],
   "source": [
    "mean_dict = calculate_stats(Summarizer.mean, clean_df, 'features', continuous_cols)"
   ]
  },
  {
   "cell_type": "markdown",
   "id": "f6e9bc49",
   "metadata": {},
   "source": [
    "Calculamos valores típicos (desviacion estandar)"
   ]
  },
  {
   "cell_type": "code",
   "execution_count": 16,
   "id": "cdc6fa78",
   "metadata": {},
   "outputs": [
    {
     "name": "stderr",
     "output_type": "stream",
     "text": [
      "                                                                                \r"
     ]
    }
   ],
   "source": [
    "std_dict = calculate_stats(Summarizer.std, clean_df, 'features', continuous_cols)"
   ]
  },
  {
   "cell_type": "markdown",
   "id": "e88e34c8",
   "metadata": {},
   "source": [
    "Calculamos valores típicos (max)"
   ]
  },
  {
   "cell_type": "code",
   "execution_count": 17,
   "id": "518cc355",
   "metadata": {},
   "outputs": [
    {
     "name": "stderr",
     "output_type": "stream",
     "text": [
      "                                                                                \r"
     ]
    }
   ],
   "source": [
    "max_dict = calculate_stats(Summarizer.max, clean_df, 'features', continuous_cols)"
   ]
  },
  {
   "cell_type": "markdown",
   "id": "9709dde2",
   "metadata": {},
   "source": [
    "Calculamos valores típicos (min)"
   ]
  },
  {
   "cell_type": "code",
   "execution_count": 18,
   "id": "b03a8549",
   "metadata": {},
   "outputs": [
    {
     "name": "stderr",
     "output_type": "stream",
     "text": [
      "                                                                                \r"
     ]
    }
   ],
   "source": [
    "min_dict = calculate_stats(Summarizer.min, clean_df, 'features', continuous_cols)"
   ]
  },
  {
   "cell_type": "markdown",
   "id": "cead35fb",
   "metadata": {},
   "source": [
    "### Selección de los Datos"
   ]
  },
  {
   "cell_type": "markdown",
   "id": "fd5948fc",
   "metadata": {},
   "source": [
    "Calculamos la distribucion de la variable de dependiente, Arrival Delay\n",
    "\n",
    " - Para calcular el Lower Bound/Upper Bound de la media se resta/suma una desviación estándar.\n",
    " - La area es el computo de la integral sobre la función de densidad de probabilidad (PDF) sobre un intervalo rectangular, en este caso el intervalo es Lower Bound y Upper Bound"
   ]
  },
  {
   "cell_type": "code",
   "execution_count": 19,
   "id": "77948686",
   "metadata": {},
   "outputs": [],
   "source": [
    "def plot(df, column, mean_dict, std_dict, bins=40):\n",
    "    arr_delay_df = df.select(column)\n",
    "    data = arr_delay_df.toPandas().to_numpy().reshape(-1)\n",
    "\n",
    "    x = np.linspace(min_dict[column], max_dict[column], 100)\n",
    "    kernel = gaussian_kde(data)\n",
    "\n",
    "    infmin = mean_dict[column] - std_dict[column]\n",
    "    infmax = mean_dict[column] + std_dict[column]\n",
    "\n",
    "    area = kernel.integrate_box(infmin, infmax)\n",
    "\n",
    "    plt.plot(x, kernel(x), label=\"KDE\")\n",
    "    sns.histplot(data, stat=\"density\", bins=bins, kde=False, label=\"Datos\")\n",
    "\n",
    "    handles, labels = plt.gca().get_legend_handles_labels()\n",
    "    patch1 = mpatches.Patch(color='r', label=f'Lower Bound {round(infmin, 2)}')\n",
    "    patch2 = mpatches.Patch(color='g', label=f'Upper Bound {round(infmax, 2)}')\n",
    "    patch3 = mpatches.Patch(color='b', label=f'Area between LB & UB {round(area * 100, 2)}%')\n",
    "    handles.append(patch1)\n",
    "    handles.append(patch2)\n",
    "    handles.append(patch3)\n",
    "\n",
    "    plt.legend(handles=handles)\n",
    "\n",
    "    plt.axvline(x=infmin, color='r', linestyle=':', linewidth=1.7)\n",
    "    plt.axvline(x=infmax, color='g', linestyle=':', linewidth=1.7)\n",
    "    plt.xlabel(\"Arrival Delay\")\n",
    "    plt.show()"
   ]
  },
  {
   "cell_type": "code",
   "execution_count": 20,
   "id": "73cc642a",
   "metadata": {},
   "outputs": [
    {
     "data": {
      "image/png": "[encoded data removed]",
      "text/plain": [
       "<Figure size 640x480 with 1 Axes>"
      ]
     },
     "metadata": {},
     "output_type": "display_data"
    }
   ],
   "source": [
    "plot(clean_df, column=column, mean_dict=mean_dict, std_dict=std_dict)"
   ]
  },
  {
   "cell_type": "markdown",
   "id": "8ca8d7f4",
   "metadata": {},
   "source": [
    "Realizamos una estratificación en la variable Arrival Delay (ArrDelay) puesto que sera nuestra variable de salida y sobre Día de la Semana (DayOfWeek) ya que encontramos un patrón en el que los vuelos son mas frequentes en ciertos dias de la semana."
   ]
  },
  {
   "cell_type": "code",
   "execution_count": 21,
   "id": "dce3a8b0",
   "metadata": {},
   "outputs": [
    {
     "name": "stderr",
     "output_type": "stream",
     "text": [
      "                                                                                \r"
     ]
    }
   ],
   "source": [
    "num_bins = 5\n",
    "\n",
    "# Create a Discrete output over a continuous column\n",
    "quantile_discretizer = QuantileDiscretizer(numBuckets=num_bins, inputCol=column, outputCol=f\"{column}_binned\")\n",
    "clean_bin_df = quantile_discretizer.fit(clean_df).transform(clean_df)"
   ]
  },
  {
   "cell_type": "code",
   "execution_count": 22,
   "id": "b708dcfc",
   "metadata": {},
   "outputs": [],
   "source": [
    "# Create a new column with values of ArrDelay and DayOfWeek\n",
    "clean_bin_df_with_key = clean_bin_df.withColumn(\"stratum_value\", F.concat_ws(\"_\", f\"{column}_binned\", \"DayOfWeek\"))"
   ]
  },
  {
   "cell_type": "code",
   "execution_count": 23,
   "id": "2fef4f61",
   "metadata": {},
   "outputs": [
    {
     "name": "stderr",
     "output_type": "stream",
     "text": [
      "                                                                                \r"
     ]
    }
   ],
   "source": [
    "stratum_counts = clean_bin_df_with_key.groupBy(\"stratum_value\").count().collect()\n",
    "total_count = clean_bin_df_with_key.count()"
   ]
  },
  {
   "cell_type": "markdown",
   "id": "48d1daca",
   "metadata": {},
   "source": [
    "Se obtiene una muestra del dataset original"
   ]
  },
  {
   "cell_type": "code",
   "execution_count": 24,
   "id": "487b1245",
   "metadata": {},
   "outputs": [],
   "source": [
    "factor = .3"
   ]
  },
  {
   "cell_type": "code",
   "execution_count": 25,
   "id": "677c4205",
   "metadata": {},
   "outputs": [
    {
     "data": {
      "text/plain": [
       "{'2.0_5': 0.008540408779121446,\n",
       " '4.0_1': 0.009403193633199726,\n",
       " '4.0_2': 0.007838297133577822,\n",
       " '1.0_5': 0.00938386372947168,\n",
       " '1.0_2': 0.009569085704022404,\n",
       " '3.0_1': 0.009066158871483663,\n",
       " '3.0_2': 0.008202633002476048,\n",
       " '4.0_5': 0.010070678709688348,\n",
       " '3.0_3': 0.00857913210214291,\n",
       " '0.0_4': 0.00735406504911341,\n",
       " '2.0_6': 0.0072890886257384125,\n",
       " '3.0_4': 0.009397339615257991,\n",
       " '4.0_3': 0.00812623436326175,\n",
       " '0.0_3': 0.007941933364408911,\n",
       " '1.0_3': 0.009563263443863355,\n",
       " '1.0_7': 0.009561643796946384,\n",
       " '0.0_7': 0.007854101923427751,\n",
       " '0.0_1': 0.007933570481635004,\n",
       " '3.0_5': 0.009509920954878895,\n",
       " '1.0_4': 0.009399986097148469,\n",
       " '2.0_7': 0.008262655211752073,\n",
       " '1.0_1': 0.009804590834492198,\n",
       " '2.0_3': 0.008183186653544821,\n",
       " '2.0_1': 0.008518178331241437,\n",
       " '4.0_6': 0.0072943815895193664,\n",
       " '1.0_6': 0.008765211536826148,\n",
       " '2.0_2': 0.00802232289831405,\n",
       " '2.0_4': 0.008459881628158002,\n",
       " '0.0_2': 0.0080641902418214,\n",
       " '3.0_6': 0.007465598381905685,\n",
       " '3.0_7': 0.008851613877586451,\n",
       " '0.0_5': 0.007256483968847732,\n",
       " '4.0_4': 0.009817368049059423,\n",
       " '4.0_7': 0.009156753239558483,\n",
       " '0.0_6': 0.007492984176508345}"
      ]
     },
     "execution_count": 25,
     "metadata": {},
     "output_type": "execute_result"
    }
   ],
   "source": [
    "stratum_fractions = {\n",
    "    row[f\"stratum_value\"]: factor * (row[\"count\"] / total_count)\n",
    "    for row in stratum_counts\n",
    "}\n",
    "\n",
    "stratum_fractions"
   ]
  },
  {
   "cell_type": "code",
   "execution_count": 26,
   "id": "ae390c78",
   "metadata": {},
   "outputs": [],
   "source": [
    "# create the sample\n",
    "sample_df = clean_bin_df_with_key.sampleBy(f\"stratum_value\", fractions=stratum_fractions)\n",
    "\n",
    "# Repartition the DataFrame\n",
    "sample_df = sample_df.drop(\"stratum_value\").coalesce(multiprocessing.cpu_count()).cache()"
   ]
  },
  {
   "cell_type": "code",
   "execution_count": 27,
   "id": "78a0cef7",
   "metadata": {},
   "outputs": [
    {
     "name": "stderr",
     "output_type": "stream",
     "text": [
      "                                                                                \r"
     ]
    },
    {
     "data": {
      "text/plain": [
       "245189"
      ]
     },
     "execution_count": 27,
     "metadata": {},
     "output_type": "execute_result"
    }
   ],
   "source": [
    "# Size of the sample\n",
    "sample_df.count()"
   ]
  },
  {
   "cell_type": "code",
   "execution_count": 28,
   "id": "a525640f",
   "metadata": {},
   "outputs": [
    {
     "data": {
      "image/png": "[encoded data removed]",
      "text/plain": [
       "<Figure size 640x480 with 1 Axes>"
      ]
     },
     "metadata": {},
     "output_type": "display_data"
    }
   ],
   "source": [
    "# Calculate mean and std dev over the sample df\n",
    "sample_mean_dict = calculate_stats(Summarizer.mean, sample_df, 'features', continuous_cols)\n",
    "sample_std_dict = calculate_stats(Summarizer.std, sample_df, 'features', continuous_cols)\n",
    "\n",
    "# Plot again to test if the distribution is similar to the population distribution.\n",
    "plot(sample_df, column=column, mean_dict=sample_mean_dict, std_dict=sample_std_dict)"
   ]
  },
  {
   "cell_type": "markdown",
   "id": "c469f55e",
   "metadata": {},
   "source": [
    "## Preparación de los Datos"
   ]
  },
  {
   "cell_type": "markdown",
   "id": "32c1c1d5",
   "metadata": {},
   "source": [
    "Preparamos los datos, usamos las siguientes clases StringIndexer, OneHotEncoder y StandardScaler"
   ]
  },
  {
   "cell_type": "code",
   "execution_count": 29,
   "id": "7bae8c12",
   "metadata": {},
   "outputs": [],
   "source": [
    "sample_df = sample_df.drop('features')\n",
    "sample_df = sample_df.drop('ArrDelay_binned')"
   ]
  },
  {
   "cell_type": "code",
   "execution_count": 30,
   "id": "452be3a1",
   "metadata": {},
   "outputs": [],
   "source": [
    "input_con_cols = [col for col in continuous_cols if col not in [f\"{column}\"]]\n",
    "input_cat_cols = [f\"{col}_onehot\" for col in categorica_cols]"
   ]
  },
  {
   "cell_type": "code",
   "execution_count": 31,
   "id": "5ac63f6d",
   "metadata": {},
   "outputs": [],
   "source": [
    "indexer = StringIndexer(\n",
    "    inputCols=categorica_cols,\n",
    "    outputCols=[f\"{col}_index\" for col in categorica_cols],\n",
    "    handleInvalid=\"keep\",\n",
    ")\n",
    "\n",
    "encoder = OneHotEncoder(\n",
    "    inputCols=[f\"{col}_index\" for col in categorica_cols],\n",
    "    outputCols=input_cat_cols,\n",
    "    handleInvalid=\"keep\",\n",
    ")\n",
    "\n",
    "assembler2 = VectorAssembler(inputCols=input_con_cols, outputCol=\"con_features\")\n",
    "\n",
    "scaler = StandardScaler(inputCol=\"con_features\", outputCol=\"con_scaled_features\")\n",
    "\n",
    "final_assembler = VectorAssembler(\n",
    "    inputCols=[\"con_scaled_features\", *input_cat_cols], outputCol=\"features\"\n",
    ")"
   ]
  },
  {
   "cell_type": "code",
   "execution_count": 32,
   "id": "954731df",
   "metadata": {},
   "outputs": [],
   "source": [
    "sample_df = indexer.fit(sample_df).transform(sample_df)\n",
    "sample_df = encoder.fit(sample_df).transform(sample_df)\n",
    "sample_df = assembler2.transform(sample_df)\n",
    "sample_df = scaler.fit(sample_df).transform(sample_df)\n",
    "sample_df = final_assembler.transform(sample_df)"
   ]
  },
  {
   "cell_type": "code",
   "execution_count": 33,
   "id": "badc1abc",
   "metadata": {},
   "outputs": [
    {
     "name": "stdout",
     "output_type": "stream",
     "text": [
      "+--------------------------------------------------------------------------------------------------------------------------------------------------------------------------------------------------------------------------------------------------------------------------------------------------------------------------------------------------------------------------------------------------------------------+\n",
      "|features                                                                                                                                                                                                                                                                                                                                                                                                            |\n",
      "+--------------------------------------------------------------------------------------------------------------------------------------------------------------------------------------------------------------------------------------------------------------------------------------------------------------------------------------------------------------------------------------------------------------------+\n",
      "|(1623,[0,1,3,4,6,7,8,9,10,11,12,13,14,16,35,130,445,900,1213,1590,1600,1614],[2.407600616746426,2.3331836575265927,-0.1041494471850864,2.3817886981796095,0.4804866708837725,1.0063127588777154,0.8090345781823857,0.26232402879094846,1.5896881179807627,2.437850902584556,2.383188763382364,1.4553292027268683,2.5884989612827902,1.0,1.0,1.0,1.0,1.0,1.0,1.0,1.0,1.0])                                           |\n",
      "|(1623,[0,1,3,4,5,6,7,8,9,10,11,12,13,14,20,33,61,465,837,1216,1591,1600,1618],[1.4541159894068145,1.322272194126856,-0.12497933662210368,2.914882891217412,0.3215256015911587,4.542783070173849,4.47880044796279,4.783239523639718,4.271394547747351,2.0136049494422994,1.4377069425498663,2.9262180870838206,0.9702194684845789,2.995545362828023,1.0,1.0,1.0,1.0,1.0,1.0,1.0,1.0,1.0])                            |\n",
      "|(1623,[0,1,3,4,6,7,8,9,10,11,12,13,14,16,30,70,570,846,1333,1590,1600,1614],[1.8695777006659045,1.7306804253403496,-0.08331955774806912,1.9058117401101433,0.6406488945116967,1.1622203694080657,0.922583290909738,0.3848569632919836,1.165771286519226,1.8288922817569828,1.8248087874207957,1.617032447474298,2.0194243804816883,1.0,1.0,1.0,1.0,1.0,1.0,1.0,1.0,1.0])                                            |\n",
      "|(1623,[0,1,3,4,5,6,7,8,9,10,11,12,13,14,18,27,97,466,867,1232,1590,1600,1612],[1.5060487033142007,1.463799799002819,-0.02082988943701728,1.740171758701969,0.19291536095469522,1.1065753632474762,1.4173419139122754,1.561294800001095,0.8905210451061145,0.9538128707884577,1.4780353280351362,1.6290879711043698,4.042581118685745,1.7882378320312406,1.0,1.0,1.0,1.0,1.0,1.0,1.0,1.0,1.0])                       |\n",
      "|(1623,[0,1,3,4,6,7,8,9,10,11,12,13,14,16,28,72,445,834,1213,1592,1600,1613],[3.9468862569613536,3.7525033521398234,-0.08331955774806912,4.070554945410076,1.8200252684991383,2.52286860676385,2.2993614327288854,1.315071775912518,2.0136049494422994,3.8614429102145778,4.067922848929639,2.9106584054537366,4.264107449197146,1.0,1.0,1.0,1.0,1.0,1.0,1.0,1.0,1.0])                                               |\n",
      "|(1623,[0,1,3,4,5,6,7,8,9,10,11,12,13,14,17,31,64,456,841,1225,1590,1600,1611],[2.316199040269426,2.244223448747416,-0.1041494471850864,2.54171695609095,0.7930964839248581,1.07745495895149,1.4598621713296436,2.0580704181832616,0.714487815259557,6.782669303384588,2.4479329989558734,2.5482082751785664,1.1319227132320087,2.4857493841937024,1.0,1.0,1.0,1.0,1.0,1.0,1.0,1.0,1.0])                             |\n",
      "|(1623,[0,1,3,4,6,7,8,9,10,11,12,13,14,17,31,58,450,832,1219,1593,1600,1613],[1.123823928955838,1.079653442910919,-0.14580922605912097,1.3784292705691745,1.7181038534631865,2.352787577094377,2.412910145456238,1.4876533738012998,2.7554594044999887,1.2098515645580923,1.2625911483941994,4.204284363433175,1.4365181258416706,1.0,1.0,1.0,1.0,1.0,1.0,1.0,1.0,1.0])                                              |\n",
      "|(1623,[0,1,2,3,4,5,6,7,8,9,10,11,12,13,14,18,27,90,454,860,1223,1595,1600,1611],[2.2850394119249944,2.5151477209385456,2.216748984211315,2.166308501449797,2.686413951344068,2.379289451774574,0.9755335439155381,1.1338735311298203,1.234842250909957,0.666164967850698,1.5896881179807627,2.5386718662977303,2.697877134714657,0.808516223737149,2.410663154782446,1.0,1.0,1.0,1.0,1.0,1.0,1.0,1.0,1.0])          |\n",
      "|(1623,[0,1,3,4,6,7,8,9,10,11,12,13,14,18,27,88,466,859,1232,1590,1600,1616],[1.0698139064921564,1.0392169843749295,-0.02082988943701728,1.7382678508696912,2.329632343678897,2.5512154450420956,2.540652447274509,2.3160450436674527,1.059792078653842,1.0566036997140673,1.7346237053926385,1.4553292027268683,1.8079973660868345,1.0,1.0,1.0,1.0,1.0,1.0,1.0,1.0,1.0])                                            |\n",
      "|(1623,[0,1,3,4,5,6,7,8,9,10,11,12,13,14,18,27,67,477,843,1241,1590,1600,1611],[1.7657122728511319,1.7145058419259538,-0.04165977887403456,1.7725381918506926,0.021435040106077247,0.9755335439155381,1.4173419139122754,1.4619396763646617,0.7593590307106403,3.497313859557678,1.8571221515966716,1.7806756621729742,0.4851097342422894,1.8376366671702253,1.0,1.0,1.0,1.0,1.0,1.0,1.0,1.0,1.0])                   |\n",
      "|(1623,[0,1,3,4,6,7,8,9,10,11,12,13,14,16,50,62,478,839,1242,1596,1600,1612],[3.1367359200061284,3.040821681906409,-0.12497933662210368,3.152871370252145,1.4123396083553315,1.9275850029206945,1.5896819781829332,1.2011679213059219,1.2717504943846103,3.0568916197834466,3.17182852324561,0.4851097342422894,3.4104955779954933,1.0,1.0,1.0,1.0,1.0,1.0,1.0,1.0,1.0])                                             |\n",
      "|(1623,[0,1,2,3,4,5,6,7,8,9,10,11,12,13,14,16,35,57,452,831,1217,1590,1600,1612],[1.516435246095678,1.6902439668043603,1.4067830092110267,1.3747727028431405,1.7839616388443598,1.0074468849856306,1.4268998105033244,1.9842786794771854,1.7174242800012045,1.189087209453707,1.9076257415769153,1.722022060221018,1.7883509883030302,0.808516223737149,1.6795603947254747,1.0,1.0,1.0,1.0,1.0,1.0,1.0,1.0,1.0])     |\n",
      "|(1623,[0,1,3,4,6,7,8,9,10,11,12,13,14,25,51,61,465,837,1216,1590,1600,1618],[1.4956621605327236,1.4536906843688218,-0.02082988943701728,2.9110750755528563,4.207898420770008,4.63470805849314,4.400012618184904,4.271394547747351,1.8016465337115313,1.4840845858579266,2.9262180870838206,0.6468129789897192,3.056799918400364,1.0,1.0,1.0,1.0,1.0,1.0,1.0,1.0,1.0])                                               |\n",
      "|(1623,[0,1,3,4,6,7,8,9,10,11,12,13,14,18,27,104,447,874,1214,1594,1600,1613],[4.0403651419946485,3.924358300917779,-0.08331955774806912,3.8782602543500118,1.49970082124329,1.9842786794771854,1.6464563345466094,1.370297887236928,0.8478336629230735,3.9300011655395366,3.899065674068409,0.808516223737149,4.159381918702499,1.0,1.0,1.0,1.0,1.0,1.0,1.0,1.0,1.0])                                               |\n",
      "|(1623,[0,1,3,4,6,7,8,9,10,11,12,13,14,18,27,77,458,850,1227,1594,1600,1613],[3.8014746580206724,3.6938704872626387,-0.06248966831105184,3.889683701343679,1.6016222362792418,2.0551457751727993,1.9303281163649904,1.3582171753847134,1.5896881179807627,3.714244303193343,3.899065674068409,1.778735692221728,4.06058424842453,1.0,1.0,1.0,1.0,1.0,1.0,1.0,1.0,1.0])                                               |\n",
      "|(1623,[0,1,2,3,4,5,6,7,8,9,10,11,12,13,14,17,45,69,529,845,1292,1593,1600,1614],[3.5314245457022637,3.4492299131199027,0.1278893644737297,0.12497933662210368,3.4765357017393823,0.06430512031823174,0.5678478837717311,1.1763937885471885,1.1354871272735236,0.33653411588312465,3.7092722752884466,3.510585956492731,3.492273389175445,0.9702194684845789,3.6021630583347535,1.0,1.0,1.0,1.0,1.0,1.0,1.0,1.0,1.0])|\n",
      "|(1623,[0,1,3,4,6,7,8,9,10,11,12,13,14,17,45,255,452,1024,1217,1594,1600,1611],[2.814753093780334,2.717330013618493,-0.2291287838071901,2.768281988132016,0.8008111181396209,1.1055266928515748,0.9935512363643332,0.5315513214974482,0.9538128707884577,2.728215278078498,2.778468059080244,0.9702194684845789,2.989617502611345,1.0,1.0,1.0,1.0,1.0,1.0,1.0,1.0,1.0])                                              |\n",
      "|(1623,[0,1,3,4,6,7,8,9,10,11,12,13,14,19,42,85,451,856,1221,1591,1600,1614],[4.466213396035216,4.336810177984871,-0.1041494471850864,4.253330097308751,0.4804866708837725,0.7653646335126286,0.6954858654550332,0.22263026127652863,1.165771286519226,4.347399955312079,4.277075485973663,0.808516223737149,4.434039442075253,1.0,1.0,1.0,1.0,1.0,1.0,1.0,1.0,1.0])                                                 |\n",
      "|(1623,[0,1,3,4,6,7,8,9,10,11,12,13,14,16,28,57,503,831,1266,1595,1600,1612],[1.9734431284806768,1.9187099575327007,-0.02082988943701728,2.1685510209644887,1.1939365761354348,1.5590761053035027,1.561294800001095,0.9405697084938612,1.5896881179807627,2.024484951360541,2.1606043056107422,2.1021421817165873,2.2525868823376953,1.0,1.0,1.0,1.0,1.0,1.0,1.0,1.0,1.0])                                           |\n",
      "|(1623,[0,1,2,3,4,6,7,8,9,10,11,12,13,14,16,28,61,489,837,1252,1595,1600,1619],[2.5966356953693115,2.5293004814261417,0.02131489407895495,0.02082988943701728,3.7107163651095596,3.1741240682624974,3.6142218804763018,3.378074203638733,3.2790503598868557,1.059792078653842,2.6233614758167967,3.720614341544609,1.617032447474298,3.961786578146561,1.0,1.0,1.0,1.0,1.0,1.0,1.0,1.0,1.0])                         |\n",
      "+--------------------------------------------------------------------------------------------------------------------------------------------------------------------------------------------------------------------------------------------------------------------------------------------------------------------------------------------------------------------------------------------------------------------+\n",
      "only showing top 20 rows\n",
      "\n"
     ]
    }
   ],
   "source": [
    "# show the features column as a spare vector representation\n",
    "sample_df.select('features').show(truncate=False)"
   ]
  },
  {
   "cell_type": "code",
   "execution_count": 34,
   "id": "510779bd",
   "metadata": {},
   "outputs": [],
   "source": [
    "sample_df = sample_df.withColumnRenamed(column, \"label\")"
   ]
  },
  {
   "cell_type": "code",
   "execution_count": 35,
   "id": "7e1a23f2",
   "metadata": {},
   "outputs": [
    {
     "name": "stderr",
     "output_type": "stream",
     "text": [
      "                                                                                \r"
     ]
    },
    {
     "data": {
      "text/plain": [
       "(196011, 49178)"
      ]
     },
     "execution_count": 35,
     "metadata": {},
     "output_type": "execute_result"
    }
   ],
   "source": [
    "# Separate into train and test splits\n",
    "train_df, test_df = sample_df.select(\"features\", \"label\").randomSplit([0.8, 0.2])\n",
    "train_df.count(), test_df.count()"
   ]
  },
  {
   "cell_type": "markdown",
   "id": "f628f937",
   "metadata": {},
   "source": [
    "## Modelo Supervisado."
   ]
  },
  {
   "cell_type": "code",
   "execution_count": null,
   "id": "b2ca9480",
   "metadata": {},
   "outputs": [],
   "source": [
    "save_folder = './models'"
   ]
  },
  {
   "cell_type": "markdown",
   "id": "783eb45a",
   "metadata": {},
   "source": [
    "### Entramiento del Modelo Punto de Referencia"
   ]
  },
  {
   "cell_type": "code",
   "execution_count": null,
   "id": "bccb743e",
   "metadata": {},
   "outputs": [],
   "source": [
    "# Model instantiation\n",
    "model = LinearRegression(maxIter=25)"
   ]
  },
  {
   "cell_type": "code",
   "execution_count": 38,
   "id": "f4f425d6",
   "metadata": {},
   "outputs": [],
   "source": [
    "# Fit the model the sample train\n",
    "model = model.fit(train_df)"
   ]
  },
  {
   "cell_type": "code",
   "execution_count": 39,
   "id": "da85e01e",
   "metadata": {},
   "outputs": [],
   "source": [
    "# Save the model to a local disk\n",
    "model.write().overwrite().save(os.path.join(save_folder, 'glr'))"
   ]
  },
  {
   "cell_type": "markdown",
   "id": "0c6c4350",
   "metadata": {},
   "source": [
    "### Evaluación del Modelo Punto de Referencia"
   ]
  },
  {
   "cell_type": "code",
   "execution_count": 40,
   "id": "2aa13a35",
   "metadata": {},
   "outputs": [],
   "source": [
    "model2 = LinearRegressionModel.load(os.path.join(save_folder, 'glr'))"
   ]
  },
  {
   "cell_type": "code",
   "execution_count": 41,
   "id": "4dd05457",
   "metadata": {},
   "outputs": [],
   "source": [
    "test_pred_df = model2.evaluate(test_df)"
   ]
  },
  {
   "cell_type": "code",
   "execution_count": 42,
   "id": "fe6bff15",
   "metadata": {},
   "outputs": [
    {
     "name": "stdout",
     "output_type": "stream",
     "text": [
      "+-----+------------------+\n",
      "|label|prediction        |\n",
      "+-----+------------------+\n",
      "|25.0 |22.522383642953425|\n",
      "|54.0 |51.040336380622776|\n",
      "|413.0|420.61905303745925|\n",
      "|7.0  |5.54485161380633  |\n",
      "|68.0 |68.76029453698631 |\n",
      "|27.0 |24.897782477452704|\n",
      "|9.0  |5.112910022395948 |\n",
      "|13.0 |8.905864602402264 |\n",
      "|7.0  |1.0171786834792655|\n",
      "|41.0 |38.637862033131   |\n",
      "|117.0|114.4446272357054 |\n",
      "|84.0 |89.9179450002753  |\n",
      "|108.0|106.09424792237962|\n",
      "|22.0 |17.248017114924135|\n",
      "|3.0  |0.8976526073274691|\n",
      "|17.0 |13.57088074908879 |\n",
      "|53.0 |54.93669808770592 |\n",
      "|31.0 |28.109853662951505|\n",
      "|225.0|237.0124600733191 |\n",
      "|48.0 |40.38843175847393 |\n",
      "+-----+------------------+\n",
      "only showing top 20 rows\n",
      "\n"
     ]
    }
   ],
   "source": [
    "test_pred_df.predictions.select('label', 'prediction').show(truncate=False)"
   ]
  },
  {
   "cell_type": "code",
   "execution_count": 43,
   "id": "16cf7133",
   "metadata": {},
   "outputs": [
    {
     "name": "stdout",
     "output_type": "stream",
     "text": [
      "RMSE: 3.384\n",
      "MAE: 2.632\n"
     ]
    }
   ],
   "source": [
    "evaluator = RegressionEvaluator(metricName=\"rmse\")\n",
    "\n",
    "rmse_lr = evaluator.evaluate(test_pred_df.predictions)\n",
    "mae = evaluator.evaluate(test_pred_df.predictions, {evaluator.metricName: \"mae\"})\n",
    "\n",
    "print(\"RMSE: %.3f\" % rmse_lr)\n",
    "print(\"MAE: %.3f\" % mae)"
   ]
  },
  {
   "cell_type": "markdown",
   "id": "a5fae93e",
   "metadata": {},
   "source": [
    "Se obtuvieron las metricas RMSE y MAE que nos dan una idea del error del modelo, veamos si podemos mejorar el desempeño usando otro modelo."
   ]
  },
  {
   "cell_type": "markdown",
   "id": "93a69e7a",
   "metadata": {},
   "source": [
    "### Entrenamiento del Modelo Alternativo"
   ]
  },
  {
   "cell_type": "code",
   "execution_count": 44,
   "id": "c203e1c5",
   "metadata": {},
   "outputs": [],
   "source": [
    "model3 = GBTRegressor(maxDepth=15, maxBins=64, maxIter=15)"
   ]
  },
  {
   "cell_type": "code",
   "execution_count": 45,
   "id": "82313b74",
   "metadata": {},
   "outputs": [
    {
     "name": "stderr",
     "output_type": "stream",
     "text": [
      "                                                                                \r"
     ]
    }
   ],
   "source": [
    "model3 = model3.fit(train_df)"
   ]
  },
  {
   "cell_type": "code",
   "execution_count": 46,
   "id": "6f324d1f",
   "metadata": {},
   "outputs": [
    {
     "name": "stderr",
     "output_type": "stream",
     "text": [
      "                                                                                \r"
     ]
    }
   ],
   "source": [
    "model3.write().overwrite().save(os.path.join(save_folder, 'gbt'))"
   ]
  },
  {
   "cell_type": "markdown",
   "id": "26479ee3",
   "metadata": {},
   "source": [
    "### Prueba del Modelo Alternativo"
   ]
  },
  {
   "cell_type": "code",
   "execution_count": 47,
   "id": "434fb749",
   "metadata": {},
   "outputs": [],
   "source": [
    "model4 = GBTRegressionModel.load(os.path.join(save_folder, 'gbt'))"
   ]
  },
  {
   "cell_type": "code",
   "execution_count": 48,
   "id": "6c343d92",
   "metadata": {},
   "outputs": [],
   "source": [
    "test_pred_df = model4.transform(test_df)"
   ]
  },
  {
   "cell_type": "code",
   "execution_count": 49,
   "id": "732f8788",
   "metadata": {},
   "outputs": [
    {
     "name": "stdout",
     "output_type": "stream",
     "text": [
      "+-----+------------------+\n",
      "|label|prediction        |\n",
      "+-----+------------------+\n",
      "|25.0 |25.001552322668104|\n",
      "|54.0 |53.979025297578296|\n",
      "|413.0|282.372738373881  |\n",
      "|7.0  |6.932306341492308 |\n",
      "|68.0 |63.22809805522175 |\n",
      "|27.0 |27.06211420996647 |\n",
      "|9.0  |8.994778806234663 |\n",
      "|13.0 |12.97302212346497 |\n",
      "|7.0  |6.991768134751001 |\n",
      "|41.0 |41.03889633975907 |\n",
      "|117.0|116.34195975870527|\n",
      "|84.0 |79.18262582693006 |\n",
      "|108.0|116.3159601964466 |\n",
      "|22.0 |21.983047759392477|\n",
      "|3.0  |3.1152931439055034|\n",
      "|17.0 |16.94744430015934 |\n",
      "|53.0 |52.973513218366385|\n",
      "|31.0 |30.9833176274318  |\n",
      "|225.0|173.94436055100914|\n",
      "|48.0 |47.980878510953204|\n",
      "+-----+------------------+\n",
      "only showing top 20 rows\n",
      "\n"
     ]
    }
   ],
   "source": [
    "test_pred_df.select('label', 'prediction').show(truncate=False)"
   ]
  },
  {
   "cell_type": "code",
   "execution_count": 50,
   "id": "1473dea6",
   "metadata": {},
   "outputs": [
    {
     "name": "stdout",
     "output_type": "stream",
     "text": [
      "RMSE: 13.618\n",
      "MAE: 2.722\n"
     ]
    }
   ],
   "source": [
    "evaluator = RegressionEvaluator(metricName=\"rmse\")\n",
    "\n",
    "rmse_lr = evaluator.evaluate(test_pred_df)\n",
    "mae = evaluator.evaluate(test_pred_df, {evaluator.metricName: \"mae\"})\n",
    "\n",
    "print(\"RMSE: %.3f\" % rmse_lr)\n",
    "print(\"MAE: %.3f\" % mae)"
   ]
  },
  {
   "cell_type": "markdown",
   "id": "5fab4de5",
   "metadata": {},
   "source": [
    "## Modelo No Supervisado"
   ]
  },
  {
   "cell_type": "markdown",
   "id": "c6e656ba",
   "metadata": {},
   "source": [
    "### Entrenamiento del Modelo"
   ]
  },
  {
   "cell_type": "code",
   "execution_count": 55,
   "id": "7cbf267c",
   "metadata": {},
   "outputs": [],
   "source": [
    "model5 = KMeans(k=7, maxIter=15)"
   ]
  },
  {
   "cell_type": "code",
   "execution_count": 56,
   "id": "e86e0eb6",
   "metadata": {},
   "outputs": [
    {
     "name": "stderr",
     "output_type": "stream",
     "text": [
      "                                                                                \r"
     ]
    }
   ],
   "source": [
    "model5 = model5.fit(train_df)"
   ]
  },
  {
   "cell_type": "code",
   "execution_count": 57,
   "id": "64b12bc4",
   "metadata": {},
   "outputs": [],
   "source": [
    "model5.write().overwrite().save(os.path.join(save_folder, 'kmeans'))"
   ]
  },
  {
   "cell_type": "markdown",
   "id": "e4544667",
   "metadata": {},
   "source": [
    "### Prueba del Modelo"
   ]
  },
  {
   "cell_type": "code",
   "execution_count": 58,
   "id": "d4494f08",
   "metadata": {},
   "outputs": [],
   "source": [
    "model6 = KMeansModel.load(os.path.join(save_folder, 'kmeans'))"
   ]
  },
  {
   "cell_type": "code",
   "execution_count": 59,
   "id": "6ee384e6",
   "metadata": {},
   "outputs": [],
   "source": [
    "# predict the model on test df\n",
    "test_pred_df = model6.transform(test_df)"
   ]
  },
  {
   "cell_type": "code",
   "execution_count": 60,
   "id": "69aef1ea",
   "metadata": {},
   "outputs": [],
   "source": [
    "evaluator = ClusteringEvaluator()"
   ]
  },
  {
   "cell_type": "markdown",
   "id": "aef4af62",
   "metadata": {},
   "source": [
    "La métrica Silhouette es una medida para validar la consistencia dentro de los clústeres. Su valor oscila entre 1 y -1, donde un valor cercano a 1 indica que los puntos de un clúster están muy próximos entre sí y alejados de los puntos de los demás clústeres."
   ]
  },
  {
   "cell_type": "code",
   "execution_count": 65,
   "id": "0a27da02",
   "metadata": {},
   "outputs": [
    {
     "name": "stdout",
     "output_type": "stream",
     "text": [
      "Silhouette: 0.147\n"
     ]
    }
   ],
   "source": [
    "metric = evaluator.evaluate(test_pred_df)\n",
    "\n",
    "print(\"Silhouette: %.3f\" % metric)"
   ]
  }
 ],
 "metadata": {
  "kernelspec": {
   "display_name": "big-data-analytics-py3.10",
   "language": "python",
   "name": "python3"
  },
  "language_info": {
   "codemirror_mode": {
    "name": "ipython",
    "version": 3
   },
   "file_extension": ".py",
   "mimetype": "text/x-python",
   "name": "python",
   "nbconvert_exporter": "python",
   "pygments_lexer": "ipython3",
   "version": "3.10.18"
  }
 },
 "nbformat": 4,
 "nbformat_minor": 5
}
